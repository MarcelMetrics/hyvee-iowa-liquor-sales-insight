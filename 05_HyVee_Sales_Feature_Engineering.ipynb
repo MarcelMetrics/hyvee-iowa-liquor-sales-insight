{
 "cells": [
  {
   "cell_type": "markdown",
   "metadata": {},
   "source": [
    "# Feature Engineering"
   ]
  },
  {
   "cell_type": "code",
   "execution_count": 58,
   "metadata": {},
   "outputs": [],
   "source": [
    "import pandas as pd\n",
    "import json\n",
    "from datetime import datetime, timedelta\n",
    "import pymysql"
   ]
  },
  {
   "cell_type": "code",
   "execution_count": 79,
   "metadata": {},
   "outputs": [],
   "source": [
    "# MySQL connection settings\n",
    "with open('config\\mysql_config.json') as f:\n",
    "  mysql_config = json.load(f)\n",
    "\n",
    "host = mysql_config['hostname']\n",
    "user = mysql_config['username']\n",
    "password = mysql_config['password']"
   ]
  },
  {
   "cell_type": "markdown",
   "metadata": {},
   "source": [
    "## 1. Store Format"
   ]
  },
  {
   "cell_type": "markdown",
   "metadata": {},
   "source": [
    "Creating a new column to indicate store formats based on the 'name' column."
   ]
  },
  {
   "cell_type": "code",
   "execution_count": 80,
   "metadata": {},
   "outputs": [
    {
     "name": "stderr",
     "output_type": "stream",
     "text": [
      "C:\\Users\\Marcel Zhang\\AppData\\Local\\Temp\\ipykernel_7028\\4054004617.py:7: UserWarning: pandas only supports SQLAlchemy connectable (engine/connection) or database string URI or sqlite3 DBAPI2 connection. Other DBAPI2 objects are not tested. Please consider using SQLAlchemy.\n",
      "  df = pd.read_sql(sql_query, conn_int)\n"
     ]
    }
   ],
   "source": [
    "# Loading data from MySQL\n",
    "conn_int = pymysql.connect(host=host, user=user, password=password, db='INT_HYVEE')\n",
    "cursor_int = conn_int.cursor()\n",
    "\n",
    "sql_query = \"SELECT store_id, store_name FROM stores\"\n",
    "\n",
    "df = pd.read_sql(sql_query, conn_int)\n",
    "\n",
    "cursor_int.close()\n",
    "conn_int.close()"
   ]
  },
  {
   "cell_type": "code",
   "execution_count": 61,
   "metadata": {},
   "outputs": [
    {
     "data": {
      "text/html": [
       "<div>\n",
       "<style scoped>\n",
       "    .dataframe tbody tr th:only-of-type {\n",
       "        vertical-align: middle;\n",
       "    }\n",
       "\n",
       "    .dataframe tbody tr th {\n",
       "        vertical-align: top;\n",
       "    }\n",
       "\n",
       "    .dataframe thead th {\n",
       "        text-align: right;\n",
       "    }\n",
       "</style>\n",
       "<table border=\"1\" class=\"dataframe\">\n",
       "  <thead>\n",
       "    <tr style=\"text-align: right;\">\n",
       "      <th></th>\n",
       "      <th>store_id</th>\n",
       "      <th>store_name</th>\n",
       "    </tr>\n",
       "  </thead>\n",
       "  <tbody>\n",
       "  </tbody>\n",
       "</table>\n",
       "</div>"
      ],
      "text/plain": [
       "Empty DataFrame\n",
       "Columns: [store_id, store_name]\n",
       "Index: []"
      ]
     },
     "execution_count": 61,
     "metadata": {},
     "output_type": "execute_result"
    }
   ],
   "source": [
    "df"
   ]
  },
  {
   "cell_type": "code",
   "execution_count": 62,
   "metadata": {},
   "outputs": [
    {
     "data": {
      "text/plain": [
       "array([], dtype=object)"
      ]
     },
     "execution_count": 62,
     "metadata": {},
     "output_type": "execute_result"
    }
   ],
   "source": [
    "df['store_format'] = df['store_name']\n",
    "df[df['store_format'].str.contains('/', na=False)]['store_format'].unique()"
   ]
  },
  {
   "cell_type": "markdown",
   "metadata": {},
   "source": [
    "The substring following the '/' in each entry of the 'store_format' column appears to denote location information. \n",
    "\n",
    "This detail is not relevant for identifying the store format itself. \n",
    "\n",
    "Consequently, we will focus on the data preceding the '/' for a more accurate characterization of store formats."
   ]
  },
  {
   "cell_type": "code",
   "execution_count": 63,
   "metadata": {},
   "outputs": [
    {
     "data": {
      "text/plain": [
       "array([], dtype=object)"
      ]
     },
     "execution_count": 63,
     "metadata": {},
     "output_type": "execute_result"
    }
   ],
   "source": [
    "# Stripe 'HY-VEE' and content after first '/'or '-'\n",
    "df['store_format'] = df['store_format'].str.replace('HY-VEE', 'HY VEE', case=False) \\\n",
    "                                        .str.replace('C-STORE', 'C STORE', case=False) \\\n",
    "                                        .str.split('/|-', n=1).str[0].str.strip()\n",
    "df['store_format'].unique()"
   ]
  },
  {
   "cell_type": "code",
   "execution_count": 64,
   "metadata": {},
   "outputs": [
    {
     "data": {
      "text/plain": [
       "array([], dtype=object)"
      ]
     },
     "execution_count": 64,
     "metadata": {},
     "output_type": "execute_result"
    }
   ],
   "source": [
    "# Removing all numbers and symbols\n",
    "df['store_format'] = df['store_format'].str.replace('[0-9#()]+', '', regex=True)\n",
    "df['store_format'].unique()"
   ]
  },
  {
   "cell_type": "code",
   "execution_count": 65,
   "metadata": {},
   "outputs": [
    {
     "data": {
      "text/plain": [
       "array([], dtype=object)"
      ]
     },
     "execution_count": 65,
     "metadata": {},
     "output_type": "execute_result"
    }
   ],
   "source": [
    "# Remove leading and trailing spaces\n",
    "df['store_format'] = df['store_format'].str.strip()\n",
    "\n",
    "# Replace consecutive spaces with a single space\n",
    "df['store_format'] = df['store_format'].str.replace('\\s+', ' ', regex=True)\n",
    "\n",
    "df['store_format'].unique()"
   ]
  },
  {
   "cell_type": "code",
   "execution_count": 66,
   "metadata": {},
   "outputs": [],
   "source": [
    "# Standardizing the names\n",
    "replacements = {\n",
    "    'FOOD STORE'          : 'Grocery Store',\n",
    "    'FOOD AND DRUG'       : 'Pharmacy',\n",
    "    'DRUGSTORE'           : 'Pharmacy',\n",
    "    'FOOD & DRUGSTORE'    : 'Pharmacy',\n",
    "    'WINE AND SPIRITS'    : 'Liquor Store',\n",
    "    'WINE & SPIRITS'      : 'Liquor Store',\n",
    "    'FAST & FRESH EXPRESS': 'Convenience Store',\n",
    "    'FAST & FRESH'        : 'Convenience Store',\n",
    "    'FAST AND FRESH'      : 'Convenience Store',\n",
    "    'C STORE'             : 'Convenience Store',\n",
    "}\n",
    "\n",
    "with open('dicts/store_format_map.json', 'w') as file:\n",
    "    json.dump(replacements, file)"
   ]
  },
  {
   "cell_type": "code",
   "execution_count": 67,
   "metadata": {},
   "outputs": [
    {
     "data": {
      "text/plain": [
       "array([], dtype=object)"
      ]
     },
     "execution_count": 67,
     "metadata": {},
     "output_type": "execute_result"
    }
   ],
   "source": [
    "for key, value in replacements.items():\n",
    "    df.loc[df['store_format'].str.contains(key, na=False, case=False), 'store_format'] = value\n",
    "\n",
    "df['store_format'].unique()"
   ]
  },
  {
   "cell_type": "code",
   "execution_count": 68,
   "metadata": {},
   "outputs": [
    {
     "data": {
      "text/plain": [
       "array([], dtype=object)"
      ]
     },
     "execution_count": 68,
     "metadata": {},
     "output_type": "execute_result"
    }
   ],
   "source": [
    "# Replace 'HY VEE' by 'Grocery Store' and set 'Other' for all values not in the dictionary\n",
    "df['store_format'] = df['store_format'].apply(lambda x: 'Grocery Store' if x == 'HY VEE' else ('Other' if x not in replacements.values() else x))\n",
    "df['store_format'].unique()"
   ]
  },
  {
   "cell_type": "code",
   "execution_count": 69,
   "metadata": {},
   "outputs": [
    {
     "data": {
      "text/html": [
       "<div>\n",
       "<style scoped>\n",
       "    .dataframe tbody tr th:only-of-type {\n",
       "        vertical-align: middle;\n",
       "    }\n",
       "\n",
       "    .dataframe tbody tr th {\n",
       "        vertical-align: top;\n",
       "    }\n",
       "\n",
       "    .dataframe thead th {\n",
       "        text-align: right;\n",
       "    }\n",
       "</style>\n",
       "<table border=\"1\" class=\"dataframe\">\n",
       "  <thead>\n",
       "    <tr style=\"text-align: right;\">\n",
       "      <th></th>\n",
       "      <th>store_id</th>\n",
       "      <th>store_name</th>\n",
       "      <th>store_format</th>\n",
       "    </tr>\n",
       "  </thead>\n",
       "  <tbody>\n",
       "  </tbody>\n",
       "</table>\n",
       "</div>"
      ],
      "text/plain": [
       "Empty DataFrame\n",
       "Columns: [store_id, store_name, store_format]\n",
       "Index: []"
      ]
     },
     "execution_count": 69,
     "metadata": {},
     "output_type": "execute_result"
    }
   ],
   "source": [
    "df.head()"
   ]
  },
  {
   "cell_type": "code",
   "execution_count": 70,
   "metadata": {},
   "outputs": [],
   "source": [
    "# Streamline the process for building pipeline\n",
    "df['store_format'] = df['store_name']\n",
    "\n",
    "df['store_format'] = (\n",
    "    df['store_format'].str.replace('HY-VEE', 'HY VEE', case=False, regex=True)\n",
    "                      .str.replace('C-STORE', 'C STORE', case=False, regex=True)\n",
    "                      .str.split('/|-', n=1).str[0]\n",
    "                      .str.replace('[0-9#()]+', '', regex=True)\n",
    "                      .str.strip()\n",
    "                      .str.replace('\\s+', ' ', regex=True)\n",
    ")\n",
    "\n",
    "with open('dicts/store_format_map.json', 'r') as f:\n",
    "    store_format_map = json.load(f)\n",
    "\n",
    "# Convert keys to lowercase for case-insensitive matching\n",
    "replacements_lower = {k.lower(): v for k, v in store_format_map.items()}\n",
    "\n",
    "# Use a function to replace based on the lowercase match\n",
    "def apply_replacements(x):\n",
    "    x_lower = x.lower()\n",
    "    for key, value in replacements_lower.items():\n",
    "        if key in x_lower:\n",
    "            return value\n",
    "    if x == 'HY VEE':\n",
    "        return 'Grocery Store'\n",
    "    return 'Other' if all(x_lower != val.lower() for val in store_format_map.values()) else x\n",
    "\n",
    "df['store_format'] = df['store_format'].apply(apply_replacements)"
   ]
  },
  {
   "cell_type": "code",
   "execution_count": null,
   "metadata": {},
   "outputs": [],
   "source": [
    "# Load to db"
   ]
  },
  {
   "cell_type": "code",
   "execution_count": 71,
   "metadata": {},
   "outputs": [
    {
     "data": {
      "text/html": [
       "<div>\n",
       "<style scoped>\n",
       "    .dataframe tbody tr th:only-of-type {\n",
       "        vertical-align: middle;\n",
       "    }\n",
       "\n",
       "    .dataframe tbody tr th {\n",
       "        vertical-align: top;\n",
       "    }\n",
       "\n",
       "    .dataframe thead th {\n",
       "        text-align: right;\n",
       "    }\n",
       "</style>\n",
       "<table border=\"1\" class=\"dataframe\">\n",
       "  <thead>\n",
       "    <tr style=\"text-align: right;\">\n",
       "      <th></th>\n",
       "      <th>store_id</th>\n",
       "      <th>store_name</th>\n",
       "      <th>store_format</th>\n",
       "    </tr>\n",
       "  </thead>\n",
       "  <tbody>\n",
       "  </tbody>\n",
       "</table>\n",
       "</div>"
      ],
      "text/plain": [
       "Empty DataFrame\n",
       "Columns: [store_id, store_name, store_format]\n",
       "Index: []"
      ]
     },
     "execution_count": 71,
     "metadata": {},
     "output_type": "execute_result"
    }
   ],
   "source": [
    "df"
   ]
  },
  {
   "cell_type": "markdown",
   "metadata": {},
   "source": [
    "## 2. Liquor Type"
   ]
  },
  {
   "cell_type": "markdown",
   "metadata": {},
   "source": [
    "Creating a new column to indicate liquor types based on the 'category' and 'category_code' columns."
   ]
  },
  {
   "cell_type": "code",
   "execution_count": 72,
   "metadata": {},
   "outputs": [
    {
     "name": "stderr",
     "output_type": "stream",
     "text": [
      "C:\\Users\\Marcel Zhang\\AppData\\Local\\Temp\\ipykernel_7028\\1183263233.py:6: UserWarning: pandas only supports SQLAlchemy connectable (engine/connection) or database string URI or sqlite3 DBAPI2 connection. Other DBAPI2 objects are not tested. Please consider using SQLAlchemy.\n",
      "  df = pd.read_sql(sql_query, conn_int)\n"
     ]
    }
   ],
   "source": [
    "conn_int = pymysql.connect(host=host, user=user, password=password, db='INT_HYVEE')\n",
    "cursor_int = conn_int.cursor()\n",
    "\n",
    "sql_query = \"SELECT category_code, category FROM items\"\n",
    "\n",
    "df = pd.read_sql(sql_query, conn_int)\n",
    "\n",
    "cursor_int.close()\n",
    "conn_int.close()"
   ]
  },
  {
   "cell_type": "code",
   "execution_count": 73,
   "metadata": {},
   "outputs": [
    {
     "data": {
      "text/html": [
       "<div>\n",
       "<style scoped>\n",
       "    .dataframe tbody tr th:only-of-type {\n",
       "        vertical-align: middle;\n",
       "    }\n",
       "\n",
       "    .dataframe tbody tr th {\n",
       "        vertical-align: top;\n",
       "    }\n",
       "\n",
       "    .dataframe thead th {\n",
       "        text-align: right;\n",
       "    }\n",
       "</style>\n",
       "<table border=\"1\" class=\"dataframe\">\n",
       "  <thead>\n",
       "    <tr style=\"text-align: right;\">\n",
       "      <th></th>\n",
       "      <th>category_code</th>\n",
       "      <th>category</th>\n",
       "    </tr>\n",
       "  </thead>\n",
       "  <tbody>\n",
       "  </tbody>\n",
       "</table>\n",
       "</div>"
      ],
      "text/plain": [
       "Empty DataFrame\n",
       "Columns: [category_code, category]\n",
       "Index: []"
      ]
     },
     "execution_count": 73,
     "metadata": {},
     "output_type": "execute_result"
    }
   ],
   "source": [
    "df.drop_duplicates().sort_values(by='category_code', ascending=True)"
   ]
  },
  {
   "cell_type": "code",
   "execution_count": 74,
   "metadata": {},
   "outputs": [],
   "source": [
    "# Matching category codes with liquor types\n",
    "liquor_type_map = {\n",
    "    '101': 'Whiskey',\n",
    "    '102': 'Tequila',\n",
    "    '103': 'Vodka',\n",
    "    '104': 'Gin',\n",
    "    '105': 'Brandy',\n",
    "    '106': 'Rum',\n",
    "    '107': 'Cocktails',\n",
    "    '108': 'Liqueur',\n",
    "    '109': 'Neutral Grain/Distilled Spirits'\n",
    "}\n",
    "\n",
    "with open('dicts/liquor_type_map.json', 'w') as file:\n",
    "    json.dump(liquor_type_map, file)"
   ]
  },
  {
   "cell_type": "code",
   "execution_count": 75,
   "metadata": {},
   "outputs": [
    {
     "data": {
      "text/html": [
       "<div>\n",
       "<style scoped>\n",
       "    .dataframe tbody tr th:only-of-type {\n",
       "        vertical-align: middle;\n",
       "    }\n",
       "\n",
       "    .dataframe tbody tr th {\n",
       "        vertical-align: top;\n",
       "    }\n",
       "\n",
       "    .dataframe thead th {\n",
       "        text-align: right;\n",
       "    }\n",
       "</style>\n",
       "<table border=\"1\" class=\"dataframe\">\n",
       "  <thead>\n",
       "    <tr style=\"text-align: right;\">\n",
       "      <th></th>\n",
       "      <th>category_code</th>\n",
       "      <th>category</th>\n",
       "      <th>liquor_type</th>\n",
       "    </tr>\n",
       "  </thead>\n",
       "  <tbody>\n",
       "  </tbody>\n",
       "</table>\n",
       "</div>"
      ],
      "text/plain": [
       "Empty DataFrame\n",
       "Columns: [category_code, category, liquor_type]\n",
       "Index: []"
      ]
     },
     "execution_count": 75,
     "metadata": {},
     "output_type": "execute_result"
    }
   ],
   "source": [
    "df['liquor_type'] = df['category']\n",
    "df"
   ]
  },
  {
   "cell_type": "code",
   "execution_count": 76,
   "metadata": {},
   "outputs": [],
   "source": [
    "def match_liquor_type(number):\n",
    "    number_str = str(number)[:3] \n",
    "    return liquor_type_map.get(number_str, 'Other') \n",
    "\n",
    "df['liquor_type'] = df['category_code'].apply(match_liquor_type)"
   ]
  },
  {
   "cell_type": "code",
   "execution_count": 77,
   "metadata": {},
   "outputs": [
    {
     "data": {
      "text/html": [
       "<div>\n",
       "<style scoped>\n",
       "    .dataframe tbody tr th:only-of-type {\n",
       "        vertical-align: middle;\n",
       "    }\n",
       "\n",
       "    .dataframe tbody tr th {\n",
       "        vertical-align: top;\n",
       "    }\n",
       "\n",
       "    .dataframe thead th {\n",
       "        text-align: right;\n",
       "    }\n",
       "</style>\n",
       "<table border=\"1\" class=\"dataframe\">\n",
       "  <thead>\n",
       "    <tr style=\"text-align: right;\">\n",
       "      <th></th>\n",
       "      <th>category_code</th>\n",
       "      <th>category</th>\n",
       "      <th>liquor_type</th>\n",
       "    </tr>\n",
       "  </thead>\n",
       "  <tbody>\n",
       "  </tbody>\n",
       "</table>\n",
       "</div>"
      ],
      "text/plain": [
       "Empty DataFrame\n",
       "Columns: [category_code, category, liquor_type]\n",
       "Index: []"
      ]
     },
     "execution_count": 77,
     "metadata": {},
     "output_type": "execute_result"
    }
   ],
   "source": [
    "df"
   ]
  },
  {
   "cell_type": "code",
   "execution_count": null,
   "metadata": {},
   "outputs": [],
   "source": [
    "# Load to db"
   ]
  },
  {
   "cell_type": "markdown",
   "metadata": {},
   "source": [
    "# 3. Numerical Metrics"
   ]
  },
  {
   "cell_type": "code",
   "execution_count": 78,
   "metadata": {},
   "outputs": [
    {
     "name": "stdout",
     "output_type": "stream",
     "text": [
      "Error executing command: \n",
      "\n",
      "-- Total volume of liquor ordered in gallons\n",
      "ALTER TABLE transactions\n",
      "ADD COLUMN sale_gallons DECIMAL(10, 2)\n",
      "(1060, \"Duplicate column name 'sale_gallons'\")\n",
      "Error executing command: \n",
      "\n",
      "-- Total volume of liquor ordered in liters\n",
      "ALTER TABLE transactions\n",
      "ADD COLUMN sale_liters DECIMAL(10, 2)\n",
      "(1060, \"Duplicate column name 'sale_liters'\")\n",
      "Error executing command: \n",
      "\n",
      "-- Gross profit per bottle\n",
      "ALTER TABLE transactions\n",
      "ADD COLUMN bottle_profit DECIMAL(10, 2)\n",
      "(1060, \"Duplicate column name 'bottle_profit'\")\n",
      "Error executing command: \n",
      "\n",
      "-- Sales revenue\n",
      "ALTER TABLE transactions\n",
      "ADD COLUMN revenue DECIMAL(10, 2)\n",
      "(1060, \"Duplicate column name 'revenue'\")\n",
      "Error executing command: \n",
      "\n",
      "-- Total Gross Profit\n",
      "ALTER TABLE transactions\n",
      "ADD COLUMN profit DECIMAL(10, 2)\n",
      "(1060, \"Duplicate column name 'profit'\")\n",
      "Error executing command: \n",
      "\n",
      "-- Profit margin\n",
      "ALTER TABLE transactions\n",
      "ADD COLUMN margin DECIMAL(10, 2)\n",
      "(1060, \"Duplicate column name 'margin'\")\n",
      "Error executing command: \n",
      "\n",
      "-- Gross cost\n",
      "ALTER TABLE transactions\n",
      "ADD COLUMN cost DECIMAL(10, 2)\n",
      "(1060, \"Duplicate column name 'cost'\")\n",
      "Error executing command: \n",
      "\n",
      "-- Cost per gallon\n",
      "ALTER TABLE transactions\n",
      "ADD COLUMN gallon_cost DECIMAL(10, 2)\n",
      "(1060, \"Duplicate column name 'gallon_cost'\")\n",
      "Error executing command: \n",
      "\n",
      "-- Price per gallon\n",
      "ALTER TABLE transactions\n",
      "ADD COLUMN gallon_price DECIMAL(10, 2)\n",
      "(1060, \"Duplicate column name 'gallon_price'\")\n",
      "Error executing command: \n",
      "\n",
      "-- Profit per gallon\n",
      "ALTER TABLE transactions\n",
      "ADD COLUMN gallon_profit DECIMAL(10, 2)\n",
      "(1060, \"Duplicate column name 'gallon_profit'\")\n",
      "Error executing command: \n",
      "\n",
      "-- Cost per liter\n",
      "ALTER TABLE transactions\n",
      "ADD COLUMN liter_cost DECIMAL(10, 2)\n",
      "(1060, \"Duplicate column name 'liter_cost'\")\n",
      "Error executing command: \n",
      "\n",
      "-- Price per liter\n",
      "ALTER TABLE transactions\n",
      "ADD COLUMN liter_price DECIMAL(10, 2)\n",
      "(1060, \"Duplicate column name 'liter_price'\")\n",
      "Error executing command: \n",
      "\n",
      "-- Profit per liter\n",
      "ALTER TABLE transactions\n",
      "ADD COLUMN liter_profit DECIMAL(10, 2)\n",
      "(1060, \"Duplicate column name 'liter_profit'\")\n"
     ]
    }
   ],
   "source": [
    "def execute_sql_file(filename, connection_params):\n",
    "    # Initialize the database connection\n",
    "    db_connection = pymysql.connect(**connection_params)\n",
    "    cursor = db_connection.cursor()\n",
    "    \n",
    "    # Read the SQL script file\n",
    "    with open(filename, 'r') as sql_file:\n",
    "        sql_script = sql_file.read()\n",
    "    \n",
    "    sql_commands = sql_script.split(';')\n",
    "    \n",
    "    for command in sql_commands:\n",
    "        if command.strip():  # Skip any empty commands resulting from the split\n",
    "            try:\n",
    "                cursor.execute(command)\n",
    "                db_connection.commit()\n",
    "            except Exception as e:\n",
    "                # Optional: log the error or handle it otherwise\n",
    "                print(f\"Error executing command: {command}\\n{e}\")\n",
    "\n",
    "    cursor.close()\n",
    "    db_connection.close()\n",
    "\n",
    "# MySQL connection settings\n",
    "connection_params = {\n",
    "    'host': mysql_config['hostname'],\n",
    "    'user': mysql_config['username'],\n",
    "    'password': mysql_config['password'],\n",
    "}\n",
    "\n",
    "execute_sql_file('Metrics.sql', connection_params)"
   ]
  }
 ],
 "metadata": {
  "kernelspec": {
   "display_name": "Python 3",
   "language": "python",
   "name": "python3"
  },
  "language_info": {
   "codemirror_mode": {
    "name": "ipython",
    "version": 3
   },
   "file_extension": ".py",
   "mimetype": "text/x-python",
   "name": "python",
   "nbconvert_exporter": "python",
   "pygments_lexer": "ipython3",
   "version": "3.11.8"
  }
 },
 "nbformat": 4,
 "nbformat_minor": 2
}
