{
 "cells": [
  {
   "cell_type": "code",
   "execution_count": 49,
   "metadata": {},
   "outputs": [],
   "source": [
    "# !pip install --upgrade pip\n",
    "# !pip install pandas\n",
    "# !pip install sodapy"
   ]
  },
  {
   "cell_type": "markdown",
   "metadata": {},
   "source": [
    "# Data Profiling"
   ]
  },
  {
   "cell_type": "markdown",
   "metadata": {},
   "source": [
    "Analyzing a subset of data to understand its characteristics, guiding the design of an efficient data pipeline."
   ]
  },
  {
   "cell_type": "markdown",
   "metadata": {},
   "source": [
    "## Data Extraction"
   ]
  },
  {
   "cell_type": "code",
   "execution_count": 50,
   "metadata": {},
   "outputs": [],
   "source": [
    "import pandas as pd\n",
    "from sodapy import Socrata\n",
    "import json\n",
    "from datetime import datetime, timedelta"
   ]
  },
  {
   "cell_type": "code",
   "execution_count": 51,
   "metadata": {},
   "outputs": [],
   "source": [
    "with open('config/socrata_config.json') as f:\n",
    "  config = json.load(f)\n",
    "\n",
    "AppToken = config['app_token']\n",
    "UserName = config['user_name']\n",
    "Password = config[\"password\"]"
   ]
  },
  {
   "cell_type": "code",
   "execution_count": 52,
   "metadata": {},
   "outputs": [],
   "source": [
    "client = Socrata(\"data.iowa.gov\",\n",
    "                 AppToken,\n",
    "                 username = UserName,\n",
    "                 password = Password,\n",
    "                 timeout=30)"
   ]
  },
  {
   "cell_type": "code",
   "execution_count": 53,
   "metadata": {},
   "outputs": [
    {
     "data": {
      "text/plain": [
       "14"
      ]
     },
     "execution_count": 53,
     "metadata": {},
     "output_type": "execute_result"
    }
   ],
   "source": [
    "col_selected = 'invoice_line_no, date, store, name, city, zipcode, county, category, category_name, vendor_no, vendor_name, itemno, im_desc, state_bottle_cost, state_bottle_retail, sale_bottles'\n",
    "col_list = ['invoice_line_no', 'date', 'store', 'name', 'city', 'zipcode', 'county', 'category', 'category_name', 'itemno', 'im_desc', 'state_bottle_cost', 'state_bottle_retail', 'sale_bottles']\n",
    "len(col_list)"
   ]
  },
  {
   "cell_type": "code",
   "execution_count": 54,
   "metadata": {},
   "outputs": [
    {
     "name": "stdout",
     "output_type": "stream",
     "text": [
      "Rows from 2023-06-01 to 2024-01-03T21:03:10.774: 425024\n"
     ]
    }
   ],
   "source": [
    "start_date = \"2023-06-01\"\n",
    "end_date = datetime.now().strftime(\"%Y-%m-%dT%H:%M:%S.%f\")[:-3]  \n",
    "\n",
    "total_rows = []  \n",
    "limit = 5000  \n",
    "offset = 0  \n",
    "more_data = True  \n",
    "\n",
    "while more_data:\n",
    "    results = client.get(\"m3tr-qhgy\",\n",
    "                         select=col_selected, \n",
    "                         where=f\"LOWER(name) LIKE '%hy-vee%' AND date >= '{start_date}' AND date < '{end_date}'\", \n",
    "                         limit=limit, \n",
    "                         offset=offset)\n",
    "    total_rows.extend(results)  \n",
    "\n",
    "    if len(results) < limit:\n",
    "        more_data = False\n",
    "    else:\n",
    "        offset += limit \n",
    "\n",
    "df = pd.DataFrame.from_records(total_rows)\n",
    "print(f\"Rows from {start_date} to {end_date}: {df.shape[0]}\")"
   ]
  },
  {
   "cell_type": "code",
   "execution_count": 55,
   "metadata": {},
   "outputs": [
    {
     "data": {
      "text/html": [
       "<div>\n",
       "<style scoped>\n",
       "    .dataframe tbody tr th:only-of-type {\n",
       "        vertical-align: middle;\n",
       "    }\n",
       "\n",
       "    .dataframe tbody tr th {\n",
       "        vertical-align: top;\n",
       "    }\n",
       "\n",
       "    .dataframe thead th {\n",
       "        text-align: right;\n",
       "    }\n",
       "</style>\n",
       "<table border=\"1\" class=\"dataframe\">\n",
       "  <thead>\n",
       "    <tr style=\"text-align: right;\">\n",
       "      <th></th>\n",
       "      <th>invoice_line_no</th>\n",
       "      <th>date</th>\n",
       "      <th>store</th>\n",
       "      <th>name</th>\n",
       "      <th>city</th>\n",
       "      <th>zipcode</th>\n",
       "      <th>county</th>\n",
       "      <th>category</th>\n",
       "      <th>category_name</th>\n",
       "      <th>vendor_no</th>\n",
       "      <th>vendor_name</th>\n",
       "      <th>itemno</th>\n",
       "      <th>im_desc</th>\n",
       "      <th>state_bottle_cost</th>\n",
       "      <th>state_bottle_retail</th>\n",
       "      <th>sale_bottles</th>\n",
       "    </tr>\n",
       "  </thead>\n",
       "  <tbody>\n",
       "    <tr>\n",
       "      <th>0</th>\n",
       "      <td>INV-58975000103</td>\n",
       "      <td>2023-06-01T00:00:00.000</td>\n",
       "      <td>2522</td>\n",
       "      <td>HY-VEE WINE AND SPIRITS (1628) / SPIRIT LAKE</td>\n",
       "      <td>SPIRIT LAKE</td>\n",
       "      <td>51360</td>\n",
       "      <td>DICKINSON</td>\n",
       "      <td>1031200</td>\n",
       "      <td>AMERICAN FLAVORED VODKA</td>\n",
       "      <td>115</td>\n",
       "      <td>CONSTELLATION BRANDS INC</td>\n",
       "      <td>36576</td>\n",
       "      <td>SVEDKA BLUE RASPBERRY</td>\n",
       "      <td>8.00</td>\n",
       "      <td>12.00</td>\n",
       "      <td>2</td>\n",
       "    </tr>\n",
       "    <tr>\n",
       "      <th>1</th>\n",
       "      <td>INV-58957400083</td>\n",
       "      <td>2023-06-01T00:00:00.000</td>\n",
       "      <td>2545</td>\n",
       "      <td>HY-VEE DRUGSTORE (7042) / IOWA CITY</td>\n",
       "      <td>IOWA CITY</td>\n",
       "      <td>52245</td>\n",
       "      <td>JOHNSON</td>\n",
       "      <td>1012200</td>\n",
       "      <td>SCOTCH WHISKIES</td>\n",
       "      <td>266</td>\n",
       "      <td>EDRINGTON GROUP USA LLC</td>\n",
       "      <td>4936</td>\n",
       "      <td>FAMOUS GROUSE SCOTCH</td>\n",
       "      <td>12.44</td>\n",
       "      <td>18.66</td>\n",
       "      <td>12</td>\n",
       "    </tr>\n",
       "    <tr>\n",
       "      <th>2</th>\n",
       "      <td>INV-58958300072</td>\n",
       "      <td>2023-06-01T00:00:00.000</td>\n",
       "      <td>2517</td>\n",
       "      <td>HY-VEE FOOD STORE #1 (1449) / NEWTON</td>\n",
       "      <td>NEWTON</td>\n",
       "      <td>50208</td>\n",
       "      <td>JASPER</td>\n",
       "      <td>1082100</td>\n",
       "      <td>IMPORTED CORDIALS &amp; LIQUEURS</td>\n",
       "      <td>619</td>\n",
       "      <td>CAMPARI AMERICA</td>\n",
       "      <td>64996</td>\n",
       "      <td>FRANGELICO LIQUEUR</td>\n",
       "      <td>16.50</td>\n",
       "      <td>24.75</td>\n",
       "      <td>2</td>\n",
       "    </tr>\n",
       "    <tr>\n",
       "      <th>3</th>\n",
       "      <td>INV-58973600034</td>\n",
       "      <td>2023-06-01T00:00:00.000</td>\n",
       "      <td>2565</td>\n",
       "      <td>HY-VEE FOOD STORE (1636) / SPENCER</td>\n",
       "      <td>SPENCER</td>\n",
       "      <td>51301</td>\n",
       "      <td>CLAY</td>\n",
       "      <td>1011300</td>\n",
       "      <td>SINGLE BARREL BOURBON WHISKIES</td>\n",
       "      <td>594</td>\n",
       "      <td>AMERICAN HERITAGE DISTILLERS, LLC / CENTURY FA...</td>\n",
       "      <td>26269</td>\n",
       "      <td>CENTURY FARMS PRAIRIE STATES BOURBON</td>\n",
       "      <td>18.60</td>\n",
       "      <td>27.90</td>\n",
       "      <td>6</td>\n",
       "    </tr>\n",
       "    <tr>\n",
       "      <th>4</th>\n",
       "      <td>INV-58957700022</td>\n",
       "      <td>2023-06-01T00:00:00.000</td>\n",
       "      <td>2513</td>\n",
       "      <td>HY-VEE FOOD STORE #2 (1285) / IOWA CITY</td>\n",
       "      <td>IOWA CITY</td>\n",
       "      <td>52240</td>\n",
       "      <td>JOHNSON</td>\n",
       "      <td>1041100</td>\n",
       "      <td>AMERICAN DRY GINS</td>\n",
       "      <td>434</td>\n",
       "      <td>LUXCO INC</td>\n",
       "      <td>31658</td>\n",
       "      <td>PARAMOUNT GIN</td>\n",
       "      <td>7.75</td>\n",
       "      <td>11.63</td>\n",
       "      <td>6</td>\n",
       "    </tr>\n",
       "  </tbody>\n",
       "</table>\n",
       "</div>"
      ],
      "text/plain": [
       "   invoice_line_no                     date store  \\\n",
       "0  INV-58975000103  2023-06-01T00:00:00.000  2522   \n",
       "1  INV-58957400083  2023-06-01T00:00:00.000  2545   \n",
       "2  INV-58958300072  2023-06-01T00:00:00.000  2517   \n",
       "3  INV-58973600034  2023-06-01T00:00:00.000  2565   \n",
       "4  INV-58957700022  2023-06-01T00:00:00.000  2513   \n",
       "\n",
       "                                           name         city zipcode  \\\n",
       "0  HY-VEE WINE AND SPIRITS (1628) / SPIRIT LAKE  SPIRIT LAKE   51360   \n",
       "1           HY-VEE DRUGSTORE (7042) / IOWA CITY    IOWA CITY   52245   \n",
       "2          HY-VEE FOOD STORE #1 (1449) / NEWTON       NEWTON   50208   \n",
       "3            HY-VEE FOOD STORE (1636) / SPENCER      SPENCER   51301   \n",
       "4       HY-VEE FOOD STORE #2 (1285) / IOWA CITY    IOWA CITY   52240   \n",
       "\n",
       "      county category                   category_name vendor_no  \\\n",
       "0  DICKINSON  1031200         AMERICAN FLAVORED VODKA       115   \n",
       "1    JOHNSON  1012200                 SCOTCH WHISKIES       266   \n",
       "2     JASPER  1082100    IMPORTED CORDIALS & LIQUEURS       619   \n",
       "3       CLAY  1011300  SINGLE BARREL BOURBON WHISKIES       594   \n",
       "4    JOHNSON  1041100               AMERICAN DRY GINS       434   \n",
       "\n",
       "                                         vendor_name itemno  \\\n",
       "0                           CONSTELLATION BRANDS INC  36576   \n",
       "1                            EDRINGTON GROUP USA LLC   4936   \n",
       "2                                    CAMPARI AMERICA  64996   \n",
       "3  AMERICAN HERITAGE DISTILLERS, LLC / CENTURY FA...  26269   \n",
       "4                                          LUXCO INC  31658   \n",
       "\n",
       "                                im_desc state_bottle_cost state_bottle_retail  \\\n",
       "0                 SVEDKA BLUE RASPBERRY              8.00               12.00   \n",
       "1                  FAMOUS GROUSE SCOTCH             12.44               18.66   \n",
       "2                    FRANGELICO LIQUEUR             16.50               24.75   \n",
       "3  CENTURY FARMS PRAIRIE STATES BOURBON             18.60               27.90   \n",
       "4                         PARAMOUNT GIN              7.75               11.63   \n",
       "\n",
       "  sale_bottles  \n",
       "0            2  \n",
       "1           12  \n",
       "2            2  \n",
       "3            6  \n",
       "4            6  "
      ]
     },
     "execution_count": 55,
     "metadata": {},
     "output_type": "execute_result"
    }
   ],
   "source": [
    "# df = df.sample(frac=0.1)\n",
    "df.head()"
   ]
  },
  {
   "cell_type": "markdown",
   "metadata": {},
   "source": [
    "## Data Transformation"
   ]
  },
  {
   "cell_type": "markdown",
   "metadata": {},
   "source": [
    "### 1.1. Removing Duplicate Rows"
   ]
  },
  {
   "cell_type": "code",
   "execution_count": 56,
   "metadata": {},
   "outputs": [
    {
     "name": "stdout",
     "output_type": "stream",
     "text": [
      "Number of duplicate rows: 1245; Percentage of duplicate rows: 0.29%\n"
     ]
    }
   ],
   "source": [
    "num_dup = df.duplicated().sum()\n",
    "perc_dup = num_dup / df.shape[0] * 100 \n",
    "print(f'Number of duplicate rows: {num_dup}; Percentage of duplicate rows: {perc_dup:.2f}%')"
   ]
  },
  {
   "cell_type": "code",
   "execution_count": 57,
   "metadata": {},
   "outputs": [
    {
     "name": "stdout",
     "output_type": "stream",
     "text": [
      "Number of duplicate rows: 0; Percentage of duplicate rows: 0.00%\n"
     ]
    }
   ],
   "source": [
    "# Despite the potential for duplicates arising from reasons other than data entry errors, \n",
    "# I'm opting to remove them as they constitute a minimal proportion of the dataset (only 0.02%). \n",
    "# This decision is based on the assumption that the impact on data integrity will be negligible while simplifying further analysis.\n",
    "\n",
    "df = df.drop_duplicates()\n",
    "num_dup = df.duplicated().sum()\n",
    "perc_dup = num_dup / df.shape[0] * 100 \n",
    "print(f'Number of duplicate rows: {num_dup}; Percentage of duplicate rows: {perc_dup:.2f}%')"
   ]
  },
  {
   "cell_type": "code",
   "execution_count": 58,
   "metadata": {},
   "outputs": [
    {
     "name": "stdout",
     "output_type": "stream",
     "text": [
      "Number of duplicates in 'invoice_line_no': 0\n"
     ]
    }
   ],
   "source": [
    "# Check if invoice_line_no unique\n",
    "number_of_duplicates = df.duplicated(subset='invoice_line_no', keep=False).sum()\n",
    "print(f\"Number of duplicates in 'invoice_line_no': {number_of_duplicates}\")\n"
   ]
  },
  {
   "cell_type": "markdown",
   "metadata": {},
   "source": [
    "### 1.2. Handelling Missing Values"
   ]
  },
  {
   "cell_type": "code",
   "execution_count": 59,
   "metadata": {},
   "outputs": [
    {
     "data": {
      "text/html": [
       "<div>\n",
       "<style scoped>\n",
       "    .dataframe tbody tr th:only-of-type {\n",
       "        vertical-align: middle;\n",
       "    }\n",
       "\n",
       "    .dataframe tbody tr th {\n",
       "        vertical-align: top;\n",
       "    }\n",
       "\n",
       "    .dataframe thead th {\n",
       "        text-align: right;\n",
       "    }\n",
       "</style>\n",
       "<table border=\"1\" class=\"dataframe\">\n",
       "  <thead>\n",
       "    <tr style=\"text-align: right;\">\n",
       "      <th></th>\n",
       "      <th>Missing Values</th>\n",
       "      <th>% of Total Values</th>\n",
       "    </tr>\n",
       "  </thead>\n",
       "  <tbody>\n",
       "  </tbody>\n",
       "</table>\n",
       "</div>"
      ],
      "text/plain": [
       "Empty DataFrame\n",
       "Columns: [Missing Values, % of Total Values]\n",
       "Index: []"
      ]
     },
     "execution_count": 59,
     "metadata": {},
     "output_type": "execute_result"
    }
   ],
   "source": [
    "def missing_values_table(df):\n",
    "    if not isinstance(df, pd.DataFrame):\n",
    "        raise ValueError(\"Input is not a pandas DataFrame\")\n",
    "\n",
    "    num_na = df.isnull().sum()\n",
    "    perc_na = (num_na / len(df)) * 100\n",
    "\n",
    "    df_na = pd.DataFrame({\n",
    "        'Missing Values': num_na,\n",
    "        '% of Total Values': perc_na\n",
    "    })\n",
    "\n",
    "    df_na = df_na[df_na['Missing Values'] != 0]\n",
    "\n",
    "    return df_na\n",
    "\n",
    "missing_values_table(df)"
   ]
  },
  {
   "cell_type": "markdown",
   "metadata": {},
   "source": [
    "Although the current sample shows no missing values, they may be underrepresented in the full dataset. \n",
    "\n",
    "These rows, containing key sales data, are vital for our analysis. \n",
    "Hence, we will retain them by imputing missing values with placeholders to preserve critical insights. \n",
    "\n",
    "However, records lacking essential data such as price, sales volume, dates, and index will be excluded, \n",
    "as their absence renders them unsuitable for meaningful analysis."
   ]
  },
  {
   "cell_type": "code",
   "execution_count": 60,
   "metadata": {},
   "outputs": [
    {
     "data": {
      "text/plain": [
       "Index(['invoice_line_no', 'date', 'store', 'name', 'city', 'zipcode', 'county',\n",
       "       'category', 'category_name', 'vendor_no', 'vendor_name', 'itemno',\n",
       "       'im_desc', 'state_bottle_cost', 'state_bottle_retail', 'sale_bottles'],\n",
       "      dtype='object')"
      ]
     },
     "execution_count": 60,
     "metadata": {},
     "output_type": "execute_result"
    }
   ],
   "source": [
    "df.columns"
   ]
  },
  {
   "cell_type": "code",
   "execution_count": 61,
   "metadata": {},
   "outputs": [],
   "source": [
    "dimension_cols = ['store', 'name', 'city', 'zipcode', 'county', 'category', 'category_name', 'vendor_no', 'vendor_name', 'itemno', 'im_desc']"
   ]
  },
  {
   "cell_type": "code",
   "execution_count": 62,
   "metadata": {},
   "outputs": [
    {
     "data": {
      "text/plain": [
       "{'store': 9999,\n",
       " 'name': 'UNKNOWN',\n",
       " 'city': 'UNKNOWN',\n",
       " 'zipcode': 99999,\n",
       " 'county': 'UNKNOWN',\n",
       " 'category': 9999999,\n",
       " 'category_name': 'UNKNOWN',\n",
       " 'vendor_no': 999,\n",
       " 'vendor_name': 'UNKNOWN',\n",
       " 'itemno': 99999,\n",
       " 'im_desc': 'UNKNOWN'}"
      ]
     },
     "execution_count": 62,
     "metadata": {},
     "output_type": "execute_result"
    }
   ],
   "source": [
    "def generate_placeholder_dict(df, cols):\n",
    "    placeholder_dict = {}\n",
    "    for col in cols:\n",
    "        try:\n",
    "            int_col = df[col].dropna().astype(int)\n",
    "            mode_digit_count = int_col.astype(str).apply(len).mode()[0]\n",
    "            placeholder_dict[col] = int('9' * mode_digit_count)\n",
    "        except ValueError:\n",
    "            placeholder_dict[col] = 'UNKNOWN'\n",
    "    return placeholder_dict\n",
    "\n",
    "dimension_cols = ['store', 'name', 'city', 'zipcode', 'county', 'category', 'category_name', 'vendor_no', 'vendor_name', 'itemno', 'im_desc']\n",
    "placeholders = generate_placeholder_dict(df, dimension_cols)\n",
    "\n",
    "placeholders"
   ]
  },
  {
   "cell_type": "code",
   "execution_count": 63,
   "metadata": {},
   "outputs": [],
   "source": [
    "# Save dictionary to a JSON file\n",
    "with open('dicts/placeholders.json', 'w') as file:\n",
    "    json.dump(placeholders, file)"
   ]
  },
  {
   "cell_type": "code",
   "execution_count": 64,
   "metadata": {},
   "outputs": [
    {
     "data": {
      "text/html": [
       "<div>\n",
       "<style scoped>\n",
       "    .dataframe tbody tr th:only-of-type {\n",
       "        vertical-align: middle;\n",
       "    }\n",
       "\n",
       "    .dataframe tbody tr th {\n",
       "        vertical-align: top;\n",
       "    }\n",
       "\n",
       "    .dataframe thead th {\n",
       "        text-align: right;\n",
       "    }\n",
       "</style>\n",
       "<table border=\"1\" class=\"dataframe\">\n",
       "  <thead>\n",
       "    <tr style=\"text-align: right;\">\n",
       "      <th></th>\n",
       "      <th>Missing Values</th>\n",
       "      <th>% of Total Values</th>\n",
       "    </tr>\n",
       "  </thead>\n",
       "  <tbody>\n",
       "  </tbody>\n",
       "</table>\n",
       "</div>"
      ],
      "text/plain": [
       "Empty DataFrame\n",
       "Columns: [Missing Values, % of Total Values]\n",
       "Index: []"
      ]
     },
     "execution_count": 64,
     "metadata": {},
     "output_type": "execute_result"
    }
   ],
   "source": [
    "df = df.fillna(value=placeholders)\n",
    "missing_values_table(df)"
   ]
  },
  {
   "cell_type": "markdown",
   "metadata": {},
   "source": [
    "### 2.3. Checking Data Type"
   ]
  },
  {
   "cell_type": "markdown",
   "metadata": {},
   "source": [
    "Verify if specific columns, such as indexes, are convertible to integers and if the date column can be formatted as datetime for compatibility with corresponding MySQL server data types"
   ]
  },
  {
   "cell_type": "code",
   "execution_count": 65,
   "metadata": {},
   "outputs": [
    {
     "name": "stdout",
     "output_type": "stream",
     "text": [
      "<class 'pandas.core.frame.DataFrame'>\n",
      "Index: 423779 entries, 0 to 425023\n",
      "Data columns (total 16 columns):\n",
      " #   Column               Non-Null Count   Dtype \n",
      "---  ------               --------------   ----- \n",
      " 0   invoice_line_no      423779 non-null  object\n",
      " 1   date                 423779 non-null  object\n",
      " 2   store                423779 non-null  object\n",
      " 3   name                 423779 non-null  object\n",
      " 4   city                 423779 non-null  object\n",
      " 5   zipcode              423779 non-null  object\n",
      " 6   county               423779 non-null  object\n",
      " 7   category             423779 non-null  object\n",
      " 8   category_name        423779 non-null  object\n",
      " 9   vendor_no            423779 non-null  object\n",
      " 10  vendor_name          423779 non-null  object\n",
      " 11  itemno               423779 non-null  object\n",
      " 12  im_desc              423779 non-null  object\n",
      " 13  state_bottle_cost    423779 non-null  object\n",
      " 14  state_bottle_retail  423779 non-null  object\n",
      " 15  sale_bottles         423779 non-null  object\n",
      "dtypes: object(16)\n",
      "memory usage: 55.0+ MB\n"
     ]
    }
   ],
   "source": [
    "df.info()"
   ]
  },
  {
   "cell_type": "markdown",
   "metadata": {},
   "source": [
    "#### 2.3.1. Datetime Columns"
   ]
  },
  {
   "cell_type": "code",
   "execution_count": 66,
   "metadata": {},
   "outputs": [
    {
     "name": "stdout",
     "output_type": "stream",
     "text": [
      "The 'date' column is in a suitable format for SQL date type.\n"
     ]
    }
   ],
   "source": [
    "try:\n",
    "    pd.to_datetime(df['date'])\n",
    "    print(\"The 'date' column is in a suitable format for SQL date type.\")\n",
    "except (ValueError, TypeError):\n",
    "    print(\"The 'date' column is NOT in a suitable format for SQL date type.\")"
   ]
  },
  {
   "cell_type": "markdown",
   "metadata": {},
   "source": [
    "#### 2.3.2. Integer Columns"
   ]
  },
  {
   "cell_type": "code",
   "execution_count": 67,
   "metadata": {},
   "outputs": [
    {
     "name": "stdout",
     "output_type": "stream",
     "text": [
      "The column 'invoice_line_no' cannot be fully converted to integers.\n",
      "The column 'store' can be fully converted to integers.\n",
      "The column 'name' cannot be fully converted to integers.\n",
      "The column 'city' cannot be fully converted to integers.\n",
      "The column 'zipcode' can be fully converted to integers.\n",
      "The column 'county' cannot be fully converted to integers.\n",
      "The column 'category' can be fully converted to integers.\n",
      "The column 'category_name' cannot be fully converted to integers.\n",
      "The column 'vendor_no' can be fully converted to integers.\n",
      "The column 'vendor_name' cannot be fully converted to integers.\n",
      "The column 'itemno' can be fully converted to integers.\n",
      "The column 'im_desc' cannot be fully converted to integers.\n",
      "The column 'state_bottle_cost' can be fully converted to integers.\n",
      "The column 'state_bottle_retail' can be fully converted to integers.\n",
      "The column 'sale_bottles' can be fully converted to integers.\n",
      "{'store': 'int', 'zipcode': 'int', 'category': 'int', 'vendor_no': 'int', 'itemno': 'int', 'state_bottle_cost': 'int', 'state_bottle_retail': 'int', 'sale_bottles': 'int'}\n"
     ]
    }
   ],
   "source": [
    "num_col_dtype_map = {}\n",
    "\n",
    "for col in df.columns:\n",
    "    if df[col].dtype == 'object' and col != 'date':\n",
    "        converted_col = pd.to_numeric(df[col], errors='coerce')\n",
    "        if not converted_col.isna().any():\n",
    "            num_col_dtype_map[col] = 'int'\n",
    "            print(f\"The column '{col}' can be fully converted to integers.\")\n",
    "        else:\n",
    "            print(f\"The column '{col}' cannot be fully converted to integers.\")\n",
    "\n",
    "print(num_col_dtype_map)"
   ]
  },
  {
   "cell_type": "code",
   "execution_count": 68,
   "metadata": {},
   "outputs": [],
   "source": [
    "# Save dictionary to a JSON file\n",
    "with open('dicts/num_col_dtype_map.json', 'w') as file:\n",
    "    json.dump(num_col_dtype_map, file)"
   ]
  },
  {
   "cell_type": "markdown",
   "metadata": {},
   "source": [
    "### 2.4. Data Validation"
   ]
  },
  {
   "cell_type": "code",
   "execution_count": 69,
   "metadata": {},
   "outputs": [],
   "source": [
    "def convert_to_numeric(df, col):\n",
    "    # Convert column to float first\n",
    "    df[col] = df[col].astype(float)\n",
    "    # If the float value is equal to its integer conversion, change to int\n",
    "    df[col] = df[col].apply(lambda x: int(x) if x == int(x) else x)\n",
    "\n",
    "columns_to_convert = ['state_bottle_cost', 'state_bottle_retail', 'sale_bottles']\n",
    "for col in columns_to_convert:\n",
    "    convert_to_numeric(df, col)"
   ]
  },
  {
   "cell_type": "code",
   "execution_count": 70,
   "metadata": {},
   "outputs": [
    {
     "data": {
      "text/html": [
       "<div>\n",
       "<style scoped>\n",
       "    .dataframe tbody tr th:only-of-type {\n",
       "        vertical-align: middle;\n",
       "    }\n",
       "\n",
       "    .dataframe tbody tr th {\n",
       "        vertical-align: top;\n",
       "    }\n",
       "\n",
       "    .dataframe thead th {\n",
       "        text-align: right;\n",
       "    }\n",
       "</style>\n",
       "<table border=\"1\" class=\"dataframe\">\n",
       "  <thead>\n",
       "    <tr style=\"text-align: right;\">\n",
       "      <th></th>\n",
       "      <th>state_bottle_cost</th>\n",
       "      <th>state_bottle_retail</th>\n",
       "      <th>sale_bottles</th>\n",
       "    </tr>\n",
       "  </thead>\n",
       "  <tbody>\n",
       "    <tr>\n",
       "      <th>count</th>\n",
       "      <td>423779.000000</td>\n",
       "      <td>423779.000000</td>\n",
       "      <td>423779.000000</td>\n",
       "    </tr>\n",
       "    <tr>\n",
       "      <th>mean</th>\n",
       "      <td>13.743257</td>\n",
       "      <td>20.617133</td>\n",
       "      <td>11.821501</td>\n",
       "    </tr>\n",
       "    <tr>\n",
       "      <th>std</th>\n",
       "      <td>13.889716</td>\n",
       "      <td>20.834971</td>\n",
       "      <td>48.022667</td>\n",
       "    </tr>\n",
       "    <tr>\n",
       "      <th>min</th>\n",
       "      <td>0.950000</td>\n",
       "      <td>1.430000</td>\n",
       "      <td>-648.000000</td>\n",
       "    </tr>\n",
       "    <tr>\n",
       "      <th>25%</th>\n",
       "      <td>7.350000</td>\n",
       "      <td>11.030000</td>\n",
       "      <td>3.000000</td>\n",
       "    </tr>\n",
       "    <tr>\n",
       "      <th>50%</th>\n",
       "      <td>10.920000</td>\n",
       "      <td>16.380000</td>\n",
       "      <td>6.000000</td>\n",
       "    </tr>\n",
       "    <tr>\n",
       "      <th>75%</th>\n",
       "      <td>16.170000</td>\n",
       "      <td>24.260000</td>\n",
       "      <td>12.000000</td>\n",
       "    </tr>\n",
       "    <tr>\n",
       "      <th>max</th>\n",
       "      <td>2298.840000</td>\n",
       "      <td>3448.260000</td>\n",
       "      <td>13200.000000</td>\n",
       "    </tr>\n",
       "  </tbody>\n",
       "</table>\n",
       "</div>"
      ],
      "text/plain": [
       "       state_bottle_cost  state_bottle_retail   sale_bottles\n",
       "count      423779.000000        423779.000000  423779.000000\n",
       "mean           13.743257            20.617133      11.821501\n",
       "std            13.889716            20.834971      48.022667\n",
       "min             0.950000             1.430000    -648.000000\n",
       "25%             7.350000            11.030000       3.000000\n",
       "50%            10.920000            16.380000       6.000000\n",
       "75%            16.170000            24.260000      12.000000\n",
       "max          2298.840000          3448.260000   13200.000000"
      ]
     },
     "execution_count": 70,
     "metadata": {},
     "output_type": "execute_result"
    }
   ],
   "source": [
    "df.describe()"
   ]
  },
  {
   "cell_type": "code",
   "execution_count": 71,
   "metadata": {},
   "outputs": [
    {
     "data": {
      "text/plain": [
       "0.1531458614041753"
      ]
     },
     "execution_count": 71,
     "metadata": {},
     "output_type": "execute_result"
    }
   ],
   "source": [
    "# Check the percentage of rows where 'sale_bottles' is negative\n",
    "len(df[df['sale_bottles']<0])/len(df) * 100"
   ]
  },
  {
   "cell_type": "markdown",
   "metadata": {},
   "source": [
    "**Note**: While negative sales data typically indicate refunds or returns, our analysis will omit these records to maintain data integrity. \n",
    "\n",
    "This decision is based on the focus of our study, which requires consistent and positive sales figures to accurately assess trends and patterns.\n"
   ]
  },
  {
   "cell_type": "code",
   "execution_count": 72,
   "metadata": {},
   "outputs": [
    {
     "data": {
      "text/html": [
       "<div>\n",
       "<style scoped>\n",
       "    .dataframe tbody tr th:only-of-type {\n",
       "        vertical-align: middle;\n",
       "    }\n",
       "\n",
       "    .dataframe tbody tr th {\n",
       "        vertical-align: top;\n",
       "    }\n",
       "\n",
       "    .dataframe thead th {\n",
       "        text-align: right;\n",
       "    }\n",
       "</style>\n",
       "<table border=\"1\" class=\"dataframe\">\n",
       "  <thead>\n",
       "    <tr style=\"text-align: right;\">\n",
       "      <th></th>\n",
       "      <th>state_bottle_cost</th>\n",
       "      <th>state_bottle_retail</th>\n",
       "      <th>sale_bottles</th>\n",
       "    </tr>\n",
       "  </thead>\n",
       "  <tbody>\n",
       "    <tr>\n",
       "      <th>count</th>\n",
       "      <td>423130.000000</td>\n",
       "      <td>423130.000000</td>\n",
       "      <td>423130.000000</td>\n",
       "    </tr>\n",
       "    <tr>\n",
       "      <th>mean</th>\n",
       "      <td>13.740855</td>\n",
       "      <td>20.613530</td>\n",
       "      <td>11.857082</td>\n",
       "    </tr>\n",
       "    <tr>\n",
       "      <th>std</th>\n",
       "      <td>13.889348</td>\n",
       "      <td>20.834419</td>\n",
       "      <td>48.037198</td>\n",
       "    </tr>\n",
       "    <tr>\n",
       "      <th>min</th>\n",
       "      <td>0.950000</td>\n",
       "      <td>1.430000</td>\n",
       "      <td>1.000000</td>\n",
       "    </tr>\n",
       "    <tr>\n",
       "      <th>25%</th>\n",
       "      <td>7.330000</td>\n",
       "      <td>11.000000</td>\n",
       "      <td>3.000000</td>\n",
       "    </tr>\n",
       "    <tr>\n",
       "      <th>50%</th>\n",
       "      <td>10.920000</td>\n",
       "      <td>16.380000</td>\n",
       "      <td>6.000000</td>\n",
       "    </tr>\n",
       "    <tr>\n",
       "      <th>75%</th>\n",
       "      <td>16.050000</td>\n",
       "      <td>24.080000</td>\n",
       "      <td>12.000000</td>\n",
       "    </tr>\n",
       "    <tr>\n",
       "      <th>max</th>\n",
       "      <td>2298.840000</td>\n",
       "      <td>3448.260000</td>\n",
       "      <td>13200.000000</td>\n",
       "    </tr>\n",
       "  </tbody>\n",
       "</table>\n",
       "</div>"
      ],
      "text/plain": [
       "       state_bottle_cost  state_bottle_retail   sale_bottles\n",
       "count      423130.000000        423130.000000  423130.000000\n",
       "mean           13.740855            20.613530      11.857082\n",
       "std            13.889348            20.834419      48.037198\n",
       "min             0.950000             1.430000       1.000000\n",
       "25%             7.330000            11.000000       3.000000\n",
       "50%            10.920000            16.380000       6.000000\n",
       "75%            16.050000            24.080000      12.000000\n",
       "max          2298.840000          3448.260000   13200.000000"
      ]
     },
     "execution_count": 72,
     "metadata": {},
     "output_type": "execute_result"
    }
   ],
   "source": [
    "df=df[df['sale_bottles']>=0]\n",
    "df.describe()"
   ]
  }
 ],
 "metadata": {
  "kernelspec": {
   "display_name": "Python 3",
   "language": "python",
   "name": "python3"
  },
  "language_info": {
   "codemirror_mode": {
    "name": "ipython",
    "version": 3
   },
   "file_extension": ".py",
   "mimetype": "text/x-python",
   "name": "python",
   "nbconvert_exporter": "python",
   "pygments_lexer": "ipython3",
   "version": "3.11.7"
  }
 },
 "nbformat": 4,
 "nbformat_minor": 2
}
