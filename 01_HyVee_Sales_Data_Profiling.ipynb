{
 "cells": [
  {
   "cell_type": "code",
   "execution_count": 1,
   "metadata": {},
   "outputs": [],
   "source": [
    "# !pip install --upgrade pip\n",
    "# !pip install pandas\n",
    "# !pip install sodapy"
   ]
  },
  {
   "cell_type": "markdown",
   "metadata": {},
   "source": [
    "# Data Profiling"
   ]
  },
  {
   "cell_type": "markdown",
   "metadata": {},
   "source": [
    "Analyzing a subset of data to understand its characteristics, guiding the design of an efficient data pipeline."
   ]
  },
  {
   "cell_type": "markdown",
   "metadata": {},
   "source": [
    "## Data Extraction"
   ]
  },
  {
   "cell_type": "code",
   "execution_count": 2,
   "metadata": {},
   "outputs": [],
   "source": [
    "import pandas as pd\n",
    "from sodapy import Socrata\n",
    "import json\n",
    "from datetime import datetime, timedelta"
   ]
  },
  {
   "cell_type": "code",
   "execution_count": 3,
   "metadata": {},
   "outputs": [],
   "source": [
    "with open('config/socrata_config.json') as f:\n",
    "  config = json.load(f)\n",
    "\n",
    "AppToken = config['app_token']\n",
    "UserName = config['user_name']\n",
    "Password = config[\"password\"]"
   ]
  },
  {
   "cell_type": "code",
   "execution_count": 4,
   "metadata": {},
   "outputs": [],
   "source": [
    "client = Socrata(\"data.iowa.gov\",\n",
    "                 AppToken,\n",
    "                 username = UserName,\n",
    "                 password = Password,\n",
    "                 timeout=30)"
   ]
  },
  {
   "cell_type": "code",
   "execution_count": 5,
   "metadata": {},
   "outputs": [
    {
     "data": {
      "text/plain": [
       "18"
      ]
     },
     "execution_count": 5,
     "metadata": {},
     "output_type": "execute_result"
    }
   ],
   "source": [
    "col_selected = 'invoice_line_no, date, store, name, address, city, zipcode, county, category, category_name, vendor_no, vendor_name, itemno, im_desc, bottle_volume_ml, state_bottle_cost, state_bottle_retail, sale_bottles'\n",
    "col_list = ['invoice_line_no', 'date', 'store', 'name', 'address', 'city', 'zipcode', 'county', 'category', 'category_name', 'vendor_no', 'vendor_name','itemno', 'im_desc', 'bottle_volume_ml', 'state_bottle_cost', 'state_bottle_retail', 'sale_bottles']\n",
    "len(col_list)"
   ]
  },
  {
   "cell_type": "code",
   "execution_count": 8,
   "metadata": {},
   "outputs": [
    {
     "name": "stdout",
     "output_type": "stream",
     "text": [
      "Rows from 2022-07-01 to 2023-07-01: 749013\n"
     ]
    }
   ],
   "source": [
    "# Using data in FY 2023 as a sample\n",
    "start_date = \"2022-07-01\"\n",
    "end_date = \"2023-07-01\" \n",
    "\n",
    "total_rows = []  \n",
    "limit = 5000  \n",
    "offset = 0  \n",
    "more_data = True  \n",
    "\n",
    "while more_data:\n",
    "    results = client.get(\"m3tr-qhgy\",\n",
    "                         select=col_selected, \n",
    "                         where=f\"(LOWER(name) LIKE '%hy-vee%' OR name LIKE '%WALL TO WALL WINE AND SPIRITS%') AND date >= '{start_date}' AND date < '{end_date}'\", \n",
    "                         limit=limit, \n",
    "                         offset=offset)\n",
    "    total_rows.extend(results)  \n",
    "\n",
    "    if len(results) < limit:\n",
    "        more_data = False\n",
    "    else:\n",
    "        offset += limit \n",
    "\n",
    "df = pd.DataFrame.from_records(total_rows)\n",
    "print(f\"Rows from {start_date} to {end_date}: {df.shape[0]}\")"
   ]
  },
  {
   "cell_type": "code",
   "execution_count": 9,
   "metadata": {},
   "outputs": [
    {
     "data": {
      "text/html": [
       "<div>\n",
       "<style scoped>\n",
       "    .dataframe tbody tr th:only-of-type {\n",
       "        vertical-align: middle;\n",
       "    }\n",
       "\n",
       "    .dataframe tbody tr th {\n",
       "        vertical-align: top;\n",
       "    }\n",
       "\n",
       "    .dataframe thead th {\n",
       "        text-align: right;\n",
       "    }\n",
       "</style>\n",
       "<table border=\"1\" class=\"dataframe\">\n",
       "  <thead>\n",
       "    <tr style=\"text-align: right;\">\n",
       "      <th></th>\n",
       "      <th>invoice_line_no</th>\n",
       "      <th>date</th>\n",
       "      <th>store</th>\n",
       "      <th>name</th>\n",
       "      <th>address</th>\n",
       "      <th>city</th>\n",
       "      <th>zipcode</th>\n",
       "      <th>county</th>\n",
       "      <th>category</th>\n",
       "      <th>category_name</th>\n",
       "      <th>vendor_no</th>\n",
       "      <th>vendor_name</th>\n",
       "      <th>itemno</th>\n",
       "      <th>im_desc</th>\n",
       "      <th>bottle_volume_ml</th>\n",
       "      <th>state_bottle_cost</th>\n",
       "      <th>state_bottle_retail</th>\n",
       "      <th>sale_bottles</th>\n",
       "    </tr>\n",
       "  </thead>\n",
       "  <tbody>\n",
       "    <tr>\n",
       "      <th>0</th>\n",
       "      <td>INV-48852600235</td>\n",
       "      <td>2022-07-01T00:00:00.000</td>\n",
       "      <td>2560</td>\n",
       "      <td>HY-VEE FOOD STORE / MARION</td>\n",
       "      <td>3600 BUSINESS HWY 151 EAST</td>\n",
       "      <td>MARION</td>\n",
       "      <td>52302</td>\n",
       "      <td>LINN</td>\n",
       "      <td>1031100</td>\n",
       "      <td>AMERICAN VODKAS</td>\n",
       "      <td>421</td>\n",
       "      <td>SAZERAC COMPANY  INC</td>\n",
       "      <td>36900</td>\n",
       "      <td>BARTON NATURALS</td>\n",
       "      <td>1750</td>\n",
       "      <td>6.92</td>\n",
       "      <td>10.38</td>\n",
       "      <td>6</td>\n",
       "    </tr>\n",
       "    <tr>\n",
       "      <th>1</th>\n",
       "      <td>INV-48852600108</td>\n",
       "      <td>2022-07-01T00:00:00.000</td>\n",
       "      <td>2560</td>\n",
       "      <td>HY-VEE FOOD STORE / MARION</td>\n",
       "      <td>3600 BUSINESS HWY 151 EAST</td>\n",
       "      <td>MARION</td>\n",
       "      <td>52302</td>\n",
       "      <td>LINN</td>\n",
       "      <td>1011200</td>\n",
       "      <td>STRAIGHT BOURBON WHISKIES</td>\n",
       "      <td>619</td>\n",
       "      <td>CAMPARI AMERICA</td>\n",
       "      <td>22121</td>\n",
       "      <td>WILD TURKEY 81</td>\n",
       "      <td>750</td>\n",
       "      <td>12.00</td>\n",
       "      <td>18.00</td>\n",
       "      <td>6</td>\n",
       "    </tr>\n",
       "    <tr>\n",
       "      <th>2</th>\n",
       "      <td>INV-48871900029</td>\n",
       "      <td>2022-07-01T00:00:00.000</td>\n",
       "      <td>2566</td>\n",
       "      <td>HY-VEE FOOD STORE / KNOXVILLE</td>\n",
       "      <td>813 N LINCOLN STE 1</td>\n",
       "      <td>KNOXVILLE</td>\n",
       "      <td>50138</td>\n",
       "      <td>MARION</td>\n",
       "      <td>1011100</td>\n",
       "      <td>BLENDED WHISKIES</td>\n",
       "      <td>297</td>\n",
       "      <td>LAIRD &amp; COMPANY</td>\n",
       "      <td>23828</td>\n",
       "      <td>FIVE STAR</td>\n",
       "      <td>1750</td>\n",
       "      <td>8.25</td>\n",
       "      <td>12.38</td>\n",
       "      <td>6</td>\n",
       "    </tr>\n",
       "    <tr>\n",
       "      <th>3</th>\n",
       "      <td>INV-48871900045</td>\n",
       "      <td>2022-07-01T00:00:00.000</td>\n",
       "      <td>2566</td>\n",
       "      <td>HY-VEE FOOD STORE / KNOXVILLE</td>\n",
       "      <td>813 N LINCOLN STE 1</td>\n",
       "      <td>KNOXVILLE</td>\n",
       "      <td>50138</td>\n",
       "      <td>MARION</td>\n",
       "      <td>1081400</td>\n",
       "      <td>AMERICAN SCHNAPPS</td>\n",
       "      <td>434</td>\n",
       "      <td>LUXCO INC</td>\n",
       "      <td>80571</td>\n",
       "      <td>ARROW PEPPERMINT SCHNAPPS MINI</td>\n",
       "      <td>50</td>\n",
       "      <td>4.55</td>\n",
       "      <td>6.83</td>\n",
       "      <td>3</td>\n",
       "    </tr>\n",
       "    <tr>\n",
       "      <th>4</th>\n",
       "      <td>INV-48871900044</td>\n",
       "      <td>2022-07-01T00:00:00.000</td>\n",
       "      <td>2566</td>\n",
       "      <td>HY-VEE FOOD STORE / KNOXVILLE</td>\n",
       "      <td>813 N LINCOLN STE 1</td>\n",
       "      <td>KNOXVILLE</td>\n",
       "      <td>50138</td>\n",
       "      <td>MARION</td>\n",
       "      <td>1031100</td>\n",
       "      <td>AMERICAN VODKAS</td>\n",
       "      <td>434</td>\n",
       "      <td>LUXCO INC</td>\n",
       "      <td>36301</td>\n",
       "      <td>HAWKEYE VODKA MINI</td>\n",
       "      <td>50</td>\n",
       "      <td>4.13</td>\n",
       "      <td>6.20</td>\n",
       "      <td>3</td>\n",
       "    </tr>\n",
       "  </tbody>\n",
       "</table>\n",
       "</div>"
      ],
      "text/plain": [
       "   invoice_line_no                     date store  \\\n",
       "0  INV-48852600235  2022-07-01T00:00:00.000  2560   \n",
       "1  INV-48852600108  2022-07-01T00:00:00.000  2560   \n",
       "2  INV-48871900029  2022-07-01T00:00:00.000  2566   \n",
       "3  INV-48871900045  2022-07-01T00:00:00.000  2566   \n",
       "4  INV-48871900044  2022-07-01T00:00:00.000  2566   \n",
       "\n",
       "                            name                     address       city  \\\n",
       "0     HY-VEE FOOD STORE / MARION  3600 BUSINESS HWY 151 EAST     MARION   \n",
       "1     HY-VEE FOOD STORE / MARION  3600 BUSINESS HWY 151 EAST     MARION   \n",
       "2  HY-VEE FOOD STORE / KNOXVILLE         813 N LINCOLN STE 1  KNOXVILLE   \n",
       "3  HY-VEE FOOD STORE / KNOXVILLE         813 N LINCOLN STE 1  KNOXVILLE   \n",
       "4  HY-VEE FOOD STORE / KNOXVILLE         813 N LINCOLN STE 1  KNOXVILLE   \n",
       "\n",
       "  zipcode  county category              category_name vendor_no  \\\n",
       "0   52302    LINN  1031100            AMERICAN VODKAS       421   \n",
       "1   52302    LINN  1011200  STRAIGHT BOURBON WHISKIES       619   \n",
       "2   50138  MARION  1011100           BLENDED WHISKIES       297   \n",
       "3   50138  MARION  1081400          AMERICAN SCHNAPPS       434   \n",
       "4   50138  MARION  1031100            AMERICAN VODKAS       434   \n",
       "\n",
       "            vendor_name itemno                         im_desc  \\\n",
       "0  SAZERAC COMPANY  INC  36900                 BARTON NATURALS   \n",
       "1       CAMPARI AMERICA  22121                  WILD TURKEY 81   \n",
       "2       LAIRD & COMPANY  23828                       FIVE STAR   \n",
       "3             LUXCO INC  80571  ARROW PEPPERMINT SCHNAPPS MINI   \n",
       "4             LUXCO INC  36301              HAWKEYE VODKA MINI   \n",
       "\n",
       "  bottle_volume_ml state_bottle_cost state_bottle_retail sale_bottles  \n",
       "0             1750              6.92               10.38            6  \n",
       "1              750             12.00               18.00            6  \n",
       "2             1750              8.25               12.38            6  \n",
       "3               50              4.55                6.83            3  \n",
       "4               50              4.13                6.20            3  "
      ]
     },
     "execution_count": 9,
     "metadata": {},
     "output_type": "execute_result"
    }
   ],
   "source": [
    "# df = df.sample(frac=0.1)\n",
    "df.head()"
   ]
  },
  {
   "cell_type": "markdown",
   "metadata": {},
   "source": [
    "## Data Transformation"
   ]
  },
  {
   "cell_type": "markdown",
   "metadata": {},
   "source": [
    "### 1.1. Removing Duplicate Rows"
   ]
  },
  {
   "cell_type": "code",
   "execution_count": 10,
   "metadata": {},
   "outputs": [
    {
     "name": "stdout",
     "output_type": "stream",
     "text": [
      "Number of duplicate rows: 2655; Percentage of duplicate rows: 0.35%\n"
     ]
    }
   ],
   "source": [
    "num_dup = df.duplicated().sum()\n",
    "perc_dup = num_dup / df.shape[0] * 100 \n",
    "print(f'Number of duplicate rows: {num_dup}; Percentage of duplicate rows: {perc_dup:.2f}%')"
   ]
  },
  {
   "cell_type": "code",
   "execution_count": 11,
   "metadata": {},
   "outputs": [
    {
     "name": "stdout",
     "output_type": "stream",
     "text": [
      "Number of duplicate rows: 0; Percentage of duplicate rows: 0.00%\n"
     ]
    }
   ],
   "source": [
    "# Despite the potential for duplicates arising from reasons other than data entry errors, \n",
    "# I'm opting to remove them as they constitute a minimal proportion of the dataset (only 0.02%). \n",
    "# This decision is based on the assumption that the impact on data integrity will be negligible while simplifying further analysis.\n",
    "\n",
    "df = df.drop_duplicates()\n",
    "num_dup = df.duplicated().sum()\n",
    "perc_dup = num_dup / df.shape[0] * 100 \n",
    "print(f'Number of duplicate rows: {num_dup}; Percentage of duplicate rows: {perc_dup:.2f}%')"
   ]
  },
  {
   "cell_type": "code",
   "execution_count": 12,
   "metadata": {},
   "outputs": [
    {
     "name": "stdout",
     "output_type": "stream",
     "text": [
      "Number of duplicates in 'invoice_line_no': 0\n"
     ]
    }
   ],
   "source": [
    "# Check if invoice_line_no unique\n",
    "number_of_duplicates = df.duplicated(subset='invoice_line_no', keep=False).sum()\n",
    "print(f\"Number of duplicates in 'invoice_line_no': {number_of_duplicates}\")\n"
   ]
  },
  {
   "cell_type": "markdown",
   "metadata": {},
   "source": [
    "### 1.2. Handelling Missing Values"
   ]
  },
  {
   "cell_type": "code",
   "execution_count": 13,
   "metadata": {},
   "outputs": [
    {
     "data": {
      "text/html": [
       "<div>\n",
       "<style scoped>\n",
       "    .dataframe tbody tr th:only-of-type {\n",
       "        vertical-align: middle;\n",
       "    }\n",
       "\n",
       "    .dataframe tbody tr th {\n",
       "        vertical-align: top;\n",
       "    }\n",
       "\n",
       "    .dataframe thead th {\n",
       "        text-align: right;\n",
       "    }\n",
       "</style>\n",
       "<table border=\"1\" class=\"dataframe\">\n",
       "  <thead>\n",
       "    <tr style=\"text-align: right;\">\n",
       "      <th></th>\n",
       "      <th>Missing Values</th>\n",
       "      <th>% of Total Values</th>\n",
       "    </tr>\n",
       "  </thead>\n",
       "  <tbody>\n",
       "    <tr>\n",
       "      <th>address</th>\n",
       "      <td>1</td>\n",
       "      <td>0.000134</td>\n",
       "    </tr>\n",
       "    <tr>\n",
       "      <th>city</th>\n",
       "      <td>1</td>\n",
       "      <td>0.000134</td>\n",
       "    </tr>\n",
       "    <tr>\n",
       "      <th>zipcode</th>\n",
       "      <td>1</td>\n",
       "      <td>0.000134</td>\n",
       "    </tr>\n",
       "    <tr>\n",
       "      <th>county</th>\n",
       "      <td>1</td>\n",
       "      <td>0.000134</td>\n",
       "    </tr>\n",
       "  </tbody>\n",
       "</table>\n",
       "</div>"
      ],
      "text/plain": [
       "         Missing Values  % of Total Values\n",
       "address               1           0.000134\n",
       "city                  1           0.000134\n",
       "zipcode               1           0.000134\n",
       "county                1           0.000134"
      ]
     },
     "execution_count": 13,
     "metadata": {},
     "output_type": "execute_result"
    }
   ],
   "source": [
    "def missing_values_table(df):\n",
    "    if not isinstance(df, pd.DataFrame):\n",
    "        raise ValueError(\"Input is not a pandas DataFrame\")\n",
    "\n",
    "    num_na = df.isnull().sum()\n",
    "    perc_na = (num_na / len(df)) * 100\n",
    "\n",
    "    df_na = pd.DataFrame({\n",
    "        'Missing Values': num_na,\n",
    "        '% of Total Values': perc_na\n",
    "    })\n",
    "\n",
    "    df_na = df_na[df_na['Missing Values'] != 0]\n",
    "\n",
    "    return df_na\n",
    "\n",
    "missing_values_table(df)"
   ]
  },
  {
   "cell_type": "markdown",
   "metadata": {},
   "source": [
    "Although the current sample shows few missing values, they may be underrepresented in the full dataset. \n",
    "\n",
    "These rows, containing key sales data, are vital for our analysis. \n",
    "Hence, we will retain them by imputing missing values with placeholders to preserve critical insights. \n",
    "\n",
    "However, records lacking essential data such as price, sales volume, dates, and index will be excluded, \n",
    "as their absence renders them unsuitable for meaningful analysis."
   ]
  },
  {
   "cell_type": "code",
   "execution_count": 14,
   "metadata": {},
   "outputs": [
    {
     "data": {
      "text/plain": [
       "Index(['invoice_line_no', 'date', 'store', 'name', 'address', 'city',\n",
       "       'zipcode', 'county', 'category', 'category_name', 'vendor_no',\n",
       "       'vendor_name', 'itemno', 'im_desc', 'bottle_volume_ml',\n",
       "       'state_bottle_cost', 'state_bottle_retail', 'sale_bottles'],\n",
       "      dtype='object')"
      ]
     },
     "execution_count": 14,
     "metadata": {},
     "output_type": "execute_result"
    }
   ],
   "source": [
    "df.columns"
   ]
  },
  {
   "cell_type": "code",
   "execution_count": 17,
   "metadata": {},
   "outputs": [
    {
     "data": {
      "text/plain": [
       "{'store': 9999,\n",
       " 'name': 'UNKNOWN',\n",
       " 'address': 'UNKNOWN',\n",
       " 'city': 'UNKNOWN',\n",
       " 'zipcode': 99999,\n",
       " 'county': 'UNKNOWN',\n",
       " 'category': 9999999,\n",
       " 'category_name': 'UNKNOWN',\n",
       " 'vendor_no': 999,\n",
       " 'vendor_name': 'UNKNOWN',\n",
       " 'itemno': 99999,\n",
       " 'im_desc': 'UNKNOWN'}"
      ]
     },
     "execution_count": 17,
     "metadata": {},
     "output_type": "execute_result"
    }
   ],
   "source": [
    "def generate_placeholder_dict(df, cols):\n",
    "    placeholder_dict = {}\n",
    "    for col in cols:\n",
    "        try:\n",
    "            int_col = df[col].dropna().astype(int)\n",
    "            mode_digit_count = int_col.astype(str).apply(len).mode()[0]\n",
    "            placeholder_dict[col] = int('9' * mode_digit_count)\n",
    "        except ValueError:\n",
    "            placeholder_dict[col] = 'UNKNOWN'\n",
    "    return placeholder_dict\n",
    "\n",
    "dimension_cols = ['store', 'name', 'address', 'city', 'zipcode', 'county', 'category', 'category_name', 'vendor_no', 'vendor_name', 'itemno', 'im_desc']\n",
    "placeholders = generate_placeholder_dict(df, dimension_cols)\n",
    "\n",
    "placeholders"
   ]
  },
  {
   "cell_type": "code",
   "execution_count": 18,
   "metadata": {},
   "outputs": [],
   "source": [
    "# Save dictionary to a JSON file\n",
    "with open('dicts/placeholders.json', 'w') as file:\n",
    "    json.dump(placeholders, file)"
   ]
  },
  {
   "cell_type": "code",
   "execution_count": 19,
   "metadata": {},
   "outputs": [
    {
     "data": {
      "text/html": [
       "<div>\n",
       "<style scoped>\n",
       "    .dataframe tbody tr th:only-of-type {\n",
       "        vertical-align: middle;\n",
       "    }\n",
       "\n",
       "    .dataframe tbody tr th {\n",
       "        vertical-align: top;\n",
       "    }\n",
       "\n",
       "    .dataframe thead th {\n",
       "        text-align: right;\n",
       "    }\n",
       "</style>\n",
       "<table border=\"1\" class=\"dataframe\">\n",
       "  <thead>\n",
       "    <tr style=\"text-align: right;\">\n",
       "      <th></th>\n",
       "      <th>Missing Values</th>\n",
       "      <th>% of Total Values</th>\n",
       "    </tr>\n",
       "  </thead>\n",
       "  <tbody>\n",
       "  </tbody>\n",
       "</table>\n",
       "</div>"
      ],
      "text/plain": [
       "Empty DataFrame\n",
       "Columns: [Missing Values, % of Total Values]\n",
       "Index: []"
      ]
     },
     "execution_count": 19,
     "metadata": {},
     "output_type": "execute_result"
    }
   ],
   "source": [
    "df = df.fillna(value=placeholders)\n",
    "missing_values_table(df)"
   ]
  },
  {
   "cell_type": "markdown",
   "metadata": {},
   "source": [
    "### 2.3. Checking Data Type"
   ]
  },
  {
   "cell_type": "markdown",
   "metadata": {},
   "source": [
    "Verify if specific columns, such as indexes, are convertible to integers and if the date column can be formatted as datetime for compatibility with corresponding MySQL server data types"
   ]
  },
  {
   "cell_type": "code",
   "execution_count": 20,
   "metadata": {},
   "outputs": [
    {
     "name": "stdout",
     "output_type": "stream",
     "text": [
      "<class 'pandas.core.frame.DataFrame'>\n",
      "Index: 746358 entries, 0 to 749012\n",
      "Data columns (total 18 columns):\n",
      " #   Column               Non-Null Count   Dtype \n",
      "---  ------               --------------   ----- \n",
      " 0   invoice_line_no      746358 non-null  object\n",
      " 1   date                 746358 non-null  object\n",
      " 2   store                746358 non-null  object\n",
      " 3   name                 746358 non-null  object\n",
      " 4   address              746358 non-null  object\n",
      " 5   city                 746358 non-null  object\n",
      " 6   zipcode              746358 non-null  object\n",
      " 7   county               746358 non-null  object\n",
      " 8   category             746358 non-null  object\n",
      " 9   category_name        746358 non-null  object\n",
      " 10  vendor_no            746358 non-null  object\n",
      " 11  vendor_name          746358 non-null  object\n",
      " 12  itemno               746358 non-null  object\n",
      " 13  im_desc              746358 non-null  object\n",
      " 14  bottle_volume_ml     746358 non-null  object\n",
      " 15  state_bottle_cost    746358 non-null  object\n",
      " 16  state_bottle_retail  746358 non-null  object\n",
      " 17  sale_bottles         746358 non-null  object\n",
      "dtypes: object(18)\n",
      "memory usage: 108.2+ MB\n"
     ]
    }
   ],
   "source": [
    "df.info()"
   ]
  },
  {
   "cell_type": "markdown",
   "metadata": {},
   "source": [
    "#### 2.3.1. Datetime Columns"
   ]
  },
  {
   "cell_type": "code",
   "execution_count": 21,
   "metadata": {},
   "outputs": [
    {
     "name": "stdout",
     "output_type": "stream",
     "text": [
      "The 'date' column is in a suitable format for SQL date type.\n"
     ]
    }
   ],
   "source": [
    "try:\n",
    "    pd.to_datetime(df['date'])\n",
    "    print(\"The 'date' column is in a suitable format for SQL date type.\")\n",
    "except (ValueError, TypeError):\n",
    "    print(\"The 'date' column is NOT in a suitable format for SQL date type.\")"
   ]
  },
  {
   "cell_type": "markdown",
   "metadata": {},
   "source": [
    "#### 2.3.2. Integer Columns"
   ]
  },
  {
   "cell_type": "code",
   "execution_count": 23,
   "metadata": {},
   "outputs": [
    {
     "name": "stdout",
     "output_type": "stream",
     "text": [
      "The column 'invoice_line_no' CANNOT be fully converted to numbers.\n",
      "The column 'store' can be fully converted to integers.\n",
      "The column 'name' CANNOT be fully converted to numbers.\n",
      "The column 'address' CANNOT be fully converted to numbers.\n",
      "The column 'city' CANNOT be fully converted to numbers.\n",
      "The column 'zipcode' can be fully converted to integers.\n",
      "The column 'county' CANNOT be fully converted to numbers.\n",
      "The column 'category' can be fully converted to integers.\n",
      "The column 'category_name' CANNOT be fully converted to numbers.\n",
      "The column 'vendor_no' can be fully converted to integers.\n",
      "The column 'vendor_name' CANNOT be fully converted to numbers.\n",
      "The column 'itemno' can be fully converted to integers.\n",
      "The column 'im_desc' CANNOT be fully converted to numbers.\n",
      "The column 'bottle_volume_ml' can be fully converted to integers.\n",
      "The column 'state_bottle_cost' can be fully converted to floats.\n",
      "The column 'state_bottle_retail' can be fully converted to floats.\n",
      "The column 'sale_bottles' can be fully converted to integers.\n",
      "{'store': 'int', 'zipcode': 'int', 'category': 'int', 'vendor_no': 'int', 'itemno': 'int', 'bottle_volume_ml': 'int', 'state_bottle_cost': 'float', 'state_bottle_retail': 'float', 'sale_bottles': 'int'}\n"
     ]
    }
   ],
   "source": [
    "num_col_dtype_map = {}\n",
    "\n",
    "for col in df.columns:\n",
    "    if df[col].dtype == 'object' and col != 'date':\n",
    "        # Try to convert the column to numeric type with errors coerced to NaN\n",
    "        converted_col = pd.to_numeric(df[col], errors='coerce')\n",
    "\n",
    "        # Check if the column can be converted to a numeric type\n",
    "        if not converted_col.isna().any():\n",
    "            # If all numeric values are integers, categorize as 'int', otherwise 'float'\n",
    "            if (converted_col % 1 == 0).all():\n",
    "                num_col_dtype_map[col] = 'int'\n",
    "                print(f\"The column '{col}' can be fully converted to integers.\")\n",
    "            else:\n",
    "                num_col_dtype_map[col] = 'float'\n",
    "                print(f\"The column '{col}' can be fully converted to floats.\")\n",
    "        else:\n",
    "            print(f\"The column '{col}' CANNOT be fully converted to numbers.\")\n",
    "\n",
    "print(num_col_dtype_map)"
   ]
  },
  {
   "cell_type": "code",
   "execution_count": 24,
   "metadata": {},
   "outputs": [],
   "source": [
    "# Save dictionary to a JSON file\n",
    "with open('dicts/num_col_dtype_map.json', 'w') as file:\n",
    "    json.dump(num_col_dtype_map, file)"
   ]
  },
  {
   "cell_type": "markdown",
   "metadata": {},
   "source": [
    "### 2.4. Data Validation"
   ]
  },
  {
   "cell_type": "code",
   "execution_count": 26,
   "metadata": {},
   "outputs": [],
   "source": [
    "def convert_to_numeric(df, col):\n",
    "    # Convert column to float first\n",
    "    df[col] = df[col].astype(float)\n",
    "    # If the float value is equal to its integer conversion, change to int\n",
    "    df[col] = df[col].apply(lambda x: int(x) if x == int(x) else x)\n",
    "\n",
    "columns_to_convert = ['bottle_volume_ml', 'state_bottle_cost', 'state_bottle_retail', 'sale_bottles']\n",
    "for col in columns_to_convert:\n",
    "    convert_to_numeric(df, col)"
   ]
  },
  {
   "cell_type": "code",
   "execution_count": 27,
   "metadata": {},
   "outputs": [
    {
     "data": {
      "text/html": [
       "<div>\n",
       "<style scoped>\n",
       "    .dataframe tbody tr th:only-of-type {\n",
       "        vertical-align: middle;\n",
       "    }\n",
       "\n",
       "    .dataframe tbody tr th {\n",
       "        vertical-align: top;\n",
       "    }\n",
       "\n",
       "    .dataframe thead th {\n",
       "        text-align: right;\n",
       "    }\n",
       "</style>\n",
       "<table border=\"1\" class=\"dataframe\">\n",
       "  <thead>\n",
       "    <tr style=\"text-align: right;\">\n",
       "      <th></th>\n",
       "      <th>bottle_volume_ml</th>\n",
       "      <th>state_bottle_cost</th>\n",
       "      <th>state_bottle_retail</th>\n",
       "      <th>sale_bottles</th>\n",
       "    </tr>\n",
       "  </thead>\n",
       "  <tbody>\n",
       "    <tr>\n",
       "      <th>count</th>\n",
       "      <td>746358.000000</td>\n",
       "      <td>746358.000000</td>\n",
       "      <td>746358.000000</td>\n",
       "      <td>746358.000000</td>\n",
       "    </tr>\n",
       "    <tr>\n",
       "      <th>mean</th>\n",
       "      <td>869.723310</td>\n",
       "      <td>13.120364</td>\n",
       "      <td>19.679969</td>\n",
       "      <td>11.892889</td>\n",
       "    </tr>\n",
       "    <tr>\n",
       "      <th>std</th>\n",
       "      <td>512.980053</td>\n",
       "      <td>26.088963</td>\n",
       "      <td>39.132057</td>\n",
       "      <td>43.917080</td>\n",
       "    </tr>\n",
       "    <tr>\n",
       "      <th>min</th>\n",
       "      <td>20.000000</td>\n",
       "      <td>0.890000</td>\n",
       "      <td>1.340000</td>\n",
       "      <td>-360.000000</td>\n",
       "    </tr>\n",
       "    <tr>\n",
       "      <th>25%</th>\n",
       "      <td>750.000000</td>\n",
       "      <td>7.000000</td>\n",
       "      <td>10.500000</td>\n",
       "      <td>3.000000</td>\n",
       "    </tr>\n",
       "    <tr>\n",
       "      <th>50%</th>\n",
       "      <td>750.000000</td>\n",
       "      <td>10.000000</td>\n",
       "      <td>15.000000</td>\n",
       "      <td>6.000000</td>\n",
       "    </tr>\n",
       "    <tr>\n",
       "      <th>75%</th>\n",
       "      <td>1000.000000</td>\n",
       "      <td>15.910000</td>\n",
       "      <td>23.870000</td>\n",
       "      <td>12.000000</td>\n",
       "    </tr>\n",
       "    <tr>\n",
       "      <th>max</th>\n",
       "      <td>5250.000000</td>\n",
       "      <td>18436.000000</td>\n",
       "      <td>27654.000000</td>\n",
       "      <td>11880.000000</td>\n",
       "    </tr>\n",
       "  </tbody>\n",
       "</table>\n",
       "</div>"
      ],
      "text/plain": [
       "       bottle_volume_ml  state_bottle_cost  state_bottle_retail   sale_bottles\n",
       "count     746358.000000      746358.000000        746358.000000  746358.000000\n",
       "mean         869.723310          13.120364            19.679969      11.892889\n",
       "std          512.980053          26.088963            39.132057      43.917080\n",
       "min           20.000000           0.890000             1.340000    -360.000000\n",
       "25%          750.000000           7.000000            10.500000       3.000000\n",
       "50%          750.000000          10.000000            15.000000       6.000000\n",
       "75%         1000.000000          15.910000            23.870000      12.000000\n",
       "max         5250.000000       18436.000000         27654.000000   11880.000000"
      ]
     },
     "execution_count": 27,
     "metadata": {},
     "output_type": "execute_result"
    }
   ],
   "source": [
    "df.describe()"
   ]
  },
  {
   "cell_type": "code",
   "execution_count": 28,
   "metadata": {},
   "outputs": [
    {
     "data": {
      "text/plain": [
       "0.0896352688656114"
      ]
     },
     "execution_count": 28,
     "metadata": {},
     "output_type": "execute_result"
    }
   ],
   "source": [
    "# Check the percentage of rows where 'sale_bottles' is negative\n",
    "len(df[df['sale_bottles']<0])/len(df) * 100"
   ]
  },
  {
   "cell_type": "markdown",
   "metadata": {},
   "source": [
    "**Note**: While negative sales data typically indicate refunds or returns, our analysis will omit these records to maintain data integrity. \n",
    "\n",
    "This decision is based on the focus of our study, which requires consistent and positive sales figures to accurately assess trends and patterns.\n"
   ]
  },
  {
   "cell_type": "code",
   "execution_count": 29,
   "metadata": {},
   "outputs": [
    {
     "data": {
      "text/html": [
       "<div>\n",
       "<style scoped>\n",
       "    .dataframe tbody tr th:only-of-type {\n",
       "        vertical-align: middle;\n",
       "    }\n",
       "\n",
       "    .dataframe tbody tr th {\n",
       "        vertical-align: top;\n",
       "    }\n",
       "\n",
       "    .dataframe thead th {\n",
       "        text-align: right;\n",
       "    }\n",
       "</style>\n",
       "<table border=\"1\" class=\"dataframe\">\n",
       "  <thead>\n",
       "    <tr style=\"text-align: right;\">\n",
       "      <th></th>\n",
       "      <th>bottle_volume_ml</th>\n",
       "      <th>state_bottle_cost</th>\n",
       "      <th>state_bottle_retail</th>\n",
       "      <th>sale_bottles</th>\n",
       "    </tr>\n",
       "  </thead>\n",
       "  <tbody>\n",
       "    <tr>\n",
       "      <th>count</th>\n",
       "      <td>745689.000000</td>\n",
       "      <td>745689.000000</td>\n",
       "      <td>745689.000000</td>\n",
       "      <td>745689.000000</td>\n",
       "    </tr>\n",
       "    <tr>\n",
       "      <th>mean</th>\n",
       "      <td>869.726655</td>\n",
       "      <td>13.115803</td>\n",
       "      <td>19.673125</td>\n",
       "      <td>11.913347</td>\n",
       "    </tr>\n",
       "    <tr>\n",
       "      <th>std</th>\n",
       "      <td>513.007834</td>\n",
       "      <td>25.968483</td>\n",
       "      <td>38.951329</td>\n",
       "      <td>43.927132</td>\n",
       "    </tr>\n",
       "    <tr>\n",
       "      <th>min</th>\n",
       "      <td>20.000000</td>\n",
       "      <td>0.890000</td>\n",
       "      <td>1.340000</td>\n",
       "      <td>1.000000</td>\n",
       "    </tr>\n",
       "    <tr>\n",
       "      <th>25%</th>\n",
       "      <td>750.000000</td>\n",
       "      <td>7.000000</td>\n",
       "      <td>10.500000</td>\n",
       "      <td>3.000000</td>\n",
       "    </tr>\n",
       "    <tr>\n",
       "      <th>50%</th>\n",
       "      <td>750.000000</td>\n",
       "      <td>10.000000</td>\n",
       "      <td>15.000000</td>\n",
       "      <td>6.000000</td>\n",
       "    </tr>\n",
       "    <tr>\n",
       "      <th>75%</th>\n",
       "      <td>1000.000000</td>\n",
       "      <td>15.910000</td>\n",
       "      <td>23.870000</td>\n",
       "      <td>12.000000</td>\n",
       "    </tr>\n",
       "    <tr>\n",
       "      <th>max</th>\n",
       "      <td>5250.000000</td>\n",
       "      <td>18436.000000</td>\n",
       "      <td>27654.000000</td>\n",
       "      <td>11880.000000</td>\n",
       "    </tr>\n",
       "  </tbody>\n",
       "</table>\n",
       "</div>"
      ],
      "text/plain": [
       "       bottle_volume_ml  state_bottle_cost  state_bottle_retail   sale_bottles\n",
       "count     745689.000000      745689.000000        745689.000000  745689.000000\n",
       "mean         869.726655          13.115803            19.673125      11.913347\n",
       "std          513.007834          25.968483            38.951329      43.927132\n",
       "min           20.000000           0.890000             1.340000       1.000000\n",
       "25%          750.000000           7.000000            10.500000       3.000000\n",
       "50%          750.000000          10.000000            15.000000       6.000000\n",
       "75%         1000.000000          15.910000            23.870000      12.000000\n",
       "max         5250.000000       18436.000000         27654.000000   11880.000000"
      ]
     },
     "execution_count": 29,
     "metadata": {},
     "output_type": "execute_result"
    }
   ],
   "source": [
    "df=df[df['sale_bottles']>=0]\n",
    "df.describe()"
   ]
  }
 ],
 "metadata": {
  "kernelspec": {
   "display_name": "Python 3",
   "language": "python",
   "name": "python3"
  },
  "language_info": {
   "codemirror_mode": {
    "name": "ipython",
    "version": 3
   },
   "file_extension": ".py",
   "mimetype": "text/x-python",
   "name": "python",
   "nbconvert_exporter": "python",
   "pygments_lexer": "ipython3",
   "version": "3.11.8"
  }
 },
 "nbformat": 4,
 "nbformat_minor": 2
}
