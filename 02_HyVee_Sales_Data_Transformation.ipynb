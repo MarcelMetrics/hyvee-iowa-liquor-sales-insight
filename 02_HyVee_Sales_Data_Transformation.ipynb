{
 "cells": [
  {
   "cell_type": "markdown",
   "metadata": {},
   "source": [
    "# Data Transformation"
   ]
  },
  {
   "cell_type": "markdown",
   "metadata": {},
   "source": [
    "## 1. Loading Data"
   ]
  },
  {
   "cell_type": "code",
   "execution_count": 1,
   "metadata": {},
   "outputs": [],
   "source": [
    "import pandas as pd\n",
    "import os"
   ]
  },
  {
   "cell_type": "code",
   "execution_count": 2,
   "metadata": {},
   "outputs": [],
   "source": [
    "directory = 'data/'\n",
    "file_pattern = 'hyvee_'\n",
    "dataframes = []\n",
    "\n",
    "# Loop through each file in the directory\n",
    "for file in os.listdir(directory):\n",
    "    if file.startswith(file_pattern) and file.endswith('.csv'):\n",
    "        file_path = os.path.join(directory, file)\n",
    "        df = pd.read_csv(file_path)\n",
    "        dataframes.append(df)"
   ]
  },
  {
   "cell_type": "code",
   "execution_count": 3,
   "metadata": {},
   "outputs": [],
   "source": [
    "\n",
    "# Combine all DataFrames into a single DataFrame\n",
    "df = pd.concat(dataframes, ignore_index=True)"
   ]
  },
  {
   "cell_type": "code",
   "execution_count": 4,
   "metadata": {},
   "outputs": [
    {
     "data": {
      "text/html": [
       "<div>\n",
       "<style scoped>\n",
       "    .dataframe tbody tr th:only-of-type {\n",
       "        vertical-align: middle;\n",
       "    }\n",
       "\n",
       "    .dataframe tbody tr th {\n",
       "        vertical-align: top;\n",
       "    }\n",
       "\n",
       "    .dataframe thead th {\n",
       "        text-align: right;\n",
       "    }\n",
       "</style>\n",
       "<table border=\"1\" class=\"dataframe\">\n",
       "  <thead>\n",
       "    <tr style=\"text-align: right;\">\n",
       "      <th></th>\n",
       "      <th>invoice_line_no</th>\n",
       "      <th>date</th>\n",
       "      <th>store</th>\n",
       "      <th>name</th>\n",
       "      <th>city</th>\n",
       "      <th>zipcode</th>\n",
       "      <th>county</th>\n",
       "      <th>category</th>\n",
       "      <th>category_name</th>\n",
       "      <th>vendor_no</th>\n",
       "      <th>vendor_name</th>\n",
       "      <th>itemno</th>\n",
       "      <th>im_desc</th>\n",
       "      <th>state_bottle_cost</th>\n",
       "      <th>state_bottle_retail</th>\n",
       "      <th>sale_bottles</th>\n",
       "      <th>sale_dollars</th>\n",
       "    </tr>\n",
       "  </thead>\n",
       "  <tbody>\n",
       "    <tr>\n",
       "      <th>0</th>\n",
       "      <td>INV-16685400042</td>\n",
       "      <td>2019-01-02T00:00:00.000</td>\n",
       "      <td>2524</td>\n",
       "      <td>HY-VEE FOOD STORE / DUBUQUE</td>\n",
       "      <td>DUBUQUE</td>\n",
       "      <td>52001.0</td>\n",
       "      <td>DUBUQUE</td>\n",
       "      <td>1031100.0</td>\n",
       "      <td>AMERICAN VODKAS</td>\n",
       "      <td>301.0</td>\n",
       "      <td>FIFTH GENERATION INC</td>\n",
       "      <td>38177</td>\n",
       "      <td>TITOS HANDMADE VODKA</td>\n",
       "      <td>12.67</td>\n",
       "      <td>19.01</td>\n",
       "      <td>36</td>\n",
       "      <td>684.36</td>\n",
       "    </tr>\n",
       "    <tr>\n",
       "      <th>1</th>\n",
       "      <td>INV-16685400057</td>\n",
       "      <td>2019-01-02T00:00:00.000</td>\n",
       "      <td>2524</td>\n",
       "      <td>HY-VEE FOOD STORE / DUBUQUE</td>\n",
       "      <td>DUBUQUE</td>\n",
       "      <td>52001.0</td>\n",
       "      <td>DUBUQUE</td>\n",
       "      <td>1062200.0</td>\n",
       "      <td>WHITE RUM</td>\n",
       "      <td>434.0</td>\n",
       "      <td>LUXCO INC</td>\n",
       "      <td>46351</td>\n",
       "      <td>HAWKEYE LIGHT RUM</td>\n",
       "      <td>4.34</td>\n",
       "      <td>6.51</td>\n",
       "      <td>12</td>\n",
       "      <td>78.12</td>\n",
       "    </tr>\n",
       "    <tr>\n",
       "      <th>2</th>\n",
       "      <td>INV-16679100094</td>\n",
       "      <td>2019-01-02T00:00:00.000</td>\n",
       "      <td>2549</td>\n",
       "      <td>HY-VEE FOOD STORE / INDIANOLA</td>\n",
       "      <td>INDIANOLA</td>\n",
       "      <td>50125.0</td>\n",
       "      <td>WARREN</td>\n",
       "      <td>1081200.0</td>\n",
       "      <td>CREAM LIQUEURS</td>\n",
       "      <td>305.0</td>\n",
       "      <td>MHW LTD</td>\n",
       "      <td>73052</td>\n",
       "      <td>RUMCHATA</td>\n",
       "      <td>7.00</td>\n",
       "      <td>10.50</td>\n",
       "      <td>2</td>\n",
       "      <td>21.00</td>\n",
       "    </tr>\n",
       "    <tr>\n",
       "      <th>3</th>\n",
       "      <td>INV-16685400104</td>\n",
       "      <td>2019-01-02T00:00:00.000</td>\n",
       "      <td>2524</td>\n",
       "      <td>HY-VEE FOOD STORE / DUBUQUE</td>\n",
       "      <td>DUBUQUE</td>\n",
       "      <td>52001.0</td>\n",
       "      <td>DUBUQUE</td>\n",
       "      <td>1022100.0</td>\n",
       "      <td>MIXTO TEQUILA</td>\n",
       "      <td>434.0</td>\n",
       "      <td>LUXCO INC</td>\n",
       "      <td>87937</td>\n",
       "      <td>JUAREZ TEQUILA SILVER</td>\n",
       "      <td>7.83</td>\n",
       "      <td>11.75</td>\n",
       "      <td>12</td>\n",
       "      <td>141.00</td>\n",
       "    </tr>\n",
       "    <tr>\n",
       "      <th>4</th>\n",
       "      <td>INV-16682800080</td>\n",
       "      <td>2019-01-02T00:00:00.000</td>\n",
       "      <td>2513</td>\n",
       "      <td>HY-VEE FOOD STORE #2 / IOWA CITY</td>\n",
       "      <td>IOWA CITY</td>\n",
       "      <td>52240.0</td>\n",
       "      <td>JOHNSON</td>\n",
       "      <td>1031100.0</td>\n",
       "      <td>AMERICAN VODKAS</td>\n",
       "      <td>297.0</td>\n",
       "      <td>LAIRD &amp; COMPANY</td>\n",
       "      <td>35926</td>\n",
       "      <td>FIVE O'CLOCK VODKA PET</td>\n",
       "      <td>3.37</td>\n",
       "      <td>5.06</td>\n",
       "      <td>12</td>\n",
       "      <td>60.72</td>\n",
       "    </tr>\n",
       "  </tbody>\n",
       "</table>\n",
       "</div>"
      ],
      "text/plain": [
       "   invoice_line_no                     date  store  \\\n",
       "0  INV-16685400042  2019-01-02T00:00:00.000   2524   \n",
       "1  INV-16685400057  2019-01-02T00:00:00.000   2524   \n",
       "2  INV-16679100094  2019-01-02T00:00:00.000   2549   \n",
       "3  INV-16685400104  2019-01-02T00:00:00.000   2524   \n",
       "4  INV-16682800080  2019-01-02T00:00:00.000   2513   \n",
       "\n",
       "                               name       city  zipcode   county   category  \\\n",
       "0       HY-VEE FOOD STORE / DUBUQUE    DUBUQUE  52001.0  DUBUQUE  1031100.0   \n",
       "1       HY-VEE FOOD STORE / DUBUQUE    DUBUQUE  52001.0  DUBUQUE  1062200.0   \n",
       "2     HY-VEE FOOD STORE / INDIANOLA  INDIANOLA  50125.0   WARREN  1081200.0   \n",
       "3       HY-VEE FOOD STORE / DUBUQUE    DUBUQUE  52001.0  DUBUQUE  1022100.0   \n",
       "4  HY-VEE FOOD STORE #2 / IOWA CITY  IOWA CITY  52240.0  JOHNSON  1031100.0   \n",
       "\n",
       "     category_name  vendor_no           vendor_name  itemno  \\\n",
       "0  AMERICAN VODKAS      301.0  FIFTH GENERATION INC   38177   \n",
       "1        WHITE RUM      434.0             LUXCO INC   46351   \n",
       "2   CREAM LIQUEURS      305.0               MHW LTD   73052   \n",
       "3    MIXTO TEQUILA      434.0             LUXCO INC   87937   \n",
       "4  AMERICAN VODKAS      297.0       LAIRD & COMPANY   35926   \n",
       "\n",
       "                  im_desc  state_bottle_cost  state_bottle_retail  \\\n",
       "0    TITOS HANDMADE VODKA              12.67                19.01   \n",
       "1       HAWKEYE LIGHT RUM               4.34                 6.51   \n",
       "2                RUMCHATA               7.00                10.50   \n",
       "3   JUAREZ TEQUILA SILVER               7.83                11.75   \n",
       "4  FIVE O'CLOCK VODKA PET               3.37                 5.06   \n",
       "\n",
       "   sale_bottles  sale_dollars  \n",
       "0            36        684.36  \n",
       "1            12         78.12  \n",
       "2             2         21.00  \n",
       "3            12        141.00  \n",
       "4            12         60.72  "
      ]
     },
     "execution_count": 4,
     "metadata": {},
     "output_type": "execute_result"
    }
   ],
   "source": [
    "df.head()"
   ]
  },
  {
   "cell_type": "code",
   "execution_count": 5,
   "metadata": {},
   "outputs": [
    {
     "name": "stdout",
     "output_type": "stream",
     "text": [
      "<class 'pandas.core.frame.DataFrame'>\n",
      "RangeIndex: 3727001 entries, 0 to 3727000\n",
      "Data columns (total 17 columns):\n",
      " #   Column               Dtype  \n",
      "---  ------               -----  \n",
      " 0   invoice_line_no      object \n",
      " 1   date                 object \n",
      " 2   store                int64  \n",
      " 3   name                 object \n",
      " 4   city                 object \n",
      " 5   zipcode              float64\n",
      " 6   county               object \n",
      " 7   category             float64\n",
      " 8   category_name        object \n",
      " 9   vendor_no            float64\n",
      " 10  vendor_name          object \n",
      " 11  itemno               int64  \n",
      " 12  im_desc              object \n",
      " 13  state_bottle_cost    float64\n",
      " 14  state_bottle_retail  float64\n",
      " 15  sale_bottles         int64  \n",
      " 16  sale_dollars         float64\n",
      "dtypes: float64(6), int64(3), object(8)\n",
      "memory usage: 483.4+ MB\n"
     ]
    }
   ],
   "source": [
    "df.info()"
   ]
  },
  {
   "cell_type": "markdown",
   "metadata": {},
   "source": [
    "# 2. Cleaning Data"
   ]
  },
  {
   "cell_type": "markdown",
   "metadata": {},
   "source": [
    "### 2.1. Revoving Duplicate Rows"
   ]
  },
  {
   "cell_type": "code",
   "execution_count": 6,
   "metadata": {},
   "outputs": [
    {
     "name": "stdout",
     "output_type": "stream",
     "text": [
      "Number of duplicate rows: 5099; Percentage of duplicate rows: 0.14%\n"
     ]
    }
   ],
   "source": [
    "num_dup = df.duplicated().sum()\n",
    "perc_dup = num_dup / df.shape[0] * 100 \n",
    "print(f'Number of duplicate rows: {num_dup}; Percentage of duplicate rows: {perc_dup:.2f}%')"
   ]
  },
  {
   "cell_type": "code",
   "execution_count": 7,
   "metadata": {},
   "outputs": [
    {
     "name": "stdout",
     "output_type": "stream",
     "text": [
      "Number of duplicate rows: 0; Percentage of duplicate rows: 0.00%\n"
     ]
    }
   ],
   "source": [
    "# Despite the potential for duplicates arising from reasons other than data entry errors, \n",
    "# I'm opting to remove them as they constitute a minimal proportion of the dataset (only 0.14%). \n",
    "# This decision is based on the assumption that the impact on data integrity will be negligible while simplifying further analysis.\n",
    "\n",
    "df = df.drop_duplicates()\n",
    "num_dup = df.duplicated().sum()\n",
    "perc_dup = num_dup / df.shape[0] * 100 \n",
    "print(f'Number of duplicate rows: {num_dup}; Percentage of duplicate rows: {perc_dup:.2f}%')"
   ]
  },
  {
   "cell_type": "markdown",
   "metadata": {},
   "source": [
    "### 2.2. Handelling Missing Values"
   ]
  },
  {
   "cell_type": "code",
   "execution_count": 8,
   "metadata": {},
   "outputs": [
    {
     "data": {
      "text/html": [
       "<div>\n",
       "<style scoped>\n",
       "    .dataframe tbody tr th:only-of-type {\n",
       "        vertical-align: middle;\n",
       "    }\n",
       "\n",
       "    .dataframe tbody tr th {\n",
       "        vertical-align: top;\n",
       "    }\n",
       "\n",
       "    .dataframe thead th {\n",
       "        text-align: right;\n",
       "    }\n",
       "</style>\n",
       "<table border=\"1\" class=\"dataframe\">\n",
       "  <thead>\n",
       "    <tr style=\"text-align: right;\">\n",
       "      <th></th>\n",
       "      <th>Missing Values</th>\n",
       "      <th>% of Total Values</th>\n",
       "    </tr>\n",
       "  </thead>\n",
       "  <tbody>\n",
       "    <tr>\n",
       "      <th>city</th>\n",
       "      <td>2105</td>\n",
       "      <td>0.056557</td>\n",
       "    </tr>\n",
       "    <tr>\n",
       "      <th>zipcode</th>\n",
       "      <td>2105</td>\n",
       "      <td>0.056557</td>\n",
       "    </tr>\n",
       "    <tr>\n",
       "      <th>county</th>\n",
       "      <td>2105</td>\n",
       "      <td>0.056557</td>\n",
       "    </tr>\n",
       "    <tr>\n",
       "      <th>category</th>\n",
       "      <td>1317</td>\n",
       "      <td>0.035385</td>\n",
       "    </tr>\n",
       "    <tr>\n",
       "      <th>category_name</th>\n",
       "      <td>1317</td>\n",
       "      <td>0.035385</td>\n",
       "    </tr>\n",
       "    <tr>\n",
       "      <th>vendor_no</th>\n",
       "      <td>1</td>\n",
       "      <td>0.000027</td>\n",
       "    </tr>\n",
       "    <tr>\n",
       "      <th>vendor_name</th>\n",
       "      <td>1</td>\n",
       "      <td>0.000027</td>\n",
       "    </tr>\n",
       "  </tbody>\n",
       "</table>\n",
       "</div>"
      ],
      "text/plain": [
       "               Missing Values  % of Total Values\n",
       "city                     2105           0.056557\n",
       "zipcode                  2105           0.056557\n",
       "county                   2105           0.056557\n",
       "category                 1317           0.035385\n",
       "category_name            1317           0.035385\n",
       "vendor_no                   1           0.000027\n",
       "vendor_name                 1           0.000027"
      ]
     },
     "execution_count": 8,
     "metadata": {},
     "output_type": "execute_result"
    }
   ],
   "source": [
    "def missing_values_table(df):\n",
    "    if not isinstance(df, pd.DataFrame):\n",
    "        raise ValueError(\"Input is not a pandas DataFrame\")\n",
    "\n",
    "    num_na = df.isnull().sum()\n",
    "    perc_na = (num_na / len(df)) * 100\n",
    "\n",
    "    df_na = pd.DataFrame({\n",
    "        'Missing Values': num_na,\n",
    "        '% of Total Values': perc_na\n",
    "    })\n",
    "\n",
    "    df_na = df_na[df_na['Missing Values'] != 0]\n",
    "\n",
    "    return df_na\n",
    "\n",
    "missing_values_table(df)"
   ]
  },
  {
   "cell_type": "markdown",
   "metadata": {},
   "source": [
    "All of the missing data pertains to contextual information. \n",
    "Despite its relatively small proportion, these rows include crucial sales data, pivotal for our analysis. \n",
    "Therefore, we will retain these rows by substituting missing values with placeholders, ensuring that valuable sales insights are preserved."
   ]
  },
  {
   "cell_type": "code",
   "execution_count": 9,
   "metadata": {},
   "outputs": [
    {
     "data": {
      "text/html": [
       "<div>\n",
       "<style scoped>\n",
       "    .dataframe tbody tr th:only-of-type {\n",
       "        vertical-align: middle;\n",
       "    }\n",
       "\n",
       "    .dataframe tbody tr th {\n",
       "        vertical-align: top;\n",
       "    }\n",
       "\n",
       "    .dataframe thead th {\n",
       "        text-align: right;\n",
       "    }\n",
       "</style>\n",
       "<table border=\"1\" class=\"dataframe\">\n",
       "  <thead>\n",
       "    <tr style=\"text-align: right;\">\n",
       "      <th></th>\n",
       "      <th>Missing Values</th>\n",
       "      <th>% of Total Values</th>\n",
       "    </tr>\n",
       "  </thead>\n",
       "  <tbody>\n",
       "  </tbody>\n",
       "</table>\n",
       "</div>"
      ],
      "text/plain": [
       "Empty DataFrame\n",
       "Columns: [Missing Values, % of Total Values]\n",
       "Index: []"
      ]
     },
     "execution_count": 9,
     "metadata": {},
     "output_type": "execute_result"
    }
   ],
   "source": [
    "placeholders = {\n",
    "    'city'          : 'UNKNOWN',  \n",
    "    'county'        : 'UNKNOWN',  \n",
    "    'category_name' : 'UNKNOWN',\n",
    "    'vendor_name'   : 'UNKNOWN',\n",
    "    'zipcode'       : 99999,\n",
    "    'category'      : 9999999,\n",
    "    'vendor_no'     : 999\n",
    "}\n",
    "\n",
    "df = df.fillna(value=placeholders)\n",
    "missing_values_table(df)"
   ]
  },
  {
   "cell_type": "markdown",
   "metadata": {},
   "source": [
    "### 2.3. Converting Data Type"
   ]
  },
  {
   "cell_type": "code",
   "execution_count": 10,
   "metadata": {},
   "outputs": [
    {
     "name": "stdout",
     "output_type": "stream",
     "text": [
      "<class 'pandas.core.frame.DataFrame'>\n",
      "Index: 3721902 entries, 0 to 3727000\n",
      "Data columns (total 17 columns):\n",
      " #   Column               Dtype  \n",
      "---  ------               -----  \n",
      " 0   invoice_line_no      object \n",
      " 1   date                 object \n",
      " 2   store                int64  \n",
      " 3   name                 object \n",
      " 4   city                 object \n",
      " 5   zipcode              float64\n",
      " 6   county               object \n",
      " 7   category             float64\n",
      " 8   category_name        object \n",
      " 9   vendor_no            float64\n",
      " 10  vendor_name          object \n",
      " 11  itemno               int64  \n",
      " 12  im_desc              object \n",
      " 13  state_bottle_cost    float64\n",
      " 14  state_bottle_retail  float64\n",
      " 15  sale_bottles         int64  \n",
      " 16  sale_dollars         float64\n",
      "dtypes: float64(6), int64(3), object(8)\n",
      "memory usage: 511.1+ MB\n"
     ]
    }
   ],
   "source": [
    "df.info()"
   ]
  },
  {
   "cell_type": "markdown",
   "metadata": {},
   "source": [
    "#### 2.3.1. Datetime Columns"
   ]
  },
  {
   "cell_type": "code",
   "execution_count": 11,
   "metadata": {},
   "outputs": [
    {
     "data": {
      "text/html": [
       "<div>\n",
       "<style scoped>\n",
       "    .dataframe tbody tr th:only-of-type {\n",
       "        vertical-align: middle;\n",
       "    }\n",
       "\n",
       "    .dataframe tbody tr th {\n",
       "        vertical-align: top;\n",
       "    }\n",
       "\n",
       "    .dataframe thead th {\n",
       "        text-align: right;\n",
       "    }\n",
       "</style>\n",
       "<table border=\"1\" class=\"dataframe\">\n",
       "  <thead>\n",
       "    <tr style=\"text-align: right;\">\n",
       "      <th></th>\n",
       "      <th>invoice_line_no</th>\n",
       "      <th>date</th>\n",
       "      <th>store</th>\n",
       "      <th>name</th>\n",
       "      <th>city</th>\n",
       "      <th>zipcode</th>\n",
       "      <th>county</th>\n",
       "      <th>category</th>\n",
       "      <th>category_name</th>\n",
       "      <th>vendor_no</th>\n",
       "      <th>vendor_name</th>\n",
       "      <th>itemno</th>\n",
       "      <th>im_desc</th>\n",
       "      <th>state_bottle_cost</th>\n",
       "      <th>state_bottle_retail</th>\n",
       "      <th>sale_bottles</th>\n",
       "      <th>sale_dollars</th>\n",
       "    </tr>\n",
       "  </thead>\n",
       "  <tbody>\n",
       "    <tr>\n",
       "      <th>0</th>\n",
       "      <td>INV-16685400042</td>\n",
       "      <td>2019-01-02</td>\n",
       "      <td>2524</td>\n",
       "      <td>HY-VEE FOOD STORE / DUBUQUE</td>\n",
       "      <td>DUBUQUE</td>\n",
       "      <td>52001.0</td>\n",
       "      <td>DUBUQUE</td>\n",
       "      <td>1031100.0</td>\n",
       "      <td>AMERICAN VODKAS</td>\n",
       "      <td>301.0</td>\n",
       "      <td>FIFTH GENERATION INC</td>\n",
       "      <td>38177</td>\n",
       "      <td>TITOS HANDMADE VODKA</td>\n",
       "      <td>12.67</td>\n",
       "      <td>19.01</td>\n",
       "      <td>36</td>\n",
       "      <td>684.36</td>\n",
       "    </tr>\n",
       "    <tr>\n",
       "      <th>1</th>\n",
       "      <td>INV-16685400057</td>\n",
       "      <td>2019-01-02</td>\n",
       "      <td>2524</td>\n",
       "      <td>HY-VEE FOOD STORE / DUBUQUE</td>\n",
       "      <td>DUBUQUE</td>\n",
       "      <td>52001.0</td>\n",
       "      <td>DUBUQUE</td>\n",
       "      <td>1062200.0</td>\n",
       "      <td>WHITE RUM</td>\n",
       "      <td>434.0</td>\n",
       "      <td>LUXCO INC</td>\n",
       "      <td>46351</td>\n",
       "      <td>HAWKEYE LIGHT RUM</td>\n",
       "      <td>4.34</td>\n",
       "      <td>6.51</td>\n",
       "      <td>12</td>\n",
       "      <td>78.12</td>\n",
       "    </tr>\n",
       "    <tr>\n",
       "      <th>2</th>\n",
       "      <td>INV-16679100094</td>\n",
       "      <td>2019-01-02</td>\n",
       "      <td>2549</td>\n",
       "      <td>HY-VEE FOOD STORE / INDIANOLA</td>\n",
       "      <td>INDIANOLA</td>\n",
       "      <td>50125.0</td>\n",
       "      <td>WARREN</td>\n",
       "      <td>1081200.0</td>\n",
       "      <td>CREAM LIQUEURS</td>\n",
       "      <td>305.0</td>\n",
       "      <td>MHW LTD</td>\n",
       "      <td>73052</td>\n",
       "      <td>RUMCHATA</td>\n",
       "      <td>7.00</td>\n",
       "      <td>10.50</td>\n",
       "      <td>2</td>\n",
       "      <td>21.00</td>\n",
       "    </tr>\n",
       "    <tr>\n",
       "      <th>3</th>\n",
       "      <td>INV-16685400104</td>\n",
       "      <td>2019-01-02</td>\n",
       "      <td>2524</td>\n",
       "      <td>HY-VEE FOOD STORE / DUBUQUE</td>\n",
       "      <td>DUBUQUE</td>\n",
       "      <td>52001.0</td>\n",
       "      <td>DUBUQUE</td>\n",
       "      <td>1022100.0</td>\n",
       "      <td>MIXTO TEQUILA</td>\n",
       "      <td>434.0</td>\n",
       "      <td>LUXCO INC</td>\n",
       "      <td>87937</td>\n",
       "      <td>JUAREZ TEQUILA SILVER</td>\n",
       "      <td>7.83</td>\n",
       "      <td>11.75</td>\n",
       "      <td>12</td>\n",
       "      <td>141.00</td>\n",
       "    </tr>\n",
       "    <tr>\n",
       "      <th>4</th>\n",
       "      <td>INV-16682800080</td>\n",
       "      <td>2019-01-02</td>\n",
       "      <td>2513</td>\n",
       "      <td>HY-VEE FOOD STORE #2 / IOWA CITY</td>\n",
       "      <td>IOWA CITY</td>\n",
       "      <td>52240.0</td>\n",
       "      <td>JOHNSON</td>\n",
       "      <td>1031100.0</td>\n",
       "      <td>AMERICAN VODKAS</td>\n",
       "      <td>297.0</td>\n",
       "      <td>LAIRD &amp; COMPANY</td>\n",
       "      <td>35926</td>\n",
       "      <td>FIVE O'CLOCK VODKA PET</td>\n",
       "      <td>3.37</td>\n",
       "      <td>5.06</td>\n",
       "      <td>12</td>\n",
       "      <td>60.72</td>\n",
       "    </tr>\n",
       "  </tbody>\n",
       "</table>\n",
       "</div>"
      ],
      "text/plain": [
       "   invoice_line_no       date  store                              name  \\\n",
       "0  INV-16685400042 2019-01-02   2524       HY-VEE FOOD STORE / DUBUQUE   \n",
       "1  INV-16685400057 2019-01-02   2524       HY-VEE FOOD STORE / DUBUQUE   \n",
       "2  INV-16679100094 2019-01-02   2549     HY-VEE FOOD STORE / INDIANOLA   \n",
       "3  INV-16685400104 2019-01-02   2524       HY-VEE FOOD STORE / DUBUQUE   \n",
       "4  INV-16682800080 2019-01-02   2513  HY-VEE FOOD STORE #2 / IOWA CITY   \n",
       "\n",
       "        city  zipcode   county   category    category_name  vendor_no  \\\n",
       "0    DUBUQUE  52001.0  DUBUQUE  1031100.0  AMERICAN VODKAS      301.0   \n",
       "1    DUBUQUE  52001.0  DUBUQUE  1062200.0        WHITE RUM      434.0   \n",
       "2  INDIANOLA  50125.0   WARREN  1081200.0   CREAM LIQUEURS      305.0   \n",
       "3    DUBUQUE  52001.0  DUBUQUE  1022100.0    MIXTO TEQUILA      434.0   \n",
       "4  IOWA CITY  52240.0  JOHNSON  1031100.0  AMERICAN VODKAS      297.0   \n",
       "\n",
       "            vendor_name  itemno                 im_desc  state_bottle_cost  \\\n",
       "0  FIFTH GENERATION INC   38177    TITOS HANDMADE VODKA              12.67   \n",
       "1             LUXCO INC   46351       HAWKEYE LIGHT RUM               4.34   \n",
       "2               MHW LTD   73052                RUMCHATA               7.00   \n",
       "3             LUXCO INC   87937   JUAREZ TEQUILA SILVER               7.83   \n",
       "4       LAIRD & COMPANY   35926  FIVE O'CLOCK VODKA PET               3.37   \n",
       "\n",
       "   state_bottle_retail  sale_bottles  sale_dollars  \n",
       "0                19.01            36        684.36  \n",
       "1                 6.51            12         78.12  \n",
       "2                10.50             2         21.00  \n",
       "3                11.75            12        141.00  \n",
       "4                 5.06            12         60.72  "
      ]
     },
     "execution_count": 11,
     "metadata": {},
     "output_type": "execute_result"
    }
   ],
   "source": [
    "df['date'] = pd.to_datetime(df['date'])\n",
    "df.head()"
   ]
  },
  {
   "cell_type": "markdown",
   "metadata": {},
   "source": [
    "#### 2.3.2. Integer Columns"
   ]
  },
  {
   "cell_type": "markdown",
   "metadata": {},
   "source": [
    "##### 2.3.2.1. Invoice Line Number"
   ]
  },
  {
   "cell_type": "markdown",
   "metadata": {},
   "source": [
    "A tentative step to expolore if Invoice Line Number column can be converted to an integer column."
   ]
  },
  {
   "cell_type": "code",
   "execution_count": 12,
   "metadata": {},
   "outputs": [
    {
     "name": "stdout",
     "output_type": "stream",
     "text": [
      "Not all rows start with 'INV-'\n"
     ]
    }
   ],
   "source": [
    "# Check if all invoice line has the same prefix \"INV-\"\"\n",
    "starts_with_INV = df['invoice_line_no'].str.startswith('INV-').all()\n",
    "\n",
    "if starts_with_INV:\n",
    "    print(\"All rows start with 'INV-'\")\n",
    "else:\n",
    "    print(\"Not all rows start with 'INV-'\")"
   ]
  },
  {
   "cell_type": "code",
   "execution_count": 13,
   "metadata": {},
   "outputs": [
    {
     "data": {
      "text/plain": [
       "array(['INV-', 'RINV'], dtype=object)"
      ]
     },
     "execution_count": 13,
     "metadata": {},
     "output_type": "execute_result"
    }
   ],
   "source": [
    "# The answer is no. There is another prefix \"RINV-\"\n",
    "df['invoice_line_no'].str[:4].unique()"
   ]
  },
  {
   "cell_type": "code",
   "execution_count": 14,
   "metadata": {},
   "outputs": [
    {
     "data": {
      "text/plain": [
       "0"
      ]
     },
     "execution_count": 14,
     "metadata": {},
     "output_type": "execute_result"
    }
   ],
   "source": [
    "# Check if the numbers are unique\n",
    "df['invoice_line_no'].str.extract('(\\d+)').duplicated().sum()"
   ]
  },
  {
   "cell_type": "code",
   "execution_count": 15,
   "metadata": {},
   "outputs": [
    {
     "data": {
      "text/html": [
       "<div>\n",
       "<style scoped>\n",
       "    .dataframe tbody tr th:only-of-type {\n",
       "        vertical-align: middle;\n",
       "    }\n",
       "\n",
       "    .dataframe tbody tr th {\n",
       "        vertical-align: top;\n",
       "    }\n",
       "\n",
       "    .dataframe thead th {\n",
       "        text-align: right;\n",
       "    }\n",
       "</style>\n",
       "<table border=\"1\" class=\"dataframe\">\n",
       "  <thead>\n",
       "    <tr style=\"text-align: right;\">\n",
       "      <th></th>\n",
       "      <th>invoice_line_no</th>\n",
       "      <th>date</th>\n",
       "      <th>store</th>\n",
       "      <th>name</th>\n",
       "      <th>city</th>\n",
       "      <th>zipcode</th>\n",
       "      <th>county</th>\n",
       "      <th>category</th>\n",
       "      <th>category_name</th>\n",
       "      <th>vendor_no</th>\n",
       "      <th>vendor_name</th>\n",
       "      <th>itemno</th>\n",
       "      <th>im_desc</th>\n",
       "      <th>state_bottle_cost</th>\n",
       "      <th>state_bottle_retail</th>\n",
       "      <th>sale_bottles</th>\n",
       "      <th>sale_dollars</th>\n",
       "    </tr>\n",
       "  </thead>\n",
       "  <tbody>\n",
       "    <tr>\n",
       "      <th>0</th>\n",
       "      <td>116685400042</td>\n",
       "      <td>2019-01-02</td>\n",
       "      <td>2524</td>\n",
       "      <td>HY-VEE FOOD STORE / DUBUQUE</td>\n",
       "      <td>DUBUQUE</td>\n",
       "      <td>52001.0</td>\n",
       "      <td>DUBUQUE</td>\n",
       "      <td>1031100.0</td>\n",
       "      <td>AMERICAN VODKAS</td>\n",
       "      <td>301.0</td>\n",
       "      <td>FIFTH GENERATION INC</td>\n",
       "      <td>38177</td>\n",
       "      <td>TITOS HANDMADE VODKA</td>\n",
       "      <td>12.67</td>\n",
       "      <td>19.01</td>\n",
       "      <td>36</td>\n",
       "      <td>684.36</td>\n",
       "    </tr>\n",
       "    <tr>\n",
       "      <th>1</th>\n",
       "      <td>116685400057</td>\n",
       "      <td>2019-01-02</td>\n",
       "      <td>2524</td>\n",
       "      <td>HY-VEE FOOD STORE / DUBUQUE</td>\n",
       "      <td>DUBUQUE</td>\n",
       "      <td>52001.0</td>\n",
       "      <td>DUBUQUE</td>\n",
       "      <td>1062200.0</td>\n",
       "      <td>WHITE RUM</td>\n",
       "      <td>434.0</td>\n",
       "      <td>LUXCO INC</td>\n",
       "      <td>46351</td>\n",
       "      <td>HAWKEYE LIGHT RUM</td>\n",
       "      <td>4.34</td>\n",
       "      <td>6.51</td>\n",
       "      <td>12</td>\n",
       "      <td>78.12</td>\n",
       "    </tr>\n",
       "    <tr>\n",
       "      <th>2</th>\n",
       "      <td>116679100094</td>\n",
       "      <td>2019-01-02</td>\n",
       "      <td>2549</td>\n",
       "      <td>HY-VEE FOOD STORE / INDIANOLA</td>\n",
       "      <td>INDIANOLA</td>\n",
       "      <td>50125.0</td>\n",
       "      <td>WARREN</td>\n",
       "      <td>1081200.0</td>\n",
       "      <td>CREAM LIQUEURS</td>\n",
       "      <td>305.0</td>\n",
       "      <td>MHW LTD</td>\n",
       "      <td>73052</td>\n",
       "      <td>RUMCHATA</td>\n",
       "      <td>7.00</td>\n",
       "      <td>10.50</td>\n",
       "      <td>2</td>\n",
       "      <td>21.00</td>\n",
       "    </tr>\n",
       "    <tr>\n",
       "      <th>3</th>\n",
       "      <td>116685400104</td>\n",
       "      <td>2019-01-02</td>\n",
       "      <td>2524</td>\n",
       "      <td>HY-VEE FOOD STORE / DUBUQUE</td>\n",
       "      <td>DUBUQUE</td>\n",
       "      <td>52001.0</td>\n",
       "      <td>DUBUQUE</td>\n",
       "      <td>1022100.0</td>\n",
       "      <td>MIXTO TEQUILA</td>\n",
       "      <td>434.0</td>\n",
       "      <td>LUXCO INC</td>\n",
       "      <td>87937</td>\n",
       "      <td>JUAREZ TEQUILA SILVER</td>\n",
       "      <td>7.83</td>\n",
       "      <td>11.75</td>\n",
       "      <td>12</td>\n",
       "      <td>141.00</td>\n",
       "    </tr>\n",
       "    <tr>\n",
       "      <th>4</th>\n",
       "      <td>116682800080</td>\n",
       "      <td>2019-01-02</td>\n",
       "      <td>2513</td>\n",
       "      <td>HY-VEE FOOD STORE #2 / IOWA CITY</td>\n",
       "      <td>IOWA CITY</td>\n",
       "      <td>52240.0</td>\n",
       "      <td>JOHNSON</td>\n",
       "      <td>1031100.0</td>\n",
       "      <td>AMERICAN VODKAS</td>\n",
       "      <td>297.0</td>\n",
       "      <td>LAIRD &amp; COMPANY</td>\n",
       "      <td>35926</td>\n",
       "      <td>FIVE O'CLOCK VODKA PET</td>\n",
       "      <td>3.37</td>\n",
       "      <td>5.06</td>\n",
       "      <td>12</td>\n",
       "      <td>60.72</td>\n",
       "    </tr>\n",
       "  </tbody>\n",
       "</table>\n",
       "</div>"
      ],
      "text/plain": [
       "  invoice_line_no       date  store                              name  \\\n",
       "0    116685400042 2019-01-02   2524       HY-VEE FOOD STORE / DUBUQUE   \n",
       "1    116685400057 2019-01-02   2524       HY-VEE FOOD STORE / DUBUQUE   \n",
       "2    116679100094 2019-01-02   2549     HY-VEE FOOD STORE / INDIANOLA   \n",
       "3    116685400104 2019-01-02   2524       HY-VEE FOOD STORE / DUBUQUE   \n",
       "4    116682800080 2019-01-02   2513  HY-VEE FOOD STORE #2 / IOWA CITY   \n",
       "\n",
       "        city  zipcode   county   category    category_name  vendor_no  \\\n",
       "0    DUBUQUE  52001.0  DUBUQUE  1031100.0  AMERICAN VODKAS      301.0   \n",
       "1    DUBUQUE  52001.0  DUBUQUE  1062200.0        WHITE RUM      434.0   \n",
       "2  INDIANOLA  50125.0   WARREN  1081200.0   CREAM LIQUEURS      305.0   \n",
       "3    DUBUQUE  52001.0  DUBUQUE  1022100.0    MIXTO TEQUILA      434.0   \n",
       "4  IOWA CITY  52240.0  JOHNSON  1031100.0  AMERICAN VODKAS      297.0   \n",
       "\n",
       "            vendor_name  itemno                 im_desc  state_bottle_cost  \\\n",
       "0  FIFTH GENERATION INC   38177    TITOS HANDMADE VODKA              12.67   \n",
       "1             LUXCO INC   46351       HAWKEYE LIGHT RUM               4.34   \n",
       "2               MHW LTD   73052                RUMCHATA               7.00   \n",
       "3             LUXCO INC   87937   JUAREZ TEQUILA SILVER               7.83   \n",
       "4       LAIRD & COMPANY   35926  FIVE O'CLOCK VODKA PET               3.37   \n",
       "\n",
       "   state_bottle_retail  sale_bottles  sale_dollars  \n",
       "0                19.01            36        684.36  \n",
       "1                 6.51            12         78.12  \n",
       "2                10.50             2         21.00  \n",
       "3                11.75            12        141.00  \n",
       "4                 5.06            12         60.72  "
      ]
     },
     "execution_count": 15,
     "metadata": {},
     "output_type": "execute_result"
    }
   ],
   "source": [
    "# They are unique. Replacing prefixes to numbers.\n",
    "# Replacement is conducted separately because one prefex is a subset of another\n",
    "df['invoice_line_no'] = df['invoice_line_no'].replace({'RINV-': '2'}, regex=True)\n",
    "df['invoice_line_no'] = df['invoice_line_no'].replace({'INV-': '1'}, regex=True)\n",
    "df.head()"
   ]
  },
  {
   "cell_type": "code",
   "execution_count": 16,
   "metadata": {},
   "outputs": [
    {
     "data": {
      "text/plain": [
       "0"
      ]
     },
     "execution_count": 16,
     "metadata": {},
     "output_type": "execute_result"
    }
   ],
   "source": [
    "df['invoice_line_no'].duplicated().sum()"
   ]
  },
  {
   "cell_type": "code",
   "execution_count": 17,
   "metadata": {},
   "outputs": [],
   "source": [
    "df['invoice_line_no'] = df['invoice_line_no'].astype('int64')"
   ]
  },
  {
   "cell_type": "markdown",
   "metadata": {},
   "source": [
    "##### 2.3.2.2. Other ID Columns"
   ]
  },
  {
   "cell_type": "code",
   "execution_count": 18,
   "metadata": {},
   "outputs": [],
   "source": [
    "# Convert some float cols to int. \n",
    "# Define a function to check the existance of decimals first before implementation. \n",
    "def safe_to_int(df, columns):\n",
    "    for col in columns:\n",
    "        # Check if the column contains any non-integer values\n",
    "        if df[col].apply(lambda x: x % 1).any():\n",
    "            print(f\"Column '{col}' contains decimal values. Conversion to int skipped.\")\n",
    "        else:\n",
    "            # Convert to int\n",
    "            df[col] = df[col].astype(int)\n",
    "            print(f\"Column '{col}' successfully converted to int.\")"
   ]
  },
  {
   "cell_type": "code",
   "execution_count": 19,
   "metadata": {},
   "outputs": [
    {
     "name": "stdout",
     "output_type": "stream",
     "text": [
      "Column 'zipcode' successfully converted to int.\n",
      "Column 'category' successfully converted to int.\n",
      "Column 'vendor_no' successfully converted to int.\n"
     ]
    }
   ],
   "source": [
    "cols_to_int = ['zipcode', 'category','vendor_no' ]\n",
    "safe_to_int(df, cols_to_int)"
   ]
  },
  {
   "cell_type": "code",
   "execution_count": 20,
   "metadata": {},
   "outputs": [
    {
     "name": "stdout",
     "output_type": "stream",
     "text": [
      "<class 'pandas.core.frame.DataFrame'>\n",
      "Index: 3721902 entries, 0 to 3727000\n",
      "Data columns (total 17 columns):\n",
      " #   Column               Dtype         \n",
      "---  ------               -----         \n",
      " 0   invoice_line_no      int64         \n",
      " 1   date                 datetime64[ns]\n",
      " 2   store                int64         \n",
      " 3   name                 object        \n",
      " 4   city                 object        \n",
      " 5   zipcode              int32         \n",
      " 6   county               object        \n",
      " 7   category             int32         \n",
      " 8   category_name        object        \n",
      " 9   vendor_no            int32         \n",
      " 10  vendor_name          object        \n",
      " 11  itemno               int64         \n",
      " 12  im_desc              object        \n",
      " 13  state_bottle_cost    float64       \n",
      " 14  state_bottle_retail  float64       \n",
      " 15  sale_bottles         int64         \n",
      " 16  sale_dollars         float64       \n",
      "dtypes: datetime64[ns](1), float64(3), int32(3), int64(4), object(6)\n",
      "memory usage: 468.5+ MB\n"
     ]
    }
   ],
   "source": [
    "df.info()"
   ]
  },
  {
   "cell_type": "markdown",
   "metadata": {},
   "source": [
    "### 2.4. Validating Data Accuracy"
   ]
  },
  {
   "cell_type": "code",
   "execution_count": 21,
   "metadata": {},
   "outputs": [
    {
     "data": {
      "text/html": [
       "<div>\n",
       "<style scoped>\n",
       "    .dataframe tbody tr th:only-of-type {\n",
       "        vertical-align: middle;\n",
       "    }\n",
       "\n",
       "    .dataframe tbody tr th {\n",
       "        vertical-align: top;\n",
       "    }\n",
       "\n",
       "    .dataframe thead th {\n",
       "        text-align: right;\n",
       "    }\n",
       "</style>\n",
       "<table border=\"1\" class=\"dataframe\">\n",
       "  <thead>\n",
       "    <tr style=\"text-align: right;\">\n",
       "      <th></th>\n",
       "      <th>invoice_line_no</th>\n",
       "      <th>date</th>\n",
       "      <th>store</th>\n",
       "      <th>zipcode</th>\n",
       "      <th>category</th>\n",
       "      <th>vendor_no</th>\n",
       "      <th>itemno</th>\n",
       "      <th>state_bottle_cost</th>\n",
       "      <th>state_bottle_retail</th>\n",
       "      <th>sale_bottles</th>\n",
       "      <th>sale_dollars</th>\n",
       "    </tr>\n",
       "  </thead>\n",
       "  <tbody>\n",
       "    <tr>\n",
       "      <th>count</th>\n",
       "      <td>3.721902e+06</td>\n",
       "      <td>3721902</td>\n",
       "      <td>3.721902e+06</td>\n",
       "      <td>3.721902e+06</td>\n",
       "      <td>3.721902e+06</td>\n",
       "      <td>3.721902e+06</td>\n",
       "      <td>3.721902e+06</td>\n",
       "      <td>3.721902e+06</td>\n",
       "      <td>3.721902e+06</td>\n",
       "      <td>3.721902e+06</td>\n",
       "      <td>3.721902e+06</td>\n",
       "    </tr>\n",
       "    <tr>\n",
       "      <th>mean</th>\n",
       "      <td>1.382806e+11</td>\n",
       "      <td>2021-06-01 10:46:23.478770944</td>\n",
       "      <td>2.639607e+03</td>\n",
       "      <td>5.130314e+04</td>\n",
       "      <td>1.058558e+06</td>\n",
       "      <td>2.885785e+02</td>\n",
       "      <td>5.400078e+04</td>\n",
       "      <td>1.194144e+01</td>\n",
       "      <td>1.791327e+01</td>\n",
       "      <td>1.171280e+01</td>\n",
       "      <td>1.805445e+02</td>\n",
       "    </tr>\n",
       "    <tr>\n",
       "      <th>min</th>\n",
       "      <td>1.166780e+11</td>\n",
       "      <td>2019-01-02 00:00:00</td>\n",
       "      <td>2.500000e+03</td>\n",
       "      <td>5.000900e+04</td>\n",
       "      <td>1.011000e+06</td>\n",
       "      <td>3.500000e+01</td>\n",
       "      <td>1.590000e+02</td>\n",
       "      <td>3.300000e-01</td>\n",
       "      <td>5.000000e-01</td>\n",
       "      <td>-6.480000e+02</td>\n",
       "      <td>-9.720000e+03</td>\n",
       "    </tr>\n",
       "    <tr>\n",
       "      <th>25%</th>\n",
       "      <td>1.261053e+11</td>\n",
       "      <td>2020-03-25 00:00:00</td>\n",
       "      <td>2.548000e+03</td>\n",
       "      <td>5.031500e+04</td>\n",
       "      <td>1.012200e+06</td>\n",
       "      <td>2.050000e+02</td>\n",
       "      <td>2.713000e+04</td>\n",
       "      <td>6.500000e+00</td>\n",
       "      <td>9.750000e+00</td>\n",
       "      <td>3.000000e+00</td>\n",
       "      <td>4.710000e+01</td>\n",
       "    </tr>\n",
       "    <tr>\n",
       "      <th>50%</th>\n",
       "      <td>1.367231e+11</td>\n",
       "      <td>2021-05-18 00:00:00</td>\n",
       "      <td>2.596000e+03</td>\n",
       "      <td>5.110400e+04</td>\n",
       "      <td>1.031200e+06</td>\n",
       "      <td>2.600000e+02</td>\n",
       "      <td>4.136000e+04</td>\n",
       "      <td>9.500000e+00</td>\n",
       "      <td>1.425000e+01</td>\n",
       "      <td>6.000000e+00</td>\n",
       "      <td>9.408000e+01</td>\n",
       "    </tr>\n",
       "    <tr>\n",
       "      <th>75%</th>\n",
       "      <td>1.504153e+11</td>\n",
       "      <td>2022-08-17 00:00:00</td>\n",
       "      <td>2.637000e+03</td>\n",
       "      <td>5.240200e+04</td>\n",
       "      <td>1.071100e+06</td>\n",
       "      <td>4.200000e+02</td>\n",
       "      <td>6.801100e+04</td>\n",
       "      <td>1.475000e+01</td>\n",
       "      <td>2.213000e+01</td>\n",
       "      <td>1.200000e+01</td>\n",
       "      <td>1.710000e+02</td>\n",
       "    </tr>\n",
       "    <tr>\n",
       "      <th>max</th>\n",
       "      <td>2.049915e+11</td>\n",
       "      <td>2023-11-30 00:00:00</td>\n",
       "      <td>1.028500e+04</td>\n",
       "      <td>9.999900e+04</td>\n",
       "      <td>9.999999e+06</td>\n",
       "      <td>9.990000e+02</td>\n",
       "      <td>9.999400e+05</td>\n",
       "      <td>2.298840e+03</td>\n",
       "      <td>3.448260e+03</td>\n",
       "      <td>1.320000e+04</td>\n",
       "      <td>2.608320e+05</td>\n",
       "    </tr>\n",
       "    <tr>\n",
       "      <th>std</th>\n",
       "      <td>1.393806e+10</td>\n",
       "      <td>NaN</td>\n",
       "      <td>4.502190e+02</td>\n",
       "      <td>1.543390e+03</td>\n",
       "      <td>1.955071e+05</td>\n",
       "      <td>1.518065e+02</td>\n",
       "      <td>8.586122e+04</td>\n",
       "      <td>1.161138e+01</td>\n",
       "      <td>1.741529e+01</td>\n",
       "      <td>4.127214e+01</td>\n",
       "      <td>7.435074e+02</td>\n",
       "    </tr>\n",
       "  </tbody>\n",
       "</table>\n",
       "</div>"
      ],
      "text/plain": [
       "       invoice_line_no                           date         store  \\\n",
       "count     3.721902e+06                        3721902  3.721902e+06   \n",
       "mean      1.382806e+11  2021-06-01 10:46:23.478770944  2.639607e+03   \n",
       "min       1.166780e+11            2019-01-02 00:00:00  2.500000e+03   \n",
       "25%       1.261053e+11            2020-03-25 00:00:00  2.548000e+03   \n",
       "50%       1.367231e+11            2021-05-18 00:00:00  2.596000e+03   \n",
       "75%       1.504153e+11            2022-08-17 00:00:00  2.637000e+03   \n",
       "max       2.049915e+11            2023-11-30 00:00:00  1.028500e+04   \n",
       "std       1.393806e+10                            NaN  4.502190e+02   \n",
       "\n",
       "            zipcode      category     vendor_no        itemno  \\\n",
       "count  3.721902e+06  3.721902e+06  3.721902e+06  3.721902e+06   \n",
       "mean   5.130314e+04  1.058558e+06  2.885785e+02  5.400078e+04   \n",
       "min    5.000900e+04  1.011000e+06  3.500000e+01  1.590000e+02   \n",
       "25%    5.031500e+04  1.012200e+06  2.050000e+02  2.713000e+04   \n",
       "50%    5.110400e+04  1.031200e+06  2.600000e+02  4.136000e+04   \n",
       "75%    5.240200e+04  1.071100e+06  4.200000e+02  6.801100e+04   \n",
       "max    9.999900e+04  9.999999e+06  9.990000e+02  9.999400e+05   \n",
       "std    1.543390e+03  1.955071e+05  1.518065e+02  8.586122e+04   \n",
       "\n",
       "       state_bottle_cost  state_bottle_retail  sale_bottles  sale_dollars  \n",
       "count       3.721902e+06         3.721902e+06  3.721902e+06  3.721902e+06  \n",
       "mean        1.194144e+01         1.791327e+01  1.171280e+01  1.805445e+02  \n",
       "min         3.300000e-01         5.000000e-01 -6.480000e+02 -9.720000e+03  \n",
       "25%         6.500000e+00         9.750000e+00  3.000000e+00  4.710000e+01  \n",
       "50%         9.500000e+00         1.425000e+01  6.000000e+00  9.408000e+01  \n",
       "75%         1.475000e+01         2.213000e+01  1.200000e+01  1.710000e+02  \n",
       "max         2.298840e+03         3.448260e+03  1.320000e+04  2.608320e+05  \n",
       "std         1.161138e+01         1.741529e+01  4.127214e+01  7.435074e+02  "
      ]
     },
     "execution_count": 21,
     "metadata": {},
     "output_type": "execute_result"
    }
   ],
   "source": [
    "df.describe()"
   ]
  },
  {
   "cell_type": "code",
   "execution_count": 22,
   "metadata": {},
   "outputs": [
    {
     "data": {
      "text/plain": [
       "0.029017421737595455"
      ]
     },
     "execution_count": 22,
     "metadata": {},
     "output_type": "execute_result"
    }
   ],
   "source": [
    "# Check the percentage of rows where 'sale_bottles' is negative\n",
    "len(df[df['sale_bottles']<0])/len(df) * 100"
   ]
  },
  {
   "cell_type": "markdown",
   "metadata": {},
   "source": [
    "**Note**: While negative sales volumes typically indicate refunds or returns, our analysis will omit these records to maintain data integrity. \n",
    "\n",
    "This decision is based on the focus of our study, which requires consistent and positive sales figures to accurately assess trends and patterns.\n"
   ]
  },
  {
   "cell_type": "code",
   "execution_count": 23,
   "metadata": {},
   "outputs": [
    {
     "data": {
      "text/html": [
       "<div>\n",
       "<style scoped>\n",
       "    .dataframe tbody tr th:only-of-type {\n",
       "        vertical-align: middle;\n",
       "    }\n",
       "\n",
       "    .dataframe tbody tr th {\n",
       "        vertical-align: top;\n",
       "    }\n",
       "\n",
       "    .dataframe thead th {\n",
       "        text-align: right;\n",
       "    }\n",
       "</style>\n",
       "<table border=\"1\" class=\"dataframe\">\n",
       "  <thead>\n",
       "    <tr style=\"text-align: right;\">\n",
       "      <th></th>\n",
       "      <th>invoice_line_no</th>\n",
       "      <th>date</th>\n",
       "      <th>store</th>\n",
       "      <th>zipcode</th>\n",
       "      <th>category</th>\n",
       "      <th>vendor_no</th>\n",
       "      <th>itemno</th>\n",
       "      <th>state_bottle_cost</th>\n",
       "      <th>state_bottle_retail</th>\n",
       "      <th>sale_bottles</th>\n",
       "      <th>sale_dollars</th>\n",
       "    </tr>\n",
       "  </thead>\n",
       "  <tbody>\n",
       "    <tr>\n",
       "      <th>count</th>\n",
       "      <td>3.720822e+06</td>\n",
       "      <td>3720822</td>\n",
       "      <td>3.720822e+06</td>\n",
       "      <td>3.720822e+06</td>\n",
       "      <td>3.720822e+06</td>\n",
       "      <td>3.720822e+06</td>\n",
       "      <td>3.720822e+06</td>\n",
       "      <td>3.720822e+06</td>\n",
       "      <td>3.720822e+06</td>\n",
       "      <td>3.720822e+06</td>\n",
       "      <td>3.720822e+06</td>\n",
       "    </tr>\n",
       "    <tr>\n",
       "      <th>mean</th>\n",
       "      <td>1.382613e+11</td>\n",
       "      <td>2021-06-01 05:54:06.523268096</td>\n",
       "      <td>2.639583e+03</td>\n",
       "      <td>5.130322e+04</td>\n",
       "      <td>1.058553e+06</td>\n",
       "      <td>2.885672e+02</td>\n",
       "      <td>5.399146e+04</td>\n",
       "      <td>1.194002e+01</td>\n",
       "      <td>1.791114e+01</td>\n",
       "      <td>1.171962e+01</td>\n",
       "      <td>1.806559e+02</td>\n",
       "    </tr>\n",
       "    <tr>\n",
       "      <th>min</th>\n",
       "      <td>1.166780e+11</td>\n",
       "      <td>2019-01-02 00:00:00</td>\n",
       "      <td>2.500000e+03</td>\n",
       "      <td>5.000900e+04</td>\n",
       "      <td>1.011000e+06</td>\n",
       "      <td>3.500000e+01</td>\n",
       "      <td>1.590000e+02</td>\n",
       "      <td>3.300000e-01</td>\n",
       "      <td>5.000000e-01</td>\n",
       "      <td>1.000000e+00</td>\n",
       "      <td>1.300000e+00</td>\n",
       "    </tr>\n",
       "    <tr>\n",
       "      <th>25%</th>\n",
       "      <td>1.261031e+11</td>\n",
       "      <td>2020-03-24 00:00:00</td>\n",
       "      <td>2.548000e+03</td>\n",
       "      <td>5.031500e+04</td>\n",
       "      <td>1.012200e+06</td>\n",
       "      <td>2.050000e+02</td>\n",
       "      <td>2.713000e+04</td>\n",
       "      <td>6.500000e+00</td>\n",
       "      <td>9.750000e+00</td>\n",
       "      <td>3.000000e+00</td>\n",
       "      <td>4.722000e+01</td>\n",
       "    </tr>\n",
       "    <tr>\n",
       "      <th>50%</th>\n",
       "      <td>1.367115e+11</td>\n",
       "      <td>2021-05-18 00:00:00</td>\n",
       "      <td>2.596000e+03</td>\n",
       "      <td>5.110400e+04</td>\n",
       "      <td>1.031200e+06</td>\n",
       "      <td>2.600000e+02</td>\n",
       "      <td>4.136000e+04</td>\n",
       "      <td>9.500000e+00</td>\n",
       "      <td>1.425000e+01</td>\n",
       "      <td>6.000000e+00</td>\n",
       "      <td>9.408000e+01</td>\n",
       "    </tr>\n",
       "    <tr>\n",
       "      <th>75%</th>\n",
       "      <td>1.504082e+11</td>\n",
       "      <td>2022-08-17 00:00:00</td>\n",
       "      <td>2.637000e+03</td>\n",
       "      <td>5.240200e+04</td>\n",
       "      <td>1.071100e+06</td>\n",
       "      <td>4.200000e+02</td>\n",
       "      <td>6.801100e+04</td>\n",
       "      <td>1.475000e+01</td>\n",
       "      <td>2.213000e+01</td>\n",
       "      <td>1.200000e+01</td>\n",
       "      <td>1.710000e+02</td>\n",
       "    </tr>\n",
       "    <tr>\n",
       "      <th>max</th>\n",
       "      <td>2.049444e+11</td>\n",
       "      <td>2023-11-30 00:00:00</td>\n",
       "      <td>1.028500e+04</td>\n",
       "      <td>9.999900e+04</td>\n",
       "      <td>9.999999e+06</td>\n",
       "      <td>9.990000e+02</td>\n",
       "      <td>9.999400e+05</td>\n",
       "      <td>2.298840e+03</td>\n",
       "      <td>3.448260e+03</td>\n",
       "      <td>1.320000e+04</td>\n",
       "      <td>2.608320e+05</td>\n",
       "    </tr>\n",
       "    <tr>\n",
       "      <th>std</th>\n",
       "      <td>1.389416e+10</td>\n",
       "      <td>NaN</td>\n",
       "      <td>4.501040e+02</td>\n",
       "      <td>1.543522e+03</td>\n",
       "      <td>1.955183e+05</td>\n",
       "      <td>1.517990e+02</td>\n",
       "      <td>8.581666e+04</td>\n",
       "      <td>1.155269e+01</td>\n",
       "      <td>1.732725e+01</td>\n",
       "      <td>4.127320e+01</td>\n",
       "      <td>7.435482e+02</td>\n",
       "    </tr>\n",
       "  </tbody>\n",
       "</table>\n",
       "</div>"
      ],
      "text/plain": [
       "       invoice_line_no                           date         store  \\\n",
       "count     3.720822e+06                        3720822  3.720822e+06   \n",
       "mean      1.382613e+11  2021-06-01 05:54:06.523268096  2.639583e+03   \n",
       "min       1.166780e+11            2019-01-02 00:00:00  2.500000e+03   \n",
       "25%       1.261031e+11            2020-03-24 00:00:00  2.548000e+03   \n",
       "50%       1.367115e+11            2021-05-18 00:00:00  2.596000e+03   \n",
       "75%       1.504082e+11            2022-08-17 00:00:00  2.637000e+03   \n",
       "max       2.049444e+11            2023-11-30 00:00:00  1.028500e+04   \n",
       "std       1.389416e+10                            NaN  4.501040e+02   \n",
       "\n",
       "            zipcode      category     vendor_no        itemno  \\\n",
       "count  3.720822e+06  3.720822e+06  3.720822e+06  3.720822e+06   \n",
       "mean   5.130322e+04  1.058553e+06  2.885672e+02  5.399146e+04   \n",
       "min    5.000900e+04  1.011000e+06  3.500000e+01  1.590000e+02   \n",
       "25%    5.031500e+04  1.012200e+06  2.050000e+02  2.713000e+04   \n",
       "50%    5.110400e+04  1.031200e+06  2.600000e+02  4.136000e+04   \n",
       "75%    5.240200e+04  1.071100e+06  4.200000e+02  6.801100e+04   \n",
       "max    9.999900e+04  9.999999e+06  9.990000e+02  9.999400e+05   \n",
       "std    1.543522e+03  1.955183e+05  1.517990e+02  8.581666e+04   \n",
       "\n",
       "       state_bottle_cost  state_bottle_retail  sale_bottles  sale_dollars  \n",
       "count       3.720822e+06         3.720822e+06  3.720822e+06  3.720822e+06  \n",
       "mean        1.194002e+01         1.791114e+01  1.171962e+01  1.806559e+02  \n",
       "min         3.300000e-01         5.000000e-01  1.000000e+00  1.300000e+00  \n",
       "25%         6.500000e+00         9.750000e+00  3.000000e+00  4.722000e+01  \n",
       "50%         9.500000e+00         1.425000e+01  6.000000e+00  9.408000e+01  \n",
       "75%         1.475000e+01         2.213000e+01  1.200000e+01  1.710000e+02  \n",
       "max         2.298840e+03         3.448260e+03  1.320000e+04  2.608320e+05  \n",
       "std         1.155269e+01         1.732725e+01  4.127320e+01  7.435482e+02  "
      ]
     },
     "execution_count": 23,
     "metadata": {},
     "output_type": "execute_result"
    }
   ],
   "source": [
    "df=df[df['sale_bottles']>=0]\n",
    "df.describe()"
   ]
  },
  {
   "cell_type": "code",
   "execution_count": 24,
   "metadata": {},
   "outputs": [
    {
     "data": {
      "text/plain": [
       "13.12325609771174"
      ]
     },
     "execution_count": 24,
     "metadata": {},
     "output_type": "execute_result"
    }
   ],
   "source": [
    "# Check the accuracy of \"sale_dollars\"\n",
    "df['revenue'] = df['state_bottle_retail'] * df['sale_bottles']\n",
    "len(df[df['sale_dollars']!=df['revenue']])/len(df) * 100"
   ]
  },
  {
   "cell_type": "markdown",
   "metadata": {},
   "source": [
    "Observation: Approximately 13% of entries in 'sale_bottles' exhibit discrepancies when compared to our computed 'revenue' column. The underlying cause of these discrepancies remains unidentified. \n",
    "\n",
    "However, for consistency in our analysis, we will continue using a standardized algorithm to compute revenue across all records. "
   ]
  },
  {
   "cell_type": "code",
   "execution_count": 25,
   "metadata": {},
   "outputs": [
    {
     "data": {
      "text/html": [
       "<div>\n",
       "<style scoped>\n",
       "    .dataframe tbody tr th:only-of-type {\n",
       "        vertical-align: middle;\n",
       "    }\n",
       "\n",
       "    .dataframe tbody tr th {\n",
       "        vertical-align: top;\n",
       "    }\n",
       "\n",
       "    .dataframe thead th {\n",
       "        text-align: right;\n",
       "    }\n",
       "</style>\n",
       "<table border=\"1\" class=\"dataframe\">\n",
       "  <thead>\n",
       "    <tr style=\"text-align: right;\">\n",
       "      <th></th>\n",
       "      <th>invoice_line_no</th>\n",
       "      <th>date</th>\n",
       "      <th>store</th>\n",
       "      <th>name</th>\n",
       "      <th>city</th>\n",
       "      <th>zipcode</th>\n",
       "      <th>county</th>\n",
       "      <th>category</th>\n",
       "      <th>category_name</th>\n",
       "      <th>vendor_no</th>\n",
       "      <th>vendor_name</th>\n",
       "      <th>itemno</th>\n",
       "      <th>im_desc</th>\n",
       "      <th>state_bottle_cost</th>\n",
       "      <th>state_bottle_retail</th>\n",
       "      <th>sale_bottles</th>\n",
       "      <th>revenue</th>\n",
       "    </tr>\n",
       "  </thead>\n",
       "  <tbody>\n",
       "    <tr>\n",
       "      <th>0</th>\n",
       "      <td>116685400042</td>\n",
       "      <td>2019-01-02</td>\n",
       "      <td>2524</td>\n",
       "      <td>HY-VEE FOOD STORE / DUBUQUE</td>\n",
       "      <td>DUBUQUE</td>\n",
       "      <td>52001</td>\n",
       "      <td>DUBUQUE</td>\n",
       "      <td>1031100</td>\n",
       "      <td>AMERICAN VODKAS</td>\n",
       "      <td>301</td>\n",
       "      <td>FIFTH GENERATION INC</td>\n",
       "      <td>38177</td>\n",
       "      <td>TITOS HANDMADE VODKA</td>\n",
       "      <td>12.67</td>\n",
       "      <td>19.01</td>\n",
       "      <td>36</td>\n",
       "      <td>684.36</td>\n",
       "    </tr>\n",
       "    <tr>\n",
       "      <th>1</th>\n",
       "      <td>116685400057</td>\n",
       "      <td>2019-01-02</td>\n",
       "      <td>2524</td>\n",
       "      <td>HY-VEE FOOD STORE / DUBUQUE</td>\n",
       "      <td>DUBUQUE</td>\n",
       "      <td>52001</td>\n",
       "      <td>DUBUQUE</td>\n",
       "      <td>1062200</td>\n",
       "      <td>WHITE RUM</td>\n",
       "      <td>434</td>\n",
       "      <td>LUXCO INC</td>\n",
       "      <td>46351</td>\n",
       "      <td>HAWKEYE LIGHT RUM</td>\n",
       "      <td>4.34</td>\n",
       "      <td>6.51</td>\n",
       "      <td>12</td>\n",
       "      <td>78.12</td>\n",
       "    </tr>\n",
       "    <tr>\n",
       "      <th>2</th>\n",
       "      <td>116679100094</td>\n",
       "      <td>2019-01-02</td>\n",
       "      <td>2549</td>\n",
       "      <td>HY-VEE FOOD STORE / INDIANOLA</td>\n",
       "      <td>INDIANOLA</td>\n",
       "      <td>50125</td>\n",
       "      <td>WARREN</td>\n",
       "      <td>1081200</td>\n",
       "      <td>CREAM LIQUEURS</td>\n",
       "      <td>305</td>\n",
       "      <td>MHW LTD</td>\n",
       "      <td>73052</td>\n",
       "      <td>RUMCHATA</td>\n",
       "      <td>7.00</td>\n",
       "      <td>10.50</td>\n",
       "      <td>2</td>\n",
       "      <td>21.00</td>\n",
       "    </tr>\n",
       "    <tr>\n",
       "      <th>3</th>\n",
       "      <td>116685400104</td>\n",
       "      <td>2019-01-02</td>\n",
       "      <td>2524</td>\n",
       "      <td>HY-VEE FOOD STORE / DUBUQUE</td>\n",
       "      <td>DUBUQUE</td>\n",
       "      <td>52001</td>\n",
       "      <td>DUBUQUE</td>\n",
       "      <td>1022100</td>\n",
       "      <td>MIXTO TEQUILA</td>\n",
       "      <td>434</td>\n",
       "      <td>LUXCO INC</td>\n",
       "      <td>87937</td>\n",
       "      <td>JUAREZ TEQUILA SILVER</td>\n",
       "      <td>7.83</td>\n",
       "      <td>11.75</td>\n",
       "      <td>12</td>\n",
       "      <td>141.00</td>\n",
       "    </tr>\n",
       "    <tr>\n",
       "      <th>4</th>\n",
       "      <td>116682800080</td>\n",
       "      <td>2019-01-02</td>\n",
       "      <td>2513</td>\n",
       "      <td>HY-VEE FOOD STORE #2 / IOWA CITY</td>\n",
       "      <td>IOWA CITY</td>\n",
       "      <td>52240</td>\n",
       "      <td>JOHNSON</td>\n",
       "      <td>1031100</td>\n",
       "      <td>AMERICAN VODKAS</td>\n",
       "      <td>297</td>\n",
       "      <td>LAIRD &amp; COMPANY</td>\n",
       "      <td>35926</td>\n",
       "      <td>FIVE O'CLOCK VODKA PET</td>\n",
       "      <td>3.37</td>\n",
       "      <td>5.06</td>\n",
       "      <td>12</td>\n",
       "      <td>60.72</td>\n",
       "    </tr>\n",
       "  </tbody>\n",
       "</table>\n",
       "</div>"
      ],
      "text/plain": [
       "   invoice_line_no       date  store                              name  \\\n",
       "0     116685400042 2019-01-02   2524       HY-VEE FOOD STORE / DUBUQUE   \n",
       "1     116685400057 2019-01-02   2524       HY-VEE FOOD STORE / DUBUQUE   \n",
       "2     116679100094 2019-01-02   2549     HY-VEE FOOD STORE / INDIANOLA   \n",
       "3     116685400104 2019-01-02   2524       HY-VEE FOOD STORE / DUBUQUE   \n",
       "4     116682800080 2019-01-02   2513  HY-VEE FOOD STORE #2 / IOWA CITY   \n",
       "\n",
       "        city  zipcode   county  category    category_name  vendor_no  \\\n",
       "0    DUBUQUE    52001  DUBUQUE   1031100  AMERICAN VODKAS        301   \n",
       "1    DUBUQUE    52001  DUBUQUE   1062200        WHITE RUM        434   \n",
       "2  INDIANOLA    50125   WARREN   1081200   CREAM LIQUEURS        305   \n",
       "3    DUBUQUE    52001  DUBUQUE   1022100    MIXTO TEQUILA        434   \n",
       "4  IOWA CITY    52240  JOHNSON   1031100  AMERICAN VODKAS        297   \n",
       "\n",
       "            vendor_name  itemno                 im_desc  state_bottle_cost  \\\n",
       "0  FIFTH GENERATION INC   38177    TITOS HANDMADE VODKA              12.67   \n",
       "1             LUXCO INC   46351       HAWKEYE LIGHT RUM               4.34   \n",
       "2               MHW LTD   73052                RUMCHATA               7.00   \n",
       "3             LUXCO INC   87937   JUAREZ TEQUILA SILVER               7.83   \n",
       "4       LAIRD & COMPANY   35926  FIVE O'CLOCK VODKA PET               3.37   \n",
       "\n",
       "   state_bottle_retail  sale_bottles  revenue  \n",
       "0                19.01            36   684.36  \n",
       "1                 6.51            12    78.12  \n",
       "2                10.50             2    21.00  \n",
       "3                11.75            12   141.00  \n",
       "4                 5.06            12    60.72  "
      ]
     },
     "execution_count": 25,
     "metadata": {},
     "output_type": "execute_result"
    }
   ],
   "source": [
    "df.drop(columns='sale_dollars', axis=1, inplace=True)\n",
    "df.head()"
   ]
  },
  {
   "cell_type": "markdown",
   "metadata": {},
   "source": [
    "## 3. Feature Engineering"
   ]
  },
  {
   "cell_type": "markdown",
   "metadata": {},
   "source": [
    "Creating a new column to indicate store categories based on the 'name' column."
   ]
  },
  {
   "cell_type": "code",
   "execution_count": 26,
   "metadata": {},
   "outputs": [
    {
     "data": {
      "text/plain": [
       "array(['HY-VEE FOOD STORE / DUBUQUE', 'HY-VEE FOOD STORE / INDIANOLA',\n",
       "       'HY-VEE FOOD STORE #2 / IOWA CITY', 'HY-VEE #3 / DUBUQUE',\n",
       "       'HY-VEE FOOD STORE #5 / DES MOINES', 'HY-VEE #7 / CEDAR RAPIDS',\n",
       "       'HY-VEE FOOD AND DRUG #6 / CEDAR RAPIDS', 'HY-VEE #2 / DUBUQUE',\n",
       "       'HY-VEE / DRUGTOWN #1 / CEDAR RAPIDS',\n",
       "       'HY-VEE FOOD STORE / IOWA CITY', 'HY-VEE FOOD STORE #2 / WATERLOO',\n",
       "       'HY-VEE DRUGSTORE / IOWA CITY', 'HY-VEE / WAUKEE',\n",
       "       'HY-VEE WINE AND SPIRITS / STORM LAKE',\n",
       "       'HY-VEE FOOD STORE #2 / DES MOINES',\n",
       "       'HY-VEE WINE AND SPIRITS / BOONE',\n",
       "       'HY-VEE FOOD STORE #2 / STATE ANKENY',\n",
       "       'HY-VEE FOOD STORE / CEDAR FALLS',\n",
       "       'HY-VEE WINE AND SPIRITS / LEMARS',\n",
       "       'HY-VEE FOOD STORE / URBANDALE',\n",
       "       'HY-VEE FOOD STORE #3 / CEDAR RAPIDS',\n",
       "       'HY-VEE FOOD STORE / JOHNSTON', 'HY-VEE FOOD STORE / SHELDON',\n",
       "       'HY-VEE DRUGSTORE #4 / CEDAR RAPIDS',\n",
       "       'HY-VEE FOOD STORE / SIOUX CENTER',\n",
       "       'HY-VEE DRUGSTORE #5 / CEDAR RAPIDS',\n",
       "       'HY-VEE FOOD STORE #5 / CEDAR RAPIDS',\n",
       "       'HY-VEE WINE AND SPIRITS / WDM', 'HY-VEE FOOD STORE / CHEROKEE',\n",
       "       'HY-VEE #3 / BDI / DES MOINES',\n",
       "       'HY-VEE WINE AND SPIRITS / HUBBELL', 'HY-VEE FOOD STORE #1 / AMES',\n",
       "       'HY-VEE FOOD STORE / CHARITON',\n",
       "       'HY-VEE WINE & SPIRITS #2 / DAVENPORT',\n",
       "       'HY-VEE / REGAL LIQUORS AND VIDEO',\n",
       "       'HY-VEE FOOD STORE / KNOXVILLE',\n",
       "       'HY-VEE WINE AND SPIRITS / ANKENY',\n",
       "       'HY-VEE FOOD STORE / CORALVILLE',\n",
       "       'HY-VEE FOOD STORE #3 / SIOUX CITY', 'HY-VEE #5 / DAVENPORT',\n",
       "       'HY-VEE WINE AND SPIRITS / ESTHERVILLE', 'HY-VEE #4 / WDM',\n",
       "       'HY-VEE WINE AND SPIRITS / PELLA',\n",
       "       'HY-VEE FOOD STORE #1 / CEDAR RAPIDS',\n",
       "       'HY-VEE FOOD STORE #4 / SIOUX CITY',\n",
       "       'HY-VEE DRUGSTORE #6 / CEDAR RAPIDS',\n",
       "       'HY-VEE FOOD STORE / OSKALOOSA', 'HY-VEE  #2 / AMES',\n",
       "       'HY-VEE WINE AND SPIRITS / BETTENDORF', 'HY-VEE / PLEASANT HILL',\n",
       "       'HY-VEE FOOD STORE #1636 / SPENCER',\n",
       "       'HY-VEE MAINSTREET / SIOUX CITY', 'HY-VEE FOOD STORE / SIOUX CITY',\n",
       "       'HY-VEE FOOD STORE / ALTOONA', 'HY-VEE FOOD AND DRUG / CLINTON',\n",
       "       'HY-VEE WINE AND SPIRITS / IOWA CITY',\n",
       "       'HY-VEE #3 FOOD & DRUGSTORE / DAVENPORT',\n",
       "       'HY-VEE WINE AND SPIRITS / HUMBOLDT',\n",
       "       'HY-VEE WINE AND SPIRITS / SPIRIT LAKE',\n",
       "       'HY-VEE DRUGSTORE / OTTUMWA', 'HY-VEE FOOD STORE / FORT DODGE',\n",
       "       'HY-VEE #2 / CORALVILLE', 'HY-VEE FOOD STORE / ALBIA',\n",
       "       'HY-VEE FOOD STORE #1 / OTTUMWA', 'HY-VEE DRUGSTORE #2 / AMES',\n",
       "       'HY-VEE FOOD STORE #4 / CEDAR RAPIDS',\n",
       "       'HY-VEE FOOD STORE / CENTERVILLE', 'HY-VEE / CORYDON',\n",
       "       'HY-VEE FOOD STORE / ELDORA', 'HY-VEE FOOD STORE #3 / DES MOINES',\n",
       "       'HY-VEE FOOD STORE #1 / WDM', 'HY-VEE FOOD STORE / BEDFORD',\n",
       "       'HY-VEE / WINTERSET', 'HY-VEE FOOD STORE / WEBSTER CITY',\n",
       "       'HY-VEE / WINDSOR HEIGHTS', 'HY-VEE FOOD STORE / FLEUR / DSM',\n",
       "       'HY-VEE DRUGSTORE / MARSHALLTOWN',\n",
       "       'HY-VEE FOOD AND DRUG / GRAND / WDM',\n",
       "       'HY-VEE WINE & SPIRITS #1 / MLK', 'HY-VEE STORE / PERRY',\n",
       "       'HY-VEE FOOD STORE #1 / MASON CITY', 'HY-VEE FOOD STORE / OSCEOLA',\n",
       "       'HY-VEE DRUGSTORE / DAVENPORT', 'HY-VEE FOOD STORE / MARSHALLTOWN',\n",
       "       'HY-VEE WINE AND SPIRITS / ALGONA',\n",
       "       'HY-VEE #2 FOOD STORE / MASON CITY', 'HY-VEE FOOD STORE / CRESTON',\n",
       "       'HY-VEE FOOD STORE / MOUNT AYR', 'HY-VEE FOOD STORE / CLARINDA',\n",
       "       'HY-VEE #4 / DAVENPORT', 'HY-VEE FOOD STORE #1 / NEWTON',\n",
       "       'HY-VEE WINE AND SPIRITS / DENISON', 'HY-VEE FOOD STORE / CARROLL',\n",
       "       'HY-VEE FOOD STORE / MOUNT PLEASANT',\n",
       "       'HY-VEE DRUGSTORE / MASON CITY', 'HY-VEE FOOD STORE / LEON',\n",
       "       'HY-VEE WINE AND SPIRITS / RED OAK', 'HY-VEE  /  JEFFERSON',\n",
       "       'HY-VEE FOOD STORE / LAMONI', 'HY-VEE DRUGSTORE #2 / WDM',\n",
       "       'HY-VEE WINE AND SPIRITS / SHENANDOAH',\n",
       "       'HY-VEE FOOD STORE / CORNING',\n",
       "       'HY-VEE WINE AND SPIRITS / WATERLOO', 'HY-VEE FOOD STORE / MARION',\n",
       "       'HY-VEE FOOD STORE / IOWA FALLS', 'HY-VEE FOOD STORE / MUSCATINE',\n",
       "       'HY-VEE FOOD STORE #3 / WATERLOO',\n",
       "       'HY-VEE WINE & SPIRITS / MUSCATINE',\n",
       "       'HY-VEE FOOD STORE #2 / CEDAR RAPIDS',\n",
       "       'HY-VEE FOOD STORE #1 / BURLINGTON', 'HY-VEE #1044 / BURLINGTON',\n",
       "       'HY-VEE FOOD STORE #1 / WATERLOO', 'HY-VEE / WAVERLY',\n",
       "       'HY-VEE WINE AND SPIRITS / WASHINGTON', 'HY-VEE / CHARLES CITY',\n",
       "       'HY-VEE DRUGSTORE / MARION', 'HY-VEE FOOD STORE / DAVENPORT',\n",
       "       'HY-VEE FOOD STORE / KEOKUK',\n",
       "       'HY-VEE DRUGSTORE / UNIVERSITY / DSM',\n",
       "       'HY-VEE FOOD STORE / FORT MADISON',\n",
       "       'HY-VEE FOOD STORE #1 / COUNCIL BLUFFS',\n",
       "       'HY-VEE FOOD STORE / FAIRFIELD', 'HY-VEE FOOD STORE / GRINNELL',\n",
       "       'HY-VEE # 6/ DES MOINES', 'HY-VEE FOOD STORE #2 / COUNCIL BLUFFS',\n",
       "       'HY-VEE WINE AND SPIRITS / ATLANTIC',\n",
       "       'HY-VEE WINE AND SPIRITS / HARLAN',\n",
       "       'HY-VEE DRUGSTORE / COUNCIL BLUFFS',\n",
       "       'HY-VEE FAST & FRESH EXPRESS / CENTERVILLE',\n",
       "       'HY-VEE FAST & FRESH / DAVENPORT', 'HY-VEE FAST & FRESH/ALTOONA',\n",
       "       'HY-VEE GAS / INDIANOLA', 'HY-VEE C-STORE / FAIRFEILD',\n",
       "       'HY-VEE WINE AND SPIRITS / LE MARS', 'HY-VEE GAS #4 / DES MOINES',\n",
       "       'HY-VEE FAST & FRESH EXPRESS / CRESTON',\n",
       "       'HY-VEE C-STORE / SE ARMY POST',\n",
       "       'HY-VEE FAST AND FRESH / STORM LAKE', 'HY-VEE GAS #1 / ANKENY',\n",
       "       'HY-VEE FAST AND FRESH / CLIVE',\n",
       "       'HY-VEE FAST AND FRESH / JOHNSTON', 'HY-VEE FOOD STORE / DENISON',\n",
       "       'HY-VEE GAS #2 / OTTUMWA', 'HY-VEE / VINTON',\n",
       "       'HY-VEE GASE #5018 / AMES', 'HY-VEE GAS #3 / WDM',\n",
       "       'HY-VEE / DECORAH', 'HY-VEE FAST & FRESH / WDM',\n",
       "       'HY-VEE GAS #1 / OTTUMWA', 'HY-VEE FAST AND FRESH / WAUKEE',\n",
       "       'HY-VEE C-STORE #3 / DUBUQUE', 'HY-VEE GAS #5018 / AMES',\n",
       "       'HY-VEE C-STORE / FAIRFIELD', 'HY-VEE GAS / JOHNSTON',\n",
       "       'HY-VEE DOLLAR FRESH / MAQUOKETA',\n",
       "       'HY-VEE FAST AND FRESH #2 / WAUKEE',\n",
       "       'HY-VEE DOLLAR FRESH / MANCHESTER', 'HY-VEE GAS #2 / CORALVILLE',\n",
       "       'HY-VEE / GRIMES', 'HY-VEE FAST AND FRESH / GRIMES',\n",
       "       'HY-VEE C STORE / MT. PLEASANT', 'HY-VEE DOLLAR FRESH / NEVADA',\n",
       "       'HY-VEE DOLLAR FRESH / ORANGE CITY',\n",
       "       'HY-VEE DOLLAR FRESH / INDEPENDENCE',\n",
       "       'HY-VEE FAST AND FRESH / MARION',\n",
       "       'HY-VEE DOLLAR FRESH / MONTICELLO', 'HY-VEE #3 GAS / IOWA CITY',\n",
       "       'HY-VEE GAS #5 / DAVENPORT', 'HY-VEE GAS #2 / BURLINGTON',\n",
       "       'HY-VEE FAST AND FRESH #2 / GRIMES',\n",
       "       'HY-VEE C STORE #5 / CEDAR RAPIDS', 'HY-VEE GAS / NEWTON',\n",
       "       'HY-VEE FAST AND FRESH #3 / URBANDALE',\n",
       "       'HY-VEE FAST AND FRESH #4 / URBANDALE',\n",
       "       'HY-VEE FAST AND FRESH #5 / URBANDALE',\n",
       "       'HY-VEE FAST AND FRESH #2 / WEST DES MOINES',\n",
       "       'HY-VEE FAST AND FRESH #3 / WEST DES MOINES',\n",
       "       'HY-VEE FOOD STORE (1011) / ALTOONA',\n",
       "       'HY-VEE FOOD STORE (1009) / ALBIA',\n",
       "       'HY-VEE WINE AND SPIRITS (1022) / ANKENY',\n",
       "       'HY-VEE  #2 (1018) / AMES', 'HY-VEE FOOD STORE #1 (1013) / AMES',\n",
       "       'HY-VEE WINE AND SPIRITS (1010) / ALGONA',\n",
       "       'HY-VEE FAST AND FRESH #3 (7592) / WEST DES MOINES',\n",
       "       'HY-VEE FAST AND FRESH #5 (7584) / URBANDALE',\n",
       "       'HY-VEE FAST AND FRESH #2 (7591) / WEST DES MOINES',\n",
       "       'HY-VEE DRUGSTORE #4 (7025) / CEDAR RAPIDS',\n",
       "       'HY-VEE WINE AND SPIRITS (1628) / SPIRIT LAKE',\n",
       "       'HY-VEE WINE AND SPIRITS #1 (1281) / IOWA CITY',\n",
       "       'HY-VEE FOOD STORE #3 (1866) / WATERLOO',\n",
       "       'HY-VEE WINE AND SPIRITS (1544) / RED OAK',\n",
       "       'HY-VEE FOOD STORE #1 (1887) / WDM',\n",
       "       'HY-VEE FOOD STORE (1473) / OSCEOLA',\n",
       "       'HY-VEE FOOD STORE #3 (1142) / DES MOINES',\n",
       "       'HY-VEE FOOD STORE (1095) / CRESTON',\n",
       "       'HY-VEE FOOD STORE #1 (1410) / MASON CITY',\n",
       "       'HY-VEE FOOD STORE (1148) / FLEUR / DSM',\n",
       "       'HY-VEE FOOD STORE (1396) / MARION',\n",
       "       'HY-VEE FOOD STORE #3 (1056) / CEDAR RAPIDS',\n",
       "       'HY-VEE FOOD STORE #1 (1159) / DUBUQUE',\n",
       "       'HY-VEE / DRUGTOWN #1 (7020) / CEDAR RAPIDS',\n",
       "       'HY-VEE FOOD STORE #1 (1054) / CEDAR RAPIDS',\n",
       "       'HY-VEE FOOD STORE #5 (1151) / DES MOINES',\n",
       "       'HY-VEE FOOD STORE #2 (1138) / DES MOINES',\n",
       "       'HY-VEE FOOD STORE #1 (1105) / DAVENPORT',\n",
       "       'HY-VEE FOOD STORE (1295) / IOWA FALLS',\n",
       "       'HY-VEE #2 (1044) / BURLINGTON',\n",
       "       'HY-VEE WINE AND SPIRITS (1038) / BOONE',\n",
       "       'HY-VEE FOOD STORE (1065) / CHARITON',\n",
       "       'HY-VEE FOOD STORE (1271) / INDIANOLA',\n",
       "       'HY-VEE FOOD STORE (1403) / MARSHALLTOWN',\n",
       "       'HY-VEE FOOD STORE (1324) / KEOKUK',\n",
       "       'HY-VEE WINE AND SPIRITS (1170) / ESTHERVILLE',\n",
       "       'HY-VEE FOOD STORE #1 (1504) / OTTUMWA',\n",
       "       'HY-VEE FOOD STORE (1433) / MOUNT PLEASANT',\n",
       "       'HY-VEE FOOD STORE #1 (1042) / BURLINGTON',\n",
       "       'HY-VEE DRUGSTORE (7042) / IOWA CITY',\n",
       "       'HY-VEE FOOD STORE #2 (1285) / IOWA CITY',\n",
       "       'HY-VEE FOOD STORE #1 (1449) / NEWTON',\n",
       "       'HY-VEE FOOD AND DRUG (1888) / GRAND / WDM',\n",
       "       'HY-VEE (1530) / PLEASANT HILL',\n",
       "       'HY-VEE FOOD STORE (1192) / FORT DODGE',\n",
       "       'HY-VEE FOOD STORE (1058) / CENTERVILLE',\n",
       "       'HY-VEE FOOD STORE (1636) / SPENCER',\n",
       "       'HY-VEE FOOD STORE (1353) / KNOXVILLE',\n",
       "       'HY-VEE FAST AND FRESH #4 (7583) / URBANDALE', 'HY-VEE / ELDRIDGE',\n",
       "       'HY-VEE / KNOXVILLE', 'HY-VEE C-STORE #3 / CEDAR RAPIDS',\n",
       "       'HY-VEE FAST & FRESH 2 / DAVENPORT'], dtype=object)"
      ]
     },
     "execution_count": 26,
     "metadata": {},
     "output_type": "execute_result"
    }
   ],
   "source": [
    "df['store_format'] = df['name']\n",
    "df[df['store_format'].str.contains('/', na=False)]['store_format'].unique()"
   ]
  },
  {
   "cell_type": "markdown",
   "metadata": {},
   "source": [
    "The substring following the '/' in each entry of the 'store_format' column appears to denote location information. \n",
    "\n",
    "This detail is not relevant for identifying the store format itself. \n",
    "\n",
    "Consequently, we will focus on the data preceding the '/' for a more accurate characterization of store formats."
   ]
  },
  {
   "cell_type": "code",
   "execution_count": 27,
   "metadata": {},
   "outputs": [
    {
     "data": {
      "text/plain": [
       "array(['HY-VEE FOOD STORE ', 'HY-VEE FOOD STORE #2 ', 'HY-VEE #3 ',\n",
       "       'HY-VEE FOOD STORE #5 ', 'HY-VEE #7 ', 'HY-VEE FOOD AND DRUG #6 ',\n",
       "       'HY-VEE #2 ', 'HY-VEE ', 'HY-VEE DRUGSTORE ',\n",
       "       'HY-VEE WINE AND SPIRITS ', 'HY-VEE FOOD STORE #3 ',\n",
       "       'HY-VEE DRUGSTORE #4 ', 'HY-VEE DRUGSTORE #5 ',\n",
       "       'HY-VEE FOOD STORE #1 ', 'HY-VEE WINE & SPIRITS #2 ', 'HY-VEE #5 ',\n",
       "       'HY-VEE #4 ', 'HY-VEE FOOD STORE #4 ', 'HY-VEE DRUGSTORE #6 ',\n",
       "       'HY-VEE FORT DODGE WINE AND SPIRITS', 'HY-VEE  #2 ',\n",
       "       'HY-VEE FOOD STORE #1636 ', 'HY-VEE MAINSTREET ',\n",
       "       'HY-VEE FOOD AND DRUG ', 'HY-VEE #3 FOOD & DRUGSTORE ',\n",
       "       'HY-VEE DRUGSTORE #2 ', 'HY-VEE WINE & SPIRITS #1 ',\n",
       "       'HY-VEE STORE ', 'HY-VEE #2 FOOD STORE ', 'HY-VEE  ',\n",
       "       'HY-VEE WINE & SPIRITS ', 'HY-VEE #1044 ', 'HY-VEE # 6',\n",
       "       'HY-VEE FAST & FRESH EXPRESS ', 'HY-VEE FAST & FRESH ',\n",
       "       'HY-VEE FAST & FRESH', 'HY-VEE FULFILLMENT CENTER', 'HY-VEE GAS ',\n",
       "       'HY-VEE C-STORE ', 'HY-VEE OTTUMWA#2', 'HY-VEE -GARNER',\n",
       "       'HY-VEE - FOREST CITY', 'HY-VEE FAST & FRESH EXPRESS- BETTENDORF',\n",
       "       'HY-VEE FAST & FRESH - KNOXVILLE', 'HY-VEE C-STRORE - DOUGLAS',\n",
       "       'HY-VEE FAST & FRESH - DES MOINES',\n",
       "       'HY-VEE FAST & FRESH EXPRESS- CRESTON',\n",
       "       'HY-VEE C-STORE - EAST HICKMAN', 'HY-VEE GAS #4 ',\n",
       "       'HY-VEE FAST & FRESH EXPRESS -OSCELOA',\n",
       "       'HY-VEE DOLLAR FRESH - TOLEDO', 'HY-VEE GAS #4 - WDM',\n",
       "       'HY-VEE GAS - PLEASANT HILL', 'HY-VEE DOLLAR FRESH - EMMETSBURG',\n",
       "       'HY-VEE FAST AND FRESH ', 'HY-VEE C-STORE #2 - ANKENY',\n",
       "       'HY-VEE GAS #1 ', 'HY-VEE FAST AND FRESH - URBANDALE',\n",
       "       'HY-VEE FAST AND FRESH - WINDSOR HEIGHTS',\n",
       "       'HY-VEE FAST AND FRESH - DUBUQUE', 'HY-VEE GAS #2 ',\n",
       "       'HY-VEE GASE #5018 ', 'HY-VEE CRESCO DOLLAR FRESH',\n",
       "       'HY-VEE HAMPTON DOLLAR FRESH', 'HY-VEE WAUKON DOLLAR FRESH',\n",
       "       'HY-VEE DYERSVILLE DOLLAR FRESH', 'HY-VEE GAS #3 ',\n",
       "       'HY-VEE OELWEIN DOLLAR FRESH', 'HY-VEE C-STORE - DOUGLAS',\n",
       "       'HY-VEE C-STORE #3 ', 'HY-VEE GAS #5018 ',\n",
       "       'HY-VEE WDM HEALTH MARKET', 'HY-VEE DOLLAR FRESH ',\n",
       "       'HY-VEE FAST AND FRESH #2 ', 'HY-VEE C STORE ', 'HY-VEE #3 GAS ',\n",
       "       'HY-VEE GAS #5 ', 'HY-VEE C STORE #5 ',\n",
       "       'HY-VEE FAST AND FRESH #3 ', 'HY-VEE FAST AND FRESH #4 ',\n",
       "       'HY-VEE FAST AND FRESH #5 ', 'HY-VEE FOOD STORE (1011) ',\n",
       "       'HY-VEE FOOD STORE (1009) ', 'HY-VEE WINE AND SPIRITS (1022) ',\n",
       "       'HY-VEE  #2 (1018) ', 'HY-VEE FOOD STORE #1 (1013) ',\n",
       "       'HY-VEE WINE AND SPIRITS (1010) ',\n",
       "       'HY-VEE FAST AND FRESH #3 (7592) ',\n",
       "       'HY-VEE FAST AND FRESH #5 (7584) ',\n",
       "       'HY-VEE FAST AND FRESH #2 (7591) ', 'HY-VEE DRUGSTORE #4 (7025) ',\n",
       "       'HY-VEE WINE AND SPIRITS (1628) ',\n",
       "       'HY-VEE WINE AND SPIRITS #1 (1281) ',\n",
       "       'HY-VEE FOOD STORE #3 (1866) ', 'HY-VEE WINE AND SPIRITS (1544) ',\n",
       "       'HY-VEE FOOD STORE #1 (1887) ', 'HY-VEE FOOD STORE (1473) ',\n",
       "       'HY-VEE FOOD STORE #3 (1142) ', 'HY-VEE FOOD STORE (1095) ',\n",
       "       'HY-VEE FOOD STORE #1 (1410) ', 'HY-VEE FOOD STORE (1148) ',\n",
       "       'HY-VEE FOOD STORE (1396) ', 'HY-VEE FOOD STORE #3 (1056) ',\n",
       "       'HY-VEE FOOD STORE #1 (1159) ', 'HY-VEE FOOD STORE #1 (1054) ',\n",
       "       'HY-VEE FOOD STORE #5 (1151) ', 'HY-VEE FOOD STORE #2 (1138) ',\n",
       "       'HY-VEE FOOD STORE #1 (1105) ', 'HY-VEE FOOD STORE (1295) ',\n",
       "       'HY-VEE #2 (1044) ', 'HY-VEE WINE AND SPIRITS (1038) ',\n",
       "       'HY-VEE FOOD STORE (1065) ', 'HY-VEE FOOD STORE (1271) ',\n",
       "       'HY-VEE FOOD STORE (1403) ', 'HY-VEE FOOD STORE (1324) ',\n",
       "       'HY-VEE WINE AND SPIRITS (1170) ', 'HY-VEE FOOD STORE #1 (1504) ',\n",
       "       'HY-VEE FOOD STORE (1433) ', 'HY-VEE FOOD STORE #1 (1042) ',\n",
       "       'HY-VEE DRUGSTORE (7042) ', 'HY-VEE FOOD STORE #2 (1285) ',\n",
       "       'HY-VEE FOOD STORE #1 (1449) ', 'HY-VEE FOOD AND DRUG (1888) ',\n",
       "       'HY-VEE (1530) ', 'HY-VEE FOOD STORE (1192) ',\n",
       "       'HY-VEE FOOD STORE (1058) ', 'HY-VEE FOOD STORE (1636) ',\n",
       "       'HY-VEE FOOD STORE (1353) ', 'HY-VEE FAST AND FRESH #4 (7583) ',\n",
       "       'HY-VEE FAST & FRESH 2 '], dtype=object)"
      ]
     },
     "execution_count": 27,
     "metadata": {},
     "output_type": "execute_result"
    }
   ],
   "source": [
    "# Split each string in 'store_format' at the first '/' and keep only the first part\n",
    "df['store_format'] = df['store_format'].str.split('/', n=1).str[0]\n",
    "df['store_format'].unique()"
   ]
  },
  {
   "cell_type": "code",
   "execution_count": 28,
   "metadata": {},
   "outputs": [
    {
     "data": {
      "text/plain": [
       "array(['HY-VEE FOOD STORE ', 'HY-VEE FOOD STORE  ', 'HY-VEE  ',\n",
       "       'HY-VEE FOOD AND DRUG  ', 'HY-VEE ', 'HY-VEE DRUGSTORE ',\n",
       "       'HY-VEE WINE AND SPIRITS ', 'HY-VEE DRUGSTORE  ',\n",
       "       'HY-VEE WINE & SPIRITS  ', 'HY-VEE FORT DODGE WINE AND SPIRITS',\n",
       "       'HY-VEE   ', 'HY-VEE MAINSTREET ', 'HY-VEE FOOD AND DRUG ',\n",
       "       'HY-VEE  FOOD & DRUGSTORE ', 'HY-VEE STORE ',\n",
       "       'HY-VEE  FOOD STORE ', 'HY-VEE WINE & SPIRITS ',\n",
       "       'HY-VEE FAST & FRESH EXPRESS ', 'HY-VEE FAST & FRESH ',\n",
       "       'HY-VEE FAST & FRESH', 'HY-VEE FULFILLMENT CENTER', 'HY-VEE GAS ',\n",
       "       'HY-VEE C-STORE ', 'HY-VEE OTTUMWA', 'HY-VEE -GARNER',\n",
       "       'HY-VEE - FOREST CITY', 'HY-VEE FAST & FRESH EXPRESS- BETTENDORF',\n",
       "       'HY-VEE FAST & FRESH - KNOXVILLE', 'HY-VEE C-STRORE - DOUGLAS',\n",
       "       'HY-VEE FAST & FRESH - DES MOINES',\n",
       "       'HY-VEE FAST & FRESH EXPRESS- CRESTON',\n",
       "       'HY-VEE C-STORE - EAST HICKMAN', 'HY-VEE GAS  ',\n",
       "       'HY-VEE FAST & FRESH EXPRESS -OSCELOA',\n",
       "       'HY-VEE DOLLAR FRESH - TOLEDO', 'HY-VEE GAS  - WDM',\n",
       "       'HY-VEE GAS - PLEASANT HILL', 'HY-VEE DOLLAR FRESH - EMMETSBURG',\n",
       "       'HY-VEE FAST AND FRESH ', 'HY-VEE C-STORE  - ANKENY',\n",
       "       'HY-VEE FAST AND FRESH - URBANDALE',\n",
       "       'HY-VEE FAST AND FRESH - WINDSOR HEIGHTS',\n",
       "       'HY-VEE FAST AND FRESH - DUBUQUE', 'HY-VEE GASE  ',\n",
       "       'HY-VEE CRESCO DOLLAR FRESH', 'HY-VEE HAMPTON DOLLAR FRESH',\n",
       "       'HY-VEE WAUKON DOLLAR FRESH', 'HY-VEE DYERSVILLE DOLLAR FRESH',\n",
       "       'HY-VEE OELWEIN DOLLAR FRESH', 'HY-VEE C-STORE - DOUGLAS',\n",
       "       'HY-VEE C-STORE  ', 'HY-VEE WDM HEALTH MARKET',\n",
       "       'HY-VEE DOLLAR FRESH ', 'HY-VEE FAST AND FRESH  ',\n",
       "       'HY-VEE C STORE ', 'HY-VEE  GAS ', 'HY-VEE C STORE  ',\n",
       "       'HY-VEE WINE AND SPIRITS  ', 'HY-VEE    ', 'HY-VEE FOOD STORE   ',\n",
       "       'HY-VEE FAST AND FRESH   ', 'HY-VEE DRUGSTORE   ',\n",
       "       'HY-VEE WINE AND SPIRITS   ', 'HY-VEE FAST & FRESH  '],\n",
       "      dtype=object)"
      ]
     },
     "execution_count": 28,
     "metadata": {},
     "output_type": "execute_result"
    }
   ],
   "source": [
    "# Removing all numbers and symbols\n",
    "df['store_format'] = df['store_format'].str.replace('[0-9#()]+', '', regex=True)\n",
    "df['store_format'].unique()"
   ]
  },
  {
   "cell_type": "code",
   "execution_count": 29,
   "metadata": {},
   "outputs": [
    {
     "data": {
      "text/plain": [
       "array(['HY-VEE FOOD STORE', 'HY-VEE', 'HY-VEE FOOD AND DRUG',\n",
       "       'HY-VEE DRUGSTORE', 'HY-VEE WINE AND SPIRITS',\n",
       "       'HY-VEE WINE & SPIRITS', 'HY-VEE FORT DODGE WINE AND SPIRITS',\n",
       "       'HY-VEE MAINSTREET', 'HY-VEE FOOD & DRUGSTORE', 'HY-VEE STORE',\n",
       "       'HY-VEE FAST & FRESH EXPRESS', 'HY-VEE FAST & FRESH',\n",
       "       'HY-VEE FULFILLMENT CENTER', 'HY-VEE GAS', 'HY-VEE C-STORE',\n",
       "       'HY-VEE OTTUMWA', 'HY-VEE -GARNER', 'HY-VEE - FOREST CITY',\n",
       "       'HY-VEE FAST & FRESH EXPRESS- BETTENDORF',\n",
       "       'HY-VEE FAST & FRESH - KNOXVILLE', 'HY-VEE C-STRORE - DOUGLAS',\n",
       "       'HY-VEE FAST & FRESH - DES MOINES',\n",
       "       'HY-VEE FAST & FRESH EXPRESS- CRESTON',\n",
       "       'HY-VEE C-STORE - EAST HICKMAN',\n",
       "       'HY-VEE FAST & FRESH EXPRESS -OSCELOA',\n",
       "       'HY-VEE DOLLAR FRESH - TOLEDO', 'HY-VEE GAS - WDM',\n",
       "       'HY-VEE GAS - PLEASANT HILL', 'HY-VEE DOLLAR FRESH - EMMETSBURG',\n",
       "       'HY-VEE FAST AND FRESH', 'HY-VEE C-STORE - ANKENY',\n",
       "       'HY-VEE FAST AND FRESH - URBANDALE',\n",
       "       'HY-VEE FAST AND FRESH - WINDSOR HEIGHTS',\n",
       "       'HY-VEE FAST AND FRESH - DUBUQUE', 'HY-VEE GASE',\n",
       "       'HY-VEE CRESCO DOLLAR FRESH', 'HY-VEE HAMPTON DOLLAR FRESH',\n",
       "       'HY-VEE WAUKON DOLLAR FRESH', 'HY-VEE DYERSVILLE DOLLAR FRESH',\n",
       "       'HY-VEE OELWEIN DOLLAR FRESH', 'HY-VEE C-STORE - DOUGLAS',\n",
       "       'HY-VEE WDM HEALTH MARKET', 'HY-VEE DOLLAR FRESH',\n",
       "       'HY-VEE C STORE'], dtype=object)"
      ]
     },
     "execution_count": 29,
     "metadata": {},
     "output_type": "execute_result"
    }
   ],
   "source": [
    "# Remove leading and trailing spaces\n",
    "df['store_format'] = df['store_format'].str.strip()\n",
    "\n",
    "# Replace consecutive spaces with a single space\n",
    "df['store_format'] = df['store_format'].str.replace('\\s+', ' ', regex=True)\n",
    "\n",
    "df['store_format'].unique()"
   ]
  },
  {
   "cell_type": "code",
   "execution_count": 30,
   "metadata": {},
   "outputs": [
    {
     "data": {
      "text/plain": [
       "array(['HY-VEE FOOD & DRUG', 'HY-VEE', 'HY-VEE WINE & SPIRITS',\n",
       "       'HY-VEE MAINSTREET', 'HY-VEE STORE', 'HY-VEE FAST & FRESH',\n",
       "       'HY-VEE FULFILLMENT CENTER', 'HY-VEE GAS', 'HY-VEE C-STORE',\n",
       "       'HY-VEE OTTUMWA', 'HY-VEE -GARNER', 'HY-VEE - FOREST CITY',\n",
       "       'HY-VEE DOLLAR FRESH', 'HY-VEE WDM HEALTH MARKET'], dtype=object)"
      ]
     },
     "execution_count": 30,
     "metadata": {},
     "output_type": "execute_result"
    }
   ],
   "source": [
    "# Standardizing the names\n",
    "replacements = {\n",
    "    'FOOD STORE': 'HY-VEE',\n",
    "    'FOOD AND DRUG': 'HY-VEE FOOD & DRUG',\n",
    "    'DRUGSTORE': 'HY-VEE FOOD & DRUG',\n",
    "    'FOOD & DRUGSTORE': 'HY-VEE FOOD & DRUG',\n",
    "    'WINE AND SPIRITS': 'HY-VEE WINE & SPIRITS',\n",
    "    'WINE & SPIRITS': 'HY-VEE WINE & SPIRITS',\n",
    "    'FAST & FRESH EXPRESS': 'HY-VEE FAST & FRESH',\n",
    "    'FAST & FRESH': 'HY-VEE FAST & FRESH',\n",
    "    'FAST AND FRESH': 'HY-VEE FAST & FRESH',\n",
    "    'GAS': 'HY-VEE GAS',\n",
    "    'GASE': 'HY-VEE GAS',\n",
    "    'C-STORE': 'HY-VEE C-STORE',\n",
    "    'C-STRORE': 'HY-VEE C-STORE',\n",
    "    'C STORE': 'HY-VEE C-STORE',\n",
    "    'DOLLAR FRESH': 'HY-VEE DOLLAR FRESH'\n",
    "}\n",
    "\n",
    "for key, value in replacements.items():\n",
    "    df.loc[df['store_format'].str.contains(key, na=False, case=False), 'store_format'] = value\n",
    "\n",
    "df['store_format'].unique()"
   ]
  },
  {
   "cell_type": "markdown",
   "metadata": {},
   "source": [
    "Upcoming Step: To clarify the store formats associated with ambiguous store names, I will utilize online resources. \n",
    "\n",
    "This approach involves cross-referencing the addresses of these stores with external data sources to accurately determine their specific format types. "
   ]
  },
  {
   "cell_type": "code",
   "execution_count": 31,
   "metadata": {},
   "outputs": [
    {
     "data": {
      "text/plain": [
       "array([2612], dtype=int64)"
      ]
     },
     "execution_count": 31,
     "metadata": {},
     "output_type": "execute_result"
    }
   ],
   "source": [
    "df[df['store_format']=='HY-VEE STORE']['store'].unique()"
   ]
  },
  {
   "cell_type": "code",
   "execution_count": 32,
   "metadata": {},
   "outputs": [
    {
     "data": {
      "text/plain": [
       "array([2680], dtype=int64)"
      ]
     },
     "execution_count": 32,
     "metadata": {},
     "output_type": "execute_result"
    }
   ],
   "source": [
    "df[df['store_format']=='HY-VEE FULFILLMENT CENTER']['store'].unique()"
   ]
  },
  {
   "cell_type": "code",
   "execution_count": 33,
   "metadata": {},
   "outputs": [
    {
     "data": {
      "text/plain": [
       "array([2596], dtype=int64)"
      ]
     },
     "execution_count": 33,
     "metadata": {},
     "output_type": "execute_result"
    }
   ],
   "source": [
    "df[df['store_format']=='HY-VEE OTTUMWA']['store'].unique()"
   ]
  },
  {
   "cell_type": "code",
   "execution_count": 34,
   "metadata": {},
   "outputs": [
    {
     "data": {
      "text/plain": [
       "array([2681, 2689, 2688, 2696, 2699, 2721, 6200, 6193, 6216], dtype=int64)"
      ]
     },
     "execution_count": 34,
     "metadata": {},
     "output_type": "execute_result"
    }
   ],
   "source": [
    "df[df['store_format']=='HY-VEE C-STORE']['store'].unique()"
   ]
  },
  {
   "cell_type": "code",
   "execution_count": 35,
   "metadata": {},
   "outputs": [
    {
     "data": {
      "text/plain": [
       "array([2685], dtype=int64)"
      ]
     },
     "execution_count": 35,
     "metadata": {},
     "output_type": "execute_result"
    }
   ],
   "source": [
    "df[df['store_format']=='HY-VEE -GARNER']['store'].unique()"
   ]
  },
  {
   "cell_type": "code",
   "execution_count": 36,
   "metadata": {},
   "outputs": [
    {
     "data": {
      "text/plain": [
       "array([2684], dtype=int64)"
      ]
     },
     "execution_count": 36,
     "metadata": {},
     "output_type": "execute_result"
    }
   ],
   "source": [
    "df[df['store_format']=='HY-VEE - FOREST CITY']['store'].unique()"
   ]
  },
  {
   "cell_type": "code",
   "execution_count": 37,
   "metadata": {},
   "outputs": [
    {
     "data": {
      "text/plain": [
       "array([2682], dtype=int64)"
      ]
     },
     "execution_count": 37,
     "metadata": {},
     "output_type": "execute_result"
    }
   ],
   "source": [
    "df[df['store_format']=='HY-VEE WDM HEALTH MARKET']['store'].unique()"
   ]
  },
  {
   "cell_type": "code",
   "execution_count": 38,
   "metadata": {},
   "outputs": [
    {
     "data": {
      "text/plain": [
       "array([2667], dtype=int64)"
      ]
     },
     "execution_count": 38,
     "metadata": {},
     "output_type": "execute_result"
    }
   ],
   "source": [
    "df[df['store_format']=='HY-VEE MAINSTREET']['store'].unique()"
   ]
  },
  {
   "cell_type": "code",
   "execution_count": 39,
   "metadata": {},
   "outputs": [
    {
     "data": {
      "text/plain": [
       "array(['HY-VEE FOOD & DRUG', 'HY-VEE', 'HY-VEE WINE & SPIRITS',\n",
       "       'HY-VEE GAS', 'HY-VEE FAST & FRESH', 'OTHER',\n",
       "       'HY-VEE DOLLAR FRESH'], dtype=object)"
      ]
     },
     "execution_count": 39,
     "metadata": {},
     "output_type": "execute_result"
    }
   ],
   "source": [
    "# Following are the results\n",
    "\n",
    "store_format_mapping = {\n",
    "    2612: 'HY-VEE',\n",
    "    2681: 'HY-VEE',\n",
    "    2680: 'OTHER', # Training and Education Center\n",
    "    2596: 'HY-VEE GAS',\n",
    "    2685: 'HY-VEE FOOD & DRUG',\n",
    "    2684: 'HY-VEE',\n",
    "    2682: 'HY-VEE WINE & SPIRITS',\n",
    "    2667: 'HY-VEE FOOD & DRUG',\n",
    "    2689: 'HY-VEE FAST & FRESH',\n",
    "    2688: 'OTHER', # CAR WASH\n",
    "    2696: 'HY-VEE FAST & FRESH',\n",
    "    2699: 'HY-VEE FAST & FRESH',\n",
    "    2721: 'HY-VEE FAST & FRESH',\n",
    "    6200: 'HY-VEE FAST & FRESH',\n",
    "    6193: 'HY-VEE FAST & FRESH',\n",
    "    6216: 'HY-VEE GAS'\n",
    "}\n",
    "\n",
    "for store_id, format_name in store_format_mapping.items():\n",
    "    df.loc[df['store'] == store_id, 'store_format'] = format_name\n",
    "\n",
    "df['store_format'].unique()"
   ]
  },
  {
   "cell_type": "code",
   "execution_count": 40,
   "metadata": {},
   "outputs": [
    {
     "data": {
      "text/plain": [
       "0.0"
      ]
     },
     "execution_count": 40,
     "metadata": {},
     "output_type": "execute_result"
    }
   ],
   "source": [
    "len(df[df['store_format'].isna()])/len(df)"
   ]
  },
  {
   "cell_type": "code",
   "execution_count": null,
   "metadata": {},
   "outputs": [],
   "source": [
    "format_replacements = {\n",
    "    'HY-VEE': 'Grocery Store',\n",
    "    'HY-VEE GAS': 'Gas Station',\n",
    "    'HY-VEE FOOD & DRUG': 'Pharmacy',\n",
    "    'HY-VEE WINE & SPIRITS': 'Wine & Spirits',\n",
    "    'HY-VEE FAST & FRESH': 'Fast & Fresh',\n",
    "    'HY-VEE DOLLAR FRESH': 'Dollar Fresh Market',\n",
    "    'OTHER': 'Other'\n",
    "}\n",
    "\n",
    "df['store_format'] = df['store_format'].replace(format_replacements)"
   ]
  },
  {
   "cell_type": "code",
   "execution_count": null,
   "metadata": {},
   "outputs": [],
   "source": [
    "df.to_csv('data/clean_hyvee.csv', index=False)"
   ]
  }
 ],
 "metadata": {
  "kernelspec": {
   "display_name": "Python 3",
   "language": "python",
   "name": "python3"
  },
  "language_info": {
   "codemirror_mode": {
    "name": "ipython",
    "version": 3
   },
   "file_extension": ".py",
   "mimetype": "text/x-python",
   "name": "python",
   "nbconvert_exporter": "python",
   "pygments_lexer": "ipython3",
   "version": "3.11.7"
  }
 },
 "nbformat": 4,
 "nbformat_minor": 2
}
