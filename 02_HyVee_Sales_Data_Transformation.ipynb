{
 "cells": [
  {
   "cell_type": "markdown",
   "metadata": {},
   "source": [
    "# Data Transformation"
   ]
  },
  {
   "cell_type": "markdown",
   "metadata": {},
   "source": [
    "## 1. Loading Data"
   ]
  },
  {
   "cell_type": "code",
   "execution_count": 1,
   "metadata": {},
   "outputs": [],
   "source": [
    "import pandas as pd\n",
    "import os"
   ]
  },
  {
   "cell_type": "code",
   "execution_count": 2,
   "metadata": {},
   "outputs": [],
   "source": [
    "directory = 'data/'\n",
    "file_pattern = 'hyvee_'\n",
    "dataframes = []\n",
    "\n",
    "# Loop through each file in the directory\n",
    "for file in os.listdir(directory):\n",
    "    if file.startswith(file_pattern) and file.endswith('.csv'):\n",
    "        file_path = os.path.join(directory, file)\n",
    "        df = pd.read_csv(file_path)\n",
    "        dataframes.append(df)"
   ]
  },
  {
   "cell_type": "code",
   "execution_count": 3,
   "metadata": {},
   "outputs": [],
   "source": [
    "\n",
    "# Combine all DataFrames into a single DataFrame\n",
    "df = pd.concat(dataframes, ignore_index=True)"
   ]
  },
  {
   "cell_type": "code",
   "execution_count": 4,
   "metadata": {},
   "outputs": [
    {
     "data": {
      "text/html": [
       "<div>\n",
       "<style scoped>\n",
       "    .dataframe tbody tr th:only-of-type {\n",
       "        vertical-align: middle;\n",
       "    }\n",
       "\n",
       "    .dataframe tbody tr th {\n",
       "        vertical-align: top;\n",
       "    }\n",
       "\n",
       "    .dataframe thead th {\n",
       "        text-align: right;\n",
       "    }\n",
       "</style>\n",
       "<table border=\"1\" class=\"dataframe\">\n",
       "  <thead>\n",
       "    <tr style=\"text-align: right;\">\n",
       "      <th></th>\n",
       "      <th>invoice_line_no</th>\n",
       "      <th>date</th>\n",
       "      <th>store</th>\n",
       "      <th>name</th>\n",
       "      <th>city</th>\n",
       "      <th>zipcode</th>\n",
       "      <th>county</th>\n",
       "      <th>category</th>\n",
       "      <th>category_name</th>\n",
       "      <th>vendor_no</th>\n",
       "      <th>vendor_name</th>\n",
       "      <th>itemno</th>\n",
       "      <th>im_desc</th>\n",
       "      <th>state_bottle_cost</th>\n",
       "      <th>state_bottle_retail</th>\n",
       "      <th>sale_bottles</th>\n",
       "      <th>sale_dollars</th>\n",
       "    </tr>\n",
       "  </thead>\n",
       "  <tbody>\n",
       "    <tr>\n",
       "      <th>0</th>\n",
       "      <td>INV-16685400042</td>\n",
       "      <td>2019-01-02T00:00:00.000</td>\n",
       "      <td>2524</td>\n",
       "      <td>HY-VEE FOOD STORE / DUBUQUE</td>\n",
       "      <td>DUBUQUE</td>\n",
       "      <td>52001.0</td>\n",
       "      <td>DUBUQUE</td>\n",
       "      <td>1031100.0</td>\n",
       "      <td>AMERICAN VODKAS</td>\n",
       "      <td>301.0</td>\n",
       "      <td>FIFTH GENERATION INC</td>\n",
       "      <td>38177</td>\n",
       "      <td>TITOS HANDMADE VODKA</td>\n",
       "      <td>12.67</td>\n",
       "      <td>19.01</td>\n",
       "      <td>36</td>\n",
       "      <td>684.36</td>\n",
       "    </tr>\n",
       "    <tr>\n",
       "      <th>1</th>\n",
       "      <td>INV-16685400057</td>\n",
       "      <td>2019-01-02T00:00:00.000</td>\n",
       "      <td>2524</td>\n",
       "      <td>HY-VEE FOOD STORE / DUBUQUE</td>\n",
       "      <td>DUBUQUE</td>\n",
       "      <td>52001.0</td>\n",
       "      <td>DUBUQUE</td>\n",
       "      <td>1062200.0</td>\n",
       "      <td>WHITE RUM</td>\n",
       "      <td>434.0</td>\n",
       "      <td>LUXCO INC</td>\n",
       "      <td>46351</td>\n",
       "      <td>HAWKEYE LIGHT RUM</td>\n",
       "      <td>4.34</td>\n",
       "      <td>6.51</td>\n",
       "      <td>12</td>\n",
       "      <td>78.12</td>\n",
       "    </tr>\n",
       "    <tr>\n",
       "      <th>2</th>\n",
       "      <td>INV-16679100094</td>\n",
       "      <td>2019-01-02T00:00:00.000</td>\n",
       "      <td>2549</td>\n",
       "      <td>HY-VEE FOOD STORE / INDIANOLA</td>\n",
       "      <td>INDIANOLA</td>\n",
       "      <td>50125.0</td>\n",
       "      <td>WARREN</td>\n",
       "      <td>1081200.0</td>\n",
       "      <td>CREAM LIQUEURS</td>\n",
       "      <td>305.0</td>\n",
       "      <td>MHW LTD</td>\n",
       "      <td>73052</td>\n",
       "      <td>RUMCHATA</td>\n",
       "      <td>7.00</td>\n",
       "      <td>10.50</td>\n",
       "      <td>2</td>\n",
       "      <td>21.00</td>\n",
       "    </tr>\n",
       "    <tr>\n",
       "      <th>3</th>\n",
       "      <td>INV-16685400104</td>\n",
       "      <td>2019-01-02T00:00:00.000</td>\n",
       "      <td>2524</td>\n",
       "      <td>HY-VEE FOOD STORE / DUBUQUE</td>\n",
       "      <td>DUBUQUE</td>\n",
       "      <td>52001.0</td>\n",
       "      <td>DUBUQUE</td>\n",
       "      <td>1022100.0</td>\n",
       "      <td>MIXTO TEQUILA</td>\n",
       "      <td>434.0</td>\n",
       "      <td>LUXCO INC</td>\n",
       "      <td>87937</td>\n",
       "      <td>JUAREZ TEQUILA SILVER</td>\n",
       "      <td>7.83</td>\n",
       "      <td>11.75</td>\n",
       "      <td>12</td>\n",
       "      <td>141.00</td>\n",
       "    </tr>\n",
       "    <tr>\n",
       "      <th>4</th>\n",
       "      <td>INV-16682800080</td>\n",
       "      <td>2019-01-02T00:00:00.000</td>\n",
       "      <td>2513</td>\n",
       "      <td>HY-VEE FOOD STORE #2 / IOWA CITY</td>\n",
       "      <td>IOWA CITY</td>\n",
       "      <td>52240.0</td>\n",
       "      <td>JOHNSON</td>\n",
       "      <td>1031100.0</td>\n",
       "      <td>AMERICAN VODKAS</td>\n",
       "      <td>297.0</td>\n",
       "      <td>LAIRD &amp; COMPANY</td>\n",
       "      <td>35926</td>\n",
       "      <td>FIVE O'CLOCK VODKA PET</td>\n",
       "      <td>3.37</td>\n",
       "      <td>5.06</td>\n",
       "      <td>12</td>\n",
       "      <td>60.72</td>\n",
       "    </tr>\n",
       "  </tbody>\n",
       "</table>\n",
       "</div>"
      ],
      "text/plain": [
       "   invoice_line_no                     date  store  \\\n",
       "0  INV-16685400042  2019-01-02T00:00:00.000   2524   \n",
       "1  INV-16685400057  2019-01-02T00:00:00.000   2524   \n",
       "2  INV-16679100094  2019-01-02T00:00:00.000   2549   \n",
       "3  INV-16685400104  2019-01-02T00:00:00.000   2524   \n",
       "4  INV-16682800080  2019-01-02T00:00:00.000   2513   \n",
       "\n",
       "                               name       city  zipcode   county   category  \\\n",
       "0       HY-VEE FOOD STORE / DUBUQUE    DUBUQUE  52001.0  DUBUQUE  1031100.0   \n",
       "1       HY-VEE FOOD STORE / DUBUQUE    DUBUQUE  52001.0  DUBUQUE  1062200.0   \n",
       "2     HY-VEE FOOD STORE / INDIANOLA  INDIANOLA  50125.0   WARREN  1081200.0   \n",
       "3       HY-VEE FOOD STORE / DUBUQUE    DUBUQUE  52001.0  DUBUQUE  1022100.0   \n",
       "4  HY-VEE FOOD STORE #2 / IOWA CITY  IOWA CITY  52240.0  JOHNSON  1031100.0   \n",
       "\n",
       "     category_name  vendor_no           vendor_name  itemno  \\\n",
       "0  AMERICAN VODKAS      301.0  FIFTH GENERATION INC   38177   \n",
       "1        WHITE RUM      434.0             LUXCO INC   46351   \n",
       "2   CREAM LIQUEURS      305.0               MHW LTD   73052   \n",
       "3    MIXTO TEQUILA      434.0             LUXCO INC   87937   \n",
       "4  AMERICAN VODKAS      297.0       LAIRD & COMPANY   35926   \n",
       "\n",
       "                  im_desc  state_bottle_cost  state_bottle_retail  \\\n",
       "0    TITOS HANDMADE VODKA              12.67                19.01   \n",
       "1       HAWKEYE LIGHT RUM               4.34                 6.51   \n",
       "2                RUMCHATA               7.00                10.50   \n",
       "3   JUAREZ TEQUILA SILVER               7.83                11.75   \n",
       "4  FIVE O'CLOCK VODKA PET               3.37                 5.06   \n",
       "\n",
       "   sale_bottles  sale_dollars  \n",
       "0            36        684.36  \n",
       "1            12         78.12  \n",
       "2             2         21.00  \n",
       "3            12        141.00  \n",
       "4            12         60.72  "
      ]
     },
     "execution_count": 4,
     "metadata": {},
     "output_type": "execute_result"
    }
   ],
   "source": [
    "df.head()"
   ]
  },
  {
   "cell_type": "code",
   "execution_count": 5,
   "metadata": {},
   "outputs": [
    {
     "name": "stdout",
     "output_type": "stream",
     "text": [
      "<class 'pandas.core.frame.DataFrame'>\n",
      "RangeIndex: 3727001 entries, 0 to 3727000\n",
      "Data columns (total 17 columns):\n",
      " #   Column               Dtype  \n",
      "---  ------               -----  \n",
      " 0   invoice_line_no      object \n",
      " 1   date                 object \n",
      " 2   store                int64  \n",
      " 3   name                 object \n",
      " 4   city                 object \n",
      " 5   zipcode              float64\n",
      " 6   county               object \n",
      " 7   category             float64\n",
      " 8   category_name        object \n",
      " 9   vendor_no            float64\n",
      " 10  vendor_name          object \n",
      " 11  itemno               int64  \n",
      " 12  im_desc              object \n",
      " 13  state_bottle_cost    float64\n",
      " 14  state_bottle_retail  float64\n",
      " 15  sale_bottles         int64  \n",
      " 16  sale_dollars         float64\n",
      "dtypes: float64(6), int64(3), object(8)\n",
      "memory usage: 483.4+ MB\n"
     ]
    }
   ],
   "source": [
    "df.info()"
   ]
  },
  {
   "cell_type": "markdown",
   "metadata": {},
   "source": [
    "# 2. Cleaning Data"
   ]
  },
  {
   "cell_type": "markdown",
   "metadata": {},
   "source": [
    "### 2.1. Revoving Duplicate Rows"
   ]
  },
  {
   "cell_type": "code",
   "execution_count": 6,
   "metadata": {},
   "outputs": [
    {
     "name": "stdout",
     "output_type": "stream",
     "text": [
      "Number of duplicate rows: 5099; Percentage of duplicate rows: 0.14%\n"
     ]
    }
   ],
   "source": [
    "num_dup = df.duplicated().sum()\n",
    "perc_dup = num_dup / df.shape[0] * 100 \n",
    "print(f'Number of duplicate rows: {num_dup}; Percentage of duplicate rows: {perc_dup:.2f}%')"
   ]
  },
  {
   "cell_type": "code",
   "execution_count": 7,
   "metadata": {},
   "outputs": [
    {
     "name": "stdout",
     "output_type": "stream",
     "text": [
      "Number of duplicate rows: 0; Percentage of duplicate rows: 0.00%\n"
     ]
    }
   ],
   "source": [
    "# Despite the potential for duplicates arising from reasons other than data entry errors, \n",
    "# I'm opting to remove them as they constitute a minimal proportion of the dataset (only 0.14%). \n",
    "# This decision is based on the assumption that the impact on data integrity will be negligible while simplifying further analysis.\n",
    "\n",
    "df = df.drop_duplicates()\n",
    "num_dup = df.duplicated().sum()\n",
    "perc_dup = num_dup / df.shape[0] * 100 \n",
    "print(f'Number of duplicate rows: {num_dup}; Percentage of duplicate rows: {perc_dup:.2f}%')"
   ]
  },
  {
   "cell_type": "markdown",
   "metadata": {},
   "source": [
    "### 2.2. Handelling Missing Values"
   ]
  },
  {
   "cell_type": "code",
   "execution_count": 8,
   "metadata": {},
   "outputs": [
    {
     "data": {
      "text/html": [
       "<div>\n",
       "<style scoped>\n",
       "    .dataframe tbody tr th:only-of-type {\n",
       "        vertical-align: middle;\n",
       "    }\n",
       "\n",
       "    .dataframe tbody tr th {\n",
       "        vertical-align: top;\n",
       "    }\n",
       "\n",
       "    .dataframe thead th {\n",
       "        text-align: right;\n",
       "    }\n",
       "</style>\n",
       "<table border=\"1\" class=\"dataframe\">\n",
       "  <thead>\n",
       "    <tr style=\"text-align: right;\">\n",
       "      <th></th>\n",
       "      <th>Missing Values</th>\n",
       "      <th>% of Total Values</th>\n",
       "    </tr>\n",
       "  </thead>\n",
       "  <tbody>\n",
       "    <tr>\n",
       "      <th>city</th>\n",
       "      <td>2105</td>\n",
       "      <td>0.056557</td>\n",
       "    </tr>\n",
       "    <tr>\n",
       "      <th>zipcode</th>\n",
       "      <td>2105</td>\n",
       "      <td>0.056557</td>\n",
       "    </tr>\n",
       "    <tr>\n",
       "      <th>county</th>\n",
       "      <td>2105</td>\n",
       "      <td>0.056557</td>\n",
       "    </tr>\n",
       "    <tr>\n",
       "      <th>category</th>\n",
       "      <td>1317</td>\n",
       "      <td>0.035385</td>\n",
       "    </tr>\n",
       "    <tr>\n",
       "      <th>category_name</th>\n",
       "      <td>1317</td>\n",
       "      <td>0.035385</td>\n",
       "    </tr>\n",
       "    <tr>\n",
       "      <th>vendor_no</th>\n",
       "      <td>1</td>\n",
       "      <td>0.000027</td>\n",
       "    </tr>\n",
       "    <tr>\n",
       "      <th>vendor_name</th>\n",
       "      <td>1</td>\n",
       "      <td>0.000027</td>\n",
       "    </tr>\n",
       "  </tbody>\n",
       "</table>\n",
       "</div>"
      ],
      "text/plain": [
       "               Missing Values  % of Total Values\n",
       "city                     2105           0.056557\n",
       "zipcode                  2105           0.056557\n",
       "county                   2105           0.056557\n",
       "category                 1317           0.035385\n",
       "category_name            1317           0.035385\n",
       "vendor_no                   1           0.000027\n",
       "vendor_name                 1           0.000027"
      ]
     },
     "execution_count": 8,
     "metadata": {},
     "output_type": "execute_result"
    }
   ],
   "source": [
    "def missing_values_table(df):\n",
    "    if not isinstance(df, pd.DataFrame):\n",
    "        raise ValueError(\"Input is not a pandas DataFrame\")\n",
    "\n",
    "    num_na = df.isnull().sum()\n",
    "    perc_na = (num_na / len(df)) * 100\n",
    "\n",
    "    df_na = pd.DataFrame({\n",
    "        'Missing Values': num_na,\n",
    "        '% of Total Values': perc_na\n",
    "    })\n",
    "\n",
    "    df_na = df_na[df_na['Missing Values'] != 0]\n",
    "\n",
    "    return df_na\n",
    "\n",
    "missing_values_table(df)"
   ]
  },
  {
   "cell_type": "markdown",
   "metadata": {},
   "source": [
    "All of the missing data pertains to contextual information. \n",
    "Despite its relatively small proportion, these rows include crucial sales data, pivotal for our analysis. \n",
    "Therefore, we will retain these rows by substituting missing values with placeholders, ensuring that valuable sales insights are preserved."
   ]
  },
  {
   "cell_type": "code",
   "execution_count": 9,
   "metadata": {},
   "outputs": [
    {
     "data": {
      "text/html": [
       "<div>\n",
       "<style scoped>\n",
       "    .dataframe tbody tr th:only-of-type {\n",
       "        vertical-align: middle;\n",
       "    }\n",
       "\n",
       "    .dataframe tbody tr th {\n",
       "        vertical-align: top;\n",
       "    }\n",
       "\n",
       "    .dataframe thead th {\n",
       "        text-align: right;\n",
       "    }\n",
       "</style>\n",
       "<table border=\"1\" class=\"dataframe\">\n",
       "  <thead>\n",
       "    <tr style=\"text-align: right;\">\n",
       "      <th></th>\n",
       "      <th>Missing Values</th>\n",
       "      <th>% of Total Values</th>\n",
       "    </tr>\n",
       "  </thead>\n",
       "  <tbody>\n",
       "  </tbody>\n",
       "</table>\n",
       "</div>"
      ],
      "text/plain": [
       "Empty DataFrame\n",
       "Columns: [Missing Values, % of Total Values]\n",
       "Index: []"
      ]
     },
     "execution_count": 9,
     "metadata": {},
     "output_type": "execute_result"
    }
   ],
   "source": [
    "placeholders = {\n",
    "    'city'          : 'UNKNOWN',  \n",
    "    'county'        : 'UNKNOWN',  \n",
    "    'category_name' : 'UNKNOWN',\n",
    "    'vendor_name'   : 'UNKNOWN',\n",
    "    'zipcode'       : 99999,\n",
    "    'category'      : 9999999,\n",
    "    'vendor_no'     : 999\n",
    "}\n",
    "\n",
    "df = df.fillna(value=placeholders)\n",
    "missing_values_table(df)"
   ]
  },
  {
   "cell_type": "markdown",
   "metadata": {},
   "source": [
    "### 2.3. Converting Data Type"
   ]
  },
  {
   "cell_type": "code",
   "execution_count": 10,
   "metadata": {},
   "outputs": [
    {
     "name": "stdout",
     "output_type": "stream",
     "text": [
      "<class 'pandas.core.frame.DataFrame'>\n",
      "Index: 3721902 entries, 0 to 3727000\n",
      "Data columns (total 17 columns):\n",
      " #   Column               Dtype  \n",
      "---  ------               -----  \n",
      " 0   invoice_line_no      object \n",
      " 1   date                 object \n",
      " 2   store                int64  \n",
      " 3   name                 object \n",
      " 4   city                 object \n",
      " 5   zipcode              float64\n",
      " 6   county               object \n",
      " 7   category             float64\n",
      " 8   category_name        object \n",
      " 9   vendor_no            float64\n",
      " 10  vendor_name          object \n",
      " 11  itemno               int64  \n",
      " 12  im_desc              object \n",
      " 13  state_bottle_cost    float64\n",
      " 14  state_bottle_retail  float64\n",
      " 15  sale_bottles         int64  \n",
      " 16  sale_dollars         float64\n",
      "dtypes: float64(6), int64(3), object(8)\n",
      "memory usage: 511.1+ MB\n"
     ]
    }
   ],
   "source": [
    "df.info()"
   ]
  },
  {
   "cell_type": "markdown",
   "metadata": {},
   "source": [
    "#### 2.3.1. Datetime Columns"
   ]
  },
  {
   "cell_type": "code",
   "execution_count": 11,
   "metadata": {},
   "outputs": [
    {
     "data": {
      "text/html": [
       "<div>\n",
       "<style scoped>\n",
       "    .dataframe tbody tr th:only-of-type {\n",
       "        vertical-align: middle;\n",
       "    }\n",
       "\n",
       "    .dataframe tbody tr th {\n",
       "        vertical-align: top;\n",
       "    }\n",
       "\n",
       "    .dataframe thead th {\n",
       "        text-align: right;\n",
       "    }\n",
       "</style>\n",
       "<table border=\"1\" class=\"dataframe\">\n",
       "  <thead>\n",
       "    <tr style=\"text-align: right;\">\n",
       "      <th></th>\n",
       "      <th>invoice_line_no</th>\n",
       "      <th>date</th>\n",
       "      <th>store</th>\n",
       "      <th>name</th>\n",
       "      <th>city</th>\n",
       "      <th>zipcode</th>\n",
       "      <th>county</th>\n",
       "      <th>category</th>\n",
       "      <th>category_name</th>\n",
       "      <th>vendor_no</th>\n",
       "      <th>vendor_name</th>\n",
       "      <th>itemno</th>\n",
       "      <th>im_desc</th>\n",
       "      <th>state_bottle_cost</th>\n",
       "      <th>state_bottle_retail</th>\n",
       "      <th>sale_bottles</th>\n",
       "      <th>sale_dollars</th>\n",
       "    </tr>\n",
       "  </thead>\n",
       "  <tbody>\n",
       "    <tr>\n",
       "      <th>0</th>\n",
       "      <td>INV-16685400042</td>\n",
       "      <td>2019-01-02</td>\n",
       "      <td>2524</td>\n",
       "      <td>HY-VEE FOOD STORE / DUBUQUE</td>\n",
       "      <td>DUBUQUE</td>\n",
       "      <td>52001.0</td>\n",
       "      <td>DUBUQUE</td>\n",
       "      <td>1031100.0</td>\n",
       "      <td>AMERICAN VODKAS</td>\n",
       "      <td>301.0</td>\n",
       "      <td>FIFTH GENERATION INC</td>\n",
       "      <td>38177</td>\n",
       "      <td>TITOS HANDMADE VODKA</td>\n",
       "      <td>12.67</td>\n",
       "      <td>19.01</td>\n",
       "      <td>36</td>\n",
       "      <td>684.36</td>\n",
       "    </tr>\n",
       "    <tr>\n",
       "      <th>1</th>\n",
       "      <td>INV-16685400057</td>\n",
       "      <td>2019-01-02</td>\n",
       "      <td>2524</td>\n",
       "      <td>HY-VEE FOOD STORE / DUBUQUE</td>\n",
       "      <td>DUBUQUE</td>\n",
       "      <td>52001.0</td>\n",
       "      <td>DUBUQUE</td>\n",
       "      <td>1062200.0</td>\n",
       "      <td>WHITE RUM</td>\n",
       "      <td>434.0</td>\n",
       "      <td>LUXCO INC</td>\n",
       "      <td>46351</td>\n",
       "      <td>HAWKEYE LIGHT RUM</td>\n",
       "      <td>4.34</td>\n",
       "      <td>6.51</td>\n",
       "      <td>12</td>\n",
       "      <td>78.12</td>\n",
       "    </tr>\n",
       "    <tr>\n",
       "      <th>2</th>\n",
       "      <td>INV-16679100094</td>\n",
       "      <td>2019-01-02</td>\n",
       "      <td>2549</td>\n",
       "      <td>HY-VEE FOOD STORE / INDIANOLA</td>\n",
       "      <td>INDIANOLA</td>\n",
       "      <td>50125.0</td>\n",
       "      <td>WARREN</td>\n",
       "      <td>1081200.0</td>\n",
       "      <td>CREAM LIQUEURS</td>\n",
       "      <td>305.0</td>\n",
       "      <td>MHW LTD</td>\n",
       "      <td>73052</td>\n",
       "      <td>RUMCHATA</td>\n",
       "      <td>7.00</td>\n",
       "      <td>10.50</td>\n",
       "      <td>2</td>\n",
       "      <td>21.00</td>\n",
       "    </tr>\n",
       "    <tr>\n",
       "      <th>3</th>\n",
       "      <td>INV-16685400104</td>\n",
       "      <td>2019-01-02</td>\n",
       "      <td>2524</td>\n",
       "      <td>HY-VEE FOOD STORE / DUBUQUE</td>\n",
       "      <td>DUBUQUE</td>\n",
       "      <td>52001.0</td>\n",
       "      <td>DUBUQUE</td>\n",
       "      <td>1022100.0</td>\n",
       "      <td>MIXTO TEQUILA</td>\n",
       "      <td>434.0</td>\n",
       "      <td>LUXCO INC</td>\n",
       "      <td>87937</td>\n",
       "      <td>JUAREZ TEQUILA SILVER</td>\n",
       "      <td>7.83</td>\n",
       "      <td>11.75</td>\n",
       "      <td>12</td>\n",
       "      <td>141.00</td>\n",
       "    </tr>\n",
       "    <tr>\n",
       "      <th>4</th>\n",
       "      <td>INV-16682800080</td>\n",
       "      <td>2019-01-02</td>\n",
       "      <td>2513</td>\n",
       "      <td>HY-VEE FOOD STORE #2 / IOWA CITY</td>\n",
       "      <td>IOWA CITY</td>\n",
       "      <td>52240.0</td>\n",
       "      <td>JOHNSON</td>\n",
       "      <td>1031100.0</td>\n",
       "      <td>AMERICAN VODKAS</td>\n",
       "      <td>297.0</td>\n",
       "      <td>LAIRD &amp; COMPANY</td>\n",
       "      <td>35926</td>\n",
       "      <td>FIVE O'CLOCK VODKA PET</td>\n",
       "      <td>3.37</td>\n",
       "      <td>5.06</td>\n",
       "      <td>12</td>\n",
       "      <td>60.72</td>\n",
       "    </tr>\n",
       "  </tbody>\n",
       "</table>\n",
       "</div>"
      ],
      "text/plain": [
       "   invoice_line_no       date  store                              name  \\\n",
       "0  INV-16685400042 2019-01-02   2524       HY-VEE FOOD STORE / DUBUQUE   \n",
       "1  INV-16685400057 2019-01-02   2524       HY-VEE FOOD STORE / DUBUQUE   \n",
       "2  INV-16679100094 2019-01-02   2549     HY-VEE FOOD STORE / INDIANOLA   \n",
       "3  INV-16685400104 2019-01-02   2524       HY-VEE FOOD STORE / DUBUQUE   \n",
       "4  INV-16682800080 2019-01-02   2513  HY-VEE FOOD STORE #2 / IOWA CITY   \n",
       "\n",
       "        city  zipcode   county   category    category_name  vendor_no  \\\n",
       "0    DUBUQUE  52001.0  DUBUQUE  1031100.0  AMERICAN VODKAS      301.0   \n",
       "1    DUBUQUE  52001.0  DUBUQUE  1062200.0        WHITE RUM      434.0   \n",
       "2  INDIANOLA  50125.0   WARREN  1081200.0   CREAM LIQUEURS      305.0   \n",
       "3    DUBUQUE  52001.0  DUBUQUE  1022100.0    MIXTO TEQUILA      434.0   \n",
       "4  IOWA CITY  52240.0  JOHNSON  1031100.0  AMERICAN VODKAS      297.0   \n",
       "\n",
       "            vendor_name  itemno                 im_desc  state_bottle_cost  \\\n",
       "0  FIFTH GENERATION INC   38177    TITOS HANDMADE VODKA              12.67   \n",
       "1             LUXCO INC   46351       HAWKEYE LIGHT RUM               4.34   \n",
       "2               MHW LTD   73052                RUMCHATA               7.00   \n",
       "3             LUXCO INC   87937   JUAREZ TEQUILA SILVER               7.83   \n",
       "4       LAIRD & COMPANY   35926  FIVE O'CLOCK VODKA PET               3.37   \n",
       "\n",
       "   state_bottle_retail  sale_bottles  sale_dollars  \n",
       "0                19.01            36        684.36  \n",
       "1                 6.51            12         78.12  \n",
       "2                10.50             2         21.00  \n",
       "3                11.75            12        141.00  \n",
       "4                 5.06            12         60.72  "
      ]
     },
     "execution_count": 11,
     "metadata": {},
     "output_type": "execute_result"
    }
   ],
   "source": [
    "df['date'] = pd.to_datetime(df['date'])\n",
    "df.head()"
   ]
  },
  {
   "cell_type": "markdown",
   "metadata": {},
   "source": [
    "#### 2.3.2. Integer Columns"
   ]
  },
  {
   "cell_type": "markdown",
   "metadata": {},
   "source": [
    "##### 2.3.2.1. Invoice Line Number"
   ]
  },
  {
   "cell_type": "code",
   "execution_count": 12,
   "metadata": {},
   "outputs": [
    {
     "name": "stdout",
     "output_type": "stream",
     "text": [
      "Not all rows start with 'INV-'\n"
     ]
    }
   ],
   "source": [
    "starts_with_INV = df['invoice_line_no'].str.startswith('INV-').all()\n",
    "\n",
    "if starts_with_INV:\n",
    "    print(\"All rows start with 'INV-'\")\n",
    "else:\n",
    "    print(\"Not all rows start with 'INV-'\")"
   ]
  },
  {
   "cell_type": "code",
   "execution_count": 13,
   "metadata": {},
   "outputs": [
    {
     "data": {
      "text/plain": [
       "array(['INV-', 'RINV'], dtype=object)"
      ]
     },
     "execution_count": 13,
     "metadata": {},
     "output_type": "execute_result"
    }
   ],
   "source": [
    "df['invoice_line_no'].str[:4].unique()"
   ]
  },
  {
   "cell_type": "code",
   "execution_count": 14,
   "metadata": {},
   "outputs": [
    {
     "data": {
      "text/plain": [
       "0"
      ]
     },
     "execution_count": 14,
     "metadata": {},
     "output_type": "execute_result"
    }
   ],
   "source": [
    "df['invoice_line_no'].str.extract('(\\d+)').duplicated().sum()"
   ]
  },
  {
   "cell_type": "code",
   "execution_count": 15,
   "metadata": {},
   "outputs": [
    {
     "ename": "IndexError",
     "evalue": "single positional indexer is out-of-bounds",
     "output_type": "error",
     "traceback": [
      "\u001b[1;31m---------------------------------------------------------------------------\u001b[0m",
      "\u001b[1;31mIndexError\u001b[0m                                Traceback (most recent call last)",
      "Cell \u001b[1;32mIn[15], line 1\u001b[0m\n\u001b[1;32m----> 1\u001b[0m \u001b[43mdf\u001b[49m\u001b[43m[\u001b[49m\u001b[38;5;124;43m'\u001b[39;49m\u001b[38;5;124;43minvoice_line_no\u001b[39;49m\u001b[38;5;124;43m'\u001b[39;49m\u001b[43m]\u001b[49m\u001b[38;5;241;43m.\u001b[39;49m\u001b[43mstr\u001b[49m\u001b[38;5;241;43m.\u001b[39;49m\u001b[43mextract\u001b[49m\u001b[43m(\u001b[49m\u001b[38;5;124;43m'\u001b[39;49m\u001b[38;5;124;43m(\u001b[39;49m\u001b[38;5;124;43m\\\u001b[39;49m\u001b[38;5;124;43md+)\u001b[39;49m\u001b[38;5;124;43m'\u001b[39;49m\u001b[43m)\u001b[49m\u001b[38;5;241;43m.\u001b[39;49m\u001b[43miloc\u001b[49m\u001b[43m[\u001b[49m\u001b[43m:\u001b[49m\u001b[43m,\u001b[49m\u001b[38;5;241;43m1\u001b[39;49m\u001b[43m]\u001b[49m\u001b[38;5;241m.\u001b[39munique()\n",
      "File \u001b[1;32m~\\AppData\\Local\\Packages\\PythonSoftwareFoundation.Python.3.11_qbz5n2kfra8p0\\LocalCache\\local-packages\\Python311\\site-packages\\pandas\\core\\indexing.py:1147\u001b[0m, in \u001b[0;36m_LocationIndexer.__getitem__\u001b[1;34m(self, key)\u001b[0m\n\u001b[0;32m   1145\u001b[0m     \u001b[38;5;28;01mif\u001b[39;00m \u001b[38;5;28mself\u001b[39m\u001b[38;5;241m.\u001b[39m_is_scalar_access(key):\n\u001b[0;32m   1146\u001b[0m         \u001b[38;5;28;01mreturn\u001b[39;00m \u001b[38;5;28mself\u001b[39m\u001b[38;5;241m.\u001b[39mobj\u001b[38;5;241m.\u001b[39m_get_value(\u001b[38;5;241m*\u001b[39mkey, takeable\u001b[38;5;241m=\u001b[39m\u001b[38;5;28mself\u001b[39m\u001b[38;5;241m.\u001b[39m_takeable)\n\u001b[1;32m-> 1147\u001b[0m     \u001b[38;5;28;01mreturn\u001b[39;00m \u001b[38;5;28;43mself\u001b[39;49m\u001b[38;5;241;43m.\u001b[39;49m\u001b[43m_getitem_tuple\u001b[49m\u001b[43m(\u001b[49m\u001b[43mkey\u001b[49m\u001b[43m)\u001b[49m\n\u001b[0;32m   1148\u001b[0m \u001b[38;5;28;01melse\u001b[39;00m:\n\u001b[0;32m   1149\u001b[0m     \u001b[38;5;66;03m# we by definition only have the 0th axis\u001b[39;00m\n\u001b[0;32m   1150\u001b[0m     axis \u001b[38;5;241m=\u001b[39m \u001b[38;5;28mself\u001b[39m\u001b[38;5;241m.\u001b[39maxis \u001b[38;5;129;01mor\u001b[39;00m \u001b[38;5;241m0\u001b[39m\n",
      "File \u001b[1;32m~\\AppData\\Local\\Packages\\PythonSoftwareFoundation.Python.3.11_qbz5n2kfra8p0\\LocalCache\\local-packages\\Python311\\site-packages\\pandas\\core\\indexing.py:1652\u001b[0m, in \u001b[0;36m_iLocIndexer._getitem_tuple\u001b[1;34m(self, tup)\u001b[0m\n\u001b[0;32m   1651\u001b[0m \u001b[38;5;28;01mdef\u001b[39;00m \u001b[38;5;21m_getitem_tuple\u001b[39m(\u001b[38;5;28mself\u001b[39m, tup: \u001b[38;5;28mtuple\u001b[39m):\n\u001b[1;32m-> 1652\u001b[0m     tup \u001b[38;5;241m=\u001b[39m \u001b[38;5;28;43mself\u001b[39;49m\u001b[38;5;241;43m.\u001b[39;49m\u001b[43m_validate_tuple_indexer\u001b[49m\u001b[43m(\u001b[49m\u001b[43mtup\u001b[49m\u001b[43m)\u001b[49m\n\u001b[0;32m   1653\u001b[0m     \u001b[38;5;28;01mwith\u001b[39;00m suppress(IndexingError):\n\u001b[0;32m   1654\u001b[0m         \u001b[38;5;28;01mreturn\u001b[39;00m \u001b[38;5;28mself\u001b[39m\u001b[38;5;241m.\u001b[39m_getitem_lowerdim(tup)\n",
      "File \u001b[1;32m~\\AppData\\Local\\Packages\\PythonSoftwareFoundation.Python.3.11_qbz5n2kfra8p0\\LocalCache\\local-packages\\Python311\\site-packages\\pandas\\core\\indexing.py:940\u001b[0m, in \u001b[0;36m_LocationIndexer._validate_tuple_indexer\u001b[1;34m(self, key)\u001b[0m\n\u001b[0;32m    938\u001b[0m \u001b[38;5;28;01mfor\u001b[39;00m i, k \u001b[38;5;129;01min\u001b[39;00m \u001b[38;5;28menumerate\u001b[39m(key):\n\u001b[0;32m    939\u001b[0m     \u001b[38;5;28;01mtry\u001b[39;00m:\n\u001b[1;32m--> 940\u001b[0m         \u001b[38;5;28;43mself\u001b[39;49m\u001b[38;5;241;43m.\u001b[39;49m\u001b[43m_validate_key\u001b[49m\u001b[43m(\u001b[49m\u001b[43mk\u001b[49m\u001b[43m,\u001b[49m\u001b[43m \u001b[49m\u001b[43mi\u001b[49m\u001b[43m)\u001b[49m\n\u001b[0;32m    941\u001b[0m     \u001b[38;5;28;01mexcept\u001b[39;00m \u001b[38;5;167;01mValueError\u001b[39;00m \u001b[38;5;28;01mas\u001b[39;00m err:\n\u001b[0;32m    942\u001b[0m         \u001b[38;5;28;01mraise\u001b[39;00m \u001b[38;5;167;01mValueError\u001b[39;00m(\n\u001b[0;32m    943\u001b[0m             \u001b[38;5;124m\"\u001b[39m\u001b[38;5;124mLocation based indexing can only have \u001b[39m\u001b[38;5;124m\"\u001b[39m\n\u001b[0;32m    944\u001b[0m             \u001b[38;5;124mf\u001b[39m\u001b[38;5;124m\"\u001b[39m\u001b[38;5;124m[\u001b[39m\u001b[38;5;132;01m{\u001b[39;00m\u001b[38;5;28mself\u001b[39m\u001b[38;5;241m.\u001b[39m_valid_types\u001b[38;5;132;01m}\u001b[39;00m\u001b[38;5;124m] types\u001b[39m\u001b[38;5;124m\"\u001b[39m\n\u001b[0;32m    945\u001b[0m         ) \u001b[38;5;28;01mfrom\u001b[39;00m \u001b[38;5;21;01merr\u001b[39;00m\n",
      "File \u001b[1;32m~\\AppData\\Local\\Packages\\PythonSoftwareFoundation.Python.3.11_qbz5n2kfra8p0\\LocalCache\\local-packages\\Python311\\site-packages\\pandas\\core\\indexing.py:1554\u001b[0m, in \u001b[0;36m_iLocIndexer._validate_key\u001b[1;34m(self, key, axis)\u001b[0m\n\u001b[0;32m   1552\u001b[0m     \u001b[38;5;28;01mreturn\u001b[39;00m\n\u001b[0;32m   1553\u001b[0m \u001b[38;5;28;01melif\u001b[39;00m is_integer(key):\n\u001b[1;32m-> 1554\u001b[0m     \u001b[38;5;28;43mself\u001b[39;49m\u001b[38;5;241;43m.\u001b[39;49m\u001b[43m_validate_integer\u001b[49m\u001b[43m(\u001b[49m\u001b[43mkey\u001b[49m\u001b[43m,\u001b[49m\u001b[43m \u001b[49m\u001b[43maxis\u001b[49m\u001b[43m)\u001b[49m\n\u001b[0;32m   1555\u001b[0m \u001b[38;5;28;01melif\u001b[39;00m \u001b[38;5;28misinstance\u001b[39m(key, \u001b[38;5;28mtuple\u001b[39m):\n\u001b[0;32m   1556\u001b[0m     \u001b[38;5;66;03m# a tuple should already have been caught by this point\u001b[39;00m\n\u001b[0;32m   1557\u001b[0m     \u001b[38;5;66;03m# so don't treat a tuple as a valid indexer\u001b[39;00m\n\u001b[0;32m   1558\u001b[0m     \u001b[38;5;28;01mraise\u001b[39;00m IndexingError(\u001b[38;5;124m\"\u001b[39m\u001b[38;5;124mToo many indexers\u001b[39m\u001b[38;5;124m\"\u001b[39m)\n",
      "File \u001b[1;32m~\\AppData\\Local\\Packages\\PythonSoftwareFoundation.Python.3.11_qbz5n2kfra8p0\\LocalCache\\local-packages\\Python311\\site-packages\\pandas\\core\\indexing.py:1647\u001b[0m, in \u001b[0;36m_iLocIndexer._validate_integer\u001b[1;34m(self, key, axis)\u001b[0m\n\u001b[0;32m   1645\u001b[0m len_axis \u001b[38;5;241m=\u001b[39m \u001b[38;5;28mlen\u001b[39m(\u001b[38;5;28mself\u001b[39m\u001b[38;5;241m.\u001b[39mobj\u001b[38;5;241m.\u001b[39m_get_axis(axis))\n\u001b[0;32m   1646\u001b[0m \u001b[38;5;28;01mif\u001b[39;00m key \u001b[38;5;241m>\u001b[39m\u001b[38;5;241m=\u001b[39m len_axis \u001b[38;5;129;01mor\u001b[39;00m key \u001b[38;5;241m<\u001b[39m \u001b[38;5;241m-\u001b[39mlen_axis:\n\u001b[1;32m-> 1647\u001b[0m     \u001b[38;5;28;01mraise\u001b[39;00m \u001b[38;5;167;01mIndexError\u001b[39;00m(\u001b[38;5;124m\"\u001b[39m\u001b[38;5;124msingle positional indexer is out-of-bounds\u001b[39m\u001b[38;5;124m\"\u001b[39m)\n",
      "\u001b[1;31mIndexError\u001b[0m: single positional indexer is out-of-bounds"
     ]
    }
   ],
   "source": [
    "df['invoice_line_no'].str.extract('(\\d+)').iloc[:,1].unique()"
   ]
  },
  {
   "cell_type": "code",
   "execution_count": null,
   "metadata": {},
   "outputs": [],
   "source": [
    "# Create a new column with 'R' removed\n",
    "df['R_invoice_line_no'] = df['invoice_line_no'].apply(lambda x: x[1:] if x.startswith('R') else x)\n",
    "\n",
    "# Check for duplicates in the modified column\n",
    "df['R_invoice_line_no'].duplicated().sum()"
   ]
  },
  {
   "cell_type": "code",
   "execution_count": null,
   "metadata": {},
   "outputs": [],
   "source": [
    "df['R_invoice_line_no'].str[:4].unique()"
   ]
  },
  {
   "cell_type": "code",
   "execution_count": null,
   "metadata": {},
   "outputs": [],
   "source": [
    "df['R_invoice_line_no'] = df['R_invoice_line_no'].apply(lambda x: x[4:])\n",
    "df['R_invoice_line_no'].str[:1].unique()"
   ]
  },
  {
   "cell_type": "code",
   "execution_count": null,
   "metadata": {},
   "outputs": [],
   "source": [
    "df['R_invoice_line_no'].duplicated().sum()"
   ]
  },
  {
   "cell_type": "code",
   "execution_count": null,
   "metadata": {},
   "outputs": [],
   "source": [
    "df['invoice_line_no'] = df['R_invoice_line_no']\n",
    "df['invoice_line_no'] = df['invoice_line_no'].astype('int')\n",
    "df = df.drop(columns='R_invoice_line_no', axis=1)"
   ]
  },
  {
   "cell_type": "code",
   "execution_count": null,
   "metadata": {},
   "outputs": [],
   "source": [
    "# Convert some float cols to int. \n",
    "# Define a function to check the existance of decimals first before implementation. \n",
    "def safe_to_int(df, columns):\n",
    "    for col in columns:\n",
    "        # Check if the column contains any non-integer values\n",
    "        if df[col].apply(lambda x: x % 1).any():\n",
    "            print(f\"Column '{col}' contains decimal values. Conversion to int skipped.\")\n",
    "        else:\n",
    "            # Convert to int\n",
    "            df[col] = df[col].astype(int)\n",
    "            print(f\"Column '{col}' successfully converted to int.\")"
   ]
  },
  {
   "cell_type": "code",
   "execution_count": null,
   "metadata": {},
   "outputs": [],
   "source": [
    "cols_to_int = ['zipcode', 'category','vendor_no' ]\n",
    "safe_to_int(df, cols_to_int)"
   ]
  }
 ],
 "metadata": {
  "kernelspec": {
   "display_name": "Python 3",
   "language": "python",
   "name": "python3"
  },
  "language_info": {
   "codemirror_mode": {
    "name": "ipython",
    "version": 3
   },
   "file_extension": ".py",
   "mimetype": "text/x-python",
   "name": "python",
   "nbconvert_exporter": "python",
   "pygments_lexer": "ipython3",
   "version": "3.11.7"
  }
 },
 "nbformat": 4,
 "nbformat_minor": 2
}
