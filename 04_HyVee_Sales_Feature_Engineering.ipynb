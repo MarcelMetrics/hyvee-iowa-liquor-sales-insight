{
 "cells": [
  {
   "cell_type": "markdown",
   "metadata": {},
   "source": [
    "# Feature Engineering"
   ]
  },
  {
   "cell_type": "markdown",
   "metadata": {},
   "source": [
    "## 1. Extracting Data"
   ]
  },
  {
   "cell_type": "code",
   "execution_count": 1,
   "metadata": {},
   "outputs": [],
   "source": [
    "import pandas as pd\n",
    "import json\n",
    "from datetime import datetime, timedelta\n",
    "import pymysql"
   ]
  },
  {
   "cell_type": "code",
   "execution_count": 2,
   "metadata": {},
   "outputs": [],
   "source": [
    "# MySQL connection settings\n",
    "with open('config\\mysql_config.json') as f:\n",
    "  mysql_config = json.load(f)\n",
    "\n",
    "host = mysql_config['hostname']\n",
    "user = mysql_config['username']\n",
    "password = mysql_config['password']\n",
    "\n",
    "conn_int = pymysql.connect(host=host, user=user, password=password, db='INT_HYVEE')\n",
    "cursor_int = conn_int.cursor()"
   ]
  },
  {
   "cell_type": "code",
   "execution_count": 3,
   "metadata": {},
   "outputs": [
    {
     "name": "stderr",
     "output_type": "stream",
     "text": [
      "C:\\Users\\Marcel Zhang\\AppData\\Local\\Temp\\ipykernel_6116\\1516701696.py:4: UserWarning: pandas only supports SQLAlchemy connectable (engine/connection) or database string URI or sqlite3 DBAPI2 connection. Other DBAPI2 objects are not tested. Please consider using SQLAlchemy.\n",
      "  df = pd.read_sql(sql_query, conn_int)\n"
     ]
    }
   ],
   "source": [
    "# Loading data from MySQL\n",
    "sql_query = \"SELECT invoice_line_no, name, category_name FROM sales\"\n",
    "\n",
    "df = pd.read_sql(sql_query, conn_int)\n",
    "\n",
    "cursor_int.close()\n",
    "conn_int.close()"
   ]
  },
  {
   "cell_type": "code",
   "execution_count": 4,
   "metadata": {},
   "outputs": [
    {
     "data": {
      "text/html": [
       "<div>\n",
       "<style scoped>\n",
       "    .dataframe tbody tr th:only-of-type {\n",
       "        vertical-align: middle;\n",
       "    }\n",
       "\n",
       "    .dataframe tbody tr th {\n",
       "        vertical-align: top;\n",
       "    }\n",
       "\n",
       "    .dataframe thead th {\n",
       "        text-align: right;\n",
       "    }\n",
       "</style>\n",
       "<table border=\"1\" class=\"dataframe\">\n",
       "  <thead>\n",
       "    <tr style=\"text-align: right;\">\n",
       "      <th></th>\n",
       "      <th>invoice_line_no</th>\n",
       "      <th>name</th>\n",
       "      <th>category_name</th>\n",
       "    </tr>\n",
       "  </thead>\n",
       "  <tbody>\n",
       "    <tr>\n",
       "      <th>0</th>\n",
       "      <td>INV-33169200001</td>\n",
       "      <td>HY-VEE #3 / BDI / DES MOINES</td>\n",
       "      <td>CANADIAN WHISKIES</td>\n",
       "    </tr>\n",
       "    <tr>\n",
       "      <th>1</th>\n",
       "      <td>INV-33169200002</td>\n",
       "      <td>HY-VEE #3 / BDI / DES MOINES</td>\n",
       "      <td>CANADIAN WHISKIES</td>\n",
       "    </tr>\n",
       "    <tr>\n",
       "      <th>2</th>\n",
       "      <td>INV-33169200003</td>\n",
       "      <td>HY-VEE #3 / BDI / DES MOINES</td>\n",
       "      <td>CANADIAN WHISKIES</td>\n",
       "    </tr>\n",
       "    <tr>\n",
       "      <th>3</th>\n",
       "      <td>INV-33169200004</td>\n",
       "      <td>HY-VEE #3 / BDI / DES MOINES</td>\n",
       "      <td>CANADIAN WHISKIES</td>\n",
       "    </tr>\n",
       "    <tr>\n",
       "      <th>4</th>\n",
       "      <td>INV-33169200005</td>\n",
       "      <td>HY-VEE #3 / BDI / DES MOINES</td>\n",
       "      <td>IRISH WHISKIES</td>\n",
       "    </tr>\n",
       "  </tbody>\n",
       "</table>\n",
       "</div>"
      ],
      "text/plain": [
       "   invoice_line_no                          name      category_name\n",
       "0  INV-33169200001  HY-VEE #3 / BDI / DES MOINES  CANADIAN WHISKIES\n",
       "1  INV-33169200002  HY-VEE #3 / BDI / DES MOINES  CANADIAN WHISKIES\n",
       "2  INV-33169200003  HY-VEE #3 / BDI / DES MOINES  CANADIAN WHISKIES\n",
       "3  INV-33169200004  HY-VEE #3 / BDI / DES MOINES  CANADIAN WHISKIES\n",
       "4  INV-33169200005  HY-VEE #3 / BDI / DES MOINES     IRISH WHISKIES"
      ]
     },
     "execution_count": 4,
     "metadata": {},
     "output_type": "execute_result"
    }
   ],
   "source": [
    "df.head()"
   ]
  },
  {
   "cell_type": "markdown",
   "metadata": {},
   "source": [
    "## 2. Feature Engineering"
   ]
  },
  {
   "cell_type": "markdown",
   "metadata": {},
   "source": [
    "### 2.1. Store Format"
   ]
  },
  {
   "cell_type": "markdown",
   "metadata": {},
   "source": [
    "Creating a new column to indicate store formats based on the 'name' column."
   ]
  },
  {
   "cell_type": "code",
   "execution_count": 5,
   "metadata": {},
   "outputs": [
    {
     "data": {
      "text/plain": [
       "array(['HY-VEE #3 / BDI / DES MOINES',\n",
       "       'HY-VEE FOOD STORE #3 / DES MOINES',\n",
       "       'HY-VEE FOOD STORE #5 / DES MOINES',\n",
       "       'HY-VEE FOOD STORE / FLEUR / DSM', 'HY-VEE #7 / CEDAR RAPIDS',\n",
       "       'HY-VEE FOOD STORE #3 / CEDAR RAPIDS',\n",
       "       'HY-VEE FOOD STORE #4 / CEDAR RAPIDS',\n",
       "       'HY-VEE / DRUGTOWN #1 / CEDAR RAPIDS', 'HY-VEE #4 / WDM',\n",
       "       'HY-VEE WINE AND SPIRITS / WDM', 'HY-VEE DRUGSTORE #2 / WDM',\n",
       "       'HY-VEE  /  JEFFERSON', 'HY-VEE FOOD STORE / CARROLL',\n",
       "       'HY-VEE FOOD STORE / CHEROKEE',\n",
       "       'HY-VEE WINE AND SPIRITS / STORM LAKE',\n",
       "       'HY-VEE WINE AND SPIRITS / IOWA CITY',\n",
       "       'HY-VEE FOOD STORE / CORALVILLE',\n",
       "       'HY-VEE #3 FOOD & DRUGSTORE / DAVENPORT',\n",
       "       'HY-VEE DRUGSTORE / DAVENPORT',\n",
       "       'HY-VEE FOOD STORE #2 / STATE ANKENY',\n",
       "       'HY-VEE FOOD STORE / IOWA FALLS', 'HY-VEE FOOD STORE / ELDORA',\n",
       "       'HY-VEE FOOD AND DRUG / CLINTON',\n",
       "       'HY-VEE FOOD STORE #1 / CEDAR RAPIDS',\n",
       "       'HY-VEE FOOD STORE / DUBUQUE', 'HY-VEE C-STORE #3 / DUBUQUE',\n",
       "       'HY-VEE #3 / DUBUQUE', 'HY-VEE FOOD STORE / DAVENPORT',\n",
       "       'HY-VEE FOOD STORE / MUSCATINE',\n",
       "       'HY-VEE WINE & SPIRITS / MUSCATINE', 'HY-VEE FOOD STORE / OSCEOLA',\n",
       "       'HY-VEE GAS #3 / WDM', 'HY-VEE DRUGSTORE / UNIVERSITY / DSM',\n",
       "       'HY-VEE WINE AND SPIRITS / HUBBELL', 'HY-VEE FOOD STORE #1 / WDM',\n",
       "       'HY-VEE / WAUKEE', 'HY-VEE FOOD STORE / URBANDALE',\n",
       "       'HY-VEE #5 / DAVENPORT', 'HY-VEE FOOD STORE / MARSHALLTOWN',\n",
       "       'HY-VEE FOOD STORE / GRINNELL', 'HY-VEE FOOD STORE #2 / WATERLOO',\n",
       "       'HY-VEE / CHARLES CITY', 'HY-VEE / WAVERLY',\n",
       "       'HY-VEE FOOD STORE #2 / DES MOINES',\n",
       "       'HY-VEE WINE AND SPIRITS / HARLAN',\n",
       "       'HY-VEE FOOD STORE / SIOUX CITY',\n",
       "       'HY-VEE WINE AND SPIRITS / DENISON', 'HY-VEE FOOD STORE / DENISON',\n",
       "       'HY-VEE #2 / DUBUQUE', 'HY-VEE WINE AND SPIRITS / LE MARS',\n",
       "       'HY-VEE FOOD STORE / SHELDON', 'HY-VEE FOOD STORE / SIOUX CENTER',\n",
       "       'HY-VEE WINE AND SPIRITS / WATERLOO',\n",
       "       'HY-VEE FOOD STORE #1 / WATERLOO',\n",
       "       'HY-VEE FOOD STORE / CEDAR FALLS',\n",
       "       'HY-VEE FOOD STORE #2 / IOWA CITY',\n",
       "       'HY-VEE FOOD STORE #1 / NEWTON', 'HY-VEE MAINSTREET / SIOUX CITY',\n",
       "       'HY-VEE FOOD STORE #4 / SIOUX CITY',\n",
       "       'HY-VEE FOOD STORE #3 / SIOUX CITY', 'HY-VEE # 6/ DES MOINES',\n",
       "       'HY-VEE WINE AND SPIRITS / ANKENY', 'HY-VEE FOOD STORE #1 / AMES',\n",
       "       'HY-VEE  #2 / AMES', 'HY-VEE / WINDSOR HEIGHTS',\n",
       "       'HY-VEE FOOD AND DRUG / GRAND / WDM',\n",
       "       'HY-VEE FOOD STORE #5 / CEDAR RAPIDS',\n",
       "       'HY-VEE DRUGSTORE #5 / CEDAR RAPIDS',\n",
       "       'HY-VEE DRUGSTORE #4 / CEDAR RAPIDS',\n",
       "       'HY-VEE FOOD STORE / INDIANOLA',\n",
       "       'HY-VEE WINE AND SPIRITS / ESTHERVILLE',\n",
       "       'HY-VEE WINE AND SPIRITS / ALGONA',\n",
       "       'HY-VEE FOOD STORE #2 / COUNCIL BLUFFS',\n",
       "       'HY-VEE FOOD STORE / FORT MADISON', 'HY-VEE FOOD STORE / KEOKUK',\n",
       "       'HY-VEE FOOD STORE #1 / OTTUMWA', 'HY-VEE DRUGSTORE / OTTUMWA',\n",
       "       'HY-VEE WINE AND SPIRITS / PELLA', 'HY-VEE FOOD STORE / FAIRFIELD',\n",
       "       'HY-VEE WINE AND SPIRITS / WASHINGTON',\n",
       "       'HY-VEE WINE & SPIRITS #2 / DAVENPORT',\n",
       "       'HY-VEE FOOD STORE #1636 / SPENCER',\n",
       "       'HY-VEE WINE AND SPIRITS / SPIRIT LAKE',\n",
       "       'HY-VEE FOOD STORE / IOWA CITY', 'HY-VEE DRUGSTORE / IOWA CITY',\n",
       "       'HY-VEE #2 / CORALVILLE', 'HY-VEE FOOD STORE / JOHNSTON',\n",
       "       'HY-VEE WINE & SPIRITS #1 / MLK',\n",
       "       'HY-VEE FAST AND FRESH / JOHNSTON',\n",
       "       'HY-VEE FOOD AND DRUG #6 / CEDAR RAPIDS',\n",
       "       'HY-VEE FOOD STORE / ALTOONA', 'HY-VEE FAST & FRESH/ALTOONA',\n",
       "       'HY-VEE / PLEASANT HILL', 'HY-VEE FOOD STORE #1 / MASON CITY',\n",
       "       'HY-VEE DRUGSTORE / MASON CITY',\n",
       "       'HY-VEE #2 FOOD STORE / MASON CITY', 'HY-VEE STORE / PERRY',\n",
       "       'HY-VEE WINE AND SPIRITS / BOONE', 'HY-VEE FOOD STORE / CRESTON',\n",
       "       'HY-VEE #1044 / BURLINGTON', 'HY-VEE FOOD STORE #1 / BURLINGTON',\n",
       "       'HY-VEE FOOD STORE / LEON', 'HY-VEE FOOD STORE / LAMONI',\n",
       "       'HY-VEE FOOD STORE / MOUNT AYR', 'HY-VEE FOOD STORE / BEDFORD',\n",
       "       'HY-VEE FOOD STORE / CLARINDA',\n",
       "       'HY-VEE WINE AND SPIRITS / SHENANDOAH',\n",
       "       'HY-VEE WINE AND SPIRITS / RED OAK', 'HY-VEE FOOD STORE / CORNING',\n",
       "       'HY-VEE FAST & FRESH EXPRESS / CRESTON', 'HY-VEE / VINTON',\n",
       "       'HY-VEE / DECORAH', 'HY-VEE FOOD STORE / MARION',\n",
       "       'HY-VEE FOOD STORE #2 / CEDAR RAPIDS',\n",
       "       'HY-VEE DRUGSTORE #6 / CEDAR RAPIDS',\n",
       "       'HY-VEE FOOD STORE / CHARITON',\n",
       "       'HY-VEE FAST & FRESH EXPRESS / CENTERVILLE',\n",
       "       'HY-VEE FOOD STORE / CENTERVILLE', 'HY-VEE FOOD STORE / ALBIA',\n",
       "       'HY-VEE FOOD STORE / KNOXVILLE',\n",
       "       'HY-VEE WINE AND SPIRITS / ATLANTIC',\n",
       "       'HY-VEE FOOD STORE #1 / COUNCIL BLUFFS',\n",
       "       'HY-VEE FOOD STORE / WEBSTER CITY',\n",
       "       'HY-VEE FOOD STORE / FORT DODGE',\n",
       "       'HY-VEE WINE AND SPIRITS / HUMBOLDT',\n",
       "       'HY-VEE FOOD STORE / MOUNT PLEASANT',\n",
       "       'HY-VEE FOOD STORE #3 / WATERLOO',\n",
       "       'HY-VEE FAST & FRESH / DAVENPORT', 'HY-VEE #4 / DAVENPORT',\n",
       "       'HY-VEE FAST AND FRESH / CLIVE', 'HY-VEE / WINTERSET',\n",
       "       'HY-VEE C-STORE / SE ARMY POST',\n",
       "       'HY-VEE WINE AND SPIRITS / BETTENDORF', 'HY-VEE GAS #1 / ANKENY',\n",
       "       'HY-VEE C-STORE / FAIRFEILD', 'HY-VEE FOOD STORE / OSKALOOSA',\n",
       "       'HY-VEE / CORYDON', 'HY-VEE FAST & FRESH / WDM',\n",
       "       'HY-VEE FAST AND FRESH / WAUKEE', 'HY-VEE GAS #1 / OTTUMWA',\n",
       "       'HY-VEE GAS #4 / DES MOINES', 'HY-VEE GAS #2 / OTTUMWA',\n",
       "       'HY-VEE FAST AND FRESH / STORM LAKE', 'HY-VEE GAS #5018 / AMES',\n",
       "       'HY-VEE GAS / INDIANOLA', 'HY-VEE C-STORE / FAIRFIELD',\n",
       "       'HY-VEE GAS / JOHNSTON', 'HY-VEE DOLLAR FRESH / MAQUOKETA',\n",
       "       'HY-VEE FAST AND FRESH #2 / WAUKEE',\n",
       "       'HY-VEE DOLLAR FRESH / MANCHESTER', 'HY-VEE GAS #2 / CORALVILLE',\n",
       "       'HY-VEE / GRIMES', 'HY-VEE FAST AND FRESH / GRIMES',\n",
       "       'HY-VEE C STORE / MT. PLEASANT', 'HY-VEE DOLLAR FRESH / NEVADA',\n",
       "       'HY-VEE DOLLAR FRESH / ORANGE CITY',\n",
       "       'HY-VEE DOLLAR FRESH / INDEPENDENCE',\n",
       "       'HY-VEE FAST AND FRESH / MARION',\n",
       "       'HY-VEE DOLLAR FRESH / MONTICELLO',\n",
       "       'HY-VEE C STORE #5 / CEDAR RAPIDS', 'HY-VEE GAS #5 / DAVENPORT',\n",
       "       'HY-VEE FAST AND FRESH #4 / URBANDALE',\n",
       "       'HY-VEE #3 GAS / IOWA CITY', 'HY-VEE GAS #2 / BURLINGTON',\n",
       "       'HY-VEE FAST AND FRESH #2 / GRIMES', 'HY-VEE GAS / NEWTON',\n",
       "       'HY-VEE FAST AND FRESH #3 / URBANDALE',\n",
       "       'HY-VEE FAST AND FRESH #5 / URBANDALE',\n",
       "       'HY-VEE FAST AND FRESH #2 / WEST DES MOINES',\n",
       "       'HY-VEE FAST AND FRESH #3 / WEST DES MOINES',\n",
       "       'HY-VEE FOOD STORE (1011) / ALTOONA',\n",
       "       'HY-VEE FOOD STORE (1009) / ALBIA',\n",
       "       'HY-VEE WINE AND SPIRITS (1022) / ANKENY',\n",
       "       'HY-VEE FOOD STORE #1 (1013) / AMES', 'HY-VEE  #2 (1018) / AMES',\n",
       "       'HY-VEE WINE AND SPIRITS (1010) / ALGONA',\n",
       "       'HY-VEE FAST AND FRESH #3 (7592) / WEST DES MOINES',\n",
       "       'HY-VEE FAST AND FRESH #5 (7584) / URBANDALE',\n",
       "       'HY-VEE FAST AND FRESH #2 (7591) / WEST DES MOINES',\n",
       "       'HY-VEE DRUGSTORE #4 (7025) / CEDAR RAPIDS',\n",
       "       'HY-VEE WINE AND SPIRITS #1 (1281) / IOWA CITY',\n",
       "       'HY-VEE WINE AND SPIRITS (1628) / SPIRIT LAKE',\n",
       "       'HY-VEE FOOD STORE #3 (1142) / DES MOINES',\n",
       "       'HY-VEE WINE AND SPIRITS (1544) / RED OAK',\n",
       "       'HY-VEE FOOD STORE #1 (1887) / WDM',\n",
       "       'HY-VEE FOOD STORE #3 (1866) / WATERLOO',\n",
       "       'HY-VEE FOOD STORE (1473) / OSCEOLA',\n",
       "       'HY-VEE FOOD STORE (1095) / CRESTON',\n",
       "       'HY-VEE FOOD STORE #1 (1410) / MASON CITY',\n",
       "       'HY-VEE FOOD STORE #2 (1138) / DES MOINES',\n",
       "       'HY-VEE FOOD STORE (1148) / FLEUR / DSM',\n",
       "       'HY-VEE FOOD STORE #5 (1151) / DES MOINES',\n",
       "       'HY-VEE FOOD STORE #1 (1159) / DUBUQUE',\n",
       "       'HY-VEE FOOD STORE (1396) / MARION',\n",
       "       'HY-VEE FOOD STORE #1 (1054) / CEDAR RAPIDS',\n",
       "       'HY-VEE FOOD STORE #1 (1105) / DAVENPORT',\n",
       "       'HY-VEE FOOD STORE #3 (1056) / CEDAR RAPIDS',\n",
       "       'HY-VEE / DRUGTOWN #1 (7020) / CEDAR RAPIDS',\n",
       "       'HY-VEE FOOD STORE (1295) / IOWA FALLS',\n",
       "       'HY-VEE FOOD STORE (1065) / CHARITON',\n",
       "       'HY-VEE WINE AND SPIRITS (1038) / BOONE',\n",
       "       'HY-VEE #2 (1044) / BURLINGTON',\n",
       "       'HY-VEE FOOD STORE (1403) / MARSHALLTOWN',\n",
       "       'HY-VEE FOOD STORE (1271) / INDIANOLA',\n",
       "       'HY-VEE FOOD STORE #1 (1504) / OTTUMWA',\n",
       "       'HY-VEE FOOD STORE #1 (1042) / BURLINGTON',\n",
       "       'HY-VEE WINE AND SPIRITS (1170) / ESTHERVILLE',\n",
       "       'HY-VEE FOOD STORE (1324) / KEOKUK',\n",
       "       'HY-VEE FOOD STORE (1433) / MOUNT PLEASANT',\n",
       "       'HY-VEE DRUGSTORE (7042) / IOWA CITY',\n",
       "       'HY-VEE FOOD STORE #2 (1285) / IOWA CITY',\n",
       "       'HY-VEE FOOD STORE #1 (1449) / NEWTON',\n",
       "       'HY-VEE FOOD AND DRUG (1888) / GRAND / WDM',\n",
       "       'HY-VEE (1530) / PLEASANT HILL',\n",
       "       'HY-VEE FOOD STORE (1058) / CENTERVILLE',\n",
       "       'HY-VEE FOOD STORE (1192) / FORT DODGE',\n",
       "       'HY-VEE FOOD STORE (1636) / SPENCER',\n",
       "       'HY-VEE FOOD STORE (1353) / KNOXVILLE',\n",
       "       'HY-VEE FAST AND FRESH #4 (7583) / URBANDALE', 'HY-VEE / ELDRIDGE',\n",
       "       'HY-VEE / KNOXVILLE', 'HY-VEE C-STORE #3 / CEDAR RAPIDS',\n",
       "       'HY-VEE FAST & FRESH 2 / DAVENPORT'], dtype=object)"
      ]
     },
     "execution_count": 5,
     "metadata": {},
     "output_type": "execute_result"
    }
   ],
   "source": [
    "df['store_format'] = df['name']\n",
    "df[df['store_format'].str.contains('/', na=False)]['store_format'].unique()"
   ]
  },
  {
   "cell_type": "markdown",
   "metadata": {},
   "source": [
    "The substring following the '/' in each entry of the 'store_format' column appears to denote location information. \n",
    "\n",
    "This detail is not relevant for identifying the store format itself. \n",
    "\n",
    "Consequently, we will focus on the data preceding the '/' for a more accurate characterization of store formats."
   ]
  },
  {
   "cell_type": "code",
   "execution_count": 6,
   "metadata": {},
   "outputs": [
    {
     "data": {
      "text/plain": [
       "array(['HY-VEE #3 ', 'HY-VEE FOOD STORE #3 ', 'HY-VEE FOOD STORE #5 ',\n",
       "       'HY-VEE FOOD STORE ', 'HY-VEE #7 ', 'HY-VEE FOOD STORE #4 ',\n",
       "       'HY-VEE ', 'HY-VEE FAST & FRESH - DES MOINES', 'HY-VEE #4 ',\n",
       "       'HY-VEE WINE AND SPIRITS ', 'HY-VEE DRUGSTORE #2 ',\n",
       "       'HY-VEE C-STORE - DOUGLAS', 'HY-VEE  ',\n",
       "       'HY-VEE #3 FOOD & DRUGSTORE ', 'HY-VEE DRUGSTORE ',\n",
       "       'HY-VEE FOOD STORE #2 ', 'HY-VEE HAMPTON DOLLAR FRESH',\n",
       "       'HY-VEE FOOD AND DRUG ', 'HY-VEE FOOD STORE #1 ',\n",
       "       'HY-VEE C-STORE #3 ', 'HY-VEE DYERSVILLE DOLLAR FRESH',\n",
       "       'HY-VEE WINE & SPIRITS ', 'HY-VEE GAS #3 ',\n",
       "       'HY-VEE FORT DODGE WINE AND SPIRITS', 'HY-VEE #5 ',\n",
       "       'HY-VEE C-STORE - EAST HICKMAN', 'HY-VEE OELWEIN DOLLAR FRESH',\n",
       "       'HY-VEE #2 ', 'HY-VEE MAINSTREET ', 'HY-VEE # 6', 'HY-VEE  #2 ',\n",
       "       'HY-VEE DRUGSTORE #5 ', 'HY-VEE DRUGSTORE #4 ',\n",
       "       'HY-VEE C-STORE #2 - ANKENY',\n",
       "       'HY-VEE FAST AND FRESH - WINDSOR HEIGHTS', 'HY-VEE -GARNER',\n",
       "       'HY-VEE - FOREST CITY', 'HY-VEE DOLLAR FRESH - EMMETSBURG',\n",
       "       'HY-VEE OTTUMWA#2', 'HY-VEE WINE & SPIRITS #2 ',\n",
       "       'HY-VEE FOOD STORE #1636 ', 'HY-VEE WINE & SPIRITS #1 ',\n",
       "       'HY-VEE FAST AND FRESH ', 'HY-VEE FOOD AND DRUG #6 ',\n",
       "       'HY-VEE FAST & FRESH', 'HY-VEE #2 FOOD STORE ', 'HY-VEE STORE ',\n",
       "       'HY-VEE #1044 ', 'HY-VEE FAST & FRESH EXPRESS ',\n",
       "       'HY-VEE WAUKON DOLLAR FRESH', 'HY-VEE DRUGSTORE #6 ',\n",
       "       'HY-VEE FAST & FRESH - KNOXVILLE', 'HY-VEE GAS - PLEASANT HILL',\n",
       "       'HY-VEE FAST & FRESH ', 'HY-VEE FAST AND FRESH - URBANDALE',\n",
       "       'HY-VEE GAS #4 - WDM', 'HY-VEE FAST AND FRESH - DUBUQUE',\n",
       "       'HY-VEE C-STORE ', 'HY-VEE DOLLAR FRESH - TOLEDO',\n",
       "       'HY-VEE CRESCO DOLLAR FRESH', 'HY-VEE GAS #1 ',\n",
       "       'HY-VEE FAST & FRESH EXPRESS- BETTENDORF', 'HY-VEE GAS #4 ',\n",
       "       'HY-VEE GAS #2 ', 'HY-VEE FAST & FRESH EXPRESS -OSCELOA',\n",
       "       'HY-VEE GAS #5018 ', 'HY-VEE WDM HEALTH MARKET', 'HY-VEE GAS ',\n",
       "       'HY-VEE DOLLAR FRESH ', 'HY-VEE FAST AND FRESH #2 ',\n",
       "       'HY-VEE C STORE ', 'HY-VEE C STORE #5 ', 'HY-VEE GAS #5 ',\n",
       "       'HY-VEE FAST AND FRESH #4 ', 'HY-VEE #3 GAS ',\n",
       "       'HY-VEE FAST AND FRESH #3 ', 'HY-VEE FAST AND FRESH #5 ',\n",
       "       'HY-VEE FOOD STORE (1011) ', 'HY-VEE FOOD STORE (1009) ',\n",
       "       'HY-VEE WINE AND SPIRITS (1022) ', 'HY-VEE FOOD STORE #1 (1013) ',\n",
       "       'HY-VEE  #2 (1018) ', 'HY-VEE WINE AND SPIRITS (1010) ',\n",
       "       'HY-VEE FAST AND FRESH #3 (7592) ',\n",
       "       'HY-VEE FAST AND FRESH #5 (7584) ',\n",
       "       'HY-VEE FAST AND FRESH #2 (7591) ', 'HY-VEE DRUGSTORE #4 (7025) ',\n",
       "       'HY-VEE WINE AND SPIRITS #1 (1281) ',\n",
       "       'HY-VEE WINE AND SPIRITS (1628) ', 'HY-VEE FOOD STORE #3 (1142) ',\n",
       "       'HY-VEE WINE AND SPIRITS (1544) ', 'HY-VEE FOOD STORE #1 (1887) ',\n",
       "       'HY-VEE FOOD STORE #3 (1866) ', 'HY-VEE FOOD STORE (1473) ',\n",
       "       'HY-VEE FOOD STORE (1095) ', 'HY-VEE FOOD STORE #1 (1410) ',\n",
       "       'HY-VEE FOOD STORE #2 (1138) ', 'HY-VEE FOOD STORE (1148) ',\n",
       "       'HY-VEE FOOD STORE #5 (1151) ', 'HY-VEE FOOD STORE #1 (1159) ',\n",
       "       'HY-VEE FOOD STORE (1396) ', 'HY-VEE FOOD STORE #1 (1054) ',\n",
       "       'HY-VEE FOOD STORE #1 (1105) ', 'HY-VEE FOOD STORE #3 (1056) ',\n",
       "       'HY-VEE FOOD STORE (1295) ', 'HY-VEE FOOD STORE (1065) ',\n",
       "       'HY-VEE WINE AND SPIRITS (1038) ', 'HY-VEE #2 (1044) ',\n",
       "       'HY-VEE FOOD STORE (1403) ', 'HY-VEE FOOD STORE (1271) ',\n",
       "       'HY-VEE FOOD STORE #1 (1504) ', 'HY-VEE FOOD STORE #1 (1042) ',\n",
       "       'HY-VEE WINE AND SPIRITS (1170) ', 'HY-VEE FOOD STORE (1324) ',\n",
       "       'HY-VEE FOOD STORE (1433) ', 'HY-VEE DRUGSTORE (7042) ',\n",
       "       'HY-VEE FOOD STORE #2 (1285) ', 'HY-VEE FOOD STORE #1 (1449) ',\n",
       "       'HY-VEE FOOD AND DRUG (1888) ', 'HY-VEE (1530) ',\n",
       "       'HY-VEE FOOD STORE (1058) ', 'HY-VEE FOOD STORE (1192) ',\n",
       "       'HY-VEE FOOD STORE (1636) ', 'HY-VEE FOOD STORE (1353) ',\n",
       "       'HY-VEE FAST AND FRESH #4 (7583) ', 'HY-VEE FAST & FRESH 2 '],\n",
       "      dtype=object)"
      ]
     },
     "execution_count": 6,
     "metadata": {},
     "output_type": "execute_result"
    }
   ],
   "source": [
    "# Split each string in 'store_format' at the first '/' and keep only the first part\n",
    "df['store_format'] = df['store_format'].str.split('/', n=1).str[0]\n",
    "df['store_format'].unique()"
   ]
  },
  {
   "cell_type": "code",
   "execution_count": 7,
   "metadata": {},
   "outputs": [
    {
     "data": {
      "text/plain": [
       "array(['HY-VEE  ', 'HY-VEE FOOD STORE  ', 'HY-VEE FOOD STORE ', 'HY-VEE ',\n",
       "       'HY-VEE FAST & FRESH - DES MOINES', 'HY-VEE WINE AND SPIRITS ',\n",
       "       'HY-VEE DRUGSTORE  ', 'HY-VEE C-STORE - DOUGLAS',\n",
       "       'HY-VEE  FOOD & DRUGSTORE ', 'HY-VEE DRUGSTORE ',\n",
       "       'HY-VEE HAMPTON DOLLAR FRESH', 'HY-VEE FOOD AND DRUG ',\n",
       "       'HY-VEE C-STORE  ', 'HY-VEE DYERSVILLE DOLLAR FRESH',\n",
       "       'HY-VEE WINE & SPIRITS ', 'HY-VEE GAS  ',\n",
       "       'HY-VEE FORT DODGE WINE AND SPIRITS',\n",
       "       'HY-VEE C-STORE - EAST HICKMAN', 'HY-VEE OELWEIN DOLLAR FRESH',\n",
       "       'HY-VEE MAINSTREET ', 'HY-VEE   ', 'HY-VEE C-STORE  - ANKENY',\n",
       "       'HY-VEE FAST AND FRESH - WINDSOR HEIGHTS', 'HY-VEE -GARNER',\n",
       "       'HY-VEE - FOREST CITY', 'HY-VEE DOLLAR FRESH - EMMETSBURG',\n",
       "       'HY-VEE OTTUMWA', 'HY-VEE WINE & SPIRITS  ',\n",
       "       'HY-VEE FAST AND FRESH ', 'HY-VEE FOOD AND DRUG  ',\n",
       "       'HY-VEE FAST & FRESH', 'HY-VEE  FOOD STORE ', 'HY-VEE STORE ',\n",
       "       'HY-VEE FAST & FRESH EXPRESS ', 'HY-VEE WAUKON DOLLAR FRESH',\n",
       "       'HY-VEE FAST & FRESH - KNOXVILLE', 'HY-VEE GAS - PLEASANT HILL',\n",
       "       'HY-VEE FAST & FRESH ', 'HY-VEE FAST AND FRESH - URBANDALE',\n",
       "       'HY-VEE GAS  - WDM', 'HY-VEE FAST AND FRESH - DUBUQUE',\n",
       "       'HY-VEE C-STORE ', 'HY-VEE DOLLAR FRESH - TOLEDO',\n",
       "       'HY-VEE CRESCO DOLLAR FRESH',\n",
       "       'HY-VEE FAST & FRESH EXPRESS- BETTENDORF',\n",
       "       'HY-VEE FAST & FRESH EXPRESS -OSCELOA', 'HY-VEE WDM HEALTH MARKET',\n",
       "       'HY-VEE GAS ', 'HY-VEE DOLLAR FRESH ', 'HY-VEE FAST AND FRESH  ',\n",
       "       'HY-VEE C STORE ', 'HY-VEE C STORE  ', 'HY-VEE  GAS ',\n",
       "       'HY-VEE WINE AND SPIRITS  ', 'HY-VEE FOOD STORE   ', 'HY-VEE    ',\n",
       "       'HY-VEE FAST AND FRESH   ', 'HY-VEE DRUGSTORE   ',\n",
       "       'HY-VEE WINE AND SPIRITS   ', 'HY-VEE FAST & FRESH  '],\n",
       "      dtype=object)"
      ]
     },
     "execution_count": 7,
     "metadata": {},
     "output_type": "execute_result"
    }
   ],
   "source": [
    "# Removing all numbers and symbols\n",
    "df['store_format'] = df['store_format'].str.replace('[0-9#()]+', '', regex=True)\n",
    "df['store_format'].unique()"
   ]
  },
  {
   "cell_type": "code",
   "execution_count": 8,
   "metadata": {},
   "outputs": [
    {
     "data": {
      "text/plain": [
       "array(['HY-VEE', 'HY-VEE FOOD STORE', 'HY-VEE FAST & FRESH - DES MOINES',\n",
       "       'HY-VEE WINE AND SPIRITS', 'HY-VEE DRUGSTORE',\n",
       "       'HY-VEE C-STORE - DOUGLAS', 'HY-VEE FOOD & DRUGSTORE',\n",
       "       'HY-VEE HAMPTON DOLLAR FRESH', 'HY-VEE FOOD AND DRUG',\n",
       "       'HY-VEE C-STORE', 'HY-VEE DYERSVILLE DOLLAR FRESH',\n",
       "       'HY-VEE WINE & SPIRITS', 'HY-VEE GAS',\n",
       "       'HY-VEE FORT DODGE WINE AND SPIRITS',\n",
       "       'HY-VEE C-STORE - EAST HICKMAN', 'HY-VEE OELWEIN DOLLAR FRESH',\n",
       "       'HY-VEE MAINSTREET', 'HY-VEE C-STORE - ANKENY',\n",
       "       'HY-VEE FAST AND FRESH - WINDSOR HEIGHTS', 'HY-VEE -GARNER',\n",
       "       'HY-VEE - FOREST CITY', 'HY-VEE DOLLAR FRESH - EMMETSBURG',\n",
       "       'HY-VEE OTTUMWA', 'HY-VEE FAST AND FRESH', 'HY-VEE FAST & FRESH',\n",
       "       'HY-VEE STORE', 'HY-VEE FAST & FRESH EXPRESS',\n",
       "       'HY-VEE WAUKON DOLLAR FRESH', 'HY-VEE FAST & FRESH - KNOXVILLE',\n",
       "       'HY-VEE GAS - PLEASANT HILL', 'HY-VEE FAST AND FRESH - URBANDALE',\n",
       "       'HY-VEE GAS - WDM', 'HY-VEE FAST AND FRESH - DUBUQUE',\n",
       "       'HY-VEE DOLLAR FRESH - TOLEDO', 'HY-VEE CRESCO DOLLAR FRESH',\n",
       "       'HY-VEE FAST & FRESH EXPRESS- BETTENDORF',\n",
       "       'HY-VEE FAST & FRESH EXPRESS -OSCELOA', 'HY-VEE WDM HEALTH MARKET',\n",
       "       'HY-VEE DOLLAR FRESH', 'HY-VEE C STORE'], dtype=object)"
      ]
     },
     "execution_count": 8,
     "metadata": {},
     "output_type": "execute_result"
    }
   ],
   "source": [
    "# Remove leading and trailing spaces\n",
    "df['store_format'] = df['store_format'].str.strip()\n",
    "\n",
    "# Replace consecutive spaces with a single space\n",
    "df['store_format'] = df['store_format'].str.replace('\\s+', ' ', regex=True)\n",
    "\n",
    "df['store_format'].unique()"
   ]
  },
  {
   "cell_type": "code",
   "execution_count": 9,
   "metadata": {},
   "outputs": [
    {
     "data": {
      "text/plain": [
       "array(['HY-VEE', 'HY-VEE FAST & FRESH', 'HY-VEE WINE & SPIRITS',\n",
       "       'HY-VEE FOOD & DRUG', 'HY-VEE C-STORE', 'HY-VEE DOLLAR FRESH',\n",
       "       'HY-VEE GAS', 'HY-VEE MAINSTREET', 'HY-VEE -GARNER',\n",
       "       'HY-VEE - FOREST CITY', 'HY-VEE OTTUMWA', 'HY-VEE STORE',\n",
       "       'HY-VEE WDM HEALTH MARKET'], dtype=object)"
      ]
     },
     "execution_count": 9,
     "metadata": {},
     "output_type": "execute_result"
    }
   ],
   "source": [
    "# Standardizing the names\n",
    "replacements = {\n",
    "    'FOOD STORE': 'HY-VEE',\n",
    "    'FOOD AND DRUG': 'HY-VEE FOOD & DRUG',\n",
    "    'DRUGSTORE': 'HY-VEE FOOD & DRUG',\n",
    "    'FOOD & DRUGSTORE': 'HY-VEE FOOD & DRUG',\n",
    "    'WINE AND SPIRITS': 'HY-VEE WINE & SPIRITS',\n",
    "    'WINE & SPIRITS': 'HY-VEE WINE & SPIRITS',\n",
    "    'FAST & FRESH EXPRESS': 'HY-VEE FAST & FRESH',\n",
    "    'FAST & FRESH': 'HY-VEE FAST & FRESH',\n",
    "    'FAST AND FRESH': 'HY-VEE FAST & FRESH',\n",
    "    'GAS': 'HY-VEE GAS',\n",
    "    'GASE': 'HY-VEE GAS',\n",
    "    'C-STORE': 'HY-VEE C-STORE',\n",
    "    'C-STRORE': 'HY-VEE C-STORE',\n",
    "    'C STORE': 'HY-VEE C-STORE',\n",
    "    'DOLLAR FRESH': 'HY-VEE DOLLAR FRESH'\n",
    "}\n",
    "\n",
    "for key, value in replacements.items():\n",
    "    df.loc[df['store_format'].str.contains(key, na=False, case=False), 'store_format'] = value\n",
    "\n",
    "df['store_format'].unique()"
   ]
  },
  {
   "cell_type": "code",
   "execution_count": 11,
   "metadata": {},
   "outputs": [],
   "source": [
    "format_replacements = {\n",
    "    'HY-VEE'                : 'Grocery Store',\n",
    "    'HY-VEE FOOD & DRUG'    : 'Pharmacy',\n",
    "    'HY-VEE WINE & SPIRITS' : 'Spirits Store',\n",
    "    'HY-VEE C-STORE'        : 'Convenience Store',\n",
    "    'HY-VEE FAST & FRESH'   : 'Convenience Store',\n",
    "    'HY-VEE DOLLAR FRESH'   : 'Dollar Store'\n",
    "}\n",
    "\n",
    "# Replace values using the dictionary and set 'Other' for all values not in the dictionary\n",
    "df['store_format'] = df['store_format'].map(lambda x: format_replacements.get(x, 'Other'))"
   ]
  },
  {
   "cell_type": "code",
   "execution_count": 12,
   "metadata": {},
   "outputs": [
    {
     "data": {
      "text/plain": [
       "array(['Grocery Store', 'Convenience Store', 'Spirits Store', 'Pharmacy',\n",
       "       'Dollar Store', 'Other'], dtype=object)"
      ]
     },
     "execution_count": 12,
     "metadata": {},
     "output_type": "execute_result"
    }
   ],
   "source": [
    "df['store_format'].unique()"
   ]
  },
  {
   "cell_type": "code",
   "execution_count": 14,
   "metadata": {},
   "outputs": [
    {
     "data": {
      "text/html": [
       "<div>\n",
       "<style scoped>\n",
       "    .dataframe tbody tr th:only-of-type {\n",
       "        vertical-align: middle;\n",
       "    }\n",
       "\n",
       "    .dataframe tbody tr th {\n",
       "        vertical-align: top;\n",
       "    }\n",
       "\n",
       "    .dataframe thead th {\n",
       "        text-align: right;\n",
       "    }\n",
       "</style>\n",
       "<table border=\"1\" class=\"dataframe\">\n",
       "  <thead>\n",
       "    <tr style=\"text-align: right;\">\n",
       "      <th></th>\n",
       "      <th>invoice_line_no</th>\n",
       "      <th>name</th>\n",
       "      <th>category_name</th>\n",
       "      <th>store_format</th>\n",
       "    </tr>\n",
       "  </thead>\n",
       "  <tbody>\n",
       "    <tr>\n",
       "      <th>0</th>\n",
       "      <td>INV-33169200001</td>\n",
       "      <td>HY-VEE #3 / BDI / DES MOINES</td>\n",
       "      <td>CANADIAN WHISKIES</td>\n",
       "      <td>Grocery Store</td>\n",
       "    </tr>\n",
       "    <tr>\n",
       "      <th>1</th>\n",
       "      <td>INV-33169200002</td>\n",
       "      <td>HY-VEE #3 / BDI / DES MOINES</td>\n",
       "      <td>CANADIAN WHISKIES</td>\n",
       "      <td>Grocery Store</td>\n",
       "    </tr>\n",
       "    <tr>\n",
       "      <th>2</th>\n",
       "      <td>INV-33169200003</td>\n",
       "      <td>HY-VEE #3 / BDI / DES MOINES</td>\n",
       "      <td>CANADIAN WHISKIES</td>\n",
       "      <td>Grocery Store</td>\n",
       "    </tr>\n",
       "    <tr>\n",
       "      <th>3</th>\n",
       "      <td>INV-33169200004</td>\n",
       "      <td>HY-VEE #3 / BDI / DES MOINES</td>\n",
       "      <td>CANADIAN WHISKIES</td>\n",
       "      <td>Grocery Store</td>\n",
       "    </tr>\n",
       "    <tr>\n",
       "      <th>4</th>\n",
       "      <td>INV-33169200005</td>\n",
       "      <td>HY-VEE #3 / BDI / DES MOINES</td>\n",
       "      <td>IRISH WHISKIES</td>\n",
       "      <td>Grocery Store</td>\n",
       "    </tr>\n",
       "  </tbody>\n",
       "</table>\n",
       "</div>"
      ],
      "text/plain": [
       "   invoice_line_no                          name      category_name  \\\n",
       "0  INV-33169200001  HY-VEE #3 / BDI / DES MOINES  CANADIAN WHISKIES   \n",
       "1  INV-33169200002  HY-VEE #3 / BDI / DES MOINES  CANADIAN WHISKIES   \n",
       "2  INV-33169200003  HY-VEE #3 / BDI / DES MOINES  CANADIAN WHISKIES   \n",
       "3  INV-33169200004  HY-VEE #3 / BDI / DES MOINES  CANADIAN WHISKIES   \n",
       "4  INV-33169200005  HY-VEE #3 / BDI / DES MOINES     IRISH WHISKIES   \n",
       "\n",
       "    store_format  \n",
       "0  Grocery Store  \n",
       "1  Grocery Store  \n",
       "2  Grocery Store  \n",
       "3  Grocery Store  \n",
       "4  Grocery Store  "
      ]
     },
     "execution_count": 14,
     "metadata": {},
     "output_type": "execute_result"
    }
   ],
   "source": [
    "df.head()"
   ]
  },
  {
   "cell_type": "markdown",
   "metadata": {},
   "source": [
    "### 2.2. liquor Type"
   ]
  },
  {
   "cell_type": "markdown",
   "metadata": {},
   "source": [
    "Creating a new column to indicate liquor types based on the 'category_name' column."
   ]
  },
  {
   "cell_type": "code",
   "execution_count": 15,
   "metadata": {},
   "outputs": [
    {
     "data": {
      "text/plain": [
       "array(['CANADIAN WHISKIES', 'IRISH WHISKIES', 'STRAIGHT RYE WHISKIES',\n",
       "       'STRAIGHT BOURBON WHISKIES', 'BLENDED WHISKIES',\n",
       "       'IMPORTED DRY GINS', 'AMERICAN DRY GINS',\n",
       "       'IMPORTED FLAVORED VODKA', 'IMPORTED VODKAS', 'AMERICAN VODKAS',\n",
       "       'AMERICAN FLAVORED VODKA', 'FLAVORED RUM', 'WHITE RUM',\n",
       "       'SPICED RUM', 'AMERICAN BRANDIES', 'SCOTCH WHISKIES',\n",
       "       'IMPORTED CORDIALS & LIQUEURS', 'CREAM LIQUEURS',\n",
       "       'IMPORTED SCHNAPPS', 'AMERICAN CORDIALS & LIQUEURS',\n",
       "       'IMPORTED DISTILLED SPIRITS SPECIALTY',\n",
       "       'AMERICAN DISTILLED SPIRITS SPECIALTY', 'AMERICAN SCHNAPPS',\n",
       "       'TENNESSEE WHISKIES', 'TRIPLE SEC', '100% AGAVE TEQUILA',\n",
       "       'MIXTO TEQUILA', 'MEZCAL', 'WHISKEY LIQUEUR',\n",
       "       'SPECIAL ORDER ITEMS', 'IMPORTED BRANDIES',\n",
       "       'TEMPORARY & SPECIALTY PACKAGES', 'COCKTAILS/RTD', 'AGED DARK RUM',\n",
       "       'NEUTRAL GRAIN SPIRITS', 'GOLD RUM', 'COFFEE LIQUEURS',\n",
       "       'NEUTRAL GRAIN SPIRITS FLAVORED', 'BOTTLED IN BOND BOURBON',\n",
       "       'CORN WHISKIES', 'SINGLE MALT SCOTCH', 'FLAVORED GIN',\n",
       "       'AMERICAN SLOE GINS', 'SINGLE BARREL BOURBON WHISKIES',\n",
       "       'DISTILLED SPIRITS SPECIALTY', 'AMERICAN WHISKIES'], dtype=object)"
      ]
     },
     "execution_count": 15,
     "metadata": {},
     "output_type": "execute_result"
    }
   ],
   "source": [
    "df['liquor_type'] = df['category_name']\n",
    "df['liquor_type'].unique()"
   ]
  },
  {
   "cell_type": "code",
   "execution_count": 16,
   "metadata": {},
   "outputs": [
    {
     "data": {
      "text/plain": [
       "array(['WHISKIES', 'GINS', 'VODKA', 'VODKAS', 'RUM', 'BRANDIES',\n",
       "       'LIQUEURS', 'SCHNAPPS', 'SPECIALTY', 'SEC', 'TEQUILA', 'MEZCAL',\n",
       "       'LIQUEUR', 'ITEMS', 'PACKAGES', 'COCKTAILS/RTD', 'SPIRITS',\n",
       "       'FLAVORED', 'BOURBON', 'SCOTCH', 'GIN'], dtype=object)"
      ]
     },
     "execution_count": 16,
     "metadata": {},
     "output_type": "execute_result"
    }
   ],
   "source": [
    "# Extract the last word\n",
    "df['liquor_type'] = df['liquor_type'].apply(lambda x: x.split()[-1])\n",
    "df['liquor_type'].unique()"
   ]
  },
  {
   "cell_type": "code",
   "execution_count": 17,
   "metadata": {},
   "outputs": [],
   "source": [
    "type_replacements = {\n",
    "    'WHISKIES'  : 'Whisky',\n",
    "    'GINS'      : 'Gin',\n",
    "    'VODKA'     : 'Vodka',\n",
    "    'VODKAS'    : 'Vodka',\n",
    "    'RUM'       : 'Rum',\n",
    "    'BRANDIES'  : 'Brandy',\n",
    "    'LIQUEURS'  : 'Liqueur',\n",
    "    'SCHNAPPS'  : 'Liqueur',  \n",
    "    'SEC'       : 'Liqueur',  \n",
    "    'TEQUILA'   : 'Tequila',\n",
    "    'LIQUEUR'   : 'Liqueur',\n",
    "    'BOURBON'   : 'Whisky',\n",
    "    'SCOTCH'    : 'Whisky',\n",
    "    'GIN'       : 'Gin'\n",
    "}\n",
    "\n",
    "# Replace values using the dictionary and set 'Other' for all values not in the dictionary\n",
    "df['liquor_type'] = df['liquor_type'].map(lambda x: type_replacements.get(x, 'Other'))"
   ]
  },
  {
   "cell_type": "code",
   "execution_count": 18,
   "metadata": {},
   "outputs": [
    {
     "data": {
      "text/plain": [
       "array(['Whisky', 'Gin', 'Vodka', 'Rum', 'Brandy', 'Liqueur', 'Other',\n",
       "       'Tequila'], dtype=object)"
      ]
     },
     "execution_count": 18,
     "metadata": {},
     "output_type": "execute_result"
    }
   ],
   "source": [
    "df['liquor_type'].unique()"
   ]
  },
  {
   "cell_type": "code",
   "execution_count": 19,
   "metadata": {},
   "outputs": [
    {
     "data": {
      "text/html": [
       "<div>\n",
       "<style scoped>\n",
       "    .dataframe tbody tr th:only-of-type {\n",
       "        vertical-align: middle;\n",
       "    }\n",
       "\n",
       "    .dataframe tbody tr th {\n",
       "        vertical-align: top;\n",
       "    }\n",
       "\n",
       "    .dataframe thead th {\n",
       "        text-align: right;\n",
       "    }\n",
       "</style>\n",
       "<table border=\"1\" class=\"dataframe\">\n",
       "  <thead>\n",
       "    <tr style=\"text-align: right;\">\n",
       "      <th></th>\n",
       "      <th>invoice_line_no</th>\n",
       "      <th>name</th>\n",
       "      <th>category_name</th>\n",
       "      <th>store_format</th>\n",
       "      <th>liquor_type</th>\n",
       "    </tr>\n",
       "  </thead>\n",
       "  <tbody>\n",
       "    <tr>\n",
       "      <th>0</th>\n",
       "      <td>INV-33169200001</td>\n",
       "      <td>HY-VEE #3 / BDI / DES MOINES</td>\n",
       "      <td>CANADIAN WHISKIES</td>\n",
       "      <td>Grocery Store</td>\n",
       "      <td>Whisky</td>\n",
       "    </tr>\n",
       "    <tr>\n",
       "      <th>1</th>\n",
       "      <td>INV-33169200002</td>\n",
       "      <td>HY-VEE #3 / BDI / DES MOINES</td>\n",
       "      <td>CANADIAN WHISKIES</td>\n",
       "      <td>Grocery Store</td>\n",
       "      <td>Whisky</td>\n",
       "    </tr>\n",
       "    <tr>\n",
       "      <th>2</th>\n",
       "      <td>INV-33169200003</td>\n",
       "      <td>HY-VEE #3 / BDI / DES MOINES</td>\n",
       "      <td>CANADIAN WHISKIES</td>\n",
       "      <td>Grocery Store</td>\n",
       "      <td>Whisky</td>\n",
       "    </tr>\n",
       "    <tr>\n",
       "      <th>3</th>\n",
       "      <td>INV-33169200004</td>\n",
       "      <td>HY-VEE #3 / BDI / DES MOINES</td>\n",
       "      <td>CANADIAN WHISKIES</td>\n",
       "      <td>Grocery Store</td>\n",
       "      <td>Whisky</td>\n",
       "    </tr>\n",
       "    <tr>\n",
       "      <th>4</th>\n",
       "      <td>INV-33169200005</td>\n",
       "      <td>HY-VEE #3 / BDI / DES MOINES</td>\n",
       "      <td>IRISH WHISKIES</td>\n",
       "      <td>Grocery Store</td>\n",
       "      <td>Whisky</td>\n",
       "    </tr>\n",
       "  </tbody>\n",
       "</table>\n",
       "</div>"
      ],
      "text/plain": [
       "   invoice_line_no                          name      category_name  \\\n",
       "0  INV-33169200001  HY-VEE #3 / BDI / DES MOINES  CANADIAN WHISKIES   \n",
       "1  INV-33169200002  HY-VEE #3 / BDI / DES MOINES  CANADIAN WHISKIES   \n",
       "2  INV-33169200003  HY-VEE #3 / BDI / DES MOINES  CANADIAN WHISKIES   \n",
       "3  INV-33169200004  HY-VEE #3 / BDI / DES MOINES  CANADIAN WHISKIES   \n",
       "4  INV-33169200005  HY-VEE #3 / BDI / DES MOINES     IRISH WHISKIES   \n",
       "\n",
       "    store_format liquor_type  \n",
       "0  Grocery Store      Whisky  \n",
       "1  Grocery Store      Whisky  \n",
       "2  Grocery Store      Whisky  \n",
       "3  Grocery Store      Whisky  \n",
       "4  Grocery Store      Whisky  "
      ]
     },
     "execution_count": 19,
     "metadata": {},
     "output_type": "execute_result"
    }
   ],
   "source": [
    "df.head()"
   ]
  },
  {
   "cell_type": "markdown",
   "metadata": {},
   "source": [
    "# 3. Loading Data"
   ]
  },
  {
   "cell_type": "code",
   "execution_count": 32,
   "metadata": {},
   "outputs": [],
   "source": [
    "conn_int = pymysql.connect(host=host, user=user, password=password, db='INT_HYVEE')\n",
    "cursor_int = conn_int.cursor()"
   ]
  },
  {
   "cell_type": "code",
   "execution_count": 21,
   "metadata": {},
   "outputs": [
    {
     "name": "stdout",
     "output_type": "stream",
     "text": [
      "Columns added successfully.\n"
     ]
    }
   ],
   "source": [
    "# Adding new columns in MySQL database\n",
    "conn_int = pymysql.connect(host=host, user=user, password=password, db='INT_HYVEE')\n",
    "cursor_int = conn_int.cursor()\n",
    "\n",
    "add_store_format = \"ALTER TABLE sales ADD COLUMN store_format VARCHAR(255);\"\n",
    "add_liquor_type = \"ALTER TABLE sales ADD COLUMN liquor_type VARCHAR(255);\"\n",
    "\n",
    "try:\n",
    "    cursor_int.execute(add_store_format)\n",
    "    cursor_int.execute(add_liquor_type)\n",
    "    conn_int.commit()  \n",
    "    print(\"Columns added successfully.\")\n",
    "except pymysql.err.InternalError as e:\n",
    "    print(f\"An error occurred: {e}\")"
   ]
  },
  {
   "cell_type": "code",
   "execution_count": 33,
   "metadata": {},
   "outputs": [],
   "source": [
    "# Creating a Temporary Table\n",
    "def create_temp_table(cursor):\n",
    "    temp_table_query = \"\"\"\n",
    "    CREATE TEMPORARY TABLE IF NOT EXISTS temp_sales_updates (\n",
    "        invoice_line_no VARCHAR(255),\n",
    "        store_format VARCHAR(255),\n",
    "        liquor_type VARCHAR(255),\n",
    "        INDEX (invoice_line_no)\n",
    "    );\n",
    "    \"\"\"\n",
    "    cursor.execute(temp_table_query)\n",
    "\n",
    "create_temp_table(cursor_int)"
   ]
  },
  {
   "cell_type": "code",
   "execution_count": 34,
   "metadata": {},
   "outputs": [],
   "source": [
    "# Inserting Data into Temporary Table in Batches\n",
    "def batch_insert_to_temp_table(cursor, batch_data):\n",
    "    insert_query = \"\"\"\n",
    "    INSERT INTO temp_sales_updates (invoice_line_no, store_format, liquor_type) \n",
    "    VALUES (%s, %s, %s);\n",
    "    \"\"\"\n",
    "    cursor.executemany(insert_query, batch_data)\n",
    "\n",
    "batch_size = 1000  # Adjust the batch size according to your requirements\n",
    "for start in range(0, len(df), batch_size):\n",
    "    end = start + batch_size\n",
    "    batch_data = [\n",
    "        (row['invoice_line_no'], row['store_format'], row['liquor_type']) \n",
    "        for index, row in df.iloc[start:end].iterrows()\n",
    "    ]\n",
    "    batch_insert_to_temp_table(cursor_int, batch_data)\n",
    "    conn_int.commit()\n"
   ]
  },
  {
   "cell_type": "code",
   "execution_count": 35,
   "metadata": {},
   "outputs": [
    {
     "name": "stdout",
     "output_type": "stream",
     "text": [
      "An error occurred: (1061, \"Duplicate key name 'idx_invoice_line_no'\")\n"
     ]
    }
   ],
   "source": [
    "# Indexing `invoice_line_no` for optimized performance\n",
    "def create_index(cursor):\n",
    "    index_query = \"\"\"\n",
    "    CREATE INDEX idx_invoice_line_no ON sales (invoice_line_no); \n",
    "    \"\"\"\n",
    "    try:\n",
    "        cursor.execute(index_query)\n",
    "        print(\"Index created successfully.\")\n",
    "    except Exception as e:\n",
    "        print(f\"An error occurred: {e}\")\n",
    "\n",
    "create_index(cursor_int)\n",
    "conn_int.commit()\n"
   ]
  },
  {
   "cell_type": "code",
   "execution_count": 36,
   "metadata": {},
   "outputs": [],
   "source": [
    "# Updating Main Table Using Temporary Table\n",
    "def update_main_table_from_temp(cursor):\n",
    "    update_query = \"\"\"\n",
    "    UPDATE sales s\n",
    "    JOIN temp_sales_updates t ON s.invoice_line_no = t.invoice_line_no\n",
    "    SET s.store_format = t.store_format, s.liquor_type = t.liquor_type;\n",
    "    \"\"\"\n",
    "    cursor.execute(update_query)\n",
    "\n",
    "update_main_table_from_temp(cursor_int)\n",
    "conn_int.commit()\n",
    "\n",
    "cursor_int.close()\n",
    "conn_int.close()"
   ]
  }
 ],
 "metadata": {
  "kernelspec": {
   "display_name": "Python 3",
   "language": "python",
   "name": "python3"
  },
  "language_info": {
   "codemirror_mode": {
    "name": "ipython",
    "version": 3
   },
   "file_extension": ".py",
   "mimetype": "text/x-python",
   "name": "python",
   "nbconvert_exporter": "python",
   "pygments_lexer": "ipython3",
   "version": "3.11.7"
  }
 },
 "nbformat": 4,
 "nbformat_minor": 2
}
