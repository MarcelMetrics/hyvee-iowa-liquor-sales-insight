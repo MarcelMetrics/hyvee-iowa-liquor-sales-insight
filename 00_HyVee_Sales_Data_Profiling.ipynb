{
 "cells": [
  {
   "cell_type": "code",
   "execution_count": 2,
   "metadata": {},
   "outputs": [],
   "source": [
    "# !pip install --upgrade pip\n",
    "# !pip install pandas\n",
    "# !pip install sodapy"
   ]
  },
  {
   "cell_type": "markdown",
   "metadata": {},
   "source": [
    "# Data Profiling"
   ]
  },
  {
   "cell_type": "markdown",
   "metadata": {},
   "source": [
    "Analyzing a subset of data to understand its characteristics, guiding the design of an efficient data pipeline."
   ]
  },
  {
   "cell_type": "markdown",
   "metadata": {},
   "source": [
    "## Data Extraction"
   ]
  },
  {
   "cell_type": "code",
   "execution_count": 3,
   "metadata": {},
   "outputs": [],
   "source": [
    "import pandas as pd\n",
    "from sodapy import Socrata\n",
    "import json\n",
    "from datetime import datetime, timedelta"
   ]
  },
  {
   "cell_type": "code",
   "execution_count": 4,
   "metadata": {},
   "outputs": [],
   "source": [
    "with open('config/socrata_config.json') as f:\n",
    "  config = json.load(f)\n",
    "\n",
    "AppToken = config['app_token']\n",
    "UserName = config['user_name']\n",
    "Password = config[\"password\"]"
   ]
  },
  {
   "cell_type": "code",
   "execution_count": 5,
   "metadata": {},
   "outputs": [],
   "source": [
    "client = Socrata(\"data.iowa.gov\",\n",
    "                 AppToken,\n",
    "                 username = UserName,\n",
    "                 password = Password,\n",
    "                 timeout=30)"
   ]
  },
  {
   "cell_type": "code",
   "execution_count": 6,
   "metadata": {},
   "outputs": [
    {
     "data": {
      "text/plain": [
       "14"
      ]
     },
     "execution_count": 6,
     "metadata": {},
     "output_type": "execute_result"
    }
   ],
   "source": [
    "col_selected = 'invoice_line_no, date, store, name, city, zipcode, county, category, category_name, vendor_no, vendor_name, itemno, im_desc, state_bottle_cost, state_bottle_retail, sale_bottles'\n",
    "col_list = ['invoice_line_no', 'date', 'store', 'name', 'city', 'zipcode', 'county', 'category', 'category_name', 'itemno', 'im_desc', 'state_bottle_cost', 'state_bottle_retail', 'sale_bottles']\n",
    "len(col_list)"
   ]
  },
  {
   "cell_type": "code",
   "execution_count": 7,
   "metadata": {},
   "outputs": [
    {
     "name": "stdout",
     "output_type": "stream",
     "text": [
      "Rows from 2023-06-01 to 2024-01-03T20:05:43.711: 425024\n"
     ]
    }
   ],
   "source": [
    "start_date = \"2023-06-01\"\n",
    "end_date = datetime.now().strftime(\"%Y-%m-%dT%H:%M:%S.%f\")[:-3]  \n",
    "\n",
    "total_rows = []  \n",
    "limit = 5000  \n",
    "offset = 0  \n",
    "more_data = True  \n",
    "\n",
    "while more_data:\n",
    "    results = client.get(\"m3tr-qhgy\",\n",
    "                         select=col_selected, \n",
    "                         where=f\"LOWER(name) LIKE '%hy-vee%' AND date >= '{start_date}' AND date < '{end_date}'\", \n",
    "                         limit=limit, \n",
    "                         offset=offset)\n",
    "    total_rows.extend(results)  \n",
    "\n",
    "    if len(results) < limit:\n",
    "        more_data = False\n",
    "    else:\n",
    "        offset += limit \n",
    "\n",
    "df = pd.DataFrame.from_records(total_rows)\n",
    "print(f\"Rows from {start_date} to {end_date}: {df.shape[0]}\")"
   ]
  },
  {
   "cell_type": "code",
   "execution_count": 8,
   "metadata": {},
   "outputs": [
    {
     "data": {
      "text/html": [
       "<div>\n",
       "<style scoped>\n",
       "    .dataframe tbody tr th:only-of-type {\n",
       "        vertical-align: middle;\n",
       "    }\n",
       "\n",
       "    .dataframe tbody tr th {\n",
       "        vertical-align: top;\n",
       "    }\n",
       "\n",
       "    .dataframe thead th {\n",
       "        text-align: right;\n",
       "    }\n",
       "</style>\n",
       "<table border=\"1\" class=\"dataframe\">\n",
       "  <thead>\n",
       "    <tr style=\"text-align: right;\">\n",
       "      <th></th>\n",
       "      <th>invoice_line_no</th>\n",
       "      <th>date</th>\n",
       "      <th>store</th>\n",
       "      <th>name</th>\n",
       "      <th>city</th>\n",
       "      <th>zipcode</th>\n",
       "      <th>county</th>\n",
       "      <th>category</th>\n",
       "      <th>category_name</th>\n",
       "      <th>vendor_no</th>\n",
       "      <th>vendor_name</th>\n",
       "      <th>itemno</th>\n",
       "      <th>im_desc</th>\n",
       "      <th>state_bottle_cost</th>\n",
       "      <th>state_bottle_retail</th>\n",
       "      <th>sale_bottles</th>\n",
       "    </tr>\n",
       "  </thead>\n",
       "  <tbody>\n",
       "    <tr>\n",
       "      <th>248698</th>\n",
       "      <td>INV-62992000002</td>\n",
       "      <td>2023-10-05T00:00:00.000</td>\n",
       "      <td>2621</td>\n",
       "      <td>HY-VEE FOOD STORE #3 / SIOUX CITY</td>\n",
       "      <td>SIOUX CITY</td>\n",
       "      <td>51105</td>\n",
       "      <td>WOODBURY</td>\n",
       "      <td>1012300</td>\n",
       "      <td>SINGLE MALT SCOTCH</td>\n",
       "      <td>363</td>\n",
       "      <td>PATERNO IMPORTS LTD / TERLATO WINES INTERNATIONAL</td>\n",
       "      <td>994652</td>\n",
       "      <td>HA BUNNAHABHAIN 18YR SINGLE MALT SCOTCH</td>\n",
       "      <td>187.50</td>\n",
       "      <td>281.25</td>\n",
       "      <td>1</td>\n",
       "    </tr>\n",
       "    <tr>\n",
       "      <th>375718</th>\n",
       "      <td>INV-65117600035</td>\n",
       "      <td>2023-12-11T00:00:00.000</td>\n",
       "      <td>2614</td>\n",
       "      <td>HY-VEE #3 FOOD &amp; DRUGSTORE / DAVENPORT</td>\n",
       "      <td>DAVENPORT</td>\n",
       "      <td>52807</td>\n",
       "      <td>SCOTT</td>\n",
       "      <td>1011200</td>\n",
       "      <td>STRAIGHT BOURBON WHISKIES</td>\n",
       "      <td>065</td>\n",
       "      <td>JIM BEAM BRANDS</td>\n",
       "      <td>19096</td>\n",
       "      <td>JIM BEAM PET</td>\n",
       "      <td>11.00</td>\n",
       "      <td>16.50</td>\n",
       "      <td>12</td>\n",
       "    </tr>\n",
       "    <tr>\n",
       "      <th>134500</th>\n",
       "      <td>INV-60994300050</td>\n",
       "      <td>2023-08-04T00:00:00.000</td>\n",
       "      <td>2543</td>\n",
       "      <td>HY-VEE FOOD STORE #1 (1504) / OTTUMWA</td>\n",
       "      <td>OTTUMWA</td>\n",
       "      <td>52501</td>\n",
       "      <td>WAPELLO</td>\n",
       "      <td>1071000</td>\n",
       "      <td>COCKTAILS/RTD</td>\n",
       "      <td>395</td>\n",
       "      <td>PROXIMO</td>\n",
       "      <td>58876</td>\n",
       "      <td>JOSE CUERVO GOLDEN MARGARITA</td>\n",
       "      <td>6.42</td>\n",
       "      <td>9.63</td>\n",
       "      <td>12</td>\n",
       "    </tr>\n",
       "    <tr>\n",
       "      <th>385694</th>\n",
       "      <td>INV-65265200081</td>\n",
       "      <td>2023-12-14T00:00:00.000</td>\n",
       "      <td>2633</td>\n",
       "      <td>HY-VEE #3 / BDI / DES MOINES</td>\n",
       "      <td>DES MOINES</td>\n",
       "      <td>50320</td>\n",
       "      <td>POLK</td>\n",
       "      <td>1031100</td>\n",
       "      <td>AMERICAN VODKAS</td>\n",
       "      <td>777</td>\n",
       "      <td>BLUE OX SPIRITS, INC.</td>\n",
       "      <td>36874</td>\n",
       "      <td>BLUE OX VODKA</td>\n",
       "      <td>4.76</td>\n",
       "      <td>7.14</td>\n",
       "      <td>120</td>\n",
       "    </tr>\n",
       "    <tr>\n",
       "      <th>362321</th>\n",
       "      <td>INV-64910900017</td>\n",
       "      <td>2023-12-05T00:00:00.000</td>\n",
       "      <td>2509</td>\n",
       "      <td>HY-VEE / DRUGTOWN #1 (7020) / CEDAR RAPIDS</td>\n",
       "      <td>CEDAR RAPIDS</td>\n",
       "      <td>52404</td>\n",
       "      <td>LINN</td>\n",
       "      <td>1011200</td>\n",
       "      <td>STRAIGHT BOURBON WHISKIES</td>\n",
       "      <td>421</td>\n",
       "      <td>SAZERAC COMPANY  INC</td>\n",
       "      <td>21598</td>\n",
       "      <td>TEN HIGH</td>\n",
       "      <td>9.24</td>\n",
       "      <td>13.86</td>\n",
       "      <td>12</td>\n",
       "    </tr>\n",
       "  </tbody>\n",
       "</table>\n",
       "</div>"
      ],
      "text/plain": [
       "        invoice_line_no                     date store  \\\n",
       "248698  INV-62992000002  2023-10-05T00:00:00.000  2621   \n",
       "375718  INV-65117600035  2023-12-11T00:00:00.000  2614   \n",
       "134500  INV-60994300050  2023-08-04T00:00:00.000  2543   \n",
       "385694  INV-65265200081  2023-12-14T00:00:00.000  2633   \n",
       "362321  INV-64910900017  2023-12-05T00:00:00.000  2509   \n",
       "\n",
       "                                              name          city zipcode  \\\n",
       "248698           HY-VEE FOOD STORE #3 / SIOUX CITY    SIOUX CITY   51105   \n",
       "375718      HY-VEE #3 FOOD & DRUGSTORE / DAVENPORT     DAVENPORT   52807   \n",
       "134500       HY-VEE FOOD STORE #1 (1504) / OTTUMWA       OTTUMWA   52501   \n",
       "385694                HY-VEE #3 / BDI / DES MOINES    DES MOINES   50320   \n",
       "362321  HY-VEE / DRUGTOWN #1 (7020) / CEDAR RAPIDS  CEDAR RAPIDS   52404   \n",
       "\n",
       "          county category              category_name vendor_no  \\\n",
       "248698  WOODBURY  1012300         SINGLE MALT SCOTCH       363   \n",
       "375718     SCOTT  1011200  STRAIGHT BOURBON WHISKIES       065   \n",
       "134500   WAPELLO  1071000              COCKTAILS/RTD       395   \n",
       "385694      POLK  1031100            AMERICAN VODKAS       777   \n",
       "362321      LINN  1011200  STRAIGHT BOURBON WHISKIES       421   \n",
       "\n",
       "                                              vendor_name  itemno  \\\n",
       "248698  PATERNO IMPORTS LTD / TERLATO WINES INTERNATIONAL  994652   \n",
       "375718                                    JIM BEAM BRANDS   19096   \n",
       "134500                                            PROXIMO   58876   \n",
       "385694                              BLUE OX SPIRITS, INC.   36874   \n",
       "362321                               SAZERAC COMPANY  INC   21598   \n",
       "\n",
       "                                        im_desc state_bottle_cost  \\\n",
       "248698  HA BUNNAHABHAIN 18YR SINGLE MALT SCOTCH            187.50   \n",
       "375718                             JIM BEAM PET             11.00   \n",
       "134500             JOSE CUERVO GOLDEN MARGARITA              6.42   \n",
       "385694                            BLUE OX VODKA              4.76   \n",
       "362321                                 TEN HIGH              9.24   \n",
       "\n",
       "       state_bottle_retail sale_bottles  \n",
       "248698              281.25            1  \n",
       "375718               16.50           12  \n",
       "134500                9.63           12  \n",
       "385694                7.14          120  \n",
       "362321               13.86           12  "
      ]
     },
     "execution_count": 8,
     "metadata": {},
     "output_type": "execute_result"
    }
   ],
   "source": [
    "df = df.sample(frac=0.1)\n",
    "df.head()"
   ]
  },
  {
   "cell_type": "markdown",
   "metadata": {},
   "source": [
    "## Data Transformation"
   ]
  },
  {
   "cell_type": "markdown",
   "metadata": {},
   "source": [
    "### 1.1. Removing Duplicate Rows"
   ]
  },
  {
   "cell_type": "code",
   "execution_count": 9,
   "metadata": {},
   "outputs": [
    {
     "name": "stdout",
     "output_type": "stream",
     "text": [
      "Number of duplicate rows: 2; Percentage of duplicate rows: 0.00%\n"
     ]
    }
   ],
   "source": [
    "num_dup = df.duplicated().sum()\n",
    "perc_dup = num_dup / df.shape[0] * 100 \n",
    "print(f'Number of duplicate rows: {num_dup}; Percentage of duplicate rows: {perc_dup:.2f}%')"
   ]
  },
  {
   "cell_type": "code",
   "execution_count": 10,
   "metadata": {},
   "outputs": [
    {
     "name": "stdout",
     "output_type": "stream",
     "text": [
      "Number of duplicate rows: 0; Percentage of duplicate rows: 0.00%\n"
     ]
    }
   ],
   "source": [
    "# Despite the potential for duplicates arising from reasons other than data entry errors, \n",
    "# I'm opting to remove them as they constitute a minimal proportion of the dataset (only 0.02%). \n",
    "# This decision is based on the assumption that the impact on data integrity will be negligible while simplifying further analysis.\n",
    "\n",
    "df = df.drop_duplicates()\n",
    "num_dup = df.duplicated().sum()\n",
    "perc_dup = num_dup / df.shape[0] * 100 \n",
    "print(f'Number of duplicate rows: {num_dup}; Percentage of duplicate rows: {perc_dup:.2f}%')"
   ]
  },
  {
   "cell_type": "markdown",
   "metadata": {},
   "source": [
    "### 1.2. Handelling Missing Values"
   ]
  },
  {
   "cell_type": "code",
   "execution_count": 11,
   "metadata": {},
   "outputs": [
    {
     "data": {
      "text/html": [
       "<div>\n",
       "<style scoped>\n",
       "    .dataframe tbody tr th:only-of-type {\n",
       "        vertical-align: middle;\n",
       "    }\n",
       "\n",
       "    .dataframe tbody tr th {\n",
       "        vertical-align: top;\n",
       "    }\n",
       "\n",
       "    .dataframe thead th {\n",
       "        text-align: right;\n",
       "    }\n",
       "</style>\n",
       "<table border=\"1\" class=\"dataframe\">\n",
       "  <thead>\n",
       "    <tr style=\"text-align: right;\">\n",
       "      <th></th>\n",
       "      <th>Missing Values</th>\n",
       "      <th>% of Total Values</th>\n",
       "    </tr>\n",
       "  </thead>\n",
       "  <tbody>\n",
       "  </tbody>\n",
       "</table>\n",
       "</div>"
      ],
      "text/plain": [
       "Empty DataFrame\n",
       "Columns: [Missing Values, % of Total Values]\n",
       "Index: []"
      ]
     },
     "execution_count": 11,
     "metadata": {},
     "output_type": "execute_result"
    }
   ],
   "source": [
    "def missing_values_table(df):\n",
    "    if not isinstance(df, pd.DataFrame):\n",
    "        raise ValueError(\"Input is not a pandas DataFrame\")\n",
    "\n",
    "    num_na = df.isnull().sum()\n",
    "    perc_na = (num_na / len(df)) * 100\n",
    "\n",
    "    df_na = pd.DataFrame({\n",
    "        'Missing Values': num_na,\n",
    "        '% of Total Values': perc_na\n",
    "    })\n",
    "\n",
    "    df_na = df_na[df_na['Missing Values'] != 0]\n",
    "\n",
    "    return df_na\n",
    "\n",
    "missing_values_table(df)"
   ]
  },
  {
   "cell_type": "markdown",
   "metadata": {},
   "source": [
    "Although the current sample shows no missing values, they may be underrepresented in the full dataset. \n",
    "\n",
    "These rows, containing key sales data, are vital for our analysis. \n",
    "Hence, we will retain them by imputing missing values with placeholders to preserve critical insights. \n",
    "\n",
    "However, records lacking essential data such as price, sales volume, dates, and index will be excluded, \n",
    "as their absence renders them unsuitable for meaningful analysis."
   ]
  },
  {
   "cell_type": "code",
   "execution_count": 12,
   "metadata": {},
   "outputs": [
    {
     "data": {
      "text/plain": [
       "Index(['invoice_line_no', 'date', 'store', 'name', 'city', 'zipcode', 'county',\n",
       "       'category', 'category_name', 'vendor_no', 'vendor_name', 'itemno',\n",
       "       'im_desc', 'state_bottle_cost', 'state_bottle_retail', 'sale_bottles'],\n",
       "      dtype='object')"
      ]
     },
     "execution_count": 12,
     "metadata": {},
     "output_type": "execute_result"
    }
   ],
   "source": [
    "df.columns"
   ]
  },
  {
   "cell_type": "code",
   "execution_count": 13,
   "metadata": {},
   "outputs": [],
   "source": [
    "dimension_cols = ['store', 'name', 'city', 'zipcode', 'county', 'category', 'category_name', 'vendor_no', 'vendor_name', 'itemno', 'im_desc']"
   ]
  },
  {
   "cell_type": "code",
   "execution_count": 14,
   "metadata": {},
   "outputs": [
    {
     "data": {
      "text/plain": [
       "{'store': 9999,\n",
       " 'name': 'UNKNOWN',\n",
       " 'city': 'UNKNOWN',\n",
       " 'zipcode': 99999,\n",
       " 'county': 'UNKNOWN',\n",
       " 'category': 9999999,\n",
       " 'category_name': 'UNKNOWN',\n",
       " 'vendor_no': 999,\n",
       " 'vendor_name': 'UNKNOWN',\n",
       " 'itemno': 99999,\n",
       " 'im_desc': 'UNKNOWN'}"
      ]
     },
     "execution_count": 14,
     "metadata": {},
     "output_type": "execute_result"
    }
   ],
   "source": [
    "def generate_placeholder_dict(df, cols):\n",
    "    placeholder_dict = {}\n",
    "    for col in cols:\n",
    "        try:\n",
    "            int_col = df[col].dropna().astype(int)\n",
    "            mode_digit_count = int_col.astype(str).apply(len).mode()[0]\n",
    "            placeholder_dict[col] = int('9' * mode_digit_count)\n",
    "        except ValueError:\n",
    "            placeholder_dict[col] = 'UNKNOWN'\n",
    "    return placeholder_dict\n",
    "\n",
    "dimension_cols = ['store', 'name', 'city', 'zipcode', 'county', 'category', 'category_name', 'vendor_no', 'vendor_name', 'itemno', 'im_desc']\n",
    "placeholders = generate_placeholder_dict(df, dimension_cols)\n",
    "\n",
    "placeholders"
   ]
  },
  {
   "cell_type": "code",
   "execution_count": 15,
   "metadata": {},
   "outputs": [],
   "source": [
    "# Save dictionary to a JSON file\n",
    "with open('dicts/placeholders.json', 'w') as file:\n",
    "    json.dump(placeholders, file)"
   ]
  },
  {
   "cell_type": "code",
   "execution_count": 16,
   "metadata": {},
   "outputs": [
    {
     "data": {
      "text/html": [
       "<div>\n",
       "<style scoped>\n",
       "    .dataframe tbody tr th:only-of-type {\n",
       "        vertical-align: middle;\n",
       "    }\n",
       "\n",
       "    .dataframe tbody tr th {\n",
       "        vertical-align: top;\n",
       "    }\n",
       "\n",
       "    .dataframe thead th {\n",
       "        text-align: right;\n",
       "    }\n",
       "</style>\n",
       "<table border=\"1\" class=\"dataframe\">\n",
       "  <thead>\n",
       "    <tr style=\"text-align: right;\">\n",
       "      <th></th>\n",
       "      <th>Missing Values</th>\n",
       "      <th>% of Total Values</th>\n",
       "    </tr>\n",
       "  </thead>\n",
       "  <tbody>\n",
       "  </tbody>\n",
       "</table>\n",
       "</div>"
      ],
      "text/plain": [
       "Empty DataFrame\n",
       "Columns: [Missing Values, % of Total Values]\n",
       "Index: []"
      ]
     },
     "execution_count": 16,
     "metadata": {},
     "output_type": "execute_result"
    }
   ],
   "source": [
    "df = df.fillna(value=placeholders)\n",
    "missing_values_table(df)"
   ]
  },
  {
   "cell_type": "markdown",
   "metadata": {},
   "source": [
    "### 2.3. Checking Data Type"
   ]
  },
  {
   "cell_type": "markdown",
   "metadata": {},
   "source": [
    "Verify if specific columns, such as indexes, are convertible to integers and if the date column can be formatted as datetime for compatibility with corresponding MySQL server data types"
   ]
  },
  {
   "cell_type": "code",
   "execution_count": 17,
   "metadata": {},
   "outputs": [
    {
     "name": "stdout",
     "output_type": "stream",
     "text": [
      "<class 'pandas.core.frame.DataFrame'>\n",
      "Index: 42500 entries, 248698 to 221050\n",
      "Data columns (total 16 columns):\n",
      " #   Column               Non-Null Count  Dtype \n",
      "---  ------               --------------  ----- \n",
      " 0   invoice_line_no      42500 non-null  object\n",
      " 1   date                 42500 non-null  object\n",
      " 2   store                42500 non-null  object\n",
      " 3   name                 42500 non-null  object\n",
      " 4   city                 42500 non-null  object\n",
      " 5   zipcode              42500 non-null  object\n",
      " 6   county               42500 non-null  object\n",
      " 7   category             42500 non-null  object\n",
      " 8   category_name        42500 non-null  object\n",
      " 9   vendor_no            42500 non-null  object\n",
      " 10  vendor_name          42500 non-null  object\n",
      " 11  itemno               42500 non-null  object\n",
      " 12  im_desc              42500 non-null  object\n",
      " 13  state_bottle_cost    42500 non-null  object\n",
      " 14  state_bottle_retail  42500 non-null  object\n",
      " 15  sale_bottles         42500 non-null  object\n",
      "dtypes: object(16)\n",
      "memory usage: 5.5+ MB\n"
     ]
    }
   ],
   "source": [
    "df.info()"
   ]
  },
  {
   "cell_type": "markdown",
   "metadata": {},
   "source": [
    "#### 2.3.1. Datetime Columns"
   ]
  },
  {
   "cell_type": "code",
   "execution_count": 18,
   "metadata": {},
   "outputs": [
    {
     "name": "stdout",
     "output_type": "stream",
     "text": [
      "The 'date' column is in a suitable format for SQL date type.\n"
     ]
    }
   ],
   "source": [
    "try:\n",
    "    pd.to_datetime(df['date'])\n",
    "    print(\"The 'date' column is in a suitable format for SQL date type.\")\n",
    "except (ValueError, TypeError):\n",
    "    print(\"The 'date' column is NOT in a suitable format for SQL date type.\")"
   ]
  },
  {
   "cell_type": "markdown",
   "metadata": {},
   "source": [
    "#### 2.3.2. Integer Columns"
   ]
  },
  {
   "cell_type": "code",
   "execution_count": 19,
   "metadata": {},
   "outputs": [
    {
     "name": "stdout",
     "output_type": "stream",
     "text": [
      "The column 'invoice_line_no' cannot be fully converted to integers.\n",
      "The column 'store' can be fully converted to integers.\n",
      "The column 'name' cannot be fully converted to integers.\n",
      "The column 'city' cannot be fully converted to integers.\n",
      "The column 'zipcode' can be fully converted to integers.\n",
      "The column 'county' cannot be fully converted to integers.\n",
      "The column 'category' can be fully converted to integers.\n",
      "The column 'category_name' cannot be fully converted to integers.\n",
      "The column 'vendor_no' can be fully converted to integers.\n",
      "The column 'vendor_name' cannot be fully converted to integers.\n",
      "The column 'itemno' can be fully converted to integers.\n",
      "The column 'im_desc' cannot be fully converted to integers.\n",
      "The column 'state_bottle_cost' can be fully converted to integers.\n",
      "The column 'state_bottle_retail' can be fully converted to integers.\n",
      "The column 'sale_bottles' can be fully converted to integers.\n",
      "{'store': 'int', 'zipcode': 'int', 'category': 'int', 'vendor_no': 'int', 'itemno': 'int', 'state_bottle_cost': 'int', 'state_bottle_retail': 'int', 'sale_bottles': 'int'}\n"
     ]
    }
   ],
   "source": [
    "num_col_dtype_map = {}\n",
    "\n",
    "for col in df.columns:\n",
    "    if df[col].dtype == 'object' and col != 'date':\n",
    "        converted_col = pd.to_numeric(df[col], errors='coerce')\n",
    "        if not converted_col.isna().any():\n",
    "            num_col_dtype_map[col] = 'int'\n",
    "            print(f\"The column '{col}' can be fully converted to integers.\")\n",
    "        else:\n",
    "            print(f\"The column '{col}' cannot be fully converted to integers.\")\n",
    "\n",
    "print(num_col_dtype_map)"
   ]
  },
  {
   "cell_type": "code",
   "execution_count": 20,
   "metadata": {},
   "outputs": [],
   "source": [
    "# Save dictionary to a JSON file\n",
    "with open('dicts/num_col_dtype_map.json', 'w') as file:\n",
    "    json.dump(num_col_dtype_map, file)"
   ]
  },
  {
   "cell_type": "markdown",
   "metadata": {},
   "source": [
    "### 2.4. Data Validation"
   ]
  },
  {
   "cell_type": "code",
   "execution_count": 21,
   "metadata": {},
   "outputs": [],
   "source": [
    "def convert_to_numeric(df, col):\n",
    "    # Convert column to float first\n",
    "    df[col] = df[col].astype(float)\n",
    "    # If the float value is equal to its integer conversion, change to int\n",
    "    df[col] = df[col].apply(lambda x: int(x) if x == int(x) else x)\n",
    "\n",
    "columns_to_convert = ['state_bottle_cost', 'state_bottle_retail', 'sale_bottles']\n",
    "for col in columns_to_convert:\n",
    "    convert_to_numeric(df, col)"
   ]
  },
  {
   "cell_type": "code",
   "execution_count": 22,
   "metadata": {},
   "outputs": [
    {
     "data": {
      "text/html": [
       "<div>\n",
       "<style scoped>\n",
       "    .dataframe tbody tr th:only-of-type {\n",
       "        vertical-align: middle;\n",
       "    }\n",
       "\n",
       "    .dataframe tbody tr th {\n",
       "        vertical-align: top;\n",
       "    }\n",
       "\n",
       "    .dataframe thead th {\n",
       "        text-align: right;\n",
       "    }\n",
       "</style>\n",
       "<table border=\"1\" class=\"dataframe\">\n",
       "  <thead>\n",
       "    <tr style=\"text-align: right;\">\n",
       "      <th></th>\n",
       "      <th>state_bottle_cost</th>\n",
       "      <th>state_bottle_retail</th>\n",
       "      <th>sale_bottles</th>\n",
       "    </tr>\n",
       "  </thead>\n",
       "  <tbody>\n",
       "    <tr>\n",
       "      <th>count</th>\n",
       "      <td>42500.000000</td>\n",
       "      <td>42500.000000</td>\n",
       "      <td>42500.000000</td>\n",
       "    </tr>\n",
       "    <tr>\n",
       "      <th>mean</th>\n",
       "      <td>13.670751</td>\n",
       "      <td>20.508021</td>\n",
       "      <td>11.857271</td>\n",
       "    </tr>\n",
       "    <tr>\n",
       "      <th>std</th>\n",
       "      <td>12.200608</td>\n",
       "      <td>18.301018</td>\n",
       "      <td>35.332968</td>\n",
       "    </tr>\n",
       "    <tr>\n",
       "      <th>min</th>\n",
       "      <td>0.950000</td>\n",
       "      <td>1.430000</td>\n",
       "      <td>-96.000000</td>\n",
       "    </tr>\n",
       "    <tr>\n",
       "      <th>25%</th>\n",
       "      <td>7.350000</td>\n",
       "      <td>11.030000</td>\n",
       "      <td>3.000000</td>\n",
       "    </tr>\n",
       "    <tr>\n",
       "      <th>50%</th>\n",
       "      <td>10.990000</td>\n",
       "      <td>16.490000</td>\n",
       "      <td>6.000000</td>\n",
       "    </tr>\n",
       "    <tr>\n",
       "      <th>75%</th>\n",
       "      <td>16.000000</td>\n",
       "      <td>24.000000</td>\n",
       "      <td>12.000000</td>\n",
       "    </tr>\n",
       "    <tr>\n",
       "      <th>max</th>\n",
       "      <td>300.000000</td>\n",
       "      <td>450.000000</td>\n",
       "      <td>1320.000000</td>\n",
       "    </tr>\n",
       "  </tbody>\n",
       "</table>\n",
       "</div>"
      ],
      "text/plain": [
       "       state_bottle_cost  state_bottle_retail  sale_bottles\n",
       "count       42500.000000         42500.000000  42500.000000\n",
       "mean           13.670751            20.508021     11.857271\n",
       "std            12.200608            18.301018     35.332968\n",
       "min             0.950000             1.430000    -96.000000\n",
       "25%             7.350000            11.030000      3.000000\n",
       "50%            10.990000            16.490000      6.000000\n",
       "75%            16.000000            24.000000     12.000000\n",
       "max           300.000000           450.000000   1320.000000"
      ]
     },
     "execution_count": 22,
     "metadata": {},
     "output_type": "execute_result"
    }
   ],
   "source": [
    "df.describe()"
   ]
  },
  {
   "cell_type": "code",
   "execution_count": 23,
   "metadata": {},
   "outputs": [
    {
     "data": {
      "text/plain": [
       "0.16470588235294117"
      ]
     },
     "execution_count": 23,
     "metadata": {},
     "output_type": "execute_result"
    }
   ],
   "source": [
    "# Check the percentage of rows where 'sale_bottles' is negative\n",
    "len(df[df['sale_bottles']<0])/len(df) * 100"
   ]
  },
  {
   "cell_type": "markdown",
   "metadata": {},
   "source": [
    "**Note**: While negative sales data typically indicate refunds or returns, our analysis will omit these records to maintain data integrity. \n",
    "\n",
    "This decision is based on the focus of our study, which requires consistent and positive sales figures to accurately assess trends and patterns.\n"
   ]
  },
  {
   "cell_type": "code",
   "execution_count": 24,
   "metadata": {},
   "outputs": [
    {
     "data": {
      "text/html": [
       "<div>\n",
       "<style scoped>\n",
       "    .dataframe tbody tr th:only-of-type {\n",
       "        vertical-align: middle;\n",
       "    }\n",
       "\n",
       "    .dataframe tbody tr th {\n",
       "        vertical-align: top;\n",
       "    }\n",
       "\n",
       "    .dataframe thead th {\n",
       "        text-align: right;\n",
       "    }\n",
       "</style>\n",
       "<table border=\"1\" class=\"dataframe\">\n",
       "  <thead>\n",
       "    <tr style=\"text-align: right;\">\n",
       "      <th></th>\n",
       "      <th>state_bottle_cost</th>\n",
       "      <th>state_bottle_retail</th>\n",
       "      <th>sale_bottles</th>\n",
       "    </tr>\n",
       "  </thead>\n",
       "  <tbody>\n",
       "    <tr>\n",
       "      <th>count</th>\n",
       "      <td>42430.000000</td>\n",
       "      <td>42430.000000</td>\n",
       "      <td>42430.000000</td>\n",
       "    </tr>\n",
       "    <tr>\n",
       "      <th>mean</th>\n",
       "      <td>13.671032</td>\n",
       "      <td>20.508442</td>\n",
       "      <td>11.896913</td>\n",
       "    </tr>\n",
       "    <tr>\n",
       "      <th>std</th>\n",
       "      <td>12.198947</td>\n",
       "      <td>18.298527</td>\n",
       "      <td>35.342474</td>\n",
       "    </tr>\n",
       "    <tr>\n",
       "      <th>min</th>\n",
       "      <td>0.950000</td>\n",
       "      <td>1.430000</td>\n",
       "      <td>1.000000</td>\n",
       "    </tr>\n",
       "    <tr>\n",
       "      <th>25%</th>\n",
       "      <td>7.350000</td>\n",
       "      <td>11.030000</td>\n",
       "      <td>3.000000</td>\n",
       "    </tr>\n",
       "    <tr>\n",
       "      <th>50%</th>\n",
       "      <td>10.990000</td>\n",
       "      <td>16.490000</td>\n",
       "      <td>6.000000</td>\n",
       "    </tr>\n",
       "    <tr>\n",
       "      <th>75%</th>\n",
       "      <td>16.000000</td>\n",
       "      <td>24.000000</td>\n",
       "      <td>12.000000</td>\n",
       "    </tr>\n",
       "    <tr>\n",
       "      <th>max</th>\n",
       "      <td>300.000000</td>\n",
       "      <td>450.000000</td>\n",
       "      <td>1320.000000</td>\n",
       "    </tr>\n",
       "  </tbody>\n",
       "</table>\n",
       "</div>"
      ],
      "text/plain": [
       "       state_bottle_cost  state_bottle_retail  sale_bottles\n",
       "count       42430.000000         42430.000000  42430.000000\n",
       "mean           13.671032            20.508442     11.896913\n",
       "std            12.198947            18.298527     35.342474\n",
       "min             0.950000             1.430000      1.000000\n",
       "25%             7.350000            11.030000      3.000000\n",
       "50%            10.990000            16.490000      6.000000\n",
       "75%            16.000000            24.000000     12.000000\n",
       "max           300.000000           450.000000   1320.000000"
      ]
     },
     "execution_count": 24,
     "metadata": {},
     "output_type": "execute_result"
    }
   ],
   "source": [
    "df=df[df['sale_bottles']>=0]\n",
    "df.describe()"
   ]
  }
 ],
 "metadata": {
  "kernelspec": {
   "display_name": "Python 3",
   "language": "python",
   "name": "python3"
  },
  "language_info": {
   "codemirror_mode": {
    "name": "ipython",
    "version": 3
   },
   "file_extension": ".py",
   "mimetype": "text/x-python",
   "name": "python",
   "nbconvert_exporter": "python",
   "pygments_lexer": "ipython3",
   "version": "3.11.7"
  }
 },
 "nbformat": 4,
 "nbformat_minor": 2
}
