{
 "cells": [
  {
   "cell_type": "code",
   "execution_count": 1,
   "metadata": {},
   "outputs": [],
   "source": [
    "# !pip install --upgrade pip\n",
    "# !pip install pandas\n",
    "# !pip install sodapy"
   ]
  },
  {
   "cell_type": "markdown",
   "metadata": {},
   "source": [
    "# Data Profiling"
   ]
  },
  {
   "cell_type": "markdown",
   "metadata": {},
   "source": [
    "Analyzing a subset of data to understand its characteristics, guiding the design of an efficient data pipeline."
   ]
  },
  {
   "cell_type": "markdown",
   "metadata": {},
   "source": [
    "## Data Extraction"
   ]
  },
  {
   "cell_type": "code",
   "execution_count": 2,
   "metadata": {},
   "outputs": [],
   "source": [
    "import pandas as pd\n",
    "from sodapy import Socrata\n",
    "import json\n",
    "from datetime import datetime, timedelta"
   ]
  },
  {
   "cell_type": "code",
   "execution_count": 3,
   "metadata": {},
   "outputs": [],
   "source": [
    "with open('config.json') as f:\n",
    "  config = json.load(f)\n",
    "\n",
    "AppToken = config['app_token']\n",
    "UserName = config['user_name']\n",
    "Password = config[\"password\"]"
   ]
  },
  {
   "cell_type": "code",
   "execution_count": 4,
   "metadata": {},
   "outputs": [],
   "source": [
    "client = Socrata(\"data.iowa.gov\",\n",
    "                 AppToken,\n",
    "                 username = UserName,\n",
    "                 password = Password,\n",
    "                 timeout=30)"
   ]
  },
  {
   "cell_type": "code",
   "execution_count": 5,
   "metadata": {},
   "outputs": [
    {
     "data": {
      "text/plain": [
       "14"
      ]
     },
     "execution_count": 5,
     "metadata": {},
     "output_type": "execute_result"
    }
   ],
   "source": [
    "col_selected = 'invoice_line_no, date, store, name, city, zipcode, county, category, category_name, vendor_no, vendor_name, itemno, im_desc, state_bottle_cost, state_bottle_retail, sale_bottles'\n",
    "col_list = ['invoice_line_no', 'date', 'store', 'name', 'city', 'zipcode', 'county', 'category', 'category_name', 'itemno', 'im_desc', 'state_bottle_cost', 'state_bottle_retail', 'sale_bottles']\n",
    "len(col_list)"
   ]
  },
  {
   "cell_type": "code",
   "execution_count": 6,
   "metadata": {},
   "outputs": [
    {
     "name": "stdout",
     "output_type": "stream",
     "text": [
      "Rows from 2023-06-01 to 2024-01-03T19:24:32.622: 425024\n"
     ]
    }
   ],
   "source": [
    "start_date = \"2023-06-01\"\n",
    "end_date = datetime.now().strftime(\"%Y-%m-%dT%H:%M:%S.%f\")[:-3]  \n",
    "\n",
    "total_rows = []  \n",
    "limit = 5000  \n",
    "offset = 0  \n",
    "more_data = True  \n",
    "\n",
    "while more_data:\n",
    "    results = client.get(\"m3tr-qhgy\",\n",
    "                         select=col_selected, \n",
    "                         where=f\"LOWER(name) LIKE '%hy-vee%' AND date >= '{start_date}' AND date < '{end_date}'\", \n",
    "                         limit=limit, \n",
    "                         offset=offset)\n",
    "    total_rows.extend(results)  \n",
    "\n",
    "    if len(results) < limit:\n",
    "        more_data = False\n",
    "    else:\n",
    "        offset += limit \n",
    "\n",
    "df = pd.DataFrame.from_records(total_rows)\n",
    "print(f\"Rows from {start_date} to {end_date}: {df.shape[0]}\")"
   ]
  },
  {
   "cell_type": "code",
   "execution_count": 7,
   "metadata": {},
   "outputs": [
    {
     "data": {
      "text/html": [
       "<div>\n",
       "<style scoped>\n",
       "    .dataframe tbody tr th:only-of-type {\n",
       "        vertical-align: middle;\n",
       "    }\n",
       "\n",
       "    .dataframe tbody tr th {\n",
       "        vertical-align: top;\n",
       "    }\n",
       "\n",
       "    .dataframe thead th {\n",
       "        text-align: right;\n",
       "    }\n",
       "</style>\n",
       "<table border=\"1\" class=\"dataframe\">\n",
       "  <thead>\n",
       "    <tr style=\"text-align: right;\">\n",
       "      <th></th>\n",
       "      <th>invoice_line_no</th>\n",
       "      <th>date</th>\n",
       "      <th>store</th>\n",
       "      <th>name</th>\n",
       "      <th>city</th>\n",
       "      <th>zipcode</th>\n",
       "      <th>county</th>\n",
       "      <th>category</th>\n",
       "      <th>category_name</th>\n",
       "      <th>vendor_no</th>\n",
       "      <th>vendor_name</th>\n",
       "      <th>itemno</th>\n",
       "      <th>im_desc</th>\n",
       "      <th>state_bottle_cost</th>\n",
       "      <th>state_bottle_retail</th>\n",
       "      <th>sale_bottles</th>\n",
       "    </tr>\n",
       "  </thead>\n",
       "  <tbody>\n",
       "    <tr>\n",
       "      <th>266818</th>\n",
       "      <td>INV-63325400057</td>\n",
       "      <td>2023-10-16T00:00:00.000</td>\n",
       "      <td>2552</td>\n",
       "      <td>HY-VEE FOOD STORE #3 (1056) / CEDAR RAPIDS</td>\n",
       "      <td>CEDAR RAPIDS</td>\n",
       "      <td>52404</td>\n",
       "      <td>LINN</td>\n",
       "      <td>1031100</td>\n",
       "      <td>AMERICAN VODKAS</td>\n",
       "      <td>633</td>\n",
       "      <td>TENN SOUTH DISTILLERY / BIG MACHINE DISTILLERY</td>\n",
       "      <td>38135</td>\n",
       "      <td>BIG MACHINE VODKA</td>\n",
       "      <td>19.00</td>\n",
       "      <td>28.50</td>\n",
       "      <td>6</td>\n",
       "    </tr>\n",
       "    <tr>\n",
       "      <th>287567</th>\n",
       "      <td>INV-63666300036</td>\n",
       "      <td>2023-10-26T00:00:00.000</td>\n",
       "      <td>2549</td>\n",
       "      <td>HY-VEE FOOD STORE (1271) / INDIANOLA</td>\n",
       "      <td>INDIANOLA</td>\n",
       "      <td>50125</td>\n",
       "      <td>WARREN</td>\n",
       "      <td>1032200</td>\n",
       "      <td>IMPORTED FLAVORED VODKA</td>\n",
       "      <td>065</td>\n",
       "      <td>JIM BEAM BRANDS</td>\n",
       "      <td>35626</td>\n",
       "      <td>PINNACLE WHIPPED</td>\n",
       "      <td>6.50</td>\n",
       "      <td>9.75</td>\n",
       "      <td>12</td>\n",
       "    </tr>\n",
       "    <tr>\n",
       "      <th>328051</th>\n",
       "      <td>INV-64355900069</td>\n",
       "      <td>2023-11-16T00:00:00.000</td>\n",
       "      <td>2571</td>\n",
       "      <td>HY-VEE FOOD STORE #2 / WATERLOO</td>\n",
       "      <td>WATERLOO</td>\n",
       "      <td>50703</td>\n",
       "      <td>BLACK HAWK</td>\n",
       "      <td>1031100</td>\n",
       "      <td>AMERICAN VODKAS</td>\n",
       "      <td>434</td>\n",
       "      <td>LUXCO INC</td>\n",
       "      <td>36308</td>\n",
       "      <td>HAWKEYE VODKA</td>\n",
       "      <td>7.50</td>\n",
       "      <td>11.25</td>\n",
       "      <td>6</td>\n",
       "    </tr>\n",
       "    <tr>\n",
       "      <th>393142</th>\n",
       "      <td>INV-65386500130</td>\n",
       "      <td>2023-12-18T00:00:00.000</td>\n",
       "      <td>2648</td>\n",
       "      <td>HY-VEE #4 / WDM</td>\n",
       "      <td>WEST DES MOINES</td>\n",
       "      <td>50265</td>\n",
       "      <td>POLK</td>\n",
       "      <td>1081200</td>\n",
       "      <td>CREAM LIQUEURS</td>\n",
       "      <td>482</td>\n",
       "      <td>SOVEREIGN BRANDS, LLC</td>\n",
       "      <td>68080</td>\n",
       "      <td>BUMBU CREME</td>\n",
       "      <td>18.50</td>\n",
       "      <td>27.75</td>\n",
       "      <td>6</td>\n",
       "    </tr>\n",
       "    <tr>\n",
       "      <th>202278</th>\n",
       "      <td>INV-62129100100</td>\n",
       "      <td>2023-09-11T00:00:00.000</td>\n",
       "      <td>2616</td>\n",
       "      <td>HY-VEE FOOD AND DRUG / CLINTON</td>\n",
       "      <td>CLINTON</td>\n",
       "      <td>52732</td>\n",
       "      <td>CLINTON</td>\n",
       "      <td>1082100</td>\n",
       "      <td>IMPORTED CORDIALS &amp; LIQUEURS</td>\n",
       "      <td>368</td>\n",
       "      <td>PARK STREET IMPORTS</td>\n",
       "      <td>65426</td>\n",
       "      <td>LICOR 43</td>\n",
       "      <td>14.50</td>\n",
       "      <td>21.75</td>\n",
       "      <td>12</td>\n",
       "    </tr>\n",
       "  </tbody>\n",
       "</table>\n",
       "</div>"
      ],
      "text/plain": [
       "        invoice_line_no                     date store  \\\n",
       "266818  INV-63325400057  2023-10-16T00:00:00.000  2552   \n",
       "287567  INV-63666300036  2023-10-26T00:00:00.000  2549   \n",
       "328051  INV-64355900069  2023-11-16T00:00:00.000  2571   \n",
       "393142  INV-65386500130  2023-12-18T00:00:00.000  2648   \n",
       "202278  INV-62129100100  2023-09-11T00:00:00.000  2616   \n",
       "\n",
       "                                              name             city zipcode  \\\n",
       "266818  HY-VEE FOOD STORE #3 (1056) / CEDAR RAPIDS     CEDAR RAPIDS   52404   \n",
       "287567        HY-VEE FOOD STORE (1271) / INDIANOLA        INDIANOLA   50125   \n",
       "328051             HY-VEE FOOD STORE #2 / WATERLOO         WATERLOO   50703   \n",
       "393142                             HY-VEE #4 / WDM  WEST DES MOINES   50265   \n",
       "202278              HY-VEE FOOD AND DRUG / CLINTON          CLINTON   52732   \n",
       "\n",
       "            county category                 category_name vendor_no  \\\n",
       "266818        LINN  1031100               AMERICAN VODKAS       633   \n",
       "287567      WARREN  1032200       IMPORTED FLAVORED VODKA       065   \n",
       "328051  BLACK HAWK  1031100               AMERICAN VODKAS       434   \n",
       "393142        POLK  1081200                CREAM LIQUEURS       482   \n",
       "202278     CLINTON  1082100  IMPORTED CORDIALS & LIQUEURS       368   \n",
       "\n",
       "                                           vendor_name itemno  \\\n",
       "266818  TENN SOUTH DISTILLERY / BIG MACHINE DISTILLERY  38135   \n",
       "287567                                 JIM BEAM BRANDS  35626   \n",
       "328051                                       LUXCO INC  36308   \n",
       "393142                           SOVEREIGN BRANDS, LLC  68080   \n",
       "202278                             PARK STREET IMPORTS  65426   \n",
       "\n",
       "                  im_desc state_bottle_cost state_bottle_retail sale_bottles  \n",
       "266818  BIG MACHINE VODKA             19.00               28.50            6  \n",
       "287567   PINNACLE WHIPPED              6.50                9.75           12  \n",
       "328051      HAWKEYE VODKA              7.50               11.25            6  \n",
       "393142        BUMBU CREME             18.50               27.75            6  \n",
       "202278           LICOR 43             14.50               21.75           12  "
      ]
     },
     "execution_count": 7,
     "metadata": {},
     "output_type": "execute_result"
    }
   ],
   "source": [
    "df = df.sample(frac=0.1)\n",
    "df.head()"
   ]
  },
  {
   "cell_type": "markdown",
   "metadata": {},
   "source": [
    "## Data Transformation"
   ]
  },
  {
   "cell_type": "markdown",
   "metadata": {},
   "source": [
    "### 1.1. Removing Duplicate Rows"
   ]
  },
  {
   "cell_type": "code",
   "execution_count": 8,
   "metadata": {},
   "outputs": [
    {
     "name": "stdout",
     "output_type": "stream",
     "text": [
      "Number of duplicate rows: 6; Percentage of duplicate rows: 0.01%\n"
     ]
    }
   ],
   "source": [
    "num_dup = df.duplicated().sum()\n",
    "perc_dup = num_dup / df.shape[0] * 100 \n",
    "print(f'Number of duplicate rows: {num_dup}; Percentage of duplicate rows: {perc_dup:.2f}%')"
   ]
  },
  {
   "cell_type": "code",
   "execution_count": 9,
   "metadata": {},
   "outputs": [
    {
     "name": "stdout",
     "output_type": "stream",
     "text": [
      "Number of duplicate rows: 0; Percentage of duplicate rows: 0.00%\n"
     ]
    }
   ],
   "source": [
    "# Despite the potential for duplicates arising from reasons other than data entry errors, \n",
    "# I'm opting to remove them as they constitute a minimal proportion of the dataset (only 0.02%). \n",
    "# This decision is based on the assumption that the impact on data integrity will be negligible while simplifying further analysis.\n",
    "\n",
    "df = df.drop_duplicates()\n",
    "num_dup = df.duplicated().sum()\n",
    "perc_dup = num_dup / df.shape[0] * 100 \n",
    "print(f'Number of duplicate rows: {num_dup}; Percentage of duplicate rows: {perc_dup:.2f}%')"
   ]
  },
  {
   "cell_type": "markdown",
   "metadata": {},
   "source": [
    "### 1.2. Handelling Missing Values"
   ]
  },
  {
   "cell_type": "code",
   "execution_count": 10,
   "metadata": {},
   "outputs": [
    {
     "data": {
      "text/html": [
       "<div>\n",
       "<style scoped>\n",
       "    .dataframe tbody tr th:only-of-type {\n",
       "        vertical-align: middle;\n",
       "    }\n",
       "\n",
       "    .dataframe tbody tr th {\n",
       "        vertical-align: top;\n",
       "    }\n",
       "\n",
       "    .dataframe thead th {\n",
       "        text-align: right;\n",
       "    }\n",
       "</style>\n",
       "<table border=\"1\" class=\"dataframe\">\n",
       "  <thead>\n",
       "    <tr style=\"text-align: right;\">\n",
       "      <th></th>\n",
       "      <th>Missing Values</th>\n",
       "      <th>% of Total Values</th>\n",
       "    </tr>\n",
       "  </thead>\n",
       "  <tbody>\n",
       "  </tbody>\n",
       "</table>\n",
       "</div>"
      ],
      "text/plain": [
       "Empty DataFrame\n",
       "Columns: [Missing Values, % of Total Values]\n",
       "Index: []"
      ]
     },
     "execution_count": 10,
     "metadata": {},
     "output_type": "execute_result"
    }
   ],
   "source": [
    "def missing_values_table(df):\n",
    "    if not isinstance(df, pd.DataFrame):\n",
    "        raise ValueError(\"Input is not a pandas DataFrame\")\n",
    "\n",
    "    num_na = df.isnull().sum()\n",
    "    perc_na = (num_na / len(df)) * 100\n",
    "\n",
    "    df_na = pd.DataFrame({\n",
    "        'Missing Values': num_na,\n",
    "        '% of Total Values': perc_na\n",
    "    })\n",
    "\n",
    "    df_na = df_na[df_na['Missing Values'] != 0]\n",
    "\n",
    "    return df_na\n",
    "\n",
    "missing_values_table(df)"
   ]
  },
  {
   "cell_type": "markdown",
   "metadata": {},
   "source": [
    "Although the current sample shows no missing values, they may be underrepresented in the full dataset. \n",
    "\n",
    "These rows, containing key sales data, are vital for our analysis. \n",
    "Hence, we will retain them by imputing missing values with placeholders to preserve critical insights. \n",
    "\n",
    "However, records lacking essential data such as price, sales volume, dates, and index will be excluded, \n",
    "as their absence renders them unsuitable for meaningful analysis."
   ]
  },
  {
   "cell_type": "code",
   "execution_count": 11,
   "metadata": {},
   "outputs": [
    {
     "data": {
      "text/plain": [
       "Index(['invoice_line_no', 'date', 'store', 'name', 'city', 'zipcode', 'county',\n",
       "       'category', 'category_name', 'vendor_no', 'vendor_name', 'itemno',\n",
       "       'im_desc', 'state_bottle_cost', 'state_bottle_retail', 'sale_bottles'],\n",
       "      dtype='object')"
      ]
     },
     "execution_count": 11,
     "metadata": {},
     "output_type": "execute_result"
    }
   ],
   "source": [
    "df.columns"
   ]
  },
  {
   "cell_type": "code",
   "execution_count": 12,
   "metadata": {},
   "outputs": [],
   "source": [
    "dimension_cols = ['store', 'name', 'city', 'zipcode', 'county', 'category', 'category_name', 'vendor_no', 'vendor_name', 'itemno', 'im_desc']"
   ]
  },
  {
   "cell_type": "code",
   "execution_count": 13,
   "metadata": {},
   "outputs": [
    {
     "data": {
      "text/plain": [
       "{'store': 9999,\n",
       " 'name': 'UNKNOWN',\n",
       " 'city': 'UNKNOWN',\n",
       " 'zipcode': 99999,\n",
       " 'county': 'UNKNOWN',\n",
       " 'category': 9999999,\n",
       " 'category_name': 'UNKNOWN',\n",
       " 'vendor_no': 999,\n",
       " 'vendor_name': 'UNKNOWN',\n",
       " 'itemno': 99999,\n",
       " 'im_desc': 'UNKNOWN'}"
      ]
     },
     "execution_count": 13,
     "metadata": {},
     "output_type": "execute_result"
    }
   ],
   "source": [
    "def generate_placeholder_dict(df, cols):\n",
    "    placeholder_dict = {}\n",
    "    for col in cols:\n",
    "        try:\n",
    "            int_col = df[col].dropna().astype(int)\n",
    "            mode_digit_count = int_col.astype(str).apply(len).mode()[0]\n",
    "            placeholder_dict[col] = int('9' * mode_digit_count)\n",
    "        except ValueError:\n",
    "            placeholder_dict[col] = 'UNKNOWN'\n",
    "    return placeholder_dict\n",
    "\n",
    "dimension_cols = ['store', 'name', 'city', 'zipcode', 'county', 'category', 'category_name', 'vendor_no', 'vendor_name', 'itemno', 'im_desc']\n",
    "placeholders = generate_placeholder_dict(df, dimension_cols)\n",
    "\n",
    "placeholders"
   ]
  },
  {
   "cell_type": "code",
   "execution_count": 14,
   "metadata": {},
   "outputs": [],
   "source": [
    "# Save dictionary to a JSON file\n",
    "with open('dicts/placeholders.json', 'w') as file:\n",
    "    json.dump(placeholders, file)"
   ]
  },
  {
   "cell_type": "code",
   "execution_count": 15,
   "metadata": {},
   "outputs": [
    {
     "data": {
      "text/html": [
       "<div>\n",
       "<style scoped>\n",
       "    .dataframe tbody tr th:only-of-type {\n",
       "        vertical-align: middle;\n",
       "    }\n",
       "\n",
       "    .dataframe tbody tr th {\n",
       "        vertical-align: top;\n",
       "    }\n",
       "\n",
       "    .dataframe thead th {\n",
       "        text-align: right;\n",
       "    }\n",
       "</style>\n",
       "<table border=\"1\" class=\"dataframe\">\n",
       "  <thead>\n",
       "    <tr style=\"text-align: right;\">\n",
       "      <th></th>\n",
       "      <th>Missing Values</th>\n",
       "      <th>% of Total Values</th>\n",
       "    </tr>\n",
       "  </thead>\n",
       "  <tbody>\n",
       "  </tbody>\n",
       "</table>\n",
       "</div>"
      ],
      "text/plain": [
       "Empty DataFrame\n",
       "Columns: [Missing Values, % of Total Values]\n",
       "Index: []"
      ]
     },
     "execution_count": 15,
     "metadata": {},
     "output_type": "execute_result"
    }
   ],
   "source": [
    "df = df.fillna(value=placeholders)\n",
    "missing_values_table(df)"
   ]
  },
  {
   "cell_type": "markdown",
   "metadata": {},
   "source": [
    "### 2.3. Checking Data Type"
   ]
  },
  {
   "cell_type": "markdown",
   "metadata": {},
   "source": [
    "Verify if specific columns, such as indexes, are convertible to integers and if the date column can be formatted as datetime for compatibility with corresponding MySQL server data types"
   ]
  },
  {
   "cell_type": "code",
   "execution_count": 16,
   "metadata": {},
   "outputs": [
    {
     "name": "stdout",
     "output_type": "stream",
     "text": [
      "<class 'pandas.core.frame.DataFrame'>\n",
      "Index: 42496 entries, 266818 to 308172\n",
      "Data columns (total 16 columns):\n",
      " #   Column               Non-Null Count  Dtype \n",
      "---  ------               --------------  ----- \n",
      " 0   invoice_line_no      42496 non-null  object\n",
      " 1   date                 42496 non-null  object\n",
      " 2   store                42496 non-null  object\n",
      " 3   name                 42496 non-null  object\n",
      " 4   city                 42496 non-null  object\n",
      " 5   zipcode              42496 non-null  object\n",
      " 6   county               42496 non-null  object\n",
      " 7   category             42496 non-null  object\n",
      " 8   category_name        42496 non-null  object\n",
      " 9   vendor_no            42496 non-null  object\n",
      " 10  vendor_name          42496 non-null  object\n",
      " 11  itemno               42496 non-null  object\n",
      " 12  im_desc              42496 non-null  object\n",
      " 13  state_bottle_cost    42496 non-null  object\n",
      " 14  state_bottle_retail  42496 non-null  object\n",
      " 15  sale_bottles         42496 non-null  object\n",
      "dtypes: object(16)\n",
      "memory usage: 5.5+ MB\n"
     ]
    }
   ],
   "source": [
    "df.info()"
   ]
  },
  {
   "cell_type": "markdown",
   "metadata": {},
   "source": [
    "#### 2.3.1. Datetime Columns"
   ]
  },
  {
   "cell_type": "code",
   "execution_count": 17,
   "metadata": {},
   "outputs": [
    {
     "name": "stdout",
     "output_type": "stream",
     "text": [
      "The 'date' column is in a suitable format for SQL date type.\n"
     ]
    }
   ],
   "source": [
    "try:\n",
    "    pd.to_datetime(df['date'])\n",
    "    print(\"The 'date' column is in a suitable format for SQL date type.\")\n",
    "except (ValueError, TypeError):\n",
    "    print(\"The 'date' column is NOT in a suitable format for SQL date type.\")"
   ]
  },
  {
   "cell_type": "markdown",
   "metadata": {},
   "source": [
    "#### 2.3.2. Integer Columns"
   ]
  },
  {
   "cell_type": "code",
   "execution_count": 23,
   "metadata": {},
   "outputs": [
    {
     "name": "stdout",
     "output_type": "stream",
     "text": [
      "The column 'invoice_line_no' cannot be fully converted to integers.\n",
      "The column 'store' can be fully converted to integers.\n",
      "The column 'name' cannot be fully converted to integers.\n",
      "The column 'city' cannot be fully converted to integers.\n",
      "The column 'zipcode' can be fully converted to integers.\n",
      "The column 'county' cannot be fully converted to integers.\n",
      "The column 'category' can be fully converted to integers.\n",
      "The column 'category_name' cannot be fully converted to integers.\n",
      "The column 'vendor_no' can be fully converted to integers.\n",
      "The column 'vendor_name' cannot be fully converted to integers.\n",
      "The column 'itemno' can be fully converted to integers.\n",
      "The column 'im_desc' cannot be fully converted to integers.\n",
      "{'store': 'int', 'zipcode': 'int', 'category': 'int', 'vendor_no': 'int', 'itemno': 'int'}\n"
     ]
    }
   ],
   "source": [
    "num_col_dtype_map = {}\n",
    "\n",
    "for col in df.columns:\n",
    "    if df[col].dtype == 'object' and col != 'date':\n",
    "        converted_col = pd.to_numeric(df[col], errors='coerce')\n",
    "        if not converted_col.isna().any():\n",
    "            num_col_dtype_map[col] = 'int'\n",
    "            print(f\"The column '{col}' can be fully converted to integers.\")\n",
    "        else:\n",
    "            print(f\"The column '{col}' cannot be fully converted to integers.\")\n",
    "\n",
    "print(num_col_dtype_map)"
   ]
  },
  {
   "cell_type": "code",
   "execution_count": 24,
   "metadata": {},
   "outputs": [],
   "source": [
    "# Save dictionary to a JSON file\n",
    "with open('dicts/num_col_dtype_map.json', 'w') as file:\n",
    "    json.dump(placeholders, file)"
   ]
  },
  {
   "cell_type": "markdown",
   "metadata": {},
   "source": [
    "### 2.4. Data Validation"
   ]
  },
  {
   "cell_type": "code",
   "execution_count": 19,
   "metadata": {},
   "outputs": [],
   "source": [
    "def convert_to_numeric(df, col):\n",
    "    # Convert column to float first\n",
    "    df[col] = df[col].astype(float)\n",
    "    # If the float value is equal to its integer conversion, change to int\n",
    "    df[col] = df[col].apply(lambda x: int(x) if x == int(x) else x)\n",
    "\n",
    "columns_to_convert = ['state_bottle_cost', 'state_bottle_retail', 'sale_bottles']\n",
    "for col in columns_to_convert:\n",
    "    convert_to_numeric(df, col)"
   ]
  },
  {
   "cell_type": "code",
   "execution_count": 20,
   "metadata": {},
   "outputs": [
    {
     "data": {
      "text/html": [
       "<div>\n",
       "<style scoped>\n",
       "    .dataframe tbody tr th:only-of-type {\n",
       "        vertical-align: middle;\n",
       "    }\n",
       "\n",
       "    .dataframe tbody tr th {\n",
       "        vertical-align: top;\n",
       "    }\n",
       "\n",
       "    .dataframe thead th {\n",
       "        text-align: right;\n",
       "    }\n",
       "</style>\n",
       "<table border=\"1\" class=\"dataframe\">\n",
       "  <thead>\n",
       "    <tr style=\"text-align: right;\">\n",
       "      <th></th>\n",
       "      <th>state_bottle_cost</th>\n",
       "      <th>state_bottle_retail</th>\n",
       "      <th>sale_bottles</th>\n",
       "    </tr>\n",
       "  </thead>\n",
       "  <tbody>\n",
       "    <tr>\n",
       "      <th>count</th>\n",
       "      <td>42496.000000</td>\n",
       "      <td>42496.000000</td>\n",
       "      <td>42496.000000</td>\n",
       "    </tr>\n",
       "    <tr>\n",
       "      <th>mean</th>\n",
       "      <td>13.735685</td>\n",
       "      <td>20.606807</td>\n",
       "      <td>11.876883</td>\n",
       "    </tr>\n",
       "    <tr>\n",
       "      <th>std</th>\n",
       "      <td>18.690770</td>\n",
       "      <td>28.037032</td>\n",
       "      <td>43.054261</td>\n",
       "    </tr>\n",
       "    <tr>\n",
       "      <th>min</th>\n",
       "      <td>0.950000</td>\n",
       "      <td>1.430000</td>\n",
       "      <td>-48.000000</td>\n",
       "    </tr>\n",
       "    <tr>\n",
       "      <th>25%</th>\n",
       "      <td>7.170000</td>\n",
       "      <td>10.760000</td>\n",
       "      <td>3.000000</td>\n",
       "    </tr>\n",
       "    <tr>\n",
       "      <th>50%</th>\n",
       "      <td>10.500000</td>\n",
       "      <td>15.750000</td>\n",
       "      <td>6.000000</td>\n",
       "    </tr>\n",
       "    <tr>\n",
       "      <th>75%</th>\n",
       "      <td>16.000000</td>\n",
       "      <td>24.000000</td>\n",
       "      <td>12.000000</td>\n",
       "    </tr>\n",
       "    <tr>\n",
       "      <th>max</th>\n",
       "      <td>2298.840000</td>\n",
       "      <td>3448.260000</td>\n",
       "      <td>5280.000000</td>\n",
       "    </tr>\n",
       "  </tbody>\n",
       "</table>\n",
       "</div>"
      ],
      "text/plain": [
       "       state_bottle_cost  state_bottle_retail  sale_bottles\n",
       "count       42496.000000         42496.000000  42496.000000\n",
       "mean           13.735685            20.606807     11.876883\n",
       "std            18.690770            28.037032     43.054261\n",
       "min             0.950000             1.430000    -48.000000\n",
       "25%             7.170000            10.760000      3.000000\n",
       "50%            10.500000            15.750000      6.000000\n",
       "75%            16.000000            24.000000     12.000000\n",
       "max          2298.840000          3448.260000   5280.000000"
      ]
     },
     "execution_count": 20,
     "metadata": {},
     "output_type": "execute_result"
    }
   ],
   "source": [
    "df.describe()"
   ]
  },
  {
   "cell_type": "code",
   "execution_count": 21,
   "metadata": {},
   "outputs": [
    {
     "data": {
      "text/plain": [
       "0.16001506024096385"
      ]
     },
     "execution_count": 21,
     "metadata": {},
     "output_type": "execute_result"
    }
   ],
   "source": [
    "# Check the percentage of rows where 'sale_bottles' is negative\n",
    "len(df[df['sale_bottles']<0])/len(df) * 100"
   ]
  },
  {
   "cell_type": "markdown",
   "metadata": {},
   "source": [
    "**Note**: While negative sales data typically indicate refunds or returns, our analysis will omit these records to maintain data integrity. \n",
    "\n",
    "This decision is based on the focus of our study, which requires consistent and positive sales figures to accurately assess trends and patterns.\n"
   ]
  },
  {
   "cell_type": "code",
   "execution_count": 22,
   "metadata": {},
   "outputs": [
    {
     "data": {
      "text/html": [
       "<div>\n",
       "<style scoped>\n",
       "    .dataframe tbody tr th:only-of-type {\n",
       "        vertical-align: middle;\n",
       "    }\n",
       "\n",
       "    .dataframe tbody tr th {\n",
       "        vertical-align: top;\n",
       "    }\n",
       "\n",
       "    .dataframe thead th {\n",
       "        text-align: right;\n",
       "    }\n",
       "</style>\n",
       "<table border=\"1\" class=\"dataframe\">\n",
       "  <thead>\n",
       "    <tr style=\"text-align: right;\">\n",
       "      <th></th>\n",
       "      <th>state_bottle_cost</th>\n",
       "      <th>state_bottle_retail</th>\n",
       "      <th>sale_bottles</th>\n",
       "    </tr>\n",
       "  </thead>\n",
       "  <tbody>\n",
       "    <tr>\n",
       "      <th>count</th>\n",
       "      <td>42428.000000</td>\n",
       "      <td>42428.000000</td>\n",
       "      <td>42428.000000</td>\n",
       "    </tr>\n",
       "    <tr>\n",
       "      <th>mean</th>\n",
       "      <td>13.731429</td>\n",
       "      <td>20.600426</td>\n",
       "      <td>11.908362</td>\n",
       "    </tr>\n",
       "    <tr>\n",
       "      <th>std</th>\n",
       "      <td>18.701011</td>\n",
       "      <td>28.052396</td>\n",
       "      <td>43.080331</td>\n",
       "    </tr>\n",
       "    <tr>\n",
       "      <th>min</th>\n",
       "      <td>0.950000</td>\n",
       "      <td>1.430000</td>\n",
       "      <td>1.000000</td>\n",
       "    </tr>\n",
       "    <tr>\n",
       "      <th>25%</th>\n",
       "      <td>7.170000</td>\n",
       "      <td>10.760000</td>\n",
       "      <td>3.000000</td>\n",
       "    </tr>\n",
       "    <tr>\n",
       "      <th>50%</th>\n",
       "      <td>10.500000</td>\n",
       "      <td>15.750000</td>\n",
       "      <td>6.000000</td>\n",
       "    </tr>\n",
       "    <tr>\n",
       "      <th>75%</th>\n",
       "      <td>16.000000</td>\n",
       "      <td>24.000000</td>\n",
       "      <td>12.000000</td>\n",
       "    </tr>\n",
       "    <tr>\n",
       "      <th>max</th>\n",
       "      <td>2298.840000</td>\n",
       "      <td>3448.260000</td>\n",
       "      <td>5280.000000</td>\n",
       "    </tr>\n",
       "  </tbody>\n",
       "</table>\n",
       "</div>"
      ],
      "text/plain": [
       "       state_bottle_cost  state_bottle_retail  sale_bottles\n",
       "count       42428.000000         42428.000000  42428.000000\n",
       "mean           13.731429            20.600426     11.908362\n",
       "std            18.701011            28.052396     43.080331\n",
       "min             0.950000             1.430000      1.000000\n",
       "25%             7.170000            10.760000      3.000000\n",
       "50%            10.500000            15.750000      6.000000\n",
       "75%            16.000000            24.000000     12.000000\n",
       "max          2298.840000          3448.260000   5280.000000"
      ]
     },
     "execution_count": 22,
     "metadata": {},
     "output_type": "execute_result"
    }
   ],
   "source": [
    "df=df[df['sale_bottles']>=0]\n",
    "df.describe()"
   ]
  }
 ],
 "metadata": {
  "kernelspec": {
   "display_name": "Python 3",
   "language": "python",
   "name": "python3"
  },
  "language_info": {
   "codemirror_mode": {
    "name": "ipython",
    "version": 3
   },
   "file_extension": ".py",
   "mimetype": "text/x-python",
   "name": "python",
   "nbconvert_exporter": "python",
   "pygments_lexer": "ipython3",
   "version": "3.11.7"
  }
 },
 "nbformat": 4,
 "nbformat_minor": 2
}
