{
 "cells": [
  {
   "cell_type": "code",
   "execution_count": 48,
   "metadata": {},
   "outputs": [],
   "source": [
    "# !pip install --upgrade pip\n",
    "# !pip install pandas\n",
    "# !pip install sodapy"
   ]
  },
  {
   "cell_type": "markdown",
   "metadata": {},
   "source": [
    "# Data Profiling"
   ]
  },
  {
   "cell_type": "markdown",
   "metadata": {},
   "source": [
    "Analyzing a subset of data to understand its characteristics, guiding the design of an efficient data pipeline."
   ]
  },
  {
   "cell_type": "markdown",
   "metadata": {},
   "source": [
    "## Data Extraction"
   ]
  },
  {
   "cell_type": "code",
   "execution_count": 49,
   "metadata": {},
   "outputs": [],
   "source": [
    "import pandas as pd\n",
    "from sodapy import Socrata\n",
    "import json\n",
    "from datetime import datetime, timedelta"
   ]
  },
  {
   "cell_type": "code",
   "execution_count": 50,
   "metadata": {},
   "outputs": [],
   "source": [
    "with open('config.json') as f:\n",
    "  config = json.load(f)\n",
    "\n",
    "AppToken = config['app_token']\n",
    "UserName = config['user_name']\n",
    "Password = config[\"password\"]"
   ]
  },
  {
   "cell_type": "code",
   "execution_count": 51,
   "metadata": {},
   "outputs": [],
   "source": [
    "client = Socrata(\"data.iowa.gov\",\n",
    "                 AppToken,\n",
    "                 username = UserName,\n",
    "                 password = Password,\n",
    "                 timeout=30)"
   ]
  },
  {
   "cell_type": "code",
   "execution_count": 52,
   "metadata": {},
   "outputs": [
    {
     "data": {
      "text/plain": [
       "14"
      ]
     },
     "execution_count": 52,
     "metadata": {},
     "output_type": "execute_result"
    }
   ],
   "source": [
    "col_selected = 'invoice_line_no, date, store, name, city, zipcode, county, category, category_name, vendor_no, vendor_name, itemno, im_desc, state_bottle_cost, state_bottle_retail, sale_bottles'\n",
    "col_list = ['invoice_line_no', 'date', 'store', 'name', 'city', 'zipcode', 'county', 'category', 'category_name', 'itemno', 'im_desc', 'state_bottle_cost', 'state_bottle_retail', 'sale_bottles']\n",
    "len(col_list)"
   ]
  },
  {
   "cell_type": "code",
   "execution_count": 53,
   "metadata": {},
   "outputs": [
    {
     "name": "stdout",
     "output_type": "stream",
     "text": [
      "Rows from 2023-06-01 to 2024-01-02T18:42:13.578: 425024\n"
     ]
    }
   ],
   "source": [
    "start_date = \"2023-06-01\"\n",
    "end_date = datetime.now().strftime(\"%Y-%m-%dT%H:%M:%S.%f\")[:-3]  \n",
    "\n",
    "total_rows = []  \n",
    "limit = 5000  \n",
    "offset = 0  \n",
    "more_data = True  \n",
    "\n",
    "while more_data:\n",
    "    results = client.get(\"m3tr-qhgy\",\n",
    "                         select=col_selected, \n",
    "                         where=f\"LOWER(name) LIKE '%hy-vee%' AND date >= '{start_date}' AND date < '{end_date}'\", \n",
    "                         limit=limit, \n",
    "                         offset=offset)\n",
    "    total_rows.extend(results)  \n",
    "\n",
    "    if len(results) < limit:\n",
    "        more_data = False\n",
    "    else:\n",
    "        offset += limit \n",
    "\n",
    "df = pd.DataFrame.from_records(total_rows)\n",
    "print(f\"Rows from {start_date} to {end_date}: {df.shape[0]}\")"
   ]
  },
  {
   "cell_type": "code",
   "execution_count": 54,
   "metadata": {},
   "outputs": [
    {
     "data": {
      "text/html": [
       "<div>\n",
       "<style scoped>\n",
       "    .dataframe tbody tr th:only-of-type {\n",
       "        vertical-align: middle;\n",
       "    }\n",
       "\n",
       "    .dataframe tbody tr th {\n",
       "        vertical-align: top;\n",
       "    }\n",
       "\n",
       "    .dataframe thead th {\n",
       "        text-align: right;\n",
       "    }\n",
       "</style>\n",
       "<table border=\"1\" class=\"dataframe\">\n",
       "  <thead>\n",
       "    <tr style=\"text-align: right;\">\n",
       "      <th></th>\n",
       "      <th>invoice_line_no</th>\n",
       "      <th>date</th>\n",
       "      <th>store</th>\n",
       "      <th>name</th>\n",
       "      <th>city</th>\n",
       "      <th>zipcode</th>\n",
       "      <th>county</th>\n",
       "      <th>category</th>\n",
       "      <th>category_name</th>\n",
       "      <th>vendor_no</th>\n",
       "      <th>vendor_name</th>\n",
       "      <th>itemno</th>\n",
       "      <th>im_desc</th>\n",
       "      <th>state_bottle_cost</th>\n",
       "      <th>state_bottle_retail</th>\n",
       "      <th>sale_bottles</th>\n",
       "    </tr>\n",
       "  </thead>\n",
       "  <tbody>\n",
       "    <tr>\n",
       "      <th>94102</th>\n",
       "      <td>INV-60333400010</td>\n",
       "      <td>2023-07-14T00:00:00.000</td>\n",
       "      <td>2669</td>\n",
       "      <td>HY-VEE / CORYDON</td>\n",
       "      <td>CORYDON</td>\n",
       "      <td>50060</td>\n",
       "      <td>WAYNE</td>\n",
       "      <td>1071000</td>\n",
       "      <td>COCKTAILS/RTD</td>\n",
       "      <td>035</td>\n",
       "      <td>BACARDI USA INC</td>\n",
       "      <td>56856</td>\n",
       "      <td>BACARDI BAHAMA MAMA RTS</td>\n",
       "      <td>9.53</td>\n",
       "      <td>14.30</td>\n",
       "      <td>1</td>\n",
       "    </tr>\n",
       "    <tr>\n",
       "      <th>233479</th>\n",
       "      <td>INV-62760100042</td>\n",
       "      <td>2023-09-28T00:00:00.000</td>\n",
       "      <td>2651</td>\n",
       "      <td>HY-VEE / WAVERLY</td>\n",
       "      <td>WAVERLY</td>\n",
       "      <td>50677</td>\n",
       "      <td>BREMER</td>\n",
       "      <td>1032100</td>\n",
       "      <td>IMPORTED VODKAS</td>\n",
       "      <td>035</td>\n",
       "      <td>BACARDI USA INC</td>\n",
       "      <td>34422</td>\n",
       "      <td>GREY GOOSE</td>\n",
       "      <td>19.00</td>\n",
       "      <td>28.50</td>\n",
       "      <td>6</td>\n",
       "    </tr>\n",
       "    <tr>\n",
       "      <th>157015</th>\n",
       "      <td>INV-61332900001</td>\n",
       "      <td>2023-08-17T00:00:00.000</td>\n",
       "      <td>2538</td>\n",
       "      <td>HY-VEE FOOD STORE #3 (1866) / WATERLOO</td>\n",
       "      <td>WATERLOO</td>\n",
       "      <td>50702</td>\n",
       "      <td>BLACK HAWK</td>\n",
       "      <td>1081600</td>\n",
       "      <td>WHISKEY LIQUEUR</td>\n",
       "      <td>421</td>\n",
       "      <td>SAZERAC COMPANY  INC</td>\n",
       "      <td>100413</td>\n",
       "      <td>FIREBALL CINNAMON WHISKEY PARTY BUCKET</td>\n",
       "      <td>51.60</td>\n",
       "      <td>77.40</td>\n",
       "      <td>1</td>\n",
       "    </tr>\n",
       "    <tr>\n",
       "      <th>92811</th>\n",
       "      <td>INV-60269800094</td>\n",
       "      <td>2023-07-13T00:00:00.000</td>\n",
       "      <td>2572</td>\n",
       "      <td>HY-VEE FOOD STORE / CEDAR FALLS</td>\n",
       "      <td>CEDAR FALLS</td>\n",
       "      <td>50613</td>\n",
       "      <td>BLACK HAWK</td>\n",
       "      <td>1031100</td>\n",
       "      <td>AMERICAN VODKAS</td>\n",
       "      <td>434</td>\n",
       "      <td>LUXCO INC</td>\n",
       "      <td>36305</td>\n",
       "      <td>HAWKEYE VODKA PET</td>\n",
       "      <td>3.50</td>\n",
       "      <td>5.25</td>\n",
       "      <td>12</td>\n",
       "    </tr>\n",
       "    <tr>\n",
       "      <th>325567</th>\n",
       "      <td>INV-64329600031</td>\n",
       "      <td>2023-11-15T00:00:00.000</td>\n",
       "      <td>2558</td>\n",
       "      <td>HY-VEE FOOD STORE (1433) / MOUNT PLEASANT</td>\n",
       "      <td>MOUNT PLEASANT</td>\n",
       "      <td>52641</td>\n",
       "      <td>HENRY</td>\n",
       "      <td>1011200</td>\n",
       "      <td>STRAIGHT BOURBON WHISKIES</td>\n",
       "      <td>306</td>\n",
       "      <td>MISSISSIPPI RIVER DISTILLING COMPANY LLC</td>\n",
       "      <td>27479</td>\n",
       "      <td>CODY ROAD BOURBON</td>\n",
       "      <td>19.17</td>\n",
       "      <td>28.76</td>\n",
       "      <td>6</td>\n",
       "    </tr>\n",
       "  </tbody>\n",
       "</table>\n",
       "</div>"
      ],
      "text/plain": [
       "        invoice_line_no                     date store  \\\n",
       "94102   INV-60333400010  2023-07-14T00:00:00.000  2669   \n",
       "233479  INV-62760100042  2023-09-28T00:00:00.000  2651   \n",
       "157015  INV-61332900001  2023-08-17T00:00:00.000  2538   \n",
       "92811   INV-60269800094  2023-07-13T00:00:00.000  2572   \n",
       "325567  INV-64329600031  2023-11-15T00:00:00.000  2558   \n",
       "\n",
       "                                             name            city zipcode  \\\n",
       "94102                            HY-VEE / CORYDON         CORYDON   50060   \n",
       "233479                           HY-VEE / WAVERLY         WAVERLY   50677   \n",
       "157015     HY-VEE FOOD STORE #3 (1866) / WATERLOO        WATERLOO   50702   \n",
       "92811             HY-VEE FOOD STORE / CEDAR FALLS     CEDAR FALLS   50613   \n",
       "325567  HY-VEE FOOD STORE (1433) / MOUNT PLEASANT  MOUNT PLEASANT   52641   \n",
       "\n",
       "            county category              category_name vendor_no  \\\n",
       "94102        WAYNE  1071000              COCKTAILS/RTD       035   \n",
       "233479      BREMER  1032100            IMPORTED VODKAS       035   \n",
       "157015  BLACK HAWK  1081600            WHISKEY LIQUEUR       421   \n",
       "92811   BLACK HAWK  1031100            AMERICAN VODKAS       434   \n",
       "325567       HENRY  1011200  STRAIGHT BOURBON WHISKIES       306   \n",
       "\n",
       "                                     vendor_name  itemno  \\\n",
       "94102                            BACARDI USA INC   56856   \n",
       "233479                           BACARDI USA INC   34422   \n",
       "157015                      SAZERAC COMPANY  INC  100413   \n",
       "92811                                  LUXCO INC   36305   \n",
       "325567  MISSISSIPPI RIVER DISTILLING COMPANY LLC   27479   \n",
       "\n",
       "                                       im_desc state_bottle_cost  \\\n",
       "94102                  BACARDI BAHAMA MAMA RTS              9.53   \n",
       "233479                              GREY GOOSE             19.00   \n",
       "157015  FIREBALL CINNAMON WHISKEY PARTY BUCKET             51.60   \n",
       "92811                        HAWKEYE VODKA PET              3.50   \n",
       "325567                       CODY ROAD BOURBON             19.17   \n",
       "\n",
       "       state_bottle_retail sale_bottles  \n",
       "94102                14.30            1  \n",
       "233479               28.50            6  \n",
       "157015               77.40            1  \n",
       "92811                 5.25           12  \n",
       "325567               28.76            6  "
      ]
     },
     "execution_count": 54,
     "metadata": {},
     "output_type": "execute_result"
    }
   ],
   "source": [
    "df = df.sample(frac=0.1)\n",
    "df.head()"
   ]
  },
  {
   "cell_type": "markdown",
   "metadata": {},
   "source": [
    "## Data Transformation"
   ]
  },
  {
   "cell_type": "markdown",
   "metadata": {},
   "source": [
    "### 1.1. Removing Duplicate Rows"
   ]
  },
  {
   "cell_type": "code",
   "execution_count": 55,
   "metadata": {},
   "outputs": [
    {
     "name": "stdout",
     "output_type": "stream",
     "text": [
      "Number of duplicate rows: 6; Percentage of duplicate rows: 0.01%\n"
     ]
    }
   ],
   "source": [
    "num_dup = df.duplicated().sum()\n",
    "perc_dup = num_dup / df.shape[0] * 100 \n",
    "print(f'Number of duplicate rows: {num_dup}; Percentage of duplicate rows: {perc_dup:.2f}%')"
   ]
  },
  {
   "cell_type": "code",
   "execution_count": 56,
   "metadata": {},
   "outputs": [
    {
     "name": "stdout",
     "output_type": "stream",
     "text": [
      "Number of duplicate rows: 0; Percentage of duplicate rows: 0.00%\n"
     ]
    }
   ],
   "source": [
    "# Despite the potential for duplicates arising from reasons other than data entry errors, \n",
    "# I'm opting to remove them as they constitute a minimal proportion of the dataset (only 0.02%). \n",
    "# This decision is based on the assumption that the impact on data integrity will be negligible while simplifying further analysis.\n",
    "\n",
    "df = df.drop_duplicates()\n",
    "num_dup = df.duplicated().sum()\n",
    "perc_dup = num_dup / df.shape[0] * 100 \n",
    "print(f'Number of duplicate rows: {num_dup}; Percentage of duplicate rows: {perc_dup:.2f}%')"
   ]
  },
  {
   "cell_type": "markdown",
   "metadata": {},
   "source": [
    "### 1.2. Handelling Missing Values"
   ]
  },
  {
   "cell_type": "code",
   "execution_count": 57,
   "metadata": {},
   "outputs": [
    {
     "data": {
      "text/html": [
       "<div>\n",
       "<style scoped>\n",
       "    .dataframe tbody tr th:only-of-type {\n",
       "        vertical-align: middle;\n",
       "    }\n",
       "\n",
       "    .dataframe tbody tr th {\n",
       "        vertical-align: top;\n",
       "    }\n",
       "\n",
       "    .dataframe thead th {\n",
       "        text-align: right;\n",
       "    }\n",
       "</style>\n",
       "<table border=\"1\" class=\"dataframe\">\n",
       "  <thead>\n",
       "    <tr style=\"text-align: right;\">\n",
       "      <th></th>\n",
       "      <th>Missing Values</th>\n",
       "      <th>% of Total Values</th>\n",
       "    </tr>\n",
       "  </thead>\n",
       "  <tbody>\n",
       "  </tbody>\n",
       "</table>\n",
       "</div>"
      ],
      "text/plain": [
       "Empty DataFrame\n",
       "Columns: [Missing Values, % of Total Values]\n",
       "Index: []"
      ]
     },
     "execution_count": 57,
     "metadata": {},
     "output_type": "execute_result"
    }
   ],
   "source": [
    "def missing_values_table(df):\n",
    "    if not isinstance(df, pd.DataFrame):\n",
    "        raise ValueError(\"Input is not a pandas DataFrame\")\n",
    "\n",
    "    num_na = df.isnull().sum()\n",
    "    perc_na = (num_na / len(df)) * 100\n",
    "\n",
    "    df_na = pd.DataFrame({\n",
    "        'Missing Values': num_na,\n",
    "        '% of Total Values': perc_na\n",
    "    })\n",
    "\n",
    "    df_na = df_na[df_na['Missing Values'] != 0]\n",
    "\n",
    "    return df_na\n",
    "\n",
    "missing_values_table(df)"
   ]
  },
  {
   "cell_type": "markdown",
   "metadata": {},
   "source": [
    "Although the current sample shows no missing values, they may be underrepresented in the full dataset. \n",
    "\n",
    "These rows, containing key sales data, are vital for our analysis. \n",
    "Hence, we will retain them by imputing missing values with placeholders to preserve critical insights. \n",
    "\n",
    "However, records lacking essential data such as price, sales volume, dates, and index will be excluded, \n",
    "as their absence renders them unsuitable for meaningful analysis."
   ]
  },
  {
   "cell_type": "code",
   "execution_count": 58,
   "metadata": {},
   "outputs": [
    {
     "data": {
      "text/plain": [
       "Index(['invoice_line_no', 'date', 'store', 'name', 'city', 'zipcode', 'county',\n",
       "       'category', 'category_name', 'vendor_no', 'vendor_name', 'itemno',\n",
       "       'im_desc', 'state_bottle_cost', 'state_bottle_retail', 'sale_bottles'],\n",
       "      dtype='object')"
      ]
     },
     "execution_count": 58,
     "metadata": {},
     "output_type": "execute_result"
    }
   ],
   "source": [
    "df.columns"
   ]
  },
  {
   "cell_type": "code",
   "execution_count": 59,
   "metadata": {},
   "outputs": [],
   "source": [
    "dimension_cols = ['store', 'name', 'city', 'zipcode', 'county', 'category', 'category_name', 'vendor_no', 'vendor_name', 'itemno', 'im_desc']"
   ]
  },
  {
   "cell_type": "code",
   "execution_count": 60,
   "metadata": {},
   "outputs": [
    {
     "data": {
      "text/plain": [
       "{'store': 9999,\n",
       " 'name': 'UNKNOWN',\n",
       " 'city': 'UNKNOWN',\n",
       " 'zipcode': 99999,\n",
       " 'county': 'UNKNOWN',\n",
       " 'category': 9999999,\n",
       " 'category_name': 'UNKNOWN',\n",
       " 'vendor_no': 999,\n",
       " 'vendor_name': 'UNKNOWN',\n",
       " 'itemno': 99999,\n",
       " 'im_desc': 'UNKNOWN'}"
      ]
     },
     "execution_count": 60,
     "metadata": {},
     "output_type": "execute_result"
    }
   ],
   "source": [
    "def generate_placeholder_dict(df, cols):\n",
    "    placeholder_dict = {}\n",
    "    for col in cols:\n",
    "        try:\n",
    "            int_col = df[col].dropna().astype(int)\n",
    "            mode_digit_count = int_col.astype(str).apply(len).mode()[0]\n",
    "            placeholder_dict[col] = int('9' * mode_digit_count)\n",
    "        except ValueError:\n",
    "            placeholder_dict[col] = 'UNKNOWN'\n",
    "    return placeholder_dict\n",
    "\n",
    "# Assuming 'df' is your DataFrame\n",
    "dimension_cols = ['store', 'name', 'city', 'zipcode', 'county', 'category', 'category_name', 'vendor_no', 'vendor_name', 'itemno', 'im_desc']\n",
    "placeholders = generate_placeholder_dict(df, dimension_cols)\n",
    "\n",
    "placeholders"
   ]
  },
  {
   "cell_type": "code",
   "execution_count": 61,
   "metadata": {},
   "outputs": [
    {
     "data": {
      "text/html": [
       "<div>\n",
       "<style scoped>\n",
       "    .dataframe tbody tr th:only-of-type {\n",
       "        vertical-align: middle;\n",
       "    }\n",
       "\n",
       "    .dataframe tbody tr th {\n",
       "        vertical-align: top;\n",
       "    }\n",
       "\n",
       "    .dataframe thead th {\n",
       "        text-align: right;\n",
       "    }\n",
       "</style>\n",
       "<table border=\"1\" class=\"dataframe\">\n",
       "  <thead>\n",
       "    <tr style=\"text-align: right;\">\n",
       "      <th></th>\n",
       "      <th>Missing Values</th>\n",
       "      <th>% of Total Values</th>\n",
       "    </tr>\n",
       "  </thead>\n",
       "  <tbody>\n",
       "  </tbody>\n",
       "</table>\n",
       "</div>"
      ],
      "text/plain": [
       "Empty DataFrame\n",
       "Columns: [Missing Values, % of Total Values]\n",
       "Index: []"
      ]
     },
     "execution_count": 61,
     "metadata": {},
     "output_type": "execute_result"
    }
   ],
   "source": [
    "df = df.fillna(value=placeholders)\n",
    "missing_values_table(df)"
   ]
  },
  {
   "cell_type": "markdown",
   "metadata": {},
   "source": [
    "### 2.3. Checking Data Type"
   ]
  },
  {
   "cell_type": "markdown",
   "metadata": {},
   "source": [
    "Verify if specific columns, such as indexes, are convertible to integers and if the date column can be formatted as datetime for compatibility with corresponding MySQL server data types"
   ]
  },
  {
   "cell_type": "code",
   "execution_count": 62,
   "metadata": {},
   "outputs": [
    {
     "name": "stdout",
     "output_type": "stream",
     "text": [
      "<class 'pandas.core.frame.DataFrame'>\n",
      "Index: 42496 entries, 94102 to 356915\n",
      "Data columns (total 16 columns):\n",
      " #   Column               Non-Null Count  Dtype \n",
      "---  ------               --------------  ----- \n",
      " 0   invoice_line_no      42496 non-null  object\n",
      " 1   date                 42496 non-null  object\n",
      " 2   store                42496 non-null  object\n",
      " 3   name                 42496 non-null  object\n",
      " 4   city                 42496 non-null  object\n",
      " 5   zipcode              42496 non-null  object\n",
      " 6   county               42496 non-null  object\n",
      " 7   category             42496 non-null  object\n",
      " 8   category_name        42496 non-null  object\n",
      " 9   vendor_no            42496 non-null  object\n",
      " 10  vendor_name          42496 non-null  object\n",
      " 11  itemno               42496 non-null  object\n",
      " 12  im_desc              42496 non-null  object\n",
      " 13  state_bottle_cost    42496 non-null  object\n",
      " 14  state_bottle_retail  42496 non-null  object\n",
      " 15  sale_bottles         42496 non-null  object\n",
      "dtypes: object(16)\n",
      "memory usage: 5.5+ MB\n"
     ]
    }
   ],
   "source": [
    "df.info()"
   ]
  },
  {
   "cell_type": "markdown",
   "metadata": {},
   "source": [
    "#### 2.3.1. Datetime Columns"
   ]
  },
  {
   "cell_type": "code",
   "execution_count": 63,
   "metadata": {},
   "outputs": [
    {
     "name": "stdout",
     "output_type": "stream",
     "text": [
      "The 'date' column is in a suitable format for SQL date type.\n"
     ]
    }
   ],
   "source": [
    "try:\n",
    "    pd.to_datetime(df['date'])\n",
    "    print(\"The 'date' column is in a suitable format for SQL date type.\")\n",
    "except (ValueError, TypeError):\n",
    "    print(\"The 'date' column is NOT in a suitable format for SQL date type.\")"
   ]
  },
  {
   "cell_type": "markdown",
   "metadata": {},
   "source": [
    "#### 2.3.2. Integer Columns"
   ]
  },
  {
   "cell_type": "code",
   "execution_count": 64,
   "metadata": {},
   "outputs": [
    {
     "name": "stdout",
     "output_type": "stream",
     "text": [
      "The column 'invoice_line_no' cannot be fully converted to integers.\n",
      "The column 'store' can be fully converted to integers.\n",
      "The column 'name' cannot be fully converted to integers.\n",
      "The column 'city' cannot be fully converted to integers.\n",
      "The column 'zipcode' can be fully converted to integers.\n",
      "The column 'county' cannot be fully converted to integers.\n",
      "The column 'category' can be fully converted to integers.\n",
      "The column 'category_name' cannot be fully converted to integers.\n",
      "The column 'vendor_no' can be fully converted to integers.\n",
      "The column 'vendor_name' cannot be fully converted to integers.\n",
      "The column 'itemno' can be fully converted to integers.\n",
      "The column 'im_desc' cannot be fully converted to integers.\n",
      "The column 'state_bottle_cost' can be fully converted to integers.\n",
      "The column 'state_bottle_retail' can be fully converted to integers.\n",
      "The column 'sale_bottles' can be fully converted to integers.\n",
      "{'store': 'int', 'zipcode': 'int', 'category': 'int', 'vendor_no': 'int', 'itemno': 'int', 'state_bottle_cost': 'int', 'state_bottle_retail': 'int', 'sale_bottles': 'int'}\n"
     ]
    }
   ],
   "source": [
    "convertible_to_int = {}\n",
    "\n",
    "for col in df.columns:\n",
    "    if df[col].dtype == 'object' and col != 'date':\n",
    "        converted_col = pd.to_numeric(df[col], errors='coerce')\n",
    "        if not converted_col.isna().any():\n",
    "            convertible_to_int[col] = 'int'\n",
    "            print(f\"The column '{col}' can be fully converted to integers.\")\n",
    "        else:\n",
    "            print(f\"The column '{col}' cannot be fully converted to integers.\")\n",
    "\n",
    "print(convertible_to_int)"
   ]
  },
  {
   "cell_type": "markdown",
   "metadata": {},
   "source": [
    "### 2.4. Data Validation"
   ]
  },
  {
   "cell_type": "code",
   "execution_count": 65,
   "metadata": {},
   "outputs": [],
   "source": [
    "def convert_to_numeric(df, col):\n",
    "    # Convert column to float first\n",
    "    df[col] = df[col].astype(float)\n",
    "    # If the float value is equal to its integer conversion, change to int\n",
    "    df[col] = df[col].apply(lambda x: int(x) if x == int(x) else x)\n",
    "\n",
    "columns_to_convert = ['state_bottle_cost', 'state_bottle_retail', 'sale_bottles']\n",
    "for col in columns_to_convert:\n",
    "    convert_to_numeric(df, col)"
   ]
  },
  {
   "cell_type": "code",
   "execution_count": 66,
   "metadata": {},
   "outputs": [
    {
     "data": {
      "text/html": [
       "<div>\n",
       "<style scoped>\n",
       "    .dataframe tbody tr th:only-of-type {\n",
       "        vertical-align: middle;\n",
       "    }\n",
       "\n",
       "    .dataframe tbody tr th {\n",
       "        vertical-align: top;\n",
       "    }\n",
       "\n",
       "    .dataframe thead th {\n",
       "        text-align: right;\n",
       "    }\n",
       "</style>\n",
       "<table border=\"1\" class=\"dataframe\">\n",
       "  <thead>\n",
       "    <tr style=\"text-align: right;\">\n",
       "      <th></th>\n",
       "      <th>state_bottle_cost</th>\n",
       "      <th>state_bottle_retail</th>\n",
       "      <th>sale_bottles</th>\n",
       "    </tr>\n",
       "  </thead>\n",
       "  <tbody>\n",
       "    <tr>\n",
       "      <th>count</th>\n",
       "      <td>42496.000000</td>\n",
       "      <td>42496.000000</td>\n",
       "      <td>42496.000000</td>\n",
       "    </tr>\n",
       "    <tr>\n",
       "      <th>mean</th>\n",
       "      <td>13.706628</td>\n",
       "      <td>20.562130</td>\n",
       "      <td>11.704655</td>\n",
       "    </tr>\n",
       "    <tr>\n",
       "      <th>std</th>\n",
       "      <td>12.535955</td>\n",
       "      <td>18.804342</td>\n",
       "      <td>44.339010</td>\n",
       "    </tr>\n",
       "    <tr>\n",
       "      <th>min</th>\n",
       "      <td>0.970000</td>\n",
       "      <td>1.460000</td>\n",
       "      <td>-24.000000</td>\n",
       "    </tr>\n",
       "    <tr>\n",
       "      <th>25%</th>\n",
       "      <td>7.250000</td>\n",
       "      <td>10.880000</td>\n",
       "      <td>3.000000</td>\n",
       "    </tr>\n",
       "    <tr>\n",
       "      <th>50%</th>\n",
       "      <td>10.970000</td>\n",
       "      <td>16.460000</td>\n",
       "      <td>6.000000</td>\n",
       "    </tr>\n",
       "    <tr>\n",
       "      <th>75%</th>\n",
       "      <td>16.000000</td>\n",
       "      <td>24.000000</td>\n",
       "      <td>12.000000</td>\n",
       "    </tr>\n",
       "    <tr>\n",
       "      <th>max</th>\n",
       "      <td>300.000000</td>\n",
       "      <td>450.000000</td>\n",
       "      <td>5400.000000</td>\n",
       "    </tr>\n",
       "  </tbody>\n",
       "</table>\n",
       "</div>"
      ],
      "text/plain": [
       "       state_bottle_cost  state_bottle_retail  sale_bottles\n",
       "count       42496.000000         42496.000000  42496.000000\n",
       "mean           13.706628            20.562130     11.704655\n",
       "std            12.535955            18.804342     44.339010\n",
       "min             0.970000             1.460000    -24.000000\n",
       "25%             7.250000            10.880000      3.000000\n",
       "50%            10.970000            16.460000      6.000000\n",
       "75%            16.000000            24.000000     12.000000\n",
       "max           300.000000           450.000000   5400.000000"
      ]
     },
     "execution_count": 66,
     "metadata": {},
     "output_type": "execute_result"
    }
   ],
   "source": [
    "df.describe()"
   ]
  },
  {
   "cell_type": "code",
   "execution_count": 67,
   "metadata": {},
   "outputs": [
    {
     "data": {
      "text/plain": [
       "0.13883659638554216"
      ]
     },
     "execution_count": 67,
     "metadata": {},
     "output_type": "execute_result"
    }
   ],
   "source": [
    "# Check the percentage of rows where 'sale_bottles' is negative\n",
    "len(df[df['sale_bottles']<0])/len(df) * 100"
   ]
  },
  {
   "cell_type": "markdown",
   "metadata": {},
   "source": [
    "**Note**: While negative sales data typically indicate refunds or returns, our analysis will omit these records to maintain data integrity. \n",
    "\n",
    "This decision is based on the focus of our study, which requires consistent and positive sales figures to accurately assess trends and patterns.\n"
   ]
  },
  {
   "cell_type": "code",
   "execution_count": 68,
   "metadata": {},
   "outputs": [
    {
     "data": {
      "text/html": [
       "<div>\n",
       "<style scoped>\n",
       "    .dataframe tbody tr th:only-of-type {\n",
       "        vertical-align: middle;\n",
       "    }\n",
       "\n",
       "    .dataframe tbody tr th {\n",
       "        vertical-align: top;\n",
       "    }\n",
       "\n",
       "    .dataframe thead th {\n",
       "        text-align: right;\n",
       "    }\n",
       "</style>\n",
       "<table border=\"1\" class=\"dataframe\">\n",
       "  <thead>\n",
       "    <tr style=\"text-align: right;\">\n",
       "      <th></th>\n",
       "      <th>state_bottle_cost</th>\n",
       "      <th>state_bottle_retail</th>\n",
       "      <th>sale_bottles</th>\n",
       "    </tr>\n",
       "  </thead>\n",
       "  <tbody>\n",
       "    <tr>\n",
       "      <th>count</th>\n",
       "      <td>42437.000000</td>\n",
       "      <td>42437.000000</td>\n",
       "      <td>42437.000000</td>\n",
       "    </tr>\n",
       "    <tr>\n",
       "      <th>mean</th>\n",
       "      <td>13.705425</td>\n",
       "      <td>20.560327</td>\n",
       "      <td>11.733464</td>\n",
       "    </tr>\n",
       "    <tr>\n",
       "      <th>std</th>\n",
       "      <td>12.534942</td>\n",
       "      <td>18.802824</td>\n",
       "      <td>44.362345</td>\n",
       "    </tr>\n",
       "    <tr>\n",
       "      <th>min</th>\n",
       "      <td>0.970000</td>\n",
       "      <td>1.460000</td>\n",
       "      <td>1.000000</td>\n",
       "    </tr>\n",
       "    <tr>\n",
       "      <th>25%</th>\n",
       "      <td>7.250000</td>\n",
       "      <td>10.880000</td>\n",
       "      <td>3.000000</td>\n",
       "    </tr>\n",
       "    <tr>\n",
       "      <th>50%</th>\n",
       "      <td>10.970000</td>\n",
       "      <td>16.460000</td>\n",
       "      <td>6.000000</td>\n",
       "    </tr>\n",
       "    <tr>\n",
       "      <th>75%</th>\n",
       "      <td>16.000000</td>\n",
       "      <td>24.000000</td>\n",
       "      <td>12.000000</td>\n",
       "    </tr>\n",
       "    <tr>\n",
       "      <th>max</th>\n",
       "      <td>300.000000</td>\n",
       "      <td>450.000000</td>\n",
       "      <td>5400.000000</td>\n",
       "    </tr>\n",
       "  </tbody>\n",
       "</table>\n",
       "</div>"
      ],
      "text/plain": [
       "       state_bottle_cost  state_bottle_retail  sale_bottles\n",
       "count       42437.000000         42437.000000  42437.000000\n",
       "mean           13.705425            20.560327     11.733464\n",
       "std            12.534942            18.802824     44.362345\n",
       "min             0.970000             1.460000      1.000000\n",
       "25%             7.250000            10.880000      3.000000\n",
       "50%            10.970000            16.460000      6.000000\n",
       "75%            16.000000            24.000000     12.000000\n",
       "max           300.000000           450.000000   5400.000000"
      ]
     },
     "execution_count": 68,
     "metadata": {},
     "output_type": "execute_result"
    }
   ],
   "source": [
    "df=df[df['sale_bottles']>=0]\n",
    "df.describe()"
   ]
  }
 ],
 "metadata": {
  "kernelspec": {
   "display_name": "Python 3",
   "language": "python",
   "name": "python3"
  },
  "language_info": {
   "codemirror_mode": {
    "name": "ipython",
    "version": 3
   },
   "file_extension": ".py",
   "mimetype": "text/x-python",
   "name": "python",
   "nbconvert_exporter": "python",
   "pygments_lexer": "ipython3",
   "version": "3.11.7"
  }
 },
 "nbformat": 4,
 "nbformat_minor": 2
}
