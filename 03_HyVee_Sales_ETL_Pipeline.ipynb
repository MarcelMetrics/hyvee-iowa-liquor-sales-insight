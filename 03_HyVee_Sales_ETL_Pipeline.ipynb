{
 "cells": [
  {
   "cell_type": "code",
   "execution_count": 1,
   "metadata": {},
   "outputs": [],
   "source": [
    "import pandas as pd\n",
    "from sodapy import Socrata\n",
    "import json\n",
    "# from datetime import datetime, timedelta\n",
    "import datetime\n",
    "import pymysql"
   ]
  },
  {
   "cell_type": "code",
   "execution_count": 2,
   "metadata": {},
   "outputs": [],
   "source": [
    "# Socrata API \n",
    "with open('config\\socrata_config.json') as f:\n",
    "  socrata_config = json.load(f)\n",
    "\n",
    "AppToken = socrata_config['app_token']\n",
    "UserName = socrata_config['user_name']\n",
    "Password = socrata_config[\"password\"]\n",
    "\n",
    "client = Socrata(\"data.iowa.gov\",\n",
    "                 AppToken,\n",
    "                 username = UserName,\n",
    "                 password = Password,\n",
    "                 timeout=30)\n"
   ]
  },
  {
   "cell_type": "code",
   "execution_count": 3,
   "metadata": {},
   "outputs": [],
   "source": [
    "# MySQL connection settings\n",
    "with open('config\\mysql_config.json') as f:\n",
    "  mysql_config = json.load(f)\n",
    "\n",
    "host = mysql_config['hostname']\n",
    "user = mysql_config['username']\n",
    "password = mysql_config['password']"
   ]
  },
  {
   "cell_type": "code",
   "execution_count": 4,
   "metadata": {},
   "outputs": [],
   "source": [
    "# Placeholder and data type conversion dictionaries\n",
    "with open('dicts/placeholders.json', 'r') as f:\n",
    "    placeholders = json.load(f)\n",
    "\n",
    "with open('dicts/num_col_dtype_map.json', 'r') as f:\n",
    "    num_col_dtype_map = json.load(f)"
   ]
  },
  {
   "cell_type": "code",
   "execution_count": 5,
   "metadata": {},
   "outputs": [],
   "source": [
    "# Function for extracting data via Socrata API\n",
    "def extract_data(client, year, month, batch_size):\n",
    "    start_date = f\"{year}-{month}-01T00:00:00.000\"\n",
    "    if month == 12:\n",
    "        end_date = f\"{year + 1}-01-01T00:00:00.000\"\n",
    "    else:\n",
    "        end_date = f\"{year}-{month + 1}-01T00:00:00.000\"\n",
    "    offset = 0\n",
    "    while True:\n",
    "        results = client.get(\"m3tr-qhgy\",\n",
    "                             select=col_selected,\n",
    "                             where=f\"(LOWER(name) LIKE '%hy-vee%' OR name LIKE '%WALL TO WALL WINE AND SPIRITS%') AND date >= '{start_date}' AND date < '{end_date}'\",\n",
    "                             limit=batch_size,\n",
    "                             offset=offset)\n",
    "        if results:\n",
    "            yield results\n",
    "            offset += len(results)\n",
    "        else:\n",
    "            break"
   ]
  },
  {
   "cell_type": "code",
   "execution_count": 6,
   "metadata": {},
   "outputs": [],
   "source": [
    "# Function for transforming data \n",
    "def transform_data(df):\n",
    "    # df = df.drop_duplicates()\n",
    "    df.fillna(placeholders, inplace=True)\n",
    "    df['date'] = pd.to_datetime(df['date']).dt.strftime('%Y-%m-%d')\n",
    "    for col, col_type in num_col_dtype_map.items():\n",
    "        if col_type == 'int':\n",
    "            df[col] = df[col].astype(float).astype(int)\n",
    "        else:\n",
    "            df[col] = df[col].astype(float)\n",
    "    df = df[(df['state_bottle_cost'] > 0) & (df['state_bottle_retail'] > 0) & (df['sale_bottles'] > 0)]\n",
    "    return df"
   ]
  },
  {
   "cell_type": "code",
   "execution_count": 7,
   "metadata": {},
   "outputs": [],
   "source": [
    "# Function for loading data to a MySQL database\n",
    "def load_data(conn, cursor, df, batch_size, sql_insert_query):\n",
    "    data_tuples = list(df.itertuples(index=False, name=None))\n",
    "    for batch in [data_tuples[i:i + batch_size] for i in range(0, len(data_tuples), batch_size)]:\n",
    "        for row in batch:\n",
    "            try:\n",
    "                cursor.execute(sql_insert_query, row)\n",
    "            except pymysql.err.IntegrityError as e:\n",
    "                if 'Duplicate entry' in str(e):\n",
    "                    # Log the error and skip the duplicated row\n",
    "                    print(f\"Duplicate entry skipped: {row}\")\n",
    "                    continue\n",
    "                else:\n",
    "                    raise\n",
    "        conn.commit()"
   ]
  },
  {
   "cell_type": "code",
   "execution_count": 8,
   "metadata": {},
   "outputs": [],
   "source": [
    "load_sql = \"\"\"\n",
    "INSERT INTO sales (\n",
    "    invoice_line_no, date, store, name, address, city, zipcode, county, category, category_name, vendor_no, vendor_name, itemno, im_desc, bottle_volume_ml, state_bottle_cost, state_bottle_retail, sale_bottles\n",
    ") \n",
    "VALUES (%s, %s, %s, %s, %s, %s, %s, %s, %s, %s, %s, %s, %s, %s, %s, %s, %s, %s)\n",
    "\"\"\""
   ]
  },
  {
   "cell_type": "code",
   "execution_count": 9,
   "metadata": {},
   "outputs": [],
   "source": [
    "col_selected = 'invoice_line_no, date, store, name, address, city, zipcode, county, category, category_name, vendor_no, vendor_name, itemno, im_desc, bottle_volume_ml, state_bottle_cost, state_bottle_retail, sale_bottles'\n"
   ]
  },
  {
   "cell_type": "code",
   "execution_count": 11,
   "metadata": {},
   "outputs": [
    {
     "name": "stdout",
     "output_type": "stream",
     "text": [
      "----- Batch: 2024-1 -----\n",
      "Duplicate entry skipped: ('INV-66363200016', '2024-01-17', 2512, 'HY-VEE WINE AND SPIRITS #1 (1281) / IOWA CITY', '1720 WATERFRONT DR', 'IOWA CITY', 52240, 'JOHNSON', 1081300, 'AMERICAN CORDIALS & LIQUEURS', 305, 'MHW LTD', 65047, 'DORDA SEA SALT CARAMEL LIQUEUR', 750, 11.0, 16.5, 6)\n",
      "Duplicate entry skipped: ('INV-66363200016', '2024-01-17', 2512, 'HY-VEE WINE AND SPIRITS #1 (1281) / IOWA CITY', '1720 WATERFRONT DR', 'IOWA CITY', 52240, 'JOHNSON', 1081300, 'AMERICAN CORDIALS & LIQUEURS', 305, 'MHW LTD', 65047, 'DORDA SEA SALT CARAMEL LIQUEUR', 750, 11.0, 16.5, 6)\n",
      "Duplicate entry skipped: ('INV-66785600084', '2024-01-31', 2647, 'HY-VEE #7 / CEDAR RAPIDS', '5050 EDGEWOOD RD', 'CEDAR RAPIDS', 52411, 'LINN', 1082100, 'IMPORTED CORDIALS & LIQUEURS', 305, 'MHW LTD', 65111, \"GALLIANO L'AUTENTICO\", 375, 10.75, 16.13, 3)\n",
      "Duplicate entry skipped: ('INV-66785600084', '2024-01-31', 2647, 'HY-VEE #7 / CEDAR RAPIDS', '5050 EDGEWOOD RD', 'CEDAR RAPIDS', 52411, 'LINN', 1082100, 'IMPORTED CORDIALS & LIQUEURS', 305, 'MHW LTD', 65111, \"GALLIANO L'AUTENTICO\", 375, 10.75, 16.13, 3)\n"
     ]
    }
   ],
   "source": [
    "# Start ETL procedure\n",
    "\n",
    "# Establish connections to both STG_HYVEE and INT_HYVEE databases\n",
    "conn_stg = pymysql.connect(host=host, user=user, password=password, db='STG_HYVEE')\n",
    "cursor_stg = conn_stg.cursor()\n",
    "\n",
    "conn_int = pymysql.connect(host=host, user=user, password=password, db='INT_HYVEE')\n",
    "cursor_int = conn_int.cursor()\n",
    "\n",
    "cursor_stg.execute(\"SELECT MAX(date) FROM sales\")\n",
    "latest_date_result = cursor_stg.fetchone()\n",
    "\n",
    "today = datetime.datetime.now()\n",
    "\n",
    "batch_size = 8000\n",
    "\n",
    "try:\n",
    "    # If records exist in the database, load the data following the most recent entry\n",
    "    if latest_date_result and latest_date_result[0]:\n",
    "        latest_date = latest_date_result[0]\n",
    "        if latest_date.month == 12:\n",
    "            start_year = latest_date.year + 1\n",
    "            start_month = 1\n",
    "        else:\n",
    "            start_year = latest_date.year\n",
    "            start_month = latest_date.month + 1\n",
    "\n",
    "        end_year = today.year\n",
    "        end_month = today.month\n",
    "\n",
    "    # If the database contains no records, then load data starting from 3 fiscal years ago\n",
    "    else: \n",
    "        # today.month < [the month fiscal year starts]\n",
    "        if today.month < 7:\n",
    "            start_year = today.year - 1 # test: deleted \"-4\"\n",
    "        else:\n",
    "            start_year = today.year - 3\n",
    "\n",
    "        start_month = 7\n",
    "        end_year = today.year\n",
    "        end_month = today.month - 1 # added \"-1\"\n",
    "        \n",
    "    for year in range(start_year, end_year + 1):\n",
    "        for month in range(start_month if year == start_year else 1, end_month if year == end_year else 13):\n",
    "            print(f'----- Batch: {year}-{month} -----')\n",
    "            for results in extract_data(client, year, month, batch_size):\n",
    "                df = pd.DataFrame.from_records(results)\n",
    "                df_transformed = transform_data(df)\n",
    "                load_data(conn_stg, cursor_stg, df_transformed, batch_size, load_sql)\n",
    "                load_data(conn_int, cursor_int, df_transformed, batch_size, load_sql)\n",
    "finally:\n",
    "    cursor_stg.close()\n",
    "    conn_stg.close()\n",
    "    cursor_int.close()\n",
    "    conn_int.close()"
   ]
  },
  {
   "cell_type": "code",
   "execution_count": null,
   "metadata": {},
   "outputs": [],
   "source": [
    "# Testing date realted loop\n",
    "\n",
    "# today = datetime.datetime.now()\n",
    "today = datetime.datetime.strptime('2024-02-20', '%Y-%m-%d')\n",
    "\n",
    "batch_size = 8000\n",
    "\n",
    "latest_date_result = None\n",
    "\n",
    "# If records exist in the database, load the data following the most recent entry\n",
    "if latest_date_result:\n",
    "    latest_date = datetime.datetime.strptime(latest_date_result, '%Y-%m-%d')\n",
    "    if latest_date.month == 12:\n",
    "        start_year = latest_date.year + 1\n",
    "        start_month = 1\n",
    "    else:\n",
    "        start_year = latest_date.year\n",
    "        start_month = latest_date.month + 1\n",
    "\n",
    "    end_year = today.year\n",
    "    end_month = today.month\n",
    "\n",
    "# If the database contains no records, then load data starting from 3 fiscal years ago\n",
    "else: \n",
    "    # today.month < [the month fiscal year starts]\n",
    "    if today.month < 7:\n",
    "        start_year = today.year - 4\n",
    "    else:\n",
    "        start_year = today.year - 3\n",
    "\n",
    "    start_month = 7\n",
    "    end_year = today.year\n",
    "    end_month = today.month - 1\n",
    "    \n",
    "for year in range(start_year, end_year + 1):\n",
    "    for month in range(start_month if year == start_year else 1, end_month + 1 if year == end_year else 13):\n",
    "        print(f'{year}-{month}')"
   ]
  }
 ],
 "metadata": {
  "kernelspec": {
   "display_name": "Python 3",
   "language": "python",
   "name": "python3"
  },
  "language_info": {
   "codemirror_mode": {
    "name": "ipython",
    "version": 3
   },
   "file_extension": ".py",
   "mimetype": "text/x-python",
   "name": "python",
   "nbconvert_exporter": "python",
   "pygments_lexer": "ipython3",
   "version": "3.11.8"
  }
 },
 "nbformat": 4,
 "nbformat_minor": 2
}
